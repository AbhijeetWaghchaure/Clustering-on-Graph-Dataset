{
  "nbformat": 4,
  "nbformat_minor": 0,
  "metadata": {
    "colab": {
      "name": "Clustering_Assignment2.ipynb",
      "provenance": [],
      "collapsed_sections": []
    },
    "kernelspec": {
      "name": "python3",
      "display_name": "Python 3"
    }
  },
  "cells": [
    {
      "cell_type": "code",
      "metadata": {
        "id": "5tvRZoIk4GS1"
      },
      "source": [
        ""
      ],
      "execution_count": null,
      "outputs": []
    },
    {
      "cell_type": "markdown",
      "metadata": {
        "id": "MwM5tdEPTp83"
      },
      "source": [
        "# <font color='red'>Clustering Assignment</font>"
      ]
    },
    {
      "cell_type": "markdown",
      "metadata": {
        "id": "aW8pyV-Q5fV2"
      },
      "source": [
        "**There will be some functions that start with the word \"grader\" ex: grader_actors(), grader_movies(), grader_cost1() etc, you should not change those function definition.<br><br>Every Grader function has to return True.**"
      ]
    },
    {
      "cell_type": "markdown",
      "metadata": {
        "id": "nOvuWZ1XLFPG"
      },
      "source": [
        "**Please check [clustering assignment helper functions](https://drive.google.com/file/d/1V29KhKo3YnckMX32treEgdtH5r90DIjU/view?usp=sharing) notebook before attempting this assignment.**"
      ]
    },
    {
      "cell_type": "markdown",
      "metadata": {
        "id": "KwVzbmIoT621"
      },
      "source": [
        "*  Read graph from the given <font color='blue'>movie_actor_network.csv</font> (note that the graph is bipartite graph.)\n",
        "\n",
        "*  Using stellergaph and gensim packages, get the dense representation(128dimensional vector) of every node in the graph. [Refer <font color='blue'>Clustering_Assignment_Reference.ipynb</font>]\n",
        "\n",
        "* Split the dense representation into actor nodes, movies nodes.(Write you code in <font color='blue'>def data_split()</font>)\n"
      ]
    },
    {
      "cell_type": "markdown",
      "metadata": {
        "id": "3lUhnVcTZ3q_"
      },
      "source": [
        "# <font color='red'>Task 1 : Apply clustering algorithm to group similar actors</font>"
      ]
    },
    {
      "cell_type": "markdown",
      "metadata": {
        "id": "dG0XAMMmgi1r"
      },
      "source": [
        " 1. For this task consider only the actor nodes \n",
        " 2. Apply any clustering algorithm of your choice <br>\n",
        "    Refer : https://scikit-learn.org/stable/modules/clustering.html\n",
        " 3. Choose the number of clusters for which you have maximum score of <b>$Cost1*Cost2$</b><br>\n",
        " 4. Cost1 = $\\frac{1}{N}\\sum_{\\text{each cluster i}}  \\frac{\\text{(number of nodes in the largest connected component in the graph with the actor nodes and its movie neighbours in cluster i)}}{\\text{(total number of nodes in that cluster i)}}$ where N= number of clusters \n",
        "<br> (Write your code in <font color='blue'>def cost1()</font>)<br>\n",
        " 5. Cost2 = $\\frac{1}{N}\\sum_{\\text{each cluster i}}  \\frac{\\text{(sum of degress of actor nodes in the graph with the actor nodes and its movie neighbours in cluster i)}}{\\text{(number of unique movie nodes in the graph with the actor nodes and its movie neighbours in cluster i)}}$ where N= number of clusters \n",
        " <br> (Write your code in <font color='blue'>def cost2()</font>)<br>\n",
        " 6. Fit the clustering algorithm with the opimal number_of_clusters and get the cluster number for each node <br>\n",
        " 7. Convert the d-dimensional dense vectors of nodes into 2-dimensional using dimensionality reduction techniques (preferably TSNE)<br>\n",
        " 8. Plot the 2d scatter plot, with the node vectors after step e and give colors to nodes such that same cluster nodes will have same color"
      ]
    },
    {
      "cell_type": "markdown",
      "metadata": {
        "id": "7pH2axXawRbG"
      },
      "source": [
        "<img src='https://i.imgur.com/4SPYPFa.jpg'>"
      ]
    },
    {
      "cell_type": "markdown",
      "metadata": {
        "id": "Qh7HrbKAuGbD"
      },
      "source": [
        "# <font color='red'>Task 2 : Apply clustering algorithm to group similar movies</font>"
      ]
    },
    {
      "cell_type": "markdown",
      "metadata": {
        "id": "e9pALo19uJsw"
      },
      "source": [
        "\n",
        "1. For this task consider only the movie nodes\n",
        "2. Apply any clustering algorithm of your choice\n",
        "3.Choose the number of clusters for which you have maximum score of $Cost1*Cost2$ <br>\n",
        "\n",
        "    Cost1 = $\\frac{1}{N}\\sum_{\\text{each cluster i}}  \\frac{\\text{(number of nodes in the largest connected component in the graph with the movie nodes and its actor neighbours in cluster i)}}{\\text{(total number of nodes in that cluster i)}}$ where N= number of clusters <br>\n",
        "(Write your code in <font color='blue'>def cost1()</font>)<br>\n",
        "\t\n",
        "4. Cost2 = $\\frac{1}{N}\\sum_{\\text{each cluster i}}  \\frac{\\text{(sum of degress of movie nodes in the graph with the movie nodes and its actor neighbours in cluster i)}}{\\text{(number of unique actor nodes in the graph with the movie nodes and its actor neighbours in cluster i)}}$ \n",
        "where N= number of clusters \n",
        "<br>(Write your code in <font color='blue'>def cost2()</font>)<br>\n"
      ]
    },
    {
      "cell_type": "markdown",
      "metadata": {
        "id": "MrXdWBDSvijT"
      },
      "source": [
        "**Algorithm for actor nodes**"
      ]
    },
    {
      "cell_type": "markdown",
      "metadata": {
        "id": "JLAAEftyvs9b"
      },
      "source": [
        "<pre>\n",
        "\tfor number_of_clusters in [3, 5, 10, 30, 50, 100, 200, 500]:\n",
        "\t\talgo = clustering_algorith(clusters=number_of_clusters)\n",
        "        # you will be passing a matrix of size N*d where N number of actor nodes and d is dimension from gensim\n",
        "\t\talgo.fit(the dense vectors of actor nodes) \n",
        "        You can get the labels for corresponding actor nodes (algo.labels_)\n",
        "        Create a graph for every cluster(ie., if n_clusters=3, create 3 graphs)\n",
        "        (You can use ego_graph to create subgraph from the actual graph)\n",
        "        compute cost1,cost2 \n",
        "           (if n_cluster=3, cost1=cost1(graph1)+cost1(graph2)+cost1(graph3) # here we are doing summation\n",
        "            cost2=cost2(graph1)+cost2(graph2)+cost2(graph3)\n",
        "\t\tcomputer the metric Cost = Cost1*Cost2\n",
        "\treturn number_of_clusters which have maximum Cost\n",
        "\t</pre>"
      ]
    },
    {
      "cell_type": "markdown",
      "metadata": {
        "id": "DLbRJvsgyniG"
      },
      "source": [
        "<br>"
      ]
    },
    {
      "cell_type": "code",
      "metadata": {
        "id": "j_5uI10OyqVe",
        "colab": {
          "base_uri": "https://localhost:8080/"
        },
        "outputId": "de188ddc-cb27-4f04-df59-cb9df109b631"
      },
      "source": [
        "!pip install networkx==2.3\n",
        "!pip install stellargraph"
      ],
      "execution_count": 85,
      "outputs": [
        {
          "output_type": "stream",
          "name": "stdout",
          "text": [
            "Requirement already satisfied: networkx==2.3 in /usr/local/lib/python3.7/dist-packages (2.3)\n",
            "Requirement already satisfied: decorator>=4.3.0 in /usr/local/lib/python3.7/dist-packages (from networkx==2.3) (4.4.2)\n",
            "Requirement already satisfied: stellargraph in /usr/local/lib/python3.7/dist-packages (1.2.1)\n",
            "Requirement already satisfied: networkx>=2.2 in /usr/local/lib/python3.7/dist-packages (from stellargraph) (2.3)\n",
            "Requirement already satisfied: scikit-learn>=0.20 in /usr/local/lib/python3.7/dist-packages (from stellargraph) (1.0.1)\n",
            "Requirement already satisfied: gensim>=3.4.0 in /usr/local/lib/python3.7/dist-packages (from stellargraph) (3.6.0)\n",
            "Requirement already satisfied: tensorflow>=2.1.0 in /usr/local/lib/python3.7/dist-packages (from stellargraph) (2.7.0)\n",
            "Requirement already satisfied: pandas>=0.24 in /usr/local/lib/python3.7/dist-packages (from stellargraph) (1.1.5)\n",
            "Requirement already satisfied: scipy>=1.1.0 in /usr/local/lib/python3.7/dist-packages (from stellargraph) (1.4.1)\n",
            "Requirement already satisfied: numpy>=1.14 in /usr/local/lib/python3.7/dist-packages (from stellargraph) (1.19.5)\n",
            "Requirement already satisfied: matplotlib>=2.2 in /usr/local/lib/python3.7/dist-packages (from stellargraph) (3.2.2)\n",
            "Requirement already satisfied: six>=1.5.0 in /usr/local/lib/python3.7/dist-packages (from gensim>=3.4.0->stellargraph) (1.15.0)\n",
            "Requirement already satisfied: smart-open>=1.2.1 in /usr/local/lib/python3.7/dist-packages (from gensim>=3.4.0->stellargraph) (5.2.1)\n",
            "Requirement already satisfied: pyparsing!=2.0.4,!=2.1.2,!=2.1.6,>=2.0.1 in /usr/local/lib/python3.7/dist-packages (from matplotlib>=2.2->stellargraph) (3.0.6)\n",
            "Requirement already satisfied: python-dateutil>=2.1 in /usr/local/lib/python3.7/dist-packages (from matplotlib>=2.2->stellargraph) (2.8.2)\n",
            "Requirement already satisfied: kiwisolver>=1.0.1 in /usr/local/lib/python3.7/dist-packages (from matplotlib>=2.2->stellargraph) (1.3.2)\n",
            "Requirement already satisfied: cycler>=0.10 in /usr/local/lib/python3.7/dist-packages (from matplotlib>=2.2->stellargraph) (0.11.0)\n",
            "Requirement already satisfied: decorator>=4.3.0 in /usr/local/lib/python3.7/dist-packages (from networkx>=2.2->stellargraph) (4.4.2)\n",
            "Requirement already satisfied: pytz>=2017.2 in /usr/local/lib/python3.7/dist-packages (from pandas>=0.24->stellargraph) (2018.9)\n",
            "Requirement already satisfied: threadpoolctl>=2.0.0 in /usr/local/lib/python3.7/dist-packages (from scikit-learn>=0.20->stellargraph) (3.0.0)\n",
            "Requirement already satisfied: joblib>=0.11 in /usr/local/lib/python3.7/dist-packages (from scikit-learn>=0.20->stellargraph) (1.1.0)\n",
            "Requirement already satisfied: opt-einsum>=2.3.2 in /usr/local/lib/python3.7/dist-packages (from tensorflow>=2.1.0->stellargraph) (3.3.0)\n",
            "Requirement already satisfied: wrapt>=1.11.0 in /usr/local/lib/python3.7/dist-packages (from tensorflow>=2.1.0->stellargraph) (1.13.3)\n",
            "Requirement already satisfied: tensorflow-estimator<2.8,~=2.7.0rc0 in /usr/local/lib/python3.7/dist-packages (from tensorflow>=2.1.0->stellargraph) (2.7.0)\n",
            "Requirement already satisfied: wheel<1.0,>=0.32.0 in /usr/local/lib/python3.7/dist-packages (from tensorflow>=2.1.0->stellargraph) (0.37.0)\n",
            "Requirement already satisfied: flatbuffers<3.0,>=1.12 in /usr/local/lib/python3.7/dist-packages (from tensorflow>=2.1.0->stellargraph) (2.0)\n",
            "Requirement already satisfied: keras-preprocessing>=1.1.1 in /usr/local/lib/python3.7/dist-packages (from tensorflow>=2.1.0->stellargraph) (1.1.2)\n",
            "Requirement already satisfied: tensorflow-io-gcs-filesystem>=0.21.0 in /usr/local/lib/python3.7/dist-packages (from tensorflow>=2.1.0->stellargraph) (0.22.0)\n",
            "Requirement already satisfied: termcolor>=1.1.0 in /usr/local/lib/python3.7/dist-packages (from tensorflow>=2.1.0->stellargraph) (1.1.0)\n",
            "Requirement already satisfied: absl-py>=0.4.0 in /usr/local/lib/python3.7/dist-packages (from tensorflow>=2.1.0->stellargraph) (0.12.0)\n",
            "Requirement already satisfied: protobuf>=3.9.2 in /usr/local/lib/python3.7/dist-packages (from tensorflow>=2.1.0->stellargraph) (3.17.3)\n",
            "Requirement already satisfied: libclang>=9.0.1 in /usr/local/lib/python3.7/dist-packages (from tensorflow>=2.1.0->stellargraph) (12.0.0)\n",
            "Requirement already satisfied: tensorboard~=2.6 in /usr/local/lib/python3.7/dist-packages (from tensorflow>=2.1.0->stellargraph) (2.7.0)\n",
            "Requirement already satisfied: grpcio<2.0,>=1.24.3 in /usr/local/lib/python3.7/dist-packages (from tensorflow>=2.1.0->stellargraph) (1.42.0)\n",
            "Requirement already satisfied: keras<2.8,>=2.7.0rc0 in /usr/local/lib/python3.7/dist-packages (from tensorflow>=2.1.0->stellargraph) (2.7.0)\n",
            "Requirement already satisfied: google-pasta>=0.1.1 in /usr/local/lib/python3.7/dist-packages (from tensorflow>=2.1.0->stellargraph) (0.2.0)\n",
            "Requirement already satisfied: h5py>=2.9.0 in /usr/local/lib/python3.7/dist-packages (from tensorflow>=2.1.0->stellargraph) (3.1.0)\n",
            "Requirement already satisfied: typing-extensions>=3.6.6 in /usr/local/lib/python3.7/dist-packages (from tensorflow>=2.1.0->stellargraph) (3.10.0.2)\n",
            "Requirement already satisfied: astunparse>=1.6.0 in /usr/local/lib/python3.7/dist-packages (from tensorflow>=2.1.0->stellargraph) (1.6.3)\n",
            "Requirement already satisfied: gast<0.5.0,>=0.2.1 in /usr/local/lib/python3.7/dist-packages (from tensorflow>=2.1.0->stellargraph) (0.4.0)\n",
            "Requirement already satisfied: cached-property in /usr/local/lib/python3.7/dist-packages (from h5py>=2.9.0->tensorflow>=2.1.0->stellargraph) (1.5.2)\n",
            "Requirement already satisfied: setuptools>=41.0.0 in /usr/local/lib/python3.7/dist-packages (from tensorboard~=2.6->tensorflow>=2.1.0->stellargraph) (57.4.0)\n",
            "Requirement already satisfied: markdown>=2.6.8 in /usr/local/lib/python3.7/dist-packages (from tensorboard~=2.6->tensorflow>=2.1.0->stellargraph) (3.3.6)\n",
            "Requirement already satisfied: tensorboard-data-server<0.7.0,>=0.6.0 in /usr/local/lib/python3.7/dist-packages (from tensorboard~=2.6->tensorflow>=2.1.0->stellargraph) (0.6.1)\n",
            "Requirement already satisfied: werkzeug>=0.11.15 in /usr/local/lib/python3.7/dist-packages (from tensorboard~=2.6->tensorflow>=2.1.0->stellargraph) (1.0.1)\n",
            "Requirement already satisfied: tensorboard-plugin-wit>=1.6.0 in /usr/local/lib/python3.7/dist-packages (from tensorboard~=2.6->tensorflow>=2.1.0->stellargraph) (1.8.0)\n",
            "Requirement already satisfied: requests<3,>=2.21.0 in /usr/local/lib/python3.7/dist-packages (from tensorboard~=2.6->tensorflow>=2.1.0->stellargraph) (2.23.0)\n",
            "Requirement already satisfied: google-auth-oauthlib<0.5,>=0.4.1 in /usr/local/lib/python3.7/dist-packages (from tensorboard~=2.6->tensorflow>=2.1.0->stellargraph) (0.4.6)\n",
            "Requirement already satisfied: google-auth<3,>=1.6.3 in /usr/local/lib/python3.7/dist-packages (from tensorboard~=2.6->tensorflow>=2.1.0->stellargraph) (1.35.0)\n",
            "Requirement already satisfied: cachetools<5.0,>=2.0.0 in /usr/local/lib/python3.7/dist-packages (from google-auth<3,>=1.6.3->tensorboard~=2.6->tensorflow>=2.1.0->stellargraph) (4.2.4)\n",
            "Requirement already satisfied: rsa<5,>=3.1.4 in /usr/local/lib/python3.7/dist-packages (from google-auth<3,>=1.6.3->tensorboard~=2.6->tensorflow>=2.1.0->stellargraph) (4.7.2)\n",
            "Requirement already satisfied: pyasn1-modules>=0.2.1 in /usr/local/lib/python3.7/dist-packages (from google-auth<3,>=1.6.3->tensorboard~=2.6->tensorflow>=2.1.0->stellargraph) (0.2.8)\n",
            "Requirement already satisfied: requests-oauthlib>=0.7.0 in /usr/local/lib/python3.7/dist-packages (from google-auth-oauthlib<0.5,>=0.4.1->tensorboard~=2.6->tensorflow>=2.1.0->stellargraph) (1.3.0)\n",
            "Requirement already satisfied: importlib-metadata>=4.4 in /usr/local/lib/python3.7/dist-packages (from markdown>=2.6.8->tensorboard~=2.6->tensorflow>=2.1.0->stellargraph) (4.8.2)\n",
            "Requirement already satisfied: zipp>=0.5 in /usr/local/lib/python3.7/dist-packages (from importlib-metadata>=4.4->markdown>=2.6.8->tensorboard~=2.6->tensorflow>=2.1.0->stellargraph) (3.6.0)\n",
            "Requirement already satisfied: pyasn1<0.5.0,>=0.4.6 in /usr/local/lib/python3.7/dist-packages (from pyasn1-modules>=0.2.1->google-auth<3,>=1.6.3->tensorboard~=2.6->tensorflow>=2.1.0->stellargraph) (0.4.8)\n",
            "Requirement already satisfied: idna<3,>=2.5 in /usr/local/lib/python3.7/dist-packages (from requests<3,>=2.21.0->tensorboard~=2.6->tensorflow>=2.1.0->stellargraph) (2.10)\n",
            "Requirement already satisfied: chardet<4,>=3.0.2 in /usr/local/lib/python3.7/dist-packages (from requests<3,>=2.21.0->tensorboard~=2.6->tensorflow>=2.1.0->stellargraph) (3.0.4)\n",
            "Requirement already satisfied: certifi>=2017.4.17 in /usr/local/lib/python3.7/dist-packages (from requests<3,>=2.21.0->tensorboard~=2.6->tensorflow>=2.1.0->stellargraph) (2021.10.8)\n",
            "Requirement already satisfied: urllib3!=1.25.0,!=1.25.1,<1.26,>=1.21.1 in /usr/local/lib/python3.7/dist-packages (from requests<3,>=2.21.0->tensorboard~=2.6->tensorflow>=2.1.0->stellargraph) (1.24.3)\n",
            "Requirement already satisfied: oauthlib>=3.0.0 in /usr/local/lib/python3.7/dist-packages (from requests-oauthlib>=0.7.0->google-auth-oauthlib<0.5,>=0.4.1->tensorboard~=2.6->tensorflow>=2.1.0->stellargraph) (3.1.1)\n"
          ]
        }
      ]
    },
    {
      "cell_type": "code",
      "metadata": {
        "id": "ppVsL_H-co0G"
      },
      "source": [
        "import networkx as nx\n",
        "from networkx.algorithms import bipartite\n",
        "import matplotlib.pyplot as plt\n",
        "from sklearn.cluster import KMeans\n",
        "import numpy as np\n",
        "import warnings\n",
        "warnings.filterwarnings(\"ignore\")\n",
        "import pandas as pd \n",
        "from stellargraph.data import UniformRandomMetaPathWalk\n",
        "from stellargraph import StellarGraph"
      ],
      "execution_count": 86,
      "outputs": []
    },
    {
      "cell_type": "code",
      "metadata": {
        "colab": {
          "resources": {
            "http://localhost:8080/nbextensions/google.colab/files.js": {
              "data": "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",
              "ok": true,
              "headers": [
                [
                  "content-type",
                  "application/javascript"
                ]
              ],
              "status": 200,
              "status_text": ""
            }
          },
          "base_uri": "https://localhost:8080/",
          "height": 55
        },
        "id": "8wLtJbWalU1H",
        "outputId": "20beb54a-858b-4c62-d1be-e2e82e4ce33c"
      },
      "source": [
        "from google.colab import files\n",
        "files= files.upload()"
      ],
      "execution_count": 6,
      "outputs": [
        {
          "output_type": "display_data",
          "data": {
            "text/html": [
              "\n",
              "     <input type=\"file\" id=\"files-6d6fb5da-559c-450a-b3a5-05b61b8c8ebe\" name=\"files[]\" multiple disabled\n",
              "        style=\"border:none\" />\n",
              "     <output id=\"result-6d6fb5da-559c-450a-b3a5-05b61b8c8ebe\">\n",
              "      Upload widget is only available when the cell has been executed in the\n",
              "      current browser session. Please rerun this cell to enable.\n",
              "      </output>\n",
              "      <script src=\"/nbextensions/google.colab/files.js\"></script> "
            ],
            "text/plain": [
              "<IPython.core.display.HTML object>"
            ]
          },
          "metadata": {}
        },
        {
          "output_type": "stream",
          "name": "stdout",
          "text": [
            "Saving movie_actor_network.csv to movie_actor_network.csv\n"
          ]
        }
      ]
    },
    {
      "cell_type": "code",
      "metadata": {
        "id": "QbChYqlFv_cL"
      },
      "source": [
        "data=pd.read_csv('movie_actor_network.csv', index_col=False, names=['movie','actor'])"
      ],
      "execution_count": 87,
      "outputs": []
    },
    {
      "cell_type": "code",
      "metadata": {
        "id": "gcBsQzFGv_fL"
      },
      "source": [
        "edges = [tuple(x) for x in data.values.tolist()]"
      ],
      "execution_count": 88,
      "outputs": []
    },
    {
      "cell_type": "code",
      "metadata": {
        "id": "uTzj_WK-v_iL"
      },
      "source": [
        "B = nx.Graph()\n",
        "B.add_nodes_from(data['movie'].unique(), bipartite=0, label='movie')\n",
        "B.add_nodes_from(data['actor'].unique(), bipartite=1, label='actor')\n",
        "B.add_edges_from(edges, label='acted')"
      ],
      "execution_count": 89,
      "outputs": []
    },
    {
      "cell_type": "code",
      "metadata": {
        "id": "4cNRukL2v_lT"
      },
      "source": [
        "A = list(nx.connected_component_subgraphs(B))[0]"
      ],
      "execution_count": 90,
      "outputs": []
    },
    {
      "cell_type": "code",
      "metadata": {
        "id": "Mbrcb_npv_oY",
        "colab": {
          "base_uri": "https://localhost:8080/"
        },
        "outputId": "1d36cf7f-e356-4cd6-ac2f-668860f12670"
      },
      "source": [
        "print(\"number of nodes\", A.number_of_nodes())\n",
        "print(\"number of edges\", A.number_of_edges())"
      ],
      "execution_count": 91,
      "outputs": [
        {
          "output_type": "stream",
          "name": "stdout",
          "text": [
            "number of nodes 4703\n",
            "number of edges 9650\n"
          ]
        }
      ]
    },
    {
      "cell_type": "code",
      "metadata": {
        "id": "izhQYFBuv_ru",
        "colab": {
          "base_uri": "https://localhost:8080/",
          "height": 319
        },
        "outputId": "e4d247cc-fad3-4bcc-9c22-0d9868e7bb1b"
      },
      "source": [
        "l, r = nx.bipartite.sets(A)\n",
        "pos = {}\n",
        "\n",
        "pos.update((node, (1, index)) for index, node in enumerate(l))\n",
        "pos.update((node, (2, index)) for index, node in enumerate(r))\n",
        "  \n",
        "nx.draw(A, pos=pos, with_labels=True)\n",
        "plt.show()"
      ],
      "execution_count": 92,
      "outputs": [
        {
          "output_type": "display_data",
          "data": {
            "image/png": "[encoded data removed]",
            "text/plain": [
              "<Figure size 432x288 with 1 Axes>"
            ]
          },
          "metadata": {}
        }
      ]
    },
    {
      "cell_type": "code",
      "metadata": {
        "id": "hO1t2gViv_vH",
        "colab": {
          "base_uri": "https://localhost:8080/"
        },
        "outputId": "236a66be-e8c6-4c9a-aac5-42ccc7530910"
      },
      "source": [
        "movies = []\n",
        "actors = []\n",
        "for i in A.nodes():\n",
        "    if 'm' in i:\n",
        "        movies.append(i)\n",
        "    if 'a' in i:\n",
        "        actors.append(i)\n",
        "print('number of movies ', len(movies))\n",
        "print('number of actors ', len(actors))"
      ],
      "execution_count": 93,
      "outputs": [
        {
          "output_type": "stream",
          "name": "stdout",
          "text": [
            "number of movies  1292\n",
            "number of actors  3411\n"
          ]
        }
      ]
    },
    {
      "cell_type": "code",
      "metadata": {
        "id": "caqMya1xy_QT",
        "colab": {
          "base_uri": "https://localhost:8080/"
        },
        "outputId": "5eb669f4-7af6-41ad-e151-8274a81e8eff"
      },
      "source": [
        "# Create the random walker\n",
        "rw = UniformRandomMetaPathWalk(StellarGraph(A))\n",
        "\n",
        "# specify the metapath schemas as a list of lists of node types.\n",
        "metapaths = [\n",
        "    [\"movie\", \"actor\", \"movie\"],\n",
        "    [\"actor\", \"movie\", \"actor\"]\n",
        "]\n",
        "\n",
        "walks = rw.run(nodes=list(A.nodes()), # root nodes\n",
        "               length=100,  # maximum length of a random walk\n",
        "               n=1,        # number of random walks per root node \n",
        "               metapaths=metapaths\n",
        "              )\n",
        "\n",
        "print(\"Number of random walks: {}\".format(len(walks)))"
      ],
      "execution_count": 94,
      "outputs": [
        {
          "output_type": "stream",
          "name": "stdout",
          "text": [
            "Number of random walks: 4703\n"
          ]
        }
      ]
    },
    {
      "cell_type": "code",
      "metadata": {
        "id": "FYCCAqFhzCpz"
      },
      "source": [
        "from gensim.models import Word2Vec\n",
        "model = Word2Vec(walks, size=128, window=5)"
      ],
      "execution_count": 95,
      "outputs": []
    },
    {
      "cell_type": "code",
      "metadata": {
        "id": "x3Xf2z1-co3k",
        "colab": {
          "base_uri": "https://localhost:8080/"
        },
        "outputId": "8a31c60a-3b23-4bc9-a6f2-f79c238abb6c"
      },
      "source": [
        "model.wv.vectors.shape  # 128-dimensional vector for each node in the graph"
      ],
      "execution_count": 96,
      "outputs": [
        {
          "output_type": "execute_result",
          "data": {
            "text/plain": [
              "(4703, 128)"
            ]
          },
          "metadata": {},
          "execution_count": 96
        }
      ]
    },
    {
      "cell_type": "code",
      "metadata": {
        "id": "ja8oxOWVzE2e"
      },
      "source": [
        "# Retrieve node embeddings and corresponding subjects\n",
        "node_ids = model.wv.index2word  # list of node IDs\n",
        "node_embeddings = model.wv.vectors  # numpy.ndarray of size number of nodes times embeddings dimensionality\n",
        "node_targets = [ A.node[node_id]['label'] for node_id in node_ids]"
      ],
      "execution_count": 97,
      "outputs": []
    },
    {
      "cell_type": "code",
      "metadata": {
        "colab": {
          "base_uri": "https://localhost:8080/"
        },
        "id": "X5K7-8C228F_",
        "outputId": "2fafc8d6-ac65-4b86-f440-63662d3251a6"
      },
      "source": [
        "print(node_ids)"
      ],
      "execution_count": 98,
      "outputs": [
        {
          "output_type": "stream",
          "name": "stdout",
          "text": [
            "['a973', 'a967', 'a1731', 'a964', 'a970', 'a969', 'a1057', 'a1028', 'a1003', 'a965', 'm1094', 'm67', 'a959', 'a988', 'a966', 'a49', 'a1037', 'a962', 'a93', 'm1111', 'a971', 'm1100', 'a963', 'a1030', 'a1076', 'a977', 'a960', 'a1027', 'a1016', 'm1095', 'a204', 'a472', 'a768', 'a631', 'm1001', 'a968', 'a1004', 'a1020', 'a1035', 'm1112', 'a1026', 'a1507', 'a975', 'a2715', 'm453', 'a972', 'a306', 'a1031', 'a407', 'a138', 'a1036', 'm1022', 'm1096', 'a987', 'm1114', 'm987', 'm376', 'a1008', 'm1113', 'm1261', 'm148', 'a205', 'a1435', 'm26', 'm126', 'a1021', 'm1272', 'm816', 'm1232', 'a921', 'a782', 'a1038', 'm964', 'm796', 'm25', 'm1097', 'm121', 'm1220', 'm154', 'm32', 'a976', 'm1000', 'm1357', 'm1106', 'm990', 'm122', 'a1436', 'a1467', 'a1015', 'm75', 'm616', 'a1011', 'a1060', 'a974', 'm988', 'm147', 'a1750', 'm1090', 'm890', 'm1045', 'm165', 'a893', 'a1005', 'm1348', 'a228', 'm1284', 'm1023', 'm1213', 'm982', 'a1505', 'm902', 'm115', 'm915', 'm1092', 'm157', 'm918', 'm155', 'm1024', 'm963', 'm129', 'm1011', 'm983', 'm995', 'm159', 'a363', 'm430', 'm128', 'm125', 'm112', 'm1253', 'm914', 'a1039', 'm942', 'a1018', 'm743', 'm587', 'm1372', 'm1049', 'm1225', 'm973', 'm477', 'a3378', 'm1185', 'a1024', 'm377', 'a1023', 'a1029', 'm924', 'm1230', 'a400', 'm242', 'm1239', 'm577', 'm429', 'm1212', 'a1032', 'm1098', 'm1110', 'm851', 'm1263', 'm306', 'm1013', 'm901', 'm989', 'm1029', 'm1138', 'm452', 'a1381', 'm294', 'm310', 'm1189', 'm1169', 'a1025', 'm1159', 'm421', 'a1043', 'm932', 'm127', 'a1019', 'm1108', 'm111', 'm84', 'm1198', 'm1030', 'm1048', 'm1366', 'm150', 'm135', 'm1162', 'm692', 'm1300', 'm850', 'm653', 'm565', 'm1151', 'm860', 'm897', 'm282', 'm1019', 'm389', 'm30', 'a595', 'm345', 'm141', 'm1149', 'm984', 'm947', 'm1173', 'm985', 'm943', 'm215', 'm152', 'm623', 'm1374', 'm340', 'm307', 'm1116', 'm986', 'm1012', 'm1016', 'm5', 'm88', 'm716', 'm1248', 'm433', 'a801', 'm120', 'm203', 'm230', 'm160', 'a1672', 'm73', 'm1101', 'm31', 'm866', 'm626', 'm1251', 'm1148', 'm830', 'm1026', 'm624', 'm584', 'm221', 'm291', 'a812', 'm960', 'a217', 'm398', 'm745', 'm974', 'm1102', 'm1172', 'm283', 'a989', 'm311', 'm704', 'm343', 'm707', 'm55', 'm1336', 'm937', 'a3369', 'm1163', 'm169', 'm305', 'm909', 'a1716', 'm1260', 'a1079', 'm1311', 'a1366', 'a775', 'm715', 'm962', 'm1290', 'm208', 'm1093', 'a773', 'm913', 'm1052', 'm621', 'a222', 'm1036', 'm940', 'm1157', 'm116', 'm399', 'm288', 'm1314', 'm1273', 'm1020', 'm145', 'm388', 'm898', 'm281', 'm1200', 'm560', 'm1331', 'm769', 'm808', 'm706', 'm1210', 'm941', 'm877', 'm573', 'm1034', 'm650', 'm1241', 'm223', 'm61', 'm1103', 'a101', 'm1192', 'm420', 'm798', 'm1191', 'm380', 'a1483', 'm290', 'm416', 'm1178', 'm219', 'm911', 'm729', 'm1222', 'a393', 'm1188', 'm1196', 'm854', 'm1339', 'm1046', 'm425', 'm702', 'm1150', 'm451', 'm582', 'm1367', 'm719', 'm966', 'm936', 'm134', 'm1243', 'm1160', 'm1244', 'm812', 'm168', 'm1255', 'm395', 'm853', 'm944', 'm925', 'm1047', 'm284', 'm599', 'a1063', 'm551', 'm1152', 'm240', 'm592', 'm847', 'm1347', 'm809', 'm848', 'm862', 'm293', 'm992', 'm426', 'm396', 'm662', 'm856', 'm113', 'm1064', 'm383', 'm666', 'm407', 'm1181', 'm1376', 'm353', 'm1268', 'm1140', 'm1297', 'm1008', 'm981', 'm627', 'm875', 'm179', 'm993', 'm1051', 'm575', 'm574', 'a1034', 'm1014', 'm625', 'm186', 'm926', 'm1025', 'm674', 'm1337', 'm1187', 'm86', 'm957', 'm210', 'a95', 'm1031', 'm260', 'a1048', 'm248', 'm1099', 'm916', 'a816', 'm34', 'm571', 'm1237', 'm350', 'm415', 'm1223', 'm667', 'm996', 'm959', 'm442', 'm649', 'a1022', 'a598', 'm908', 'm829', 'm1027', 'm172', 'm855', 'm593', 'm1044', 'm655', 'm614', 'a1513', 'a11', 'm824', 'm600', 'm550', 'm146', 'm1170', 'm648', 'm933', 'm406', 'm277', 'm1207', 'a1181', 'm231', 'm1155', 'm162', 'm882', 'm537', 'm1204', 'm603', 'm1236', 'm840', 'm419', 'm1270', 'm1177', 'm174', 'm1089', 'a1782', 'm613', 'm1194', 'm1231', 'm1257', 'm1259', 'm1017', 'm673', 'a1017', 'm27', 'm949', 'm723', 'm835', 'm1081', 'a466', 'm903', 'm790', 'm132', 'm118', 'm807', 'm443', 'm724', 'm339', 'm1345', 'a1041', 'm1361', 'm440', 'm636', 'm1370', 'm384', 'a1042', 'm1250', 'm403', 'm444', 'a834', 'm1333', 'm652', 'm1205', 'm1329', 'm589', 'm417', 'm292', 'a52', 'm888', 'm289', 'm361', 'm596', 'm826', 'm189', 'm74', 'm799', 'm794', 'a1442', 'm114', 'a807', 'm434', 'm1158', 'm1246', 'a50', 'a789', 'm594', 'm598', 'm946', 'm998', 'm69', 'm394', 'm265', 'm303', 'm1349', 'm905', 'a90', 'a820', 'm1091', 'a370', 'm227', 'm836', 'm1193', 'm349', 'm362', 'm899', 'm1035', 'm1380', 'm259', 'm428', 'm843', 'm615', 'm1278', 'm773', 'm475', 'm378', 'm651', 'm411', 'm1295', 'm1074', 'm849', 'a1040', 'm586', 'm880', 'a440', 'm1118', 'm171', 'm631', 'm720', 'a1524', 'm1328', 'm788', 'm1037', 'm876', 'm441', 'a1758', 'm295', 'm1208', 'm1378', 'm342', 'm969', 'm1153', 'm1206', 'm700', 'm1040', 'a88', 'm39', 'm472', 'm1084', 'm187', 'm1032', 'm825', 'm693', 'm728', 'm1274', 'm708', 'm563', 'm194', 'm319', 'm831', 'm656', 'm852', 'a790', 'm1139', 'm545', 'm366', 'm922', 'm833', 'a2139', 'm1341', 'a503', 'm228', 'm1219', 'm980', 'm286', 'a2349', 'm544', 'm956', 'm385', 'm772', 'm131', 'm801', 'm1217', 'm783', 'm1226', 'm1175', 'm713', 'm161', 'm1154', 'm697', 'm341', 'm1282', 'a1045', 'm595', 'm931', 'm622', 'm309', 'm857', 'm336', 'm1258', 'm601', 'm923', 'm402', 'm581', 'm335', 'm1252', 'm665', 'm1066', 'm405', 'a200', 'm1281', 'm1228', 'a51', 'm834', 'm1267', 'm927', 'm1073', 'm205', 'm583', 'm182', 'm354', 'm320', 'a203', 'm1285', 'm991', 'm176', 'm676', 'm346', 'a1047', 'm280', 'a2305', 'm287', 'm802', 'm1325', 'm705', 'm308', 'm387', 'm1334', 'm647', 'm173', 'm628', 'm975', 'm204', 'a2361', 'm200', 'm1082', 'm436', 'm357', 'm1021', 'm608', 'm1117', 'm930', 'm438', 'm213', 'm1245', 'm330', 'm680', 'm654', 'a1416', 'm1009', 'm590', 'm669', 'm1286', 'm635', 'm332', 'm302', 'm657', 'a821', 'm976', 'a2222', 'a1363', 'm531', 'm209', 'm954', 'm275', 'm352', 'm681', 'm764', 'm800', 'm703', 'a1232', 'm763', 'a1329', 'm768', 'm325', 'm774', 'm1335', 'm997', 'm742', 'm297', 'a239', 'm355', 'm841', 'm1326', 'm679', 'm1077', 'm837', 'm971', 'm787', 'm1373', 'm910', 'm686', 'm1238', 'm814', 'm1322', 'a1123', 'm1010', 'a2460', 'm1215', 'm767', 'm246', 'm585', 'm331', 'a369', 'a538', 'm797', 'm1211', 'm1209', 'm579', 'm845', 'm746', 'a316', 'm413', 'a1083', 'm324', 'm327', 'a2374', 'm386', 'm1058', 'm329', 'm496', 'm196', 'a285', 'm552', 'm939', 'm970', 'm1041', 'm907', 'm195', 'm694', 'm760', 'm515', 'm920', 'a534', 'm1216', 'a1373', 'a3561', 'm1324', 'a1635', 'a1704', 'm610', 'm1068', 'm143', 'm928', 'a115', 'a372', 'a924', 'm1296', 'm644', 'm276', 'm709', 'a416', 'a854', 'm699', 'm333', 'm192', 'm222', 'm757', 'm684', 'm952', 'a450', 'm316', 'm524', 'm358', 'a3414', 'm1283', 'm1199', 'm580', 'a865', 'm1176', 'm1313', 'm273', 'm859', 'm1184', 'a1222', 'a1177', 'm1069', 'm640', 'm1088', 'm1183', 'm296', 'm645', 'm1351', 'a427', 'm278', 'm164', 'm758', 'm821', 'm892', 'm646', 'm1332', 'a859', 'm1186', 'm373', 'm410', 'm638', 'a791', 'm492', 'm299', 'm762', 'a462', 'm117', 'm83', 'm163', 'm326', 'a1176', 'm1007', 'm1279', 'm177', 'm578', 'a431', 'm391', 'm701', 'a2181', 'm1264', 'm274', 'm1071', 'm1358', 'm518', 'm606', 'm1214', 'a1384', 'm691', 'm576', 'a1993', 'm214', 'm375', 'm315', 'm968', 'm682', 'm1002', 'a771', 'm184', 'm815', 'm344', 'a1911', 'm629', 'a1185', 'm685', 'a94', 'a1377', 'm839', 'm263', 'm322', 'a1901', 'm178', 'm63', 'm1327', 'a2785', 'a2367', 'a984', 'm1085', 'm300', 'm721', 'm791', 'm1003', 'a3203', 'm108', 'm591', 'm1346', 'a891', 'm180', 'a850', 'm530', 'm338', 'a1179', 'm4', 'm321', 'm874', 'm262', 'm1256', 'm810', 'a434', 'm226', 'a1077', 'a777', 'm718', 'm951', 'm359', 'm418', 'm891', 'm508', 'm1303', 'm1043', 'm566', 'm1319', 'm268', 'a129', 'a152', 'm243', 'm557', 'm977', 'm188', 'a1033', 'm1249', 'm439', 'a2000', 'm356', 'm323', 'm1320', 'm304', 'm65', 'm1080', 'm792', 'm893', 'm468', 'm397', 'a3441', 'm193', 'm1078', 'm945', 'm495', 'm832', 'm201', 'm1227', 'm491', 'a1877', 'a2030', 'm921', 'm793', 'a2755', 'm714', 'm348', 'm175', 'm119', 'm1323', 'a904', 'm1147', 'm1004', 'm1233', 'm264', 'm199', 'm1344', 'm1277', 'm881', 'm1202', 'a986', 'a880', 'm360', 'm241', 'a875', 'a1593', 'm1308', 'm999', 'a1', 'm1298', 'm813', 'a1558', 'm1340', 'm525', 'm696', 'm1143', 'm784', 'm633', 'm427', 'm249', 'm1280', 'm1224', 'a2416', 'm1221', 'm668', 'a231', 'm211', 'm37', 'm1338', 'a226', 'm967', 'a1203', 'm938', 'm379', 'a2061', 'm144', 'a736', 'm688', 'a2301', 'm1305', 'm1104', 'm609', 'm639', 'm670', 'm695', 'm1119', 'a603', 'a1376', 'a803', 'a1280', 'a2011', 'm756', 'm3', 'a1052', 'a1170', 'm431', 'a1454', 'a1225', 'a378', 'm218', 'm401', 'a1061', 'm1356', 'm1005', 'm712', 'm381', 'a3518', 'a535', 'm804', 'm224', 'a325', 'm465', 'a144', 'a815', 'm1039', 'a1133', 'm156', 'm618', 'm765', 'm630', 'a412', 'a1244', 'm572', 'm1063', 'm643', 'm822', 'm811', 'a1926', 'a794', 'a2851', 'm1201', 'm334', 'a1677', 'm879', 'a3373', 'a978', 'm1352', 'a994', 'm50', 'a1468', 'm523', 'a1962', 'a1910', 'm1072', 'a1301', 'a835', 'm363', 'a3254', 'm795', 'm521', 'a47', 'a1556', 'm313', 'a818', 'a243', 'a377', 'm912', 'a806', 'm59', 'm87', 'm556', 'm865', 'm487', 'a2534', 'a1214', 'm364', 'm60', 'a1095', 'm247', 'm317', 'm365', 'a2273', 'm522', 'a886', 'a856', 'a3375', 'm238', 'm29', 'a1150', 'm1065', 'a1223', 'a1291', 'a13', 'a491', 'a1783', 'm611', 'm527', 'm1015', 'm803', 'm312', 'm722', 'm301', 'm738', 'm1291', 'a2133', 'm1144', 'm512', 'a1907', 'a1294', 'a909', 'm347', 'm455', 'm85', 'm929', 'm1062', 'a1006', 'a1438', 'm972', 'a571', 'm1182', 'm1304', 'm978', 'a1440', 'm683', 'm1061', 'm1354', 'a2720', 'a461', 'm1293', 'm245', 'm671', 'm212', 'a1437', 'a3368', 'm252', 'm529', 'm234', 'a2461', 'a813', 'm766', 'a792', 'a69', 'a992', 'm51', 'm711', 'm272', 'a996', 'a1051', 'm1294', 'm661', 'm1343', 'a980', 'a1730', 'a381', 'a1078', 'm740', 'm393', 'm642', 'a961', 'a3431', 'm1033', 'a2646', 'm559', 'm761', 'm535', 'm789', 'm1301', 'm1190', 'm904', 'a2125', 'a516', 'm52', 'a593', 'a1773', 'm1079', 'a137', 'm1107', 'm328', 'm271', 'm526', 'a2016', 'm198', 'm917', 'a1106', 'a221', 'm1076', 'm894', 'm190', 'm1055', 'a665', 'm900', 'a871', 'm820', 'm1269', 'a22', 'm958', 'm236', 'm727', 'a1119', 'm1309', 'a950', 'a2393', 'm207', 'm1271', 'm158', 'm934', 'a3411', 'a796', 'm424', 'm1050', 'm476', 'a638', 'm191', 'm49', 'm318', 'm1174', 'm1018', 'm136', 'm151', 'm1369', 'm1067', 'm883', 'm677', 'a2146', 'a3493', 'm390', 'a1622', 'a797', 'a2491', 'a905', 'a1763', 'm1359', 'a1362', 'a2262', 'a2140', 'm239', 'a12', 'm632', 'a2009', 'm459', 'a778', 'm528', 'a1313', 'm513', 'm948', 'a18', 'a1141', 'a780', 'a15', 'a563', 'a3436', 'a119', 'm490', 'm250', 'm754', 'm538', 'm464', 'a267', 'm1266', 'm1234', 'a910', 'a202', 'a1281', 'm1265', 'm1240', 'm873', 'a901', 'a825', 'a1246', 'a2323', 'a425', 'm637', 'm689', 'a1649', 'm1350', 'm1145', 'm672', 'a3417', 'a106', 'a3367', 'm1379', 'a922', 'm298', 'm739', 'a92', 'm698', 'a2086', 'a1947', 'm717', 'm1355', 'a1516', 'm786', 'm1330', 'a1094', 'a1087', 'm994', 'a1800', 'a1044', 'm185', 'm658', 'a1639', 'a56', 'm755', 'a985', 'm1310', 'a2342', 'm1377', 'a1973', 'a2225', 'm285', 'm1360', 'a1976', 'a841', 'a2719', 'a1305', 'a1396', 'm1197', 'a3361', 'a2587', 'm539', 'm561', 'a2388', 'a915', 'a1178', 'a2134', 'm485', 'a1256', 'a3215', 'a2792', 'a3372', 'a2403', 'm466', 'm520', 'm737', 'a1587', 'a59', 'a109', 'a3365', 'a575', 'm130', 'a1192', 'a1500', 'm101', 'm744', 'a1766', 'a708', 'a2772', 'a1552', 'a1164', 'a127', 'a805', 'a2602', 'm482', 'm206', 'a435', 'a2169', 'a2351', 'a3386', 'a1324', 'a1784', 'a116', 'm1307', 'm602', 'm1156', 'a1835', 'a2812', 'm886', 'm11', 'a590', 'm779', 'm99', 'a1091', 'a997', 'a1100', 'm1353', 'm351', 'm1086', 'a1490', 'a110', 'a210', 'a1359', 'a1658', 'm64', 'a913', 'm514', 'm1275', 'm549', 'm726', 'a695', 'm710', 'a1328', 'm367', 'm780', 'm166', 'a714', 'a1448', 'm1141', 'a2820', 'a1139', 'm534', 'a525', 'a2802', 'a2119', 'a896', 'a2270', 'm1375', 'a930', 'a613', 'a1995', 'a1308', 'a2024', 'a1592', 'a2084', 'a1012', 'a1338', 'm690', 'm687', 'a3181', 'a374', 'm220', 'm225', 'a3672', 'a836', 'a1327', 'a123', 'a3434', 'm458', 'a2840', 'm369', 'a107', 'a280', 'a1088', 'm100', 'a1590', 'm1292', 'm1164', 'a596', 'a2232', 'm775', 'a208', 'm961', 'a2007', 'm140', 'a408', 'a1120', 'm863', 'a1433', 'a633', 'm1276', 'm753', 'm1342', 'm493', 'a1175', 'a1137', 'a1673', 'a1458', 'm750', 'a808', 'a827', 'a1138', 'm124', 'm1075', 'a251', 'a1997', 'a942', 'a415', 'm770', 'm771', 'm422', 'a2171', 'a2725', 'a1939', 'a1714', 'a1227', 'a3315', 'a1533', 'a774', 'm1083', 'a911', 'a1130', 'm749', 'a1919', 'm517', 'a1607', 'a955', 'a1781', 'm1287', 'a800', 'a2295', 'm1302', 'm846', 'a2038', 'm244', 'm10', 'a1125', 'a134', 'a2327', 'a1195', 'a832', 'm1195', 'a2233', 'a531', 'a620', 'a2577', 'a946', 'm1070', 'm460', 'a1512', 'a2400', 'm660', 'a1518', 'a149', 'm896', 'a414', 'a656', 'm267', 'a1560', 'a2131', 'm1381', 'm532', 'm536', 'm498', 'a1626', 'a874', 'm735', 'a53', 'm1262', 'a2814', 'm805', 'a1312', 'a1361', 'a1058', 'm607', 'a1581', 'a640', 'a2347', 'm1288', 'm675', 'a998', 'a899', 'a1115', 'm1368', 'a2854', 'm486', 'a488', 'a1615', 'm1038', 'm759', 'a1397', 'm1247', 'a1544', 'm469', 'a678', 'a776', 'a1233', 'a1938', 'a928', 'a945', 'a788', 'a1473', 'a1347', 'a570', 'm1028', 'a1131', 'a1983', 'm1057', 'a3219', 'a2764', 'a201', 'm819', 'a2354', 'a206', 'a3388', 'a1172', 'a1551', 'm725', 'a3342', 'm142', 'a96', 'a411', 'a878', 'a3529', 'a1340', 'm663', 'a1424', 'm229', 'a499', 'a1365', 'a2088', 'a2298', 'm533', 'a1268', 'a484', 'a3044', 'm470', 'a1422', 'm511', 'a898', 'a3207', 'a1496', 'm1289', 'a1109', 'a2375', 'a1718', 'a1580', 'a2328', 'a828', 'a3370', 'a230', 'a232', 'a769', 'm1364', 'a1478', 'm368', 'a621', 'a1494', 'a1553', 'a1971', 'a2345', 'm414', 'm1365', 'm505', 'a3280', 'a599', 'a1530', 'a332', 'a1343', 'a887', 'm1218', 'a2934', 'a486', 'm483', 'a2316', 'a1600', 'm494', 'a1617', 'a2186', 'a2658', 'a885', 'a2121', 'm1363', 'a58', 'a253', 'a89', 'a1332', 'm408', 'a744', 'a1748', 'a2451', 'a1205', 'a2239', 'a3471', 'a3349', 'm659', 'a14', 'm785', 'a309', 'm1306', 'a3288', 'a799', 'a1211', 'a1090', 'm392', 'a3475', 'm634', 'a1680', 'm57', 'a2208', 'a1085', 'a1933', 'a1434', 'a1432', 'a1430', 'a923', 'a1262', 'a855', 'a2818', 'a3396', 'a2718', 'm731', 'a1693', 'm507', 'a81', 'm153', 'm467', 'a1226', 'm1006', 'a375', 'm950', 'a2790', 'a3306', 'a3443', 'm149', 'a299', 'a2044', 'a490', 'a2205', 'm965', 'a844', 'a16', 'm1161', 'a1679', 'm734', 'a1554', 'a2338', 'm237', 'm457', 'm751', 'a1452', 'm641', 'a379', 'a1431', 'm435', 'a1149', 'a732', 'a741', 'm279', 'a442', 'm1105', 'a2971', 'a591', 'm409', 'm516', 'm481', 'a1484', 'a3407', 'a1566', 'a3409', 'a1194', 'a1259', 'a550', 'm1109', 'm68', 'a2768', 'a506', 'a541', 'a552', 'a742', 'a745', 'm170', 'a3439', 'a1464', 'a657', 'm568', 'a100', 'a157', 'a501', 'm62', 'a2512', 'a319', 'a2929', 'a98', 'a743', 'a733', 'a1271', 'm1318', 'a2591', 'm1229', 'm269', 'a3438', 'a1385', 'm437', 'm1142', 'm887', 'm488', 'a877', 'a236', 'a2788', 'a380', 'a1046', 'm540', 'a1304', 'a581', 'a702', 'a485', 'a507', 'a1196', 'm868', 'a428', 'm1180', 'a1565', 'a3234', 'a1582', 'a141', 'm664', 'a1107', 'a1595', 'a1423', 'a1426', 'a551', 'a717', 'a2498', 'a1963', 'a1862', 'a1326', 'a283', 'a2804', 'a1487', 'a505', 'a229', 'm337', 'a70', 'a3416', 'a261', 'a1785', 'a1525', 'a1307', 'a3489', 'a2494', 'm1235', 'a136', 'a2490', 'a3253', 'a291', 'a2214', 'a2299', 'a438', 'a1339', 'a365', 'a1368', 'a1713', 'a1495', 'm1115', 'a2104', 'm261', 'a449', 'a523', 'a112', 'a2091', 'a863', 'a504', 'a819', 'a2128', 'a1738', 'a1450', 'a2535', 'a1536', 'a1681', 'a2406', 'm38', 'a1321', 'a255', 'a617', 'a2549', 'a2722', 'a1425', 'a2195', 'a327', 'm181', 'a3330', 'a701', 'a699', 'a2836', 'a740', 'a3413', 'a900', 'a1623', 'm202', 'a3232', 'a3508', 'm818', 'm979', 'a2370', 'a284', 'a3478', 'a2067', 'a139', 'a3043', 'a2481', 'a2545', 'a1429', 'a1417', 'a1427', 'a1418', 'a3485', 'a483', 'a2087', 'm1165', 'a698', 'a2355', 'a2649', 'a2806', 'a2344', 'a1493', 'a1855', 'a108', 'a2908', 'm558', 'a1589', 'a1931', 'm1054', 'm474', 'a2766', 'a1014', 'a2198', 'a655', 'a2336', 'a1238', 'a1865', 'a1146', 'm137', 'a1420', 'a634', 'a1462', 'a2943', 'a785', 'm597', 'a3429', 'a454', 'a1648', 'a2518', 'a725', 'a766', 'a1074', 'a2350', 'a1676', 'm197', 'a2237', 'a1298', 'm258', 'a1662', 'a1984', 'a1266', 'a1830', 'a3258', 'a1667', 'a567', 'm562', 'm619', 'a2920', 'a691', 'a1637', 'a787', 'm1242', 'a1967', 'a1539', 'a3575', 'a574', 'a2314', 'a2782', 'a1665', 'a1419', 'a636', 'a3035', 'a1388', 'a860', 'a518', 'a1303', 'm382', 'a2293', 'a704', 'a703', 'a707', 'a755', 'a645', 'a3592', 'a916', 'a3199', 'a1609', 'a1585', 'a1248', 'a3305', 'm1179', 'a2692', 'a28', 'a1767', 'a6', 'a1369', 'a2978', 'a473', 'a2122', 'a1148', 'm58', 'a2004', 'm1321', 'a3408', 'm471', 'a1443', 'm519', 'm542', 'a1599', 'a2073', 'm270', 'm41', 'a3031', 'a1382', 'a3220', 'a1143', 'a2246', 'a548', 'a1550', 'a1686', 'a1428', 'a2138', 'a983', 'a713', 'a761', 'a759', 'a719', 'm484', 'm504', 'a3384', 'a2147', 'm1042', 'a615', 'a1734', 'm554', 'a1934', 'a125', 'a2506', 'a1936', 'a3256', 'a3257', 'a2396', 'm2', 'a25', 'm123', 'a3036', 'a666', 'a131', 'a487', 'a2271', 'a1269', 'a2849', 'a1959', 'm752', 'a439', 'a330', 'a1715', 'a881', 'a502', 'a128', 'a750', 'a756', 'a1249', 'm861', 'a1630', 'a1737', 'a1745', 'a328', 'm569', 'a259', 'a2399', 'a3530', 'm412', 'a3260', 'a429', 'a2003', 'm314', 'a670', 'a430', 'm36', 'a1136', 'a2203', 'a1337', 'a3371', 'a238', 'a3446', 'a1122', 'a3504', 'a1652', 'm612', 'm1299', 'a1357', 'a1386', 'a539', 'a1102', 'a1940', 'a940', 'a2819', 'a1641', 'a3259', 'a2805', 'a1598', 'a64', 'm567', 'm133', 'a867', 'a1112', 'm40', 'm501', 'a3184', 'a323', 'a2938', 'a3010', 'a931', 'a1204', 'a1876', 'a831', 'a1092', 'a1273', 'a758', 'a686', 'a700', 'a2112', 'a3389', 'm461', 'a3599', 'a2191', 'a418', 'a1393', 'a1619', 'a1994', 'a3211', 'a2339', 'a1379', 'a3432', 'a463', 'a1335', 'a3255', 'a2072', 'm604', 'a2564', 'a63', 'm1254', 'a1463', 'a1200', 'a3394', 'a3041', 'a3030', 'a2976', 'a668', 'a2020', 'a207', 'a2290', 'a1114', 'a2664', 'a3204', 'a368', 'a1421', 'a1821', 'a933', 'a3042', 'a688', 'a1508', 'm235', 'a493', 'a3233', 'a749', 'a1128', 'a117', 'a2412', 'a104', 'a2540', 'a2074', 'a2068', 'a2065', 'a1843', 'a1690', 'a1121', 'a2750', 'a2889', 'a3283', 'a82', 'a74', 'a693', 'a659', 'a3040', 'a671', 'a669', 'a2001', 'a1257', 'a3393', 'a941', 'a949', 'a470', 'a2932', 'a857', 'a2617', 'a3428', 'a760', 'a675', 'a715', 'a2744', 'a872', 'a126', 'a982', 'm678', 'a1188', 'a2825', 'a150', 'a1960', 'a492', 'a3293', 'a1698', 'a2312', 'a1788', 'a3026', 'a2980', 'a2332', 'a1912', 'a1243', 'a1905', 'a2990', 'a637', 'a1510', 'a979', 'a99', 'a706', 'a710', 'a842', 'a784', 'a845', 'a1515', 'a2048', 'a939', 'a1162', 'a1710', 'a1124', 'a3252', 'a1519', 'm456', 'a2480', 'm842', 'a3469', 'a2071', 'm503', 'a692', 'a3032', 'a3027', 'a3038', 'a672', 'a417', 'a1563', 'a2179', 'a1449', 'a464', 'm867', 'a995', 'a1258', 'a1837', 'a376', 'a3015', 'a1817', 'a3046', 'a396', 'a683', 'a2793', 'a2644', 'a1154', 'a2599', 'a1511', 'a652', 'a711', 'a3281', 'a2838', 'a1242', 'a779', 'a1979', 'm480', 'a1387', 'm827', 'a607', 'a1180', 'a1601', 'a1547', 'a3003', 'a1230', 'a250', 'a2975', 'a2979', 'a1538', 'a153', 'a1643', 'a2651', 'a2478', 'a333', 'a1833', 'a373', 'a371', 'a2986', 'a3002', 'a1075', 'a752', 'a897', 'a3359', 'a2252', 'a770', 'a608', 'a433', 'a684', 'a953', 'a1604', 'a3415', 'm423', 'a2335', 'a1720', 'a2085', 'a3579', 'm547', 'a1812', 'a1165', 'a2164', 'a1292', 'a2471', 'a3616', 'a1389', 'a2080', 'a321', 'a2734', 'a3033', 'a3588', 'a1632', 'm872', 'a1380', 'a161', 'a903', 'a838', 'a1543', 'a3660', 'a2994', 'a3017', 'a952', 'a1479', 'a478', 'a2204', 'a246', 'a830', 'a3594', 'm733', 'a944', 'a2170', 'a2803', 'a764', 'a3208', 'm463', 'a2624', 'm404', 'a883', 'a2588', 'a1097', 'a990', 'a2219', 'a103', 'a2801', 'a1253', 'a1221', 'a1235', 'a2070', 'a2777', 'a1696', 'a3', 'm7', 'a3262', 'a2442', 'a83', 'a696', 'a3338', 'a3029', 'a673', 'a3227', 'a1316', 'a876', 'a2647', 'a3312', 'm98', 'a929', 'a667', 'a1777', 'a728', 'a705', 'a687', 'a943', 'a763', 'a727', 'a726', 'a1126', 'm817', 'm183', 'a1110', 'a2562', 'a937', 'a1814', 'a1182', 'm588', 'a1471', 'a459', 'a1708', 'a1659', 'm500', 'a1970', 'a3477', 'a2627', 'a2066', 'a1532', 'a1700', 'a1699', 'a1689', 'm9', 'a3048', 'a2973', 'a674', 'a3531', 'a1099', 'a3661', 'a2083', 'm489', 'a919', 'a2666', 'a227', 'a2248', 'a320', 'a991', 'm82', 'a1791', 'a1498', 'a1820', 'a951', 'a932', 'a664', 'a1881', 'a2096', 'a263', 'a148', 'a1527', 'a751', 'a721', 'a646', 'a648', 'a767', 'a724', 'a2363', 'a1992', 'a1946', 'a2398', 'a1706', 'a938', 'a1813', 'a1823', 'a2218', 'a3552', 'a289', 'a2365', 'a1469', 'a2348', 'a2082', 'a2732', 'm564', 'a2717', 'a3039', 'a1831', 'a277', 'a3052', 'a3045', 'a3028', 'm747', 'a97', 'a158', 'a2686', 'a1801', 'a3037', 'a3326', 'a2787', 'a3597', 'a3666', 'a2894', 'm828', 'a77', 'a651', 'a716', 'a2215', 'a718', 'a811', 'a747', 'a958', 'a2583', 'a1285', 'a582', 'a1988', 'a219', 'a1819', 'a3301', 'm479', 'a2832', 'a443', 'm543', 'a1311', 'a1265', 'a272', 'a2842', 'a3265', 'm555', 'a2773', 'a2045', 'a3614', 'a2683', 'a1697', 'a9', 'a918', 'a1729', 'a66', 'a730', 'a694', 'a3049', 'a2977', 'a3321', 'a1217', 'm919', 'a334', 'a2797', 'a2939', 'a1793', 'a2984', 'a926', 'm217', 'm473', 'a2724', 'a583', 'm732', 'a2391', 'a549', 'a925', 'm502', 'a1583', 'a1948', 'a1062', 'a1081', 'a1818', 'a1892', 'a3580', 'a3569', 'a1657', 'a1678', 'a1520', 'a342', 'a1908', 'a1694', 'a1695', 'a3009', 'a2982', 'a2876', 'a1579', 'a2105', 'a639', 'a661', 'a2404', 'a147', 'a879', 'a159', 'a1372', 'a829', 'a1260', 'a3659', 'a318', 'a1664', 'a3639', 'a2991', 'a3021', 'a1790', 'a3023', 'a3008', 'a3022', 'a3327', 'a2944', 'a2733', 'a822', 'a2389', 'a3647', 'm139', 'a765', 'a746', 'a1964', 'a579', 'a2968', 'a3498', 'a2446', 'm497', 'a273', 'a3345', 'm266', 'a1620', 'a2689', 'a1606', 'm400', 'a1888', 'a294', 'a3200', 'a3195', 'a244', 'a3657', 'a2360', 'a2529', 'a2432', 'a1925', 'a2796', 'a264', 'a2127', 'a1503', 'a424', 'a2039', 'a1882', 'a3019', 'a2996', 'a2313', 'm844', 'a2035', 'a2907', 'a71', 'a737', 'a3566', 'a680', 'a2870', 'a3603', 'a1640', 'a2141', 'a237', 'a223', 'a2774', 'a329', 'a3007', 'a3571', 'a1584', 'a2390', 'a712', 'a632', 'a720', 'a2762', 'a2795', 'a757', 'a682', 'a643', 'a734', 'a2702', 'a2221', 'a1354', 'a936', 'a2695', 'a1213', 'a3654', 'm955', 'a1873', 'a3058', 'a3509', 'a2643', 'm869', 'a3273', 'a298', 'a1064', 'a2610', 'a1660', 'a2592', 'a2395', 'a3051', 'a19', 'a1466', 'a24', 'a1202', 'a235', 'a75', 'a72', 'a85', 'a677', 'm33', 'a160', 'a2516', 'a338', 'a2197', 'a155', 'a1345', 'a256', 'a1276', 'a3322', 'a545', 'a572', 'a2685', 'a2448', 'a322', 'a324', 'a2985', 'a3018', 'a394', 'a635', 'a1815', 'a935', 'a3034', 'a660', 'a3325', 'm548', 'a419', 'a2694', 'a3073', 'a662', 'a511', 'a497', 'a1153', 'a2381', 'a981', 'a709', 'a2958', 'a685', 'a647', 'a676', 'a2002', 'a663', 'a3568', 'a457', 'a2952', 'a304', 'a1252', 'a2791', 'a2267', 'a286', 'a269', 'a884', 'a2510', 'a2628', 'a3078', 'a2915', 'a2457', 'a1894', 'a1193', 'a2089', 'a1444', 'a3473', 'a3430', 'a446', 'a2559', 'a592', 'a2014', 'a456', 'm1146', 'a2672', 'a1323', 'a3381', 'a2888', 'a772', 'a279', 'a297', 'a80', 'a84', 'a73', 'a87', 'a2402', 'a2972', 'a3570', 'a679', 'a2638', 'a3645', 'a2526', 'a1334', 'a1578', 'a2681', 'a2250', 'a343', 'a3062', 'a1794', 'a3000', 'a395', 'a524', 'a601', 'a2940', 'm748', 'a2383', 'a79', 'a76', 'a650', 'a2525', 'a2521', 'm1087', 'a2770', 'a748', 'a1009', 'a2064', 'a3636', 'm509', 'a1144', 'a216', 'a1816', 'a1871', 'a2353', 'a616', 'a2783', 'm906', 'a2247', 'a522', 'a2249', 'a3351', 'a2607', 'a1890', 'a2858', 'a1333', 'a2921', 'a2948', 'a573', 'a1451', 'm935', 'a3460', 'a508', 'a2654', 'a3613', 'a2877', 'a3013', 'a1688', 'a2992', 'a2969', 'a8', 'a234', 'a2405', 'a658', 'a654', 'a3050', 'a3060', 'a3537', 'a1568', 'a2640', 'a1866', 'a413', 'a102', 'a1921', 'a1457', 'a2667', 'a3522', 'a2546', 'a848', 'a3582', 'a553', 'a555', 'a2359', 'a339', 'a3074', 'a1502', 'a2981', 'a3006', 'a956', 'a1283', 'a2287', 'a2726', 'a2730', 'a2941', 'a2942', 'a2909', 'a510', 'a3451', 'a2386', 'a1751', 'a681', 'a2499', 'a569', 'a1998', 'a2913', 'a3380', 'a1633', 'a1352', 'a3500', 'a3180', 'a528', 'a1898', 'a496', 'a1872', 'a2556', 'a2268', 'a3515', 'a2839', 'a2362', 'a2696', 'a2629', 'a2630', 'm871', 'a2092', 'a1398', 'a3440', 'a2241', 'a1896', 'a1344', 'a2224', 'a249', 'a2716', 'a2613', 'a3426', 'a1928', 'a3271', 'a3490', 'a3584', 'a2467', 'a1885', 'a3583', 'a2501', 'a1482', 'a426', 'a2946', 'a1945', 'a1897', 'a2837', 'a3600', 'a3001', 'a1728', 'a10', 'a3403', 'a735', 'a3573', 'a561', 'a409', 'a3053', 'a3565', 'a2302', 'a2513', 'a2019', 'a296', 'a2192', 'a3412', 'a546', 'a2680', 'a3421', 'a2661', 'a2756', 'a3071', 'a2931', 'a2987', 'a367', 'a1489', 'm374', 'a474', 'a526', 'm510', 'a3563', 'a3070', 'a2906', 'a585', 'a2735', 'a3090', 'a2589', 'a3517', 'a2377', 'a1624', 'a566', 'a1684', 'a2419', 'a3505', 'a609', 'a3651', 'a589', 'a3294', 'a1989', 'a957', 'a1557', 'a1884', 'a1739', 'a3304', 'a288', 'a2566', 'a606', 'a2303', 'a2358', 'a300', 'a3362', 'a3364', 'a1275', 'a3348', 'a274', 'a2700', 'a1886', 'a1883', 'a1199', 'a3347', 'a2916', 'a3544', 'a3269', 'a3192', 'a1772', 'a2517', 'a1272', 'a3401', 'a3425', 'm736', 'a455', 'm870', 'a305', 'a344', 'a2488', 'a3016', 'a2912', 'a3056', 'a3025', 'a2040', 'm889', 'a17', 'a3092', 'a1201', 'a1197', 'a1456', 'a2897', 'a265', 'a78', 'a3059', 'a2947', 'a3642', 'a3640', 'a156', 'a335', 'a1287', 'a2665', 'a2576', 'a1278', 'a562', 'a2673', 'm72', 'a340', 'a345', 'm1362', 'a2989', 'a2930', 'a2983', 'a3057', 'a3061', 'a3673', 'a1358', 'a2284', 'a2927', 'a513', 'a3456', 'a1540', 'a543', 'a542', 'a560', 'a870', 'a135', 'a1775', 'a86', 'a649', 'a642', 'a723', 'a2500', 'a1240', 'a2953', 'a2455', 'a282', 'a611', 'a1621', 'a3648', 'a889', 'a3586', 'a3231', 'a2401', 'a2234', 'a2552', 'a421', 'a1874', 'a1216', 'a61', 'a2522', 'a2069', 'a2631', 'a2430', 'a254', 'a3363', 'a2463', 'm741', 'a3658', 'a3474', 'a2856', 'a2872', 'a1674', 'a3450', 'a2663', 'a1981', 'a2723', 'a312', 'a2047', 'a2609', 'a1571', 'a1562', 'a3458', 'a271', 'a401', 'a2259', 'a2555', 'a1980', 'a2728', 'a2999', 'a2926', 'a2919', 'a2', 'a2111', 'a3054', 'a3202', 'a1913', 'm233', 'a1867', 'a529', 'a3223', 'a839', 'a2300', 'a1218', 'a262', 'a331', 'a2898', 'a326', 'a3068', 'a3012', 'a947', 'a948', 'a517', 'a1474', 'a2743', 'a2436', 'a2429', 'a2895', 'a2487', 'a2590', 'a554', 'a586', 'a762', 'a690', 'a697', 'a614', 'a754', 'a722', 'a120', 'a3507', 'a568', 'a2450', 'a612', 'a3274', 'a2824', 'a3292', 'a3279', 'a2662', 'a3346', 'a1351', 'a3650', 'a3390', 'a2794', 'a1822', 'a934', 'a536', 'a1561', 'a2382', 'a2595', 'm858', 'a1870', 'a1608', 'a1746', 'a2484', 'a2823', 'a1187', 'a1190', 'a1290', 'a2914', 'a3067', 'a1711', 'a2531', 'a3406', 'a2202', 'a2520', 'a2527', 'a3479', 'a2626', 'a2633', 'a2684', 'a2524', 'a268', 'a739', 'a3065', 'a293', 'a2101', 'a2482', 'a2018', 'a2652', 'a2511', 'a2356', 'a3339', 'a2841', 'a2886', 'a2900', 'a2884', 'a2081', 'a2479', 'a2670', 'a3671', 'a1985', 'a1497', 'a2103', 'a559', 'a1887', 'a2206', 'a1977', 'a2813', 'a2956', 'a3089', 'a3004', 'a1726', 'a1832', 'a1459', 'm546', 'm24', 'a3284', 'a225', 'a3055', 'a3532', 'a1378', 'a1850', 'a3604', 'a2657', 'a3374', 'a2272', 'a1922', 'a3644', 'a3523', 'a270', 'm66', 'a1999', 'a317', 'a3225', 'a3221', 'a3079', 'a3075', 'a2957', 'a3328', 'a1360', 'a3183', 'a422', 'a465', 'a2422', 'a2778', 'a2922', 'a530', 'a295', 'a3399', 'a2385', 'a689', 'a2767', 'a2780', 'a2811', 'a1687', 'a3266', 'a2962', 'a1616', 'a3272', 'a2418', 'a2533', 'a1286', 'a3196', 'a1355', 'a3637', 'a2454', 'a1990', 'a1893', 'a2656', 'a3213', 'a2507', 'a1929', 'a3444', 'a3198', 'a2816', 'a2799', 'a2757', 'a2861', 'a3197', 'a1740', 'a247', 'a2616', 'a512', 'a1642', 'a2283', 'a2548', 'a2874', 'a2758', 'a2505', 'a257', 'a1155', 'a1895', 'a1889', 'a3278', 'a2046', 'a1476', 'a2539', 'a2925', 'a577', 'a2495', 'm462', 'a2180', 'a1612', 'a3539', 'a3663', 'a2834', 'a2594', 'a2691', 'a1891', 'a1295', 'a2464', 'a2998', 'a2879', 'a3082', 'a3591', 'a2113', 'a2378', 'a3525', 'a303', 'a2974', 'a3533', 'a3534', 'a594', 'a1569', 'a3201', 'a1857', 'a2637', 'a861', 'a154', 'a336', 'a527', 'a2029', 'a278', 'a2324', 'a2687', 'a3424', 'a2352', 'a2677', 'a2779', 'a1650', 'a3080', 'a2933', 'a3069', 'a3081', 'a1795', 'm107', 'a2761', 'a1787', 'a1461', 'a2729', 'a2424', 'a2433', 'a1191', 'a2150', 'a281', 'a1596', 'a3442', 'a1542', 'a1610', 'a1300', 'a619', 'a3633', 'a480', 'a3435', 'a2807', 'a2444', 'a2438', 'a2217', 'a1721', 'a2569', 'a3344', 'a2650', 'a1475', 'a846', 'a475', 'a3556', 'a1207', 'a2606', 'a3655', 'a258', 'a2502', 'a1492', 'a2333', 'a2598', 'a65', 'a1741', 'a242', 'a1297', 'a2904', 'a2543', 'a3577', 'a3550', 'a2368', 'a132', 'a1460', 'a3282', 'a2097', 'a2568', 'a2413', 'a3484', 'a2017', 'a3564', 'a2614', 'a3235', 'm432', 'a2311', 'a1829', 'a2486', 'a2497', 'a1545', 'a1701', 'a2558', 'a2871', 'a3612', 'a423', 'a3212', 'a2523', 'a2343', 'a2291', 'a1987', 'a2928', 'a2703', 'a2966', 'a802', 'a2053', 'a3601', 'a2006', 'a498', 'a3536', 'a2809', 'a1851', 'a2519', 'a2341', 'a2240', 'a3320', 'a2668', 'a3379', 'a3572', 'a2775', 'a2109', 'a341', 'a2142', 'a3064', 'a2988', 'a2810', 'a477', 'a1356', 'a3547', 'a858', 'a2435', 'a2426', 'm1317', 'a895', 'a460', 'a1765', 'a1614', 'a729', 'a3209', 'a1118', 'a2826', 'a890', 'a2468', 'a3506', 'a2318', 'a2586', 'a843', 'a1251', 'a2831', 'a2615', 'a1567', 'a1646', 'a3634', 'a3628', 'a2326', 'a1717', 'a2509', 'a1245', 'a1375', 'a2850', 'a1631', 'a1254', 'a3194', 'a1506', 'a3512', 'a2561', 'a2563', 'a2156', 'a1709', 'a2304', 'a2600', 'a1920', 'a2261', 'a2742', 'a1661', 'a1445', 'a2415', 'a2407', 'a1142', 'a3557', 'a2278', 'a3177', 'a3669', 'a1158', 'a2596', 'a3270', 'a2896', 'a3298', 'a2477', 'a3470', 'a1789', 'a3422', 'a2701', 'a447', 'a537', 'a2593', 'a2560', 'a3437', 'a3005', 'a2612', 'a1523', 'a3632', 'a1302', 'a2193', 'a1331', 'a1982', 'a1093', 'a287', 'a3492', 'a2475', 'a2997', 'a3088', 'a2893', 'a2199', 'a2557', 'a2753', 'a1899', 'a833', 'a2740', 'a2745', 'a233', 'a3589', 'a2334', 'a1383', 'a3605', 'a3643', 'a2187', 'a1636', 'a209', 'a1320', 'a1319', 'a840', 'a2285', 'a3418', 'a2573', 'a3387', 'a2452', 'a1647', 'a1792', 'a1504', 'a2993', 'a3011', 'a515', 'a3329', 'a3179', 'a2731', 'a482', 'a2887', 'a2911', 'a2905', 'a489', 'a2437', 'a2149', 'a2100', 'a260', 'a547', 'a576', 'a578', 'a580', 'a1371', 'a1768', 'a1776', 'a3445', 'a3611', 'a3553', 'a644', 'a753', 'm167', 'a3602', 'a2970', 'a2738', 'a2043', 'a2445', 'a2441', 'a3482', 'a2622', 'a2572', 'a2618', 'a2185', 'a565', 'a3343', 'a1824', 'a927', 'a907', 'a3503', 'a2090', 'a1282', 'a68', 'a1868', 'a2281', 'a2963', 'a3513', 'a2821', 'a2844', 'a2410', 'a2409', 'a3595', 'a3496', 'a2369', 'a2862', 'a2528', 'a2196', 'a3593', 'a2625', 'a1613', 'a218', 'a3299', 'a1932', 'a1575', 'a1537', 'a3072', 'a2885', 'a3638', 'a3652', 'a1826', 'a1279', 'a2275', 'a1559', 'a1228', 'a2924', 'a2462', 'a3457', 'a3549', 'a3047', 'a130', 'a2950', 'm1053', 'a133', 'a2503', 'a3341', 'a1526', 'a3542', 'a2346', 'a2106', 'a2431', 'a1692', 'a3540', 'a3461', 'a3455', 'a3626', 'a2443', 'a1702', 'a3590', 'a1310', 'a2829', 'a266', 'a2678', 'a1270', 'a3091', 'm1', 'a2154', 'a2157', 'a2578', 'a57', 'm454', 'a3528', 'a2132', 'm28', 'a2945', 'a1904', 'a2078', 'a1594', 'a3319', 'a1847', 'a240', 'a2571', 'a3519', 'a2420', 'a2575', 'a307', 'a2776', 'a1685', 'a1499', 'a2995', 'a2954', 'a514', 'a479', 'a2428', 'a2848', 'a587', 'a520', 'a2868', 'a2387', 'a2380', 'a1129', 'm1371', 'a738', 'a1284', 'a2173', 'a3285', 'a564', 'a2447', 'a2476', 'a3559', 'a2289', 'a2544', 'a2693', 'a1588', 'a2620', 'a814', 'a2538', 'a894', 'a1991', 'a1486', 'a3352', 'm895', 'a1755', 'a1350', 'a731', 'a1108', 'a1869', 'a2022', 'a276', 'a1744', 'a1735', 'a3596', 'a2845', 'a145', 'a2565', 'a2408', 'a3670', 'a3668', 'a252', 'a2634', 'a2632', 'a1184', 'a3486', 'a275', 'a3516', 'a3587', 'a1629', 'a3303', 'a1950', 'a3541', 'a2212', 'a3567', 'a2165', 'a2231', 'a1084', 'a2960', 'a1224', 'a2439', 'a1618', 'a1839', 'a1917', 'a1958', 'a1875', 'a2891', 'm878', 'a2023', 'a3309', 'a2115', 'a3562', 'a2671', 'a1140', 'a2255', 'a2847', 'a2605', 'a3447', 'a3448', 'a1840', 'a2530', 'a3324', 'a5', 'a3624', 'a3578', 'a3210', 'a310', 'a2597', 'a2697', 'a993', 'a1134', 'a2604', 'a2107', 'a2553', 'a3084', 'a2748', 'a3404', 'a3665', 'a2903', 'a2645', 'a793', 'a2741', 'a245', 'm56', 'a2917', 'a1849', 'a337', 'a3340', 'a2076', 'a2309', 'a3481', 'a3480', 'a1943', 'a2321', 'a809', 'a3420', 'a3419', 'm953', 'a2675', 'a2892', 'a2763', 'a3066', 'a3024', 'a476', 'a2759', 'a1780', 'a1364', 'a2286', 'a441', 'a1915', 'a495', 'a882', 'a540', 'a3630', 'a2135', 'a1764', 'a432', 'a1299', 'a653', 'a3286', 'a3427', 'a795', 'a3606', 'a3217', 'a2137', 'a3627', 'a2136', 'a1255', 'a1769', 'a3178', 'a1325', 'a1952', 'a445', 'm257', 'm1312', 'a1145', 'a847', 'a1546', 'a1206', 'a2244', 'a1349', 'a2238', 'a1651', 'a3514', 'a2357', 'a2771', 'a2541', 'a140', 'a1318', 'a1309', 'a2554', 'a2937', 'a1341', 'a2251', 'a1760', 'a3653', 'a1147', 'a2394', 'a1156', 'a2337', 'a1707', 'a3333', 'a1682', 'a2754', 'a2585', 'a519', 'a3308', 'a2465', 'a3402', 'a3377', 'a2582', 'a420', 'a1239', 'a2167', 'a2659', 'a1668', 'a2493', 'a1675', 'a2277', 'a3555', 'a1288', 'a2421', 'a2550', 'a2918', 'a2013', 'a3353', 'a2440', 'a2883', 'a2737', 'a1570', 'a2878', 'a3310', 'a2949', 'a451', 'a3354', 'a3020', 'a3014', 'a2153', 'a1722', 'a3382', 'a2152', 'a3538', 'a1858', 'a2118', 'a1086', 'a917', 'a410', 'a2721', 'a2676', 'a2514', 'a1602', 'a3063', 'a1501', 'a954', 'a2880', 'a1395', 'a2434', 'a2099', 'a1574', 'a588', 'a1628', 'a1330', 'a1770', 'a3649', 'a3205', 'a641', 'a1367', 'a1370', 'a2660', 'a1902', 'a2784', 'a3465', 'a118', 'a2315', 'a3625', 'a2322', 'a1825', 'a2329', 'a3323', 'a220', 'a2120', 'a1167', 'a1212', 'a2236', 'm1315', 'a55', 'a1289', 'a783', 'a2050', 'a1742', 'a1733', 'a2961', 'a248', 'a2005', 'a1941', 'a2532', 'a2184', 'a3511', 'a2466', 'a2427', 'a2098', 'a3350', 'a2869', 'a3674', 'a1666', 'a1654', 'a1315', 'a3337', 'a3459', 'a121', 'm570', 'a2765', 'a2473', 'a2863', 'a3263', 'a2551', 'a3543', 'a2041', 'm553', 'a1152', 'a1942', 'a2042', 'a1909', 'a2611', 'a2449', 'a1691', 'a2567', 'a1703', 'a3376', 'a311', 'a3546', 'a3357', 'a3497', 'a3291', 'a2207', 'a2608', 'a2833', 'a3185', 'a2547', 'a2320', 'a2828', 'a3083', 'a3085', 'a1725', 'a1723', 'a3472', 'a2177', 'a2910', 'a452', 'a2220', 'a888', 'a1683', 'a3385', 'm823', 'a54', 'a604', 'a1059', 'm35', 'a2639', 'a2124', 'a1923', 'a2079', 'a1314', 'a241', 'a1277', 'a2682', 'a3423', 'a3077', 'a437', 'a3620', 'a1104', 'a817', 'a544', 'a605', 'a1541', 'a3635', 'a2168', 'a2052', 'm776', 'a3554', 'a1186', 'a2965', 'a2297', 'a2213', 'a618', 'a584', 'a1514', 'a1348', 'a3296', 'm1171', 'a1955', 'a1956', 'a1267', 'a2183', 'a3224', 'a862', 'a1163', 'a2172', 'a2123', 'a402', 'a1391', 'a2051', 'a1743', 'a3488', 'a292', 'a1811', 'a3214', 'a2256', 'a2279', 'a1627', 'a1951', 'a3395', 'a1215', 'a1080', 'a3433', 'a2456', 'a2276', 'a2515', 'a852', 'a3358', 'a3581', 'a1101', 'a1655', 'a2162', 'a1174', 'a2174', 'a2860', 'a1219', 'a1274', 'a1050', 'a2264', 'm506', 'a290', 'a2508', 'a3449', 'a1096', 'a2102', 'a2584', 'a2760', 'a308', 'a1522', 'm806', 'a1732', 'a2379', 'a3392', 'a3290', 'a2690', 'a3289', 'a2474', 'a2736', 'a2110', 'a2951', 'a2864', 'a2873', 'a2959', 'a2282', 'a3086', 'a892', 'a837', 'a21', 'm8', 'a1591', 'a2581', 'a23', 'a60', 'a1007', 'a164', 'a3618', 'a3176', 'a1572', 'a1864', 'a3463', 'a3667', 'a908', 'a3226', 'a1927', 'a3494', 'a1010', 'a2769', 'a2483', 'a3313', 'a1754', 'a3452', 'a823', 'a1597', 'a62', 'a557', 'a2178', 'a2800', 'a1455', 'a1439', 'a2964', 'a302', 'a1625', 'a2319', 'a114', 'a1353', 'a3623', 'a2746', 'a1477', 'a1638', 'a2603', 'a1930', 'm730', 'a1838', 'a124', 'a3483', 'a3617', 'a1189', 'a1135', 'a2843', 'a1250', 'a2923', 'a2808', 'a2642', 'm541', 'a2504', 'a2340', 'a3335', 'a2789', 'a1779', 'a1392', 'a91', 'a3189', 'a1236', 'a3336', 'a2882', 'a1937', 'a2899', 'a2269', 'a2116', 'a3318', 'a2258', 'a2867', 'a3524', 'a2317', 'a2228', 'a2366', 'a2641', 'a1759', 'a1656', 'a1453', 'a404', 'a1906', 'a1914', 'a2852', 'a1879', 'a3366', 'a3487', 'a3236', 'a2280', 'a1485', 'a2817', 'a2331', 'a1160', 'a2786', 'a3356', 'a3087', 'a7', 'a2008', 'a3551', 'a1863', 'm48', 'a2075', 'a1296', 'a2655', 'a556', 'a2143', 'a364', 'a521', 'a2425', 'a2570', 'a1151', 'a2579', 'a2955', 'a1132', 'a1306', 'a781', 'a1577', 'a2739', 'a2781', 'm1056', 'a2243', 'a3499', 'a3631', 'a2619', 'a1611', 'a2542', 'a67', 'a1827', 'a849', 'a1548', 'a1586', 'a1209', 'a2253', 'a3467', 'a142', 'a2901', 'a2306', 'a2308', 'a1712', 'a2194', 'a224', 'a1534', 'a3076', 'a1111', 'a2216', 'a1229', 'a1159', 'a1198', 'a3093', 'a1171', 'a3545', 'a1935', 'a1828', 'a2114', 'a2025', 'a1644', 'a1446', 'a3277', 'a3405', 'a3501', 'a1663', 'a1844', 'a1521', 'a2472', 'a453', 'a1634', 'a1774', 'a1903', 'a2010', 'a444', 'a2458', 'a48', 'a3264', 'a3383', 'a2095', 'a2210', 'a1346', 'a1752', 'a3576', 'a2830', 'a2822', 'a1846', 'a2890', 'a2414', 'a2037', 'a1727', 'a1465', 'a509', 'a2752', 'a2155', 'a2902', 'a2021', 'a1848', 'a3641', 'a873', 'a3468', 'a532', 'a1966', 'a1336', 'a1317', 'a1220', 'a1293', 'a2200', 'a1944', 'a3222', 'a366', 'a3314', 'a468', 'a1082', 'a2027', 'a1528', 'a448', 'a3218', 'a3502', 'a2453', 'a2621', 'a3187', 'a1949', 'a1564', 'a1852', 'a1856', 'a1208', 'a3495', 'a3300', 'm864', 'a3228', 'a2855', 'a3391', 'a2827', 'm620', 'a2201', 'a2392', 'a2601', 'm1203', 'a1103', 'a3331', 'a1535', 'a1105', 'a301', 'a2459', 'a786', 'a2108', 'a1836', 'a122', 'a3230', 'a2536', 'a1761', 'a1116', 'a2254', 'a2846', 'a1842', 'a1237', 'a3526', 'a1762', 'a2636', 'a2182', 'a3229', 'a3182', 'a3454', 'a2012', 'a105', 'a2423', 'a1924', 'a1127', 'a3268', 'a2274', 'a2674', 'a2853', 'a3307', 'a2747', 'a1724', 'a3574', 'a163', 'a2751', 'a2704', 'a3267', 'a2580', 'a2034', 'a500', 'a494', 'a2036', 'a2263', 'a533', 'a1975', 'a2669', 'a912', 'a2093', 'a113', 'a1390', 'a2699', 'a2727', 'a1481', 'a2028', 'a2151', 'a3410', 'a1231', 'a558', 'a481', 'a2175', 'a1576', 'a2967', 'a902', 'a2296', 'a3206', 'a2294', 'a2325', 'a1953', 'a3360', 'a1853', 'a1166', 'm251', 'a1834', 'a2865', 'a2489', 'a2469', 'a1996', 'a2635', 'a906', 'a2229', 'a1157', 'a3334', 'a1264', 'a1968', 'a2537', 'a2117', 'a1954', 'a3287', 'm499', 'a2310', 'a143', 'a2223', 'a3656', 'a1113', 'a866', 'a2188', 'a1342', 'a3175', 'a2292', 'a3510', 'a2798', 'a3188', 'a403', 'a3297', 'a1978', 'a2679', 'a3453', 'a1749', 'a1573', 'a2158', 'a600', 'a1747', 'a3662', 'a2307', 'a1056', 'a2026', 'm110', 'a3548', 'a2936', 'a471', 'a1098', 'a3535', 'a851', 'a2376', 'a3261', 'a3464', 'a2211', 'a1918', 'a1757', 'a1878', 'a1965', 'a1854', 'a3400', 'a1210', 'a1394', 'a2815', 'a1168', 'a2015', 'a2485', 'a1880', 'a3520', 'a1173', 'a1374', 'a1234', 'a469', 'a2372', 'a2161', 'a1089', 'a1480', 'a3462', 'a810', 'a467', 'a3193', 'a3491', 'a2397', 'a2470', 'a3355', 'a2875', 'a804', 'a2653', 'a3397', 'a3476', 'a1841', 'a3585', 'a2257', 'a3302', 'a1705', 'a26', 'a597', 'a914', 'a853', 'a2384', 'a798', 'a2189', 'a2190', 'a1183', 'a1241', 'a2417', 'a3664', 'a2063', 'a1247', 'a3558', 'a2245', 'a3216', 'a2130', 'a1859', 'a146', 'a151', 'a2492', 'a1261', 'a1653', 'a3621', 'a1969', 'a1974', 'a2411', 'a2235', 'a1161', 'a2129', 'a2496', 'a1778', 'a1549', 'm1137', 'a2371', 'a2144', 'a869', 'a3619', 'a4', 'a1053', 'a2881', 'a1054', 'a3598', 'a1786', 'a3186', 'a1322', 'a2705', 'a1900', 'a1972', 'a2288', 'a2094', 'a436', 'a1605', 'a2226', 'a458', 'a2166', 'a1645', 'a2330', 'a3560', 'a2148', 'a1736', 'a1756', 'a2364', 'a1169', 'a2866', 'a2859', 'a2265', 'a3332', 'a3316', 'a2688', 'm478', 'm838', 'a1916', 'a1986', 'a1531', 'a2145', 'a1961', 'a2077', 'a1771', 'a3311', 'a1529', 'a1555', 'a2260', 'a3629', 'a1753', 'a602', 'a3521', 'a29', 'a2176', 'a2835', 'a1472', 'a1491', 'a1117', 'a1860', 'a2714', 'm617', 'a3317', 'a2935', 'a2163', 'a2126', 'a405', 'a1055', 'a3191', 'a2698', 'a864', 'a2749', 'a3527', 'a2574', 'a1509', 'm232', 'a1488', 'a27', 'a2648', 'a3646', 'a2266', 'a2373', 'a3295', 'a1517', 'a1845', 'a2857', 'a2032', 'a2623', 'a1263', 'a2049', 'a111', 'a622', 'a2031', 'a2242', 'a1447', 'a3615', 'a1441', 'a1470', 'a2230', 'a610', 'a3398', 'a824', 'a826', 'a2227', 'a3276', 'a1013', 'a1719', 'a2160', 'a3466', 'a1861', 'a1603', 'a868', 'a1957', 'a2062', 'a3275', 'a3190', 'a3622', 'a1049', 'a2033', 'a162', 'a2159', 'a2209']\n"
          ]
        }
      ]
    },
    {
      "cell_type": "code",
      "metadata": {
        "colab": {
          "base_uri": "https://localhost:8080/"
        },
        "id": "YQ4-Mbs223Oz",
        "outputId": "d2c901e4-6fcc-4777-d64c-c8e50c34c1f8"
      },
      "source": [
        "print(node_embeddings)"
      ],
      "execution_count": 99,
      "outputs": [
        {
          "output_type": "stream",
          "name": "stdout",
          "text": [
            "[[-0.02169183 -0.67798245  0.2899146  ...  0.5731205   0.57977986\n",
            "   0.46749902]\n",
            " [ 0.5520878   0.06158654 -0.9725307  ...  1.8266393   0.37417302\n",
            "   1.2325723 ]\n",
            " [-0.07724241  0.7037871   1.0842186  ...  0.06976801 -1.5312365\n",
            "  -0.25526813]\n",
            " ...\n",
            " [-0.13665247  0.02191455  0.12799856 ... -0.1705572  -0.02483279\n",
            "  -0.06061648]\n",
            " [-0.06001134  0.00544932  0.03469339 ... -0.02009667  0.02640934\n",
            "   0.05098146]\n",
            " [-0.08023974  0.01295233  0.02445881 ... -0.07162193 -0.0194059\n",
            "  -0.04534758]]\n"
          ]
        }
      ]
    },
    {
      "cell_type": "code",
      "metadata": {
        "colab": {
          "base_uri": "https://localhost:8080/"
        },
        "id": "4b-haD7_2-Yp",
        "outputId": "2bf2452d-3bc8-4f41-f142-21d2e1690261"
      },
      "source": [
        "print(node_targets)"
      ],
      "execution_count": 100,
      "outputs": [
        {
          "output_type": "stream",
          "name": "stdout",
          "text": [
            "['actor', 'actor', 'actor', 'actor', 'actor', 'actor', 'actor', 'actor', 'actor', 'actor', 'movie', 'movie', 'actor', 'actor', 'actor', 'actor', 'actor', 'actor', 'actor', 'movie', 'actor', 'movie', 'actor', 'actor', 'actor', 'actor', 'actor', 'actor', 'actor', 'movie', 'actor', 'actor', 'actor', 'actor', 'movie', 'actor', 'actor', 'actor', 'actor', 'movie', 'actor', 'actor', 'actor', 'actor', 'movie', 'actor', 'actor', 'actor', 'actor', 'actor', 'actor', 'movie', 'movie', 'actor', 'movie', 'movie', 'movie', 'actor', 'movie', 'movie', 'movie', 'actor', 'actor', 'movie', 'movie', 'actor', 'movie', 'movie', 'movie', 'actor', 'actor', 'actor', 'movie', 'movie', 'movie', 'movie', 'movie', 'movie', 'movie', 'movie', 'actor', 'movie', 'movie', 'movie', 'movie', 'movie', 'actor', 'actor', 'actor', 'movie', 'movie', 'actor', 'actor', 'actor', 'movie', 'movie', 'actor', 'movie', 'movie', 'movie', 'movie', 'actor', 'actor', 'movie', 'actor', 'movie', 'movie', 'movie', 'movie', 'actor', 'movie', 'movie', 'movie', 'movie', 'movie', 'movie', 'movie', 'movie', 'movie', 'movie', 'movie', 'movie', 'movie', 'movie', 'actor', 'movie', 'movie', 'movie', 'movie', 'movie', 'movie', 'actor', 'movie', 'actor', 'movie', 'movie', 'movie', 'movie', 'movie', 'movie', 'movie', 'actor', 'movie', 'actor', 'movie', 'actor', 'actor', 'movie', 'movie', 'actor', 'movie', 'movie', 'movie', 'movie', 'movie', 'actor', 'movie', 'movie', 'movie', 'movie', 'movie', 'movie', 'movie', 'movie', 'movie', 'movie', 'movie', 'actor', 'movie', 'movie', 'movie', 'movie', 'actor', 'movie', 'movie', 'actor', 'movie', 'movie', 'actor', 'movie', 'movie', 'movie', 'movie', 'movie', 'movie', 'movie', 'movie', 'movie', 'movie', 'movie', 'movie', 'movie', 'movie', 'movie', 'movie', 'movie', 'movie', 'movie', 'movie', 'movie', 'movie', 'actor', 'movie', 'movie', 'movie', 'movie', 'movie', 'movie', 'movie', 'movie', 'movie', 'movie', 'movie', 'movie', 'movie', 'movie', 'movie', 'movie', 'movie', 'movie', 'movie', 'movie', 'movie', 'movie', 'movie', 'actor', 'movie', 'movie', 'movie', 'movie', 'actor', 'movie', 'movie', 'movie', 'movie', 'movie', 'movie', 'movie', 'movie', 'movie', 'movie', 'movie', 'movie', 'movie', 'actor', 'movie', 'actor', 'movie', 'movie', 'movie', 'movie', 'movie', 'movie', 'actor', 'movie', 'movie', 'movie', 'movie', 'movie', 'movie', 'movie', 'actor', 'movie', 'movie', 'movie', 'movie', 'actor', 'movie', 'actor', 'movie', 'actor', 'actor', 'movie', 'movie', 'movie', 'movie', 'movie', 'actor', 'movie', 'movie', 'movie', 'actor', 'movie', 'movie', 'movie', 'movie', 'movie', 'movie', 'movie', 'movie', 'movie', 'movie', 'movie', 'movie', 'movie', 'movie', 'movie', 'movie', 'movie', 'movie', 'movie', 'movie', 'movie', 'movie', 'movie', 'movie', 'movie', 'movie', 'movie', 'movie', 'movie', 'actor', 'movie', 'movie', 'movie', 'movie', 'movie', 'actor', 'movie', 'movie', 'movie', 'movie', 'movie', 'movie', 'movie', 'actor', 'movie', 'movie', 'movie', 'movie', 'movie', 'movie', 'movie', 'movie', 'movie', 'movie', 'movie', 'movie', 'movie', 'movie', 'movie', 'movie', 'movie', 'movie', 'movie', 'movie', 'movie', 'movie', 'movie', 'movie', 'movie', 'movie', 'movie', 'movie', 'actor', 'movie', 'movie', 'movie', 'movie', 'movie', 'movie', 'movie', 'movie', 'movie', 'movie', 'movie', 'movie', 'movie', 'movie', 'movie', 'movie', 'movie', 'movie', 'movie', 'movie', 'movie', 'movie', 'movie', 'movie', 'movie', 'movie', 'movie', 'movie', 'movie', 'movie', 'movie', 'movie', 'movie', 'movie', 'movie', 'actor', 'movie', 'movie', 'movie', 'movie', 'movie', 'movie', 'movie', 'movie', 'movie', 'movie', 'movie', 'actor', 'movie', 'movie', 'actor', 'movie', 'movie', 'movie', 'actor', 'movie', 'movie', 'movie', 'movie', 'movie', 'movie', 'movie', 'movie', 'movie', 'movie', 'movie', 'actor', 'actor', 'movie', 'movie', 'movie', 'movie', 'movie', 'movie', 'movie', 'movie', 'movie', 'actor', 'actor', 'movie', 'movie', 'movie', 'movie', 'movie', 'movie', 'movie', 'movie', 'movie', 'movie', 'actor', 'movie', 'movie', 'movie', 'movie', 'movie', 'movie', 'movie', 'movie', 'movie', 'movie', 'movie', 'movie', 'movie', 'movie', 'actor', 'movie', 'movie', 'movie', 'movie', 'movie', 'movie', 'movie', 'actor', 'movie', 'movie', 'movie', 'movie', 'movie', 'actor', 'movie', 'movie', 'movie', 'movie', 'movie', 'movie', 'movie', 'movie', 'movie', 'actor', 'movie', 'movie', 'movie', 'movie', 'movie', 'actor', 'movie', 'movie', 'movie', 'actor', 'movie', 'movie', 'movie', 'movie', 'movie', 'movie', 'movie', 'actor', 'movie', 'movie', 'movie', 'movie', 'movie', 'movie', 'movie', 'movie', 'movie', 'actor', 'movie', 'actor', 'movie', 'movie', 'movie', 'actor', 'actor', 'movie', 'movie', 'movie', 'movie', 'movie', 'movie', 'movie', 'movie', 'movie', 'movie', 'actor', 'actor', 'movie', 'actor', 'movie', 'movie', 'movie', 'movie', 'movie', 'movie', 'movie', 'movie', 'movie', 'movie', 'movie', 'movie', 'movie', 'movie', 'movie', 'movie', 'movie', 'movie', 'movie', 'movie', 'movie', 'actor', 'movie', 'movie', 'actor', 'movie', 'movie', 'movie', 'movie', 'actor', 'movie', 'movie', 'movie', 'movie', 'movie', 'actor', 'movie', 'movie', 'movie', 'movie', 'movie', 'movie', 'movie', 'movie', 'movie', 'actor', 'movie', 'movie', 'movie', 'movie', 'movie', 'movie', 'movie', 'movie', 'movie', 'movie', 'movie', 'movie', 'movie', 'movie', 'movie', 'movie', 'actor', 'movie', 'movie', 'movie', 'movie', 'movie', 'actor', 'movie', 'actor', 'movie', 'movie', 'movie', 'movie', 'actor', 'movie', 'movie', 'movie', 'movie', 'movie', 'movie', 'movie', 'movie', 'movie', 'movie', 'movie', 'movie', 'movie', 'movie', 'movie', 'movie', 'actor', 'movie', 'movie', 'movie', 'movie', 'movie', 'movie', 'movie', 'movie', 'movie', 'movie', 'movie', 'movie', 'movie', 'movie', 'movie', 'movie', 'actor', 'movie', 'movie', 'actor', 'movie', 'movie', 'movie', 'movie', 'movie', 'movie', 'movie', 'movie', 'movie', 'actor', 'movie', 'movie', 'movie', 'movie', 'movie', 'actor', 'movie', 'actor', 'movie', 'movie', 'movie', 'movie', 'movie', 'movie', 'movie', 'movie', 'movie', 'movie', 'movie', 'movie', 'actor', 'movie', 'movie', 'movie', 'movie', 'movie', 'movie', 'movie', 'movie', 'movie', 'movie', 'movie', 'movie', 'movie', 'movie', 'actor', 'movie', 'movie', 'movie', 'movie', 'movie', 'movie', 'movie', 'movie', 'actor', 'movie', 'actor', 'actor', 'movie', 'movie', 'movie', 'movie', 'movie', 'movie', 'movie', 'movie', 'movie', 'actor', 'movie', 'actor', 'movie', 'movie', 'movie', 'movie', 'movie', 'movie', 'movie', 'actor', 'movie', 'movie', 'movie', 'movie', 'movie', 'movie', 'movie', 'movie', 'movie', 'movie', 'movie', 'movie', 'movie', 'movie', 'actor', 'movie', 'actor', 'movie', 'movie', 'movie', 'movie', 'movie', 'actor', 'actor', 'movie', 'movie', 'movie', 'movie', 'movie', 'movie', 'actor', 'movie', 'actor', 'movie', 'movie', 'actor', 'movie', 'movie', 'movie', 'movie', 'movie', 'actor', 'movie', 'movie', 'movie', 'movie', 'movie', 'movie', 'movie', 'movie', 'movie', 'movie', 'actor', 'movie', 'actor', 'actor', 'movie', 'actor', 'actor', 'movie', 'movie', 'movie', 'movie', 'actor', 'actor', 'actor', 'movie', 'movie', 'movie', 'movie', 'actor', 'actor', 'movie', 'movie', 'movie', 'movie', 'movie', 'movie', 'movie', 'actor', 'movie', 'movie', 'movie', 'actor', 'movie', 'movie', 'movie', 'actor', 'movie', 'movie', 'movie', 'movie', 'movie', 'actor', 'actor', 'movie', 'movie', 'movie', 'movie', 'movie', 'movie', 'movie', 'actor', 'movie', 'movie', 'movie', 'movie', 'movie', 'movie', 'movie', 'actor', 'movie', 'movie', 'movie', 'movie', 'actor', 'movie', 'movie', 'movie', 'actor', 'movie', 'movie', 'movie', 'movie', 'actor', 'movie', 'movie', 'movie', 'movie', 'actor', 'movie', 'movie', 'actor', 'movie', 'movie', 'movie', 'movie', 'movie', 'movie', 'movie', 'actor', 'movie', 'movie', 'actor', 'movie', 'movie', 'movie', 'movie', 'movie', 'movie', 'actor', 'movie', 'movie', 'movie', 'actor', 'movie', 'actor', 'movie', 'actor', 'actor', 'movie', 'movie', 'movie', 'actor', 'movie', 'movie', 'movie', 'actor', 'actor', 'actor', 'movie', 'movie', 'movie', 'movie', 'movie', 'actor', 'movie', 'movie', 'movie', 'actor', 'movie', 'actor', 'movie', 'movie', 'actor', 'movie', 'movie', 'movie', 'movie', 'movie', 'movie', 'actor', 'movie', 'actor', 'actor', 'movie', 'movie', 'movie', 'movie', 'movie', 'movie', 'movie', 'movie', 'movie', 'movie', 'movie', 'actor', 'actor', 'movie', 'movie', 'movie', 'movie', 'actor', 'movie', 'movie', 'actor', 'movie', 'movie', 'movie', 'movie', 'movie', 'movie', 'movie', 'movie', 'movie', 'movie', 'actor', 'movie', 'movie', 'movie', 'movie', 'movie', 'movie', 'movie', 'movie', 'actor', 'actor', 'movie', 'movie', 'actor', 'movie', 'movie', 'movie', 'movie', 'movie', 'actor', 'movie', 'movie', 'movie', 'movie', 'movie', 'movie', 'movie', 'movie', 'movie', 'actor', 'actor', 'movie', 'movie', 'actor', 'actor', 'movie', 'movie', 'actor', 'movie', 'movie', 'actor', 'movie', 'movie', 'movie', 'movie', 'movie', 'movie', 'movie', 'movie', 'movie', 'movie', 'actor', 'movie', 'movie', 'actor', 'movie', 'movie', 'movie', 'actor', 'movie', 'actor', 'movie', 'movie', 'actor', 'movie', 'actor', 'movie', 'actor', 'movie', 'movie', 'movie', 'movie', 'movie', 'movie', 'movie', 'actor', 'actor', 'actor', 'actor', 'actor', 'movie', 'movie', 'actor', 'actor', 'movie', 'actor', 'actor', 'actor', 'movie', 'movie', 'actor', 'movie', 'movie', 'movie', 'movie', 'actor', 'actor', 'movie', 'movie', 'actor', 'movie', 'actor', 'actor', 'movie', 'actor', 'movie', 'movie', 'movie', 'movie', 'actor', 'actor', 'movie', 'movie', 'movie', 'movie', 'movie', 'actor', 'actor', 'actor', 'movie', 'movie', 'actor', 'movie', 'actor', 'actor', 'movie', 'actor', 'movie', 'actor', 'movie', 'actor', 'actor', 'movie', 'actor', 'actor', 'movie', 'actor', 'movie', 'movie', 'actor', 'actor', 'movie', 'actor', 'actor', 'actor', 'movie', 'actor', 'movie', 'movie', 'movie', 'movie', 'movie', 'actor', 'actor', 'movie', 'movie', 'actor', 'movie', 'movie', 'movie', 'actor', 'movie', 'actor', 'actor', 'actor', 'movie', 'movie', 'actor', 'movie', 'actor', 'actor', 'actor', 'actor', 'actor', 'movie', 'movie', 'movie', 'movie', 'movie', 'movie', 'movie', 'movie', 'movie', 'actor', 'movie', 'movie', 'actor', 'actor', 'actor', 'movie', 'movie', 'movie', 'movie', 'movie', 'actor', 'actor', 'movie', 'actor', 'movie', 'movie', 'movie', 'actor', 'movie', 'movie', 'movie', 'actor', 'actor', 'movie', 'movie', 'movie', 'movie', 'actor', 'actor', 'movie', 'movie', 'movie', 'actor', 'actor', 'movie', 'actor', 'actor', 'actor', 'movie', 'movie', 'movie', 'actor', 'actor', 'movie', 'movie', 'movie', 'actor', 'actor', 'actor', 'actor', 'movie', 'movie', 'movie', 'actor', 'actor', 'movie', 'actor', 'movie', 'movie', 'movie', 'movie', 'movie', 'movie', 'movie', 'actor', 'actor', 'movie', 'actor', 'actor', 'movie', 'actor', 'movie', 'movie', 'movie', 'movie', 'actor', 'movie', 'movie', 'actor', 'actor', 'movie', 'movie', 'movie', 'movie', 'actor', 'movie', 'actor', 'movie', 'movie', 'actor', 'movie', 'movie', 'movie', 'actor', 'movie', 'actor', 'actor', 'movie', 'movie', 'movie', 'movie', 'actor', 'actor', 'movie', 'movie', 'movie', 'actor', 'movie', 'movie', 'movie', 'movie', 'movie', 'movie', 'movie', 'movie', 'movie', 'movie', 'movie', 'actor', 'actor', 'movie', 'actor', 'actor', 'actor', 'actor', 'actor', 'movie', 'actor', 'actor', 'actor', 'movie', 'actor', 'movie', 'actor', 'movie', 'actor', 'movie', 'actor', 'movie', 'movie', 'actor', 'actor', 'actor', 'actor', 'actor', 'actor', 'actor', 'movie', 'movie', 'movie', 'movie', 'movie', 'actor', 'movie', 'movie', 'actor', 'actor', 'actor', 'movie', 'movie', 'movie', 'actor', 'actor', 'actor', 'actor', 'actor', 'movie', 'movie', 'actor', 'movie', 'movie', 'movie', 'actor', 'actor', 'actor', 'movie', 'actor', 'movie', 'movie', 'actor', 'movie', 'actor', 'actor', 'movie', 'movie', 'actor', 'movie', 'movie', 'actor', 'actor', 'movie', 'actor', 'actor', 'movie', 'movie', 'actor', 'actor', 'movie', 'actor', 'movie', 'actor', 'movie', 'actor', 'actor', 'movie', 'movie', 'actor', 'actor', 'actor', 'actor', 'actor', 'movie', 'actor', 'actor', 'movie', 'movie', 'actor', 'actor', 'actor', 'actor', 'movie', 'actor', 'actor', 'actor', 'actor', 'actor', 'movie', 'movie', 'movie', 'actor', 'actor', 'actor', 'actor', 'actor', 'movie', 'actor', 'actor', 'movie', 'movie', 'actor', 'actor', 'actor', 'actor', 'actor', 'actor', 'actor', 'actor', 'movie', 'movie', 'actor', 'actor', 'actor', 'actor', 'actor', 'actor', 'actor', 'movie', 'movie', 'movie', 'actor', 'actor', 'movie', 'movie', 'actor', 'movie', 'movie', 'actor', 'actor', 'actor', 'movie', 'movie', 'movie', 'actor', 'actor', 'actor', 'actor', 'actor', 'movie', 'actor', 'movie', 'movie', 'movie', 'movie', 'actor', 'movie', 'actor', 'movie', 'movie', 'movie', 'actor', 'actor', 'movie', 'actor', 'actor', 'movie', 'actor', 'actor', 'actor', 'actor', 'actor', 'movie', 'actor', 'actor', 'actor', 'actor', 'actor', 'actor', 'actor', 'actor', 'actor', 'movie', 'movie', 'actor', 'actor', 'movie', 'movie', 'actor', 'actor', 'actor', 'actor', 'actor', 'movie', 'actor', 'movie', 'actor', 'actor', 'actor', 'movie', 'actor', 'movie', 'movie', 'actor', 'actor', 'movie', 'actor', 'movie', 'actor', 'movie', 'actor', 'actor', 'movie', 'actor', 'actor', 'movie', 'movie', 'movie', 'movie', 'actor', 'actor', 'actor', 'actor', 'movie', 'actor', 'actor', 'actor', 'movie', 'movie', 'actor', 'actor', 'actor', 'actor', 'movie', 'movie', 'movie', 'actor', 'actor', 'actor', 'actor', 'actor', 'actor', 'actor', 'actor', 'movie', 'actor', 'actor', 'movie', 'actor', 'movie', 'actor', 'actor', 'actor', 'movie', 'actor', 'actor', 'movie', 'movie', 'actor', 'movie', 'movie', 'actor', 'actor', 'actor', 'actor', 'actor', 'movie', 'actor', 'actor', 'actor', 'actor', 'actor', 'movie', 'movie', 'actor', 'actor', 'movie', 'actor', 'actor', 'movie', 'actor', 'actor', 'movie', 'actor', 'actor', 'movie', 'movie', 'movie', 'movie', 'actor', 'actor', 'movie', 'actor', 'movie', 'actor', 'movie', 'actor', 'actor', 'actor', 'movie', 'actor', 'actor', 'actor', 'movie', 'movie', 'actor', 'actor', 'actor', 'movie', 'actor', 'movie', 'actor', 'actor', 'movie', 'movie', 'actor', 'movie', 'actor', 'movie', 'actor', 'actor', 'actor', 'actor', 'actor', 'actor', 'actor', 'actor', 'actor', 'actor', 'movie', 'actor', 'actor', 'movie', 'actor', 'actor', 'actor', 'movie', 'actor', 'actor', 'actor', 'actor', 'actor', 'movie', 'actor', 'movie', 'actor', 'actor', 'actor', 'actor', 'actor', 'movie', 'actor', 'movie', 'actor', 'actor', 'actor', 'actor', 'movie', 'actor', 'actor', 'actor', 'movie', 'actor', 'movie', 'actor', 'actor', 'actor', 'movie', 'actor', 'actor', 'actor', 'actor', 'actor', 'actor', 'actor', 'actor', 'actor', 'actor', 'movie', 'actor', 'movie', 'actor', 'actor', 'actor', 'actor', 'actor', 'movie', 'movie', 'movie', 'actor', 'actor', 'actor', 'actor', 'actor', 'actor', 'movie', 'actor', 'actor', 'movie', 'actor', 'actor', 'movie', 'actor', 'actor', 'actor', 'actor', 'actor', 'movie', 'actor', 'actor', 'actor', 'actor', 'movie', 'actor', 'actor', 'actor', 'actor', 'actor', 'actor', 'actor', 'movie', 'actor', 'movie', 'actor', 'movie', 'actor', 'actor', 'actor', 'actor', 'movie', 'actor', 'movie', 'actor', 'movie', 'actor', 'actor', 'actor', 'actor', 'actor', 'actor', 'actor', 'actor', 'actor', 'actor', 'actor', 'actor', 'movie', 'actor', 'movie', 'actor', 'movie', 'movie', 'actor', 'movie', 'actor', 'movie', 'actor', 'actor', 'actor', 'movie', 'actor', 'actor', 'actor', 'actor', 'movie', 'actor', 'actor', 'movie', 'actor', 'movie', 'actor', 'actor', 'movie', 'movie', 'movie', 'actor', 'movie', 'actor', 'actor', 'movie', 'actor', 'actor', 'actor', 'movie', 'actor', 'movie', 'actor', 'actor', 'movie', 'movie', 'movie', 'actor', 'actor', 'actor', 'actor', 'actor', 'actor', 'actor', 'movie', 'movie', 'actor', 'actor', 'actor', 'actor', 'actor', 'actor', 'movie', 'actor', 'actor', 'actor', 'movie', 'actor', 'actor', 'actor', 'movie', 'actor', 'actor', 'actor', 'actor', 'actor', 'actor', 'actor', 'movie', 'actor', 'movie', 'movie', 'actor', 'actor', 'movie', 'movie', 'movie', 'movie', 'actor', 'actor', 'actor', 'actor', 'actor', 'movie', 'actor', 'actor', 'actor', 'actor', 'actor', 'actor', 'movie', 'actor', 'movie', 'actor', 'actor', 'actor', 'actor', 'movie', 'actor', 'actor', 'actor', 'actor', 'actor', 'actor', 'actor', 'actor', 'actor', 'actor', 'actor', 'actor', 'actor', 'actor', 'actor', 'movie', 'actor', 'actor', 'actor', 'actor', 'actor', 'actor', 'actor', 'actor', 'movie', 'actor', 'actor', 'actor', 'actor', 'actor', 'actor', 'actor', 'actor', 'actor', 'actor', 'actor', 'actor', 'movie', 'actor', 'movie', 'actor', 'actor', 'actor', 'actor', 'actor', 'actor', 'actor', 'actor', 'actor', 'actor', 'actor', 'actor', 'actor', 'actor', 'movie', 'actor', 'actor', 'actor', 'actor', 'actor', 'actor', 'actor', 'actor', 'movie', 'actor', 'actor', 'actor', 'actor', 'actor', 'actor', 'actor', 'actor', 'movie', 'actor', 'actor', 'movie', 'movie', 'actor', 'actor', 'actor', 'actor', 'actor', 'actor', 'actor', 'actor', 'actor', 'actor', 'actor', 'actor', 'actor', 'actor', 'actor', 'movie', 'actor', 'actor', 'actor', 'actor', 'actor', 'actor', 'actor', 'actor', 'actor', 'movie', 'actor', 'actor', 'movie', 'movie', 'actor', 'actor', 'actor', 'actor', 'actor', 'actor', 'actor', 'actor', 'movie', 'actor', 'actor', 'actor', 'actor', 'actor', 'movie', 'actor', 'actor', 'actor', 'actor', 'actor', 'actor', 'actor', 'actor', 'actor', 'movie', 'actor', 'actor', 'movie', 'actor', 'actor', 'actor', 'actor', 'actor', 'actor', 'actor', 'movie', 'movie', 'actor', 'actor', 'actor', 'actor', 'movie', 'actor', 'actor', 'actor', 'actor', 'actor', 'actor', 'actor', 'actor', 'actor', 'actor', 'actor', 'actor', 'actor', 'actor', 'movie', 'actor', 'actor', 'actor', 'actor', 'actor', 'actor', 'actor', 'actor', 'actor', 'actor', 'actor', 'actor', 'actor', 'movie', 'actor', 'actor', 'actor', 'actor', 'actor', 'actor', 'actor', 'actor', 'actor', 'movie', 'actor', 'movie', 'actor', 'movie', 'actor', 'movie', 'movie', 'actor', 'actor', 'movie', 'movie', 'actor', 'actor', 'actor', 'actor', 'actor', 'actor', 'actor', 'actor', 'actor', 'actor', 'actor', 'actor', 'actor', 'actor', 'actor', 'movie', 'movie', 'actor', 'actor', 'movie', 'actor', 'actor', 'movie', 'actor', 'actor', 'actor', 'actor', 'actor', 'actor', 'actor', 'movie', 'actor', 'movie', 'actor', 'actor', 'actor', 'actor', 'actor', 'actor', 'actor', 'actor', 'movie', 'actor', 'actor', 'actor', 'actor', 'actor', 'actor', 'actor', 'actor', 'actor', 'movie', 'actor', 'actor', 'actor', 'actor', 'movie', 'actor', 'actor', 'actor', 'movie', 'actor', 'actor', 'actor', 'movie', 'actor', 'actor', 'movie', 'actor', 'actor', 'actor', 'actor', 'actor', 'actor', 'actor', 'actor', 'actor', 'movie', 'movie', 'actor', 'actor', 'actor', 'actor', 'actor', 'actor', 'actor', 'actor', 'actor', 'actor', 'actor', 'actor', 'movie', 'movie', 'actor', 'actor', 'movie', 'movie', 'actor', 'actor', 'actor', 'actor', 'actor', 'actor', 'actor', 'actor', 'actor', 'actor', 'actor', 'actor', 'actor', 'actor', 'actor', 'movie', 'actor', 'actor', 'actor', 'actor', 'actor', 'actor', 'actor', 'actor', 'actor', 'actor', 'actor', 'actor', 'actor', 'actor', 'movie', 'actor', 'actor', 'movie', 'actor', 'actor', 'actor', 'actor', 'actor', 'actor', 'actor', 'actor', 'actor', 'actor', 'actor', 'actor', 'actor', 'actor', 'actor', 'actor', 'actor', 'actor', 'actor', 'actor', 'movie', 'actor', 'actor', 'actor', 'actor', 'actor', 'actor', 'actor', 'actor', 'actor', 'actor', 'actor', 'actor', 'actor', 'actor', 'actor', 'actor', 'actor', 'actor', 'actor', 'actor', 'actor', 'actor', 'actor', 'actor', 'actor', 'actor', 'actor', 'actor', 'actor', 'actor', 'actor', 'actor', 'actor', 'actor', 'actor', 'actor', 'actor', 'actor', 'actor', 'actor', 'actor', 'movie', 'actor', 'actor', 'actor', 'actor', 'actor', 'actor', 'actor', 'actor', 'actor', 'actor', 'actor', 'actor', 'actor', 'actor', 'actor', 'actor', 'actor', 'actor', 'actor', 'actor', 'actor', 'actor', 'actor', 'actor', 'actor', 'actor', 'actor', 'actor', 'actor', 'actor', 'actor', 'actor', 'actor', 'movie', 'actor', 'movie', 'actor', 'actor', 'movie', 'actor', 'actor', 'actor', 'actor', 'actor', 'actor', 'actor', 'actor', 'actor', 'actor', 'movie', 'actor', 'actor', 'actor', 'actor', 'actor', 'actor', 'actor', 'actor', 'actor', 'actor', 'actor', 'actor', 'actor', 'actor', 'actor', 'actor', 'actor', 'actor', 'actor', 'actor', 'actor', 'movie', 'actor', 'movie', 'actor', 'actor', 'actor', 'actor', 'actor', 'actor', 'actor', 'actor', 'actor', 'actor', 'actor', 'actor', 'actor', 'actor', 'actor', 'actor', 'actor', 'actor', 'actor', 'actor', 'actor', 'actor', 'actor', 'actor', 'actor', 'actor', 'actor', 'actor', 'actor', 'actor', 'actor', 'actor', 'movie', 'actor', 'actor', 'actor', 'actor', 'movie', 'actor', 'actor', 'actor', 'actor', 'actor', 'actor', 'actor', 'actor', 'actor', 'actor', 'actor', 'actor', 'actor', 'movie', 'actor', 'actor', 'actor', 'actor', 'actor', 'actor', 'actor', 'actor', 'actor', 'actor', 'actor', 'actor', 'actor', 'actor', 'actor', 'movie', 'actor', 'actor', 'actor', 'actor', 'actor', 'movie', 'actor', 'movie', 'actor', 'actor', 'actor', 'actor', 'actor', 'actor', 'actor', 'actor', 'actor', 'actor', 'actor', 'actor', 'actor', 'actor', 'movie', 'actor', 'actor', 'actor', 'actor', 'actor', 'actor', 'actor', 'actor', 'actor', 'actor', 'actor', 'actor', 'movie', 'actor', 'actor', 'actor', 'actor', 'actor', 'actor', 'actor', 'actor', 'actor', 'actor', 'actor', 'movie', 'movie', 'actor', 'actor', 'actor', 'actor', 'actor', 'movie', 'actor', 'actor', 'actor', 'actor', 'movie', 'actor', 'actor', 'actor', 'actor', 'actor', 'actor', 'actor', 'actor', 'movie', 'actor', 'actor', 'actor', 'actor', 'actor', 'actor', 'actor', 'movie', 'actor', 'actor', 'actor', 'actor', 'actor', 'actor', 'movie', 'actor', 'actor', 'actor', 'actor', 'actor', 'actor', 'actor', 'actor', 'actor', 'actor', 'actor', 'actor', 'actor', 'actor', 'actor', 'actor', 'actor', 'actor', 'actor', 'actor', 'actor', 'actor', 'actor', 'actor', 'actor', 'actor', 'actor', 'actor', 'actor', 'actor', 'actor', 'actor', 'actor', 'movie', 'actor', 'actor', 'actor', 'actor', 'actor', 'actor', 'actor', 'movie', 'actor', 'actor', 'actor', 'actor', 'actor', 'actor', 'actor', 'actor', 'actor', 'actor', 'movie', 'actor', 'actor', 'actor', 'actor', 'actor', 'actor', 'actor', 'actor', 'actor', 'actor', 'actor', 'actor', 'actor', 'actor', 'actor', 'movie', 'actor', 'actor', 'movie', 'actor', 'actor', 'actor', 'actor', 'actor', 'movie', 'actor', 'actor', 'actor', 'actor', 'actor', 'actor', 'actor', 'actor', 'actor', 'actor', 'actor', 'actor', 'actor', 'actor', 'actor', 'movie', 'actor', 'actor', 'actor', 'actor', 'actor', 'actor', 'movie', 'movie', 'actor', 'actor', 'movie', 'actor', 'actor', 'actor', 'movie', 'actor', 'actor', 'actor', 'actor', 'actor', 'actor', 'actor', 'actor', 'actor', 'actor', 'actor', 'actor', 'actor', 'actor', 'actor', 'actor', 'actor', 'actor', 'actor', 'actor', 'actor', 'actor', 'actor', 'actor', 'actor', 'actor', 'actor', 'actor', 'actor', 'actor', 'actor', 'actor', 'actor', 'actor', 'actor', 'actor', 'actor', 'actor', 'actor', 'actor', 'actor', 'actor', 'actor', 'actor', 'actor', 'movie', 'actor', 'actor', 'actor', 'actor', 'actor', 'actor', 'actor', 'movie', 'actor', 'actor', 'movie', 'actor', 'actor', 'actor', 'movie', 'actor', 'actor', 'actor', 'actor', 'actor', 'actor', 'actor', 'actor', 'actor', 'actor', 'actor', 'actor', 'actor', 'actor', 'actor', 'actor', 'actor', 'actor', 'actor', 'actor', 'movie', 'actor', 'actor', 'actor', 'actor', 'actor', 'actor', 'actor', 'actor', 'actor', 'actor', 'actor', 'actor', 'actor', 'actor', 'actor', 'actor', 'actor', 'actor', 'actor', 'actor', 'actor', 'actor', 'actor', 'actor', 'actor', 'actor', 'actor', 'actor', 'actor', 'actor', 'actor', 'actor', 'actor', 'actor', 'movie', 'actor', 'actor', 'actor', 'actor', 'movie', 'actor', 'actor', 'actor', 'actor', 'actor', 'actor', 'actor', 'actor', 'actor', 'actor', 'actor', 'actor', 'actor', 'actor', 'actor', 'actor', 'actor', 'movie', 'actor', 'actor', 'actor', 'actor', 'actor', 'actor', 'actor', 'actor', 'actor', 'actor', 'actor', 'actor', 'actor', 'actor', 'actor', 'actor', 'actor', 'actor', 'actor', 'actor', 'actor', 'actor', 'actor', 'actor', 'movie', 'actor', 'actor', 'actor', 'actor', 'actor', 'actor', 'actor', 'actor', 'actor', 'actor', 'actor', 'actor', 'actor', 'actor', 'actor', 'actor', 'actor', 'actor', 'actor', 'actor', 'actor', 'actor', 'actor', 'actor', 'actor', 'actor', 'actor', 'actor', 'actor', 'actor', 'actor', 'actor', 'actor', 'actor', 'actor', 'actor', 'actor', 'actor', 'actor', 'actor', 'actor', 'actor', 'movie', 'actor', 'actor', 'actor', 'actor', 'actor', 'actor', 'actor', 'actor', 'actor', 'actor', 'actor', 'actor', 'actor', 'actor', 'actor', 'actor', 'actor', 'actor', 'actor', 'actor', 'actor', 'actor', 'actor', 'actor', 'actor', 'actor', 'actor', 'actor', 'actor', 'actor', 'movie', 'actor', 'actor', 'actor', 'actor', 'actor', 'actor', 'movie', 'actor', 'actor', 'actor', 'actor', 'actor', 'movie', 'actor', 'actor', 'actor', 'actor', 'actor', 'actor', 'actor', 'movie', 'actor', 'actor', 'actor', 'actor', 'actor', 'actor', 'actor', 'actor', 'actor', 'actor', 'actor', 'actor', 'movie', 'actor', 'actor', 'actor', 'actor', 'actor', 'actor', 'actor', 'actor', 'actor', 'actor', 'actor', 'actor', 'actor', 'actor', 'actor', 'actor', 'actor', 'actor', 'actor', 'actor', 'actor', 'actor', 'actor', 'actor', 'actor', 'actor', 'actor', 'actor', 'actor', 'actor', 'actor', 'actor', 'actor', 'actor', 'actor', 'actor', 'actor', 'actor', 'actor', 'actor', 'actor', 'actor', 'actor', 'actor', 'actor', 'actor', 'actor', 'actor', 'actor', 'actor', 'actor', 'actor', 'actor', 'actor', 'actor', 'actor', 'actor', 'actor', 'actor', 'actor', 'actor', 'actor', 'actor', 'actor', 'actor', 'actor', 'actor', 'actor', 'actor', 'actor', 'actor', 'movie', 'actor', 'actor', 'actor', 'actor', 'actor', 'actor', 'actor', 'actor', 'actor', 'actor', 'actor', 'actor', 'actor', 'actor', 'actor', 'actor', 'actor', 'actor', 'actor', 'actor', 'actor', 'actor', 'actor', 'actor', 'actor', 'actor', 'actor', 'actor', 'actor', 'actor', 'actor', 'actor', 'actor', 'actor', 'actor', 'actor', 'actor', 'actor', 'actor', 'actor', 'actor', 'actor', 'actor', 'actor', 'actor', 'actor', 'actor', 'actor', 'actor', 'actor', 'actor', 'actor', 'movie', 'actor', 'actor', 'movie', 'actor', 'actor', 'actor', 'actor', 'actor', 'actor', 'actor', 'actor', 'actor', 'actor', 'actor', 'actor', 'actor', 'actor', 'actor', 'actor', 'actor', 'actor', 'actor', 'actor', 'actor', 'actor', 'actor', 'actor', 'actor', 'actor', 'actor', 'actor', 'actor', 'actor', 'actor', 'actor', 'actor', 'actor', 'actor', 'actor', 'actor', 'actor', 'actor', 'actor', 'actor', 'actor', 'actor', 'actor', 'actor', 'actor', 'actor', 'actor', 'actor', 'movie', 'actor', 'movie', 'actor', 'actor', 'actor', 'actor', 'actor', 'actor', 'actor', 'actor', 'movie', 'actor', 'actor', 'actor', 'actor', 'actor', 'actor', 'actor', 'actor', 'actor', 'actor', 'actor', 'actor', 'actor', 'actor', 'actor', 'actor', 'actor', 'actor', 'actor', 'actor', 'movie', 'actor', 'actor', 'movie', 'actor', 'actor', 'actor', 'actor', 'actor', 'actor', 'actor', 'actor', 'actor', 'actor', 'actor', 'actor', 'actor', 'actor', 'actor', 'actor', 'actor', 'actor', 'actor', 'actor', 'actor', 'actor', 'actor', 'actor', 'actor', 'actor', 'actor', 'actor', 'actor', 'actor', 'actor', 'actor', 'actor', 'actor', 'actor', 'actor', 'actor', 'actor', 'actor', 'actor', 'actor', 'actor', 'actor', 'actor', 'actor', 'actor', 'actor', 'movie', 'actor', 'actor', 'actor', 'actor', 'actor', 'actor', 'actor', 'actor', 'actor', 'actor', 'actor', 'actor', 'actor', 'actor', 'actor', 'actor', 'actor', 'actor', 'actor', 'actor', 'actor', 'actor', 'actor', 'actor', 'actor', 'actor', 'actor', 'actor', 'actor', 'movie', 'actor', 'actor', 'actor', 'actor', 'actor', 'actor', 'actor', 'actor', 'actor', 'actor', 'actor', 'actor', 'actor', 'actor', 'actor', 'actor', 'actor', 'actor', 'actor', 'actor', 'actor', 'actor', 'actor', 'actor', 'actor', 'actor', 'actor', 'actor', 'actor', 'actor', 'actor', 'actor', 'actor', 'actor', 'actor', 'actor', 'actor', 'actor', 'actor', 'actor', 'actor', 'actor', 'actor', 'actor', 'actor', 'actor', 'actor', 'actor', 'actor', 'actor', 'actor', 'movie', 'actor', 'actor', 'actor', 'actor', 'actor', 'actor', 'actor', 'actor', 'actor', 'actor', 'actor', 'actor', 'actor', 'actor', 'actor', 'actor', 'actor', 'actor', 'actor', 'actor', 'actor', 'actor', 'actor', 'actor', 'actor', 'actor', 'actor', 'actor', 'actor', 'actor', 'actor', 'actor', 'actor', 'actor', 'actor', 'actor', 'actor', 'actor', 'actor', 'actor', 'actor', 'actor', 'actor', 'actor', 'actor', 'actor', 'actor', 'actor', 'actor', 'actor', 'actor', 'actor', 'actor', 'actor', 'movie', 'movie', 'actor', 'actor', 'actor', 'actor', 'actor', 'actor', 'actor', 'actor', 'actor', 'actor', 'actor', 'actor', 'actor', 'actor', 'movie', 'actor', 'actor', 'actor', 'actor', 'actor', 'actor', 'actor', 'actor', 'actor', 'actor', 'actor', 'actor', 'actor', 'actor', 'actor', 'actor', 'actor', 'actor', 'actor', 'actor', 'actor', 'actor', 'actor', 'actor', 'actor', 'actor', 'actor', 'actor', 'actor', 'actor', 'actor', 'actor', 'actor', 'actor', 'actor', 'actor', 'actor', 'actor', 'actor', 'actor', 'actor', 'actor', 'actor', 'actor', 'actor', 'actor', 'actor', 'actor', 'actor', 'actor', 'actor', 'actor', 'actor', 'actor', 'actor', 'actor', 'actor', 'actor', 'actor', 'actor', 'actor', 'actor', 'actor', 'actor', 'actor', 'actor', 'actor', 'actor', 'actor', 'movie', 'actor', 'actor', 'actor', 'actor', 'actor', 'actor', 'actor', 'actor', 'actor', 'actor', 'actor', 'actor', 'actor', 'actor', 'actor', 'actor', 'actor', 'actor', 'actor', 'actor', 'actor', 'actor', 'actor', 'actor', 'actor', 'actor', 'actor', 'actor', 'actor', 'actor', 'actor', 'actor', 'actor', 'actor', 'actor', 'actor', 'actor', 'actor', 'actor', 'actor', 'actor', 'actor', 'actor', 'actor', 'movie', 'actor', 'actor', 'actor', 'actor', 'actor', 'actor', 'actor', 'actor', 'actor', 'actor', 'actor', 'actor', 'actor', 'actor', 'actor', 'actor', 'actor', 'actor', 'actor', 'actor', 'actor', 'actor', 'actor', 'actor', 'actor', 'actor', 'actor', 'actor', 'actor', 'actor', 'actor', 'actor', 'actor', 'actor', 'actor', 'actor', 'actor', 'actor', 'actor', 'actor', 'actor', 'actor', 'actor', 'actor', 'actor', 'actor', 'actor', 'actor', 'actor', 'actor', 'actor', 'actor', 'actor', 'actor', 'actor', 'actor', 'actor', 'actor', 'movie', 'actor', 'actor', 'actor', 'actor', 'actor', 'actor', 'actor', 'actor', 'actor', 'actor', 'actor', 'actor', 'actor', 'actor', 'actor', 'actor', 'actor', 'actor', 'actor', 'actor', 'actor', 'actor', 'actor', 'actor', 'actor', 'actor', 'actor', 'actor', 'actor', 'actor', 'actor', 'actor', 'actor', 'actor', 'actor', 'actor', 'actor', 'actor', 'actor', 'actor', 'actor', 'actor', 'actor', 'actor', 'actor', 'actor', 'movie', 'actor', 'actor', 'actor', 'actor', 'actor', 'actor', 'actor', 'actor', 'actor', 'actor', 'actor', 'actor', 'actor', 'actor', 'actor', 'actor', 'actor', 'actor', 'actor', 'actor', 'actor', 'actor', 'actor', 'actor', 'actor', 'actor', 'actor', 'actor', 'actor', 'actor', 'actor', 'actor', 'actor', 'actor', 'actor', 'actor', 'actor', 'actor', 'actor', 'actor', 'actor', 'actor', 'actor', 'actor', 'actor', 'actor', 'actor', 'actor', 'actor', 'actor', 'actor', 'actor', 'actor', 'actor', 'actor', 'actor', 'actor', 'actor', 'actor', 'actor', 'actor', 'actor', 'actor', 'actor', 'actor', 'actor', 'actor', 'actor', 'actor', 'actor', 'actor', 'actor', 'actor', 'actor', 'actor', 'actor', 'actor', 'actor', 'actor', 'actor', 'actor', 'actor', 'actor', 'actor', 'actor', 'actor', 'actor', 'actor', 'actor', 'actor', 'actor', 'actor', 'actor', 'actor', 'actor', 'actor', 'actor', 'actor', 'actor', 'actor', 'actor', 'actor', 'actor', 'actor', 'actor', 'actor', 'actor', 'actor', 'actor', 'actor', 'actor', 'actor', 'actor', 'actor', 'actor', 'actor', 'actor', 'actor', 'actor', 'actor', 'actor', 'actor', 'actor', 'actor', 'actor', 'actor', 'actor', 'actor', 'actor', 'actor', 'actor', 'actor', 'actor', 'actor', 'movie', 'actor', 'actor', 'actor', 'actor', 'actor', 'actor', 'actor', 'actor', 'actor', 'actor', 'actor', 'actor', 'actor', 'actor', 'actor', 'actor', 'actor', 'actor', 'actor', 'actor', 'actor', 'actor', 'actor', 'actor', 'actor', 'actor', 'actor', 'actor', 'actor', 'actor', 'actor', 'actor', 'actor', 'actor', 'actor', 'actor', 'actor', 'actor', 'actor', 'actor', 'actor', 'actor', 'actor', 'actor', 'actor', 'actor', 'actor', 'actor', 'actor', 'actor', 'actor', 'actor', 'actor', 'actor', 'actor', 'actor', 'actor', 'actor', 'movie', 'actor', 'actor', 'actor', 'actor', 'actor', 'actor', 'actor', 'actor', 'actor', 'actor', 'actor', 'actor', 'actor', 'actor', 'actor', 'actor', 'actor', 'actor', 'actor', 'actor', 'actor', 'actor', 'movie', 'actor', 'actor', 'actor', 'actor', 'movie', 'actor', 'actor', 'movie', 'actor', 'actor', 'actor', 'actor', 'actor', 'actor', 'actor', 'actor', 'actor', 'actor', 'actor', 'actor', 'actor', 'actor', 'actor', 'actor', 'actor', 'actor', 'actor', 'actor', 'actor', 'actor', 'actor', 'actor', 'actor', 'actor', 'actor', 'movie', 'actor', 'actor', 'actor', 'actor', 'actor', 'actor', 'actor', 'actor', 'actor', 'actor', 'actor', 'actor', 'actor', 'actor', 'actor', 'actor', 'actor', 'actor', 'actor', 'movie', 'actor', 'actor', 'actor', 'actor', 'actor', 'actor', 'actor', 'actor', 'actor', 'actor', 'actor', 'actor', 'actor', 'actor', 'actor', 'actor', 'actor', 'actor', 'actor', 'actor', 'actor', 'actor', 'actor', 'actor', 'actor', 'actor', 'actor', 'actor', 'actor', 'actor', 'actor', 'actor', 'actor', 'actor', 'actor', 'actor', 'actor', 'actor', 'actor', 'actor', 'actor', 'actor', 'movie', 'actor', 'actor', 'actor', 'actor', 'actor', 'actor', 'actor', 'actor', 'actor', 'actor', 'actor', 'actor', 'actor', 'actor', 'actor', 'actor', 'actor', 'actor', 'actor', 'actor', 'actor', 'actor', 'actor', 'actor', 'actor', 'actor', 'actor', 'actor', 'actor', 'actor', 'actor', 'actor', 'actor', 'actor', 'actor', 'movie', 'actor', 'actor', 'actor', 'actor', 'actor', 'actor', 'actor', 'actor', 'actor', 'actor', 'actor', 'actor', 'actor', 'movie', 'actor', 'actor', 'actor', 'actor', 'actor', 'actor', 'actor', 'actor', 'actor', 'actor', 'actor', 'actor', 'actor', 'actor', 'actor', 'actor', 'actor', 'actor', 'actor', 'actor', 'actor', 'actor', 'actor', 'actor', 'actor', 'actor', 'actor', 'actor', 'actor', 'actor', 'actor', 'actor', 'actor', 'actor', 'actor', 'movie', 'movie', 'actor', 'actor', 'actor', 'actor', 'actor', 'actor', 'actor', 'actor', 'actor', 'actor', 'actor', 'actor', 'actor', 'actor', 'actor', 'actor', 'actor', 'actor', 'actor', 'actor', 'actor', 'actor', 'actor', 'actor', 'actor', 'actor', 'actor', 'actor', 'actor', 'actor', 'actor', 'actor', 'actor', 'actor', 'actor', 'actor', 'actor', 'actor', 'actor', 'actor', 'actor', 'actor', 'actor', 'actor', 'actor', 'actor', 'actor', 'actor', 'actor', 'actor', 'actor', 'actor', 'actor', 'actor', 'actor', 'actor', 'actor', 'actor', 'actor', 'actor', 'actor', 'actor', 'actor', 'actor', 'actor', 'actor', 'actor', 'actor', 'actor', 'actor', 'actor', 'actor', 'actor', 'actor', 'actor', 'actor', 'actor', 'actor', 'actor', 'actor', 'actor', 'actor', 'actor', 'actor', 'actor', 'actor', 'actor', 'actor', 'actor', 'actor', 'actor', 'actor', 'actor', 'actor', 'actor', 'actor', 'actor', 'actor', 'actor', 'actor', 'actor', 'actor', 'actor', 'actor', 'actor', 'actor', 'actor', 'actor', 'actor', 'movie', 'actor', 'actor', 'actor', 'actor', 'actor', 'actor', 'actor', 'actor', 'actor', 'actor', 'actor', 'actor', 'actor', 'actor', 'actor', 'actor', 'actor', 'actor', 'actor', 'actor', 'actor', 'actor', 'actor', 'actor', 'actor', 'movie', 'actor', 'actor', 'actor', 'actor', 'actor', 'actor', 'actor', 'movie', 'actor', 'actor', 'actor', 'actor', 'actor', 'actor', 'actor', 'actor', 'actor', 'actor', 'actor', 'actor', 'actor', 'actor', 'actor', 'actor', 'actor', 'actor', 'actor', 'actor', 'actor', 'actor', 'actor', 'actor', 'actor', 'actor', 'actor', 'actor', 'actor', 'actor', 'actor', 'actor', 'actor', 'actor', 'movie', 'actor', 'actor', 'actor', 'movie', 'actor', 'actor', 'actor', 'actor', 'actor', 'actor', 'actor', 'actor', 'actor', 'actor', 'actor', 'actor', 'actor', 'actor', 'actor', 'actor', 'actor', 'actor', 'actor', 'actor', 'movie', 'actor', 'actor', 'actor', 'actor', 'actor', 'actor', 'actor', 'actor', 'actor', 'actor', 'movie', 'actor', 'actor', 'actor', 'actor', 'actor', 'actor', 'actor', 'actor', 'actor', 'actor', 'actor', 'actor', 'actor', 'actor', 'actor', 'actor', 'actor', 'actor', 'actor', 'actor', 'actor', 'actor', 'actor', 'actor', 'actor', 'actor', 'actor', 'actor', 'actor', 'actor', 'actor', 'actor', 'actor', 'actor', 'actor', 'actor', 'actor', 'actor', 'actor', 'actor', 'actor', 'movie', 'actor', 'actor', 'actor', 'actor', 'actor', 'actor', 'actor', 'actor', 'actor', 'movie', 'actor', 'actor', 'actor', 'actor', 'actor', 'actor', 'actor', 'actor', 'actor', 'actor', 'actor', 'actor', 'actor', 'actor', 'actor', 'actor', 'actor', 'actor', 'movie', 'actor', 'actor', 'actor', 'actor', 'actor', 'actor', 'actor', 'actor', 'actor', 'actor', 'actor', 'actor', 'actor', 'actor', 'actor', 'actor', 'actor', 'actor', 'actor', 'actor', 'actor', 'actor', 'actor', 'actor', 'actor', 'actor', 'actor', 'actor', 'actor', 'actor', 'actor', 'actor', 'actor', 'actor', 'actor', 'actor', 'actor', 'actor', 'actor', 'actor', 'actor', 'actor', 'movie', 'actor', 'actor', 'actor', 'actor', 'actor', 'actor', 'actor', 'actor', 'actor', 'actor', 'actor', 'movie', 'actor', 'actor', 'actor', 'actor', 'actor', 'actor', 'actor', 'actor', 'actor', 'actor', 'actor', 'actor', 'actor', 'actor', 'actor', 'actor', 'actor', 'actor', 'actor', 'actor', 'actor', 'actor', 'actor', 'actor', 'actor', 'actor', 'actor', 'actor', 'actor', 'actor', 'actor', 'actor', 'actor', 'actor', 'actor', 'actor', 'actor', 'actor', 'actor', 'actor', 'actor', 'actor', 'actor', 'actor', 'actor', 'actor', 'movie', 'actor', 'actor', 'actor', 'actor', 'actor', 'actor', 'actor', 'actor', 'actor', 'actor', 'actor', 'actor', 'actor', 'actor', 'actor', 'actor', 'actor', 'actor', 'movie', 'actor', 'actor', 'actor', 'actor', 'actor', 'actor', 'actor', 'actor', 'actor', 'actor', 'actor', 'actor', 'actor', 'actor', 'actor', 'actor', 'actor', 'actor', 'actor', 'actor', 'actor', 'actor', 'actor', 'actor', 'actor', 'actor', 'actor', 'actor', 'actor', 'actor', 'actor', 'actor', 'actor', 'actor', 'actor', 'actor', 'actor', 'actor', 'actor', 'actor', 'actor', 'actor', 'actor', 'actor', 'actor', 'actor', 'actor', 'actor', 'actor', 'actor', 'actor', 'actor', 'actor', 'actor', 'actor', 'actor', 'actor', 'actor', 'actor', 'actor', 'actor', 'actor', 'actor', 'actor', 'actor', 'actor', 'actor', 'actor', 'actor', 'actor', 'actor', 'actor', 'actor', 'actor', 'actor', 'actor', 'actor', 'actor', 'actor', 'actor', 'actor', 'actor', 'actor', 'actor', 'actor', 'actor', 'actor', 'actor', 'actor', 'actor', 'actor', 'actor', 'actor', 'actor', 'actor', 'actor', 'actor', 'actor', 'actor', 'actor', 'actor', 'actor', 'actor', 'actor', 'movie', 'actor', 'actor', 'actor', 'actor', 'movie', 'actor', 'actor', 'actor', 'movie', 'actor', 'actor', 'actor', 'actor', 'actor', 'actor', 'actor', 'actor', 'actor', 'actor', 'actor', 'actor', 'actor', 'actor', 'actor', 'actor', 'actor', 'actor', 'actor', 'actor', 'actor', 'actor', 'actor', 'actor', 'actor', 'actor', 'actor', 'actor', 'actor', 'actor', 'actor', 'actor', 'actor', 'actor', 'actor', 'actor', 'actor', 'actor', 'actor', 'actor', 'actor', 'actor', 'actor', 'actor', 'actor', 'actor', 'actor', 'actor', 'actor', 'actor', 'actor', 'actor', 'actor', 'actor', 'actor', 'actor', 'actor', 'actor', 'actor', 'actor', 'actor', 'actor', 'actor', 'actor', 'actor', 'actor', 'actor', 'actor', 'actor', 'actor', 'actor', 'actor', 'actor', 'actor', 'actor', 'actor', 'movie', 'actor', 'actor', 'actor', 'actor', 'actor', 'actor', 'actor', 'actor', 'actor', 'actor', 'actor', 'actor', 'actor', 'actor', 'actor', 'actor', 'movie', 'actor', 'actor', 'actor', 'actor', 'actor', 'actor', 'actor', 'actor', 'actor', 'actor', 'actor', 'actor', 'actor', 'actor', 'actor', 'actor', 'actor', 'actor', 'actor', 'actor', 'actor', 'actor', 'actor', 'actor', 'actor', 'actor', 'actor', 'movie', 'actor', 'actor', 'actor', 'actor', 'actor', 'actor', 'actor', 'actor', 'actor', 'actor', 'actor', 'actor', 'actor', 'actor', 'actor', 'actor', 'actor', 'actor', 'actor', 'actor', 'actor', 'actor', 'actor', 'actor', 'actor', 'actor', 'actor', 'actor', 'actor', 'actor', 'actor', 'actor', 'actor', 'actor', 'actor', 'actor', 'actor', 'actor', 'actor', 'actor', 'actor', 'actor', 'actor', 'actor', 'actor', 'actor', 'actor', 'actor', 'actor', 'actor', 'actor', 'actor', 'actor', 'actor', 'actor', 'actor', 'actor', 'actor', 'actor', 'actor', 'actor', 'actor', 'actor', 'actor', 'actor', 'actor', 'actor', 'actor', 'actor', 'actor', 'actor', 'actor', 'actor', 'actor', 'actor', 'actor', 'actor', 'actor', 'actor', 'actor', 'actor', 'actor', 'actor', 'actor', 'movie', 'actor', 'actor', 'actor', 'actor', 'actor', 'actor', 'actor', 'actor', 'actor', 'actor', 'actor', 'actor', 'actor', 'actor', 'actor', 'actor', 'actor', 'actor', 'actor', 'actor', 'actor', 'actor', 'actor', 'actor', 'actor', 'actor', 'actor', 'actor', 'actor', 'actor', 'actor', 'actor', 'actor', 'actor', 'actor', 'actor', 'movie', 'movie', 'actor', 'actor', 'actor', 'actor', 'actor', 'actor', 'actor', 'actor', 'actor', 'actor', 'actor', 'actor', 'actor', 'actor', 'actor', 'actor', 'actor', 'actor', 'actor', 'actor', 'actor', 'actor', 'actor', 'movie', 'actor', 'actor', 'actor', 'actor', 'actor', 'actor', 'actor', 'actor', 'actor', 'actor', 'actor', 'actor', 'actor', 'movie', 'actor', 'actor', 'actor', 'actor', 'actor', 'actor', 'actor', 'actor', 'actor', 'actor', 'actor', 'actor', 'actor', 'actor', 'actor', 'actor', 'actor', 'actor', 'actor', 'actor', 'actor', 'actor', 'actor', 'actor', 'actor', 'actor', 'actor', 'actor', 'actor', 'actor', 'actor', 'actor', 'actor', 'actor', 'actor', 'actor', 'actor', 'actor', 'actor', 'actor', 'actor', 'actor', 'actor', 'actor', 'actor', 'actor']\n"
          ]
        }
      ]
    },
    {
      "cell_type": "markdown",
      "metadata": {
        "id": "TMIE_4D17fp_"
      },
      "source": [
        "![image.png](data:image/png;base64,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)"
      ]
    },
    {
      "cell_type": "code",
      "metadata": {
        "id": "Y63_g9Y4co66"
      },
      "source": [
        "def data_split(node_ids,node_targets,node_embeddings):\n",
        "  actor_nodes,movie_nodes=[],[]\n",
        "  actor_embeddings,movie_embeddings=[],[]\n",
        "\n",
        "#In this function, we will split the node embeddings into actor_embeddings , movie_embeddings\n",
        "#split the node_embeddings into actor_embeddings,movie_embeddings based on node_ids\n",
        "\n",
        "\n",
        "  actor_embedding = [actor_embeddings.append(x) for i,x in enumerate(node_embeddings) if node_targets[i]=='actor']\n",
        "  actor_node = [actor_nodes.append(x) for i,x in enumerate(node_ids) if node_targets[i]=='actor']\n",
        "\n",
        "  movie_embedding = [movie_embeddings.append(x) for i,x in enumerate(node_embeddings) if node_targets[i]=='movie']\n",
        "  movie_node = [movie_nodes.append(x) for i,x in enumerate(node_ids) if node_targets[i]=='movie']\n",
        "  \n",
        "  return actor_nodes, movie_nodes, actor_embeddings, movie_embeddings\n",
        "    \n",
        "  # By using node_embedding and node_targets, we can extract actor_embedding and movie embedding\n",
        "  # By using node_ids and node_targets, we can extract actor_nodes and movie nodes\n",
        "  \n",
        "  # split the node_embeddings into actor_embeddings,movie_embeddings based on node_ids\n",
        "  # By using node_embedding and node_targets, we can extract actor_embedding and movie embedding\n",
        "  # By using node_ids and node_targets, we can extract actor_nodes and movie nodes"
      ],
      "execution_count": 135,
      "outputs": []
    },
    {
      "cell_type": "code",
      "metadata": {
        "id": "p5e3LVFW13rT"
      },
      "source": [
        "#L=actor_nodes\n",
        "#M=movie_nodes\n",
        "#N=actor_embeddings\n",
        "#O=movie_embeddings\n",
        "L,M,N,O = data_split(node_ids,node_targets,node_embeddings)"
      ],
      "execution_count": 136,
      "outputs": []
    },
    {
      "cell_type": "code",
      "metadata": {
        "id": "coMEeIV1sgNp"
      },
      "source": [
        ""
      ],
      "execution_count": null,
      "outputs": []
    },
    {
      "cell_type": "markdown",
      "metadata": {
        "id": "xa7PdnRufRV3"
      },
      "source": [
        "<font color='cyan'>Grader function - 1</font>"
      ]
    },
    {
      "cell_type": "code",
      "metadata": {
        "id": "PGG8Drj5fNbY",
        "colab": {
          "base_uri": "https://localhost:8080/"
        },
        "outputId": "c3f59fe3-5f11-4748-9940-d79c4ab8af1c"
      },
      "source": [
        "def grader_actors(data):\n",
        "  assert(len(data)==3411)\n",
        "  return True\n",
        "grader_actors(L)"
      ],
      "execution_count": 137,
      "outputs": [
        {
          "output_type": "execute_result",
          "data": {
            "text/plain": [
              "True"
            ]
          },
          "metadata": {},
          "execution_count": 137
        }
      ]
    },
    {
      "cell_type": "markdown",
      "metadata": {
        "id": "3ZuEXUw-fipG"
      },
      "source": [
        "<font color='cyan'>Grader function - 2</font>"
      ]
    },
    {
      "cell_type": "code",
      "metadata": {
        "id": "tYTGJqQTflxL",
        "colab": {
          "base_uri": "https://localhost:8080/"
        },
        "outputId": "986af1b1-62f6-4d69-f5ce-5ce7160ac4b4"
      },
      "source": [
        "def grader_movies(data):\n",
        "  assert(len(data)==1292)\n",
        "  return True\n",
        "grader_movies(M)"
      ],
      "execution_count": 138,
      "outputs": [
        {
          "output_type": "execute_result",
          "data": {
            "text/plain": [
              "True"
            ]
          },
          "metadata": {},
          "execution_count": 138
        }
      ]
    },
    {
      "cell_type": "markdown",
      "metadata": {
        "id": "0Nz_ojodhwOp"
      },
      "source": [
        "<font color='blue'>Calculating cost1</font>"
      ]
    },
    {
      "cell_type": "markdown",
      "metadata": {
        "id": "xdixgDsZhtM1"
      },
      "source": [
        "Cost1 = $\\frac{1}{N}\\sum_{\\text{each cluster i}}  \\frac{\\text{(number of nodes in the largest connected component in the graph with the actor nodes and its movie neighbours in cluster i)}}{\\text{(total number of nodes in that cluster i)}}$ where N= number of clusters <br><br>\n",
        "<br>"
      ]
    },
    {
      "cell_type": "code",
      "metadata": {
        "id": "7akLq1z6hiiU"
      },
      "source": [
        "def cost1(graph,number_of_clusters):\n",
        "    '''In this function, we will calculate cost1'''\n",
        "    num= max([len(x) for x in list(nx.connected_components(graph))])\n",
        "    Total_Nodes=graph.number_of_nodes()\n",
        "    cost1= (num/Total_Nodes)*(1/number_of_clusters)\n",
        "    return cost1"
      ],
      "execution_count": 105,
      "outputs": []
    },
    {
      "cell_type": "code",
      "metadata": {
        "id": "C4EdKJyri-wl",
        "colab": {
          "base_uri": "https://localhost:8080/",
          "height": 248
        },
        "outputId": "3bd4dff1-4770-42f0-cb7b-52efd7b680b4"
      },
      "source": [
        "import networkx as nx\n",
        "from networkx.algorithms import bipartite\n",
        "graded_graph= nx.Graph()\n",
        "graded_graph.add_nodes_from(['a1','a5','a10','a11'], bipartite=0) # Add the node attribute \"bipartite\"\n",
        "graded_graph.add_nodes_from(['m1','m2','m4','m6','m5','m8'], bipartite=1)\n",
        "graded_graph.add_edges_from([('a1','m1'),('a1','m2'),('a1','m4'),('a11','m6'),('a5','m5'),('a10','m8')])\n",
        "l={'a1','a5','a10','a11'};r={'m1','m2','m4','m6','m5','m8'}\n",
        "pos = {}\n",
        "pos.update((node, (1, index)) for index, node in enumerate(l))\n",
        "pos.update((node, (2, index)) for index, node in enumerate(r))\n",
        "\n",
        "nx.draw_networkx(graded_graph, pos=pos, with_labels=True,node_color='lightblue',alpha=0.8,style='dotted',node_size=500)"
      ],
      "execution_count": 106,
      "outputs": [
        {
          "output_type": "display_data",
          "data": {
            "image/png": "[encoded data removed]",
            "text/plain": [
              "<Figure size 432x288 with 1 Axes>"
            ]
          },
          "metadata": {}
        }
      ]
    },
    {
      "cell_type": "markdown",
      "metadata": {
        "id": "fVNEfef6raEn"
      },
      "source": [
        "<font color='cyan'>Grader function - 3</font>"
      ]
    },
    {
      "cell_type": "code",
      "metadata": {
        "id": "B4YRxNkKj1Qc",
        "colab": {
          "base_uri": "https://localhost:8080/"
        },
        "outputId": "8ccf61bf-bf5b-49de-a784-44cfae9b6a92"
      },
      "source": [
        "graded_cost1=cost1(graded_graph,3)\n",
        "def grader_cost1(data):\n",
        "    assert(data==((1/3)*(4/10))) # 1/3 is number of clusters\n",
        "    return True\n",
        "grader_cost1(graded_cost1)"
      ],
      "execution_count": 107,
      "outputs": [
        {
          "output_type": "execute_result",
          "data": {
            "text/plain": [
              "True"
            ]
          },
          "metadata": {},
          "execution_count": 107
        }
      ]
    },
    {
      "cell_type": "markdown",
      "metadata": {
        "id": "J7qiz7nxsqJL"
      },
      "source": [
        "<font color='blue'>Calculating cost2</font>"
      ]
    },
    {
      "cell_type": "markdown",
      "metadata": {
        "id": "XFqzhGqys03U"
      },
      "source": [
        "Cost2 = $\\frac{1}{N}\\sum_{\\text{each cluster i}}  \\frac{\\text{(sum of degress of actor nodes in the graph with the actor nodes and its movie neighbours in cluster i)}}{\\text{(number of unique movie nodes in the graph with the actor nodes and its movie neighbours in cluster i)}}$ where N= number of clusters "
      ]
    },
    {
      "cell_type": "code",
      "metadata": {
        "id": "NH6ayCdKsw0U"
      },
      "source": [
        "def cost2(graph,number_of_clusters):\n",
        "  d=graph.degree()\n",
        "  nodes=list(graph.nodes())\n",
        "  unique=[]\n",
        "\n",
        "  for i in nodes:\n",
        "    if i not in unique:\n",
        "      unique.append(i)\n",
        "\n",
        "  sum=0\n",
        "  for i in d:\n",
        "    if 'a' in i[0]:\n",
        "      sum+=i[1]\n",
        "\n",
        "  mov=0\n",
        "  for i in unique:\n",
        "    if 'm' in i:\n",
        "      mov+=1\n",
        "  cost2=sum/mov\n",
        "\n",
        "  return cost2 /number_of_clusters"
      ],
      "execution_count": 108,
      "outputs": []
    },
    {
      "cell_type": "markdown",
      "metadata": {
        "id": "SaL1nOMrtYMT"
      },
      "source": [
        "<font color='cyan'>Grader function - 4</font>"
      ]
    },
    {
      "cell_type": "code",
      "metadata": {
        "id": "lNC23DCIs-uD",
        "colab": {
          "base_uri": "https://localhost:8080/"
        },
        "outputId": "53530a80-5ac5-4550-c9fc-87510c89a5bb"
      },
      "source": [
        "graded_cost2=cost2(graded_graph,3)\n",
        "def grader_cost2(data):\n",
        "    assert(data==((1/3)*(6/6))) # 1/3 is number of clusters\n",
        "    return True\n",
        "grader_cost2(graded_cost2)"
      ],
      "execution_count": 109,
      "outputs": [
        {
          "output_type": "execute_result",
          "data": {
            "text/plain": [
              "True"
            ]
          },
          "metadata": {},
          "execution_count": 109
        }
      ]
    },
    {
      "cell_type": "markdown",
      "metadata": {
        "id": "GIOPhbBizdWd"
      },
      "source": [
        "<font color='blue'>Grouping similar actors</font>"
      ]
    },
    {
      "cell_type": "code",
      "metadata": {
        "colab": {
          "base_uri": "https://localhost:8080/"
        },
        "id": "oxSD6tVQ37JC",
        "outputId": "8715a547-52c4-488e-9ca2-7403bf552668"
      },
      "source": [
        "print(node_ids)"
      ],
      "execution_count": 80,
      "outputs": [
        {
          "output_type": "stream",
          "name": "stdout",
          "text": [
            "['a973', 'a967', 'a964', 'a970', 'a1731', 'a969', 'a1028', 'a965', 'a1003', 'a1057', 'm1094', 'a966', 'a988', 'm1111', 'a959', 'm1100', 'm67', 'a1037', 'a93', 'a962', 'a49', 'a971', 'a963', 'm1095', 'a1030', 'a1076', 'a977', 'a1016', 'a960', 'a1027', 'a204', 'a472', 'a768', 'a968', 'a1004', 'a1020', 'a2715', 'a631', 'a1026', 'a1035', 'm1001', 'a1507', 'a306', 'a972', 'a407', 'm816', 'a1031', 'm1112', 'a975', 'm376', 'a138', 'm1113', 'm1261', 'm1096', 'a1036', 'm1097', 'm987', 'm1272', 'a1435', 'a1008', 'a205', 'm1114', 'a987', 'm1022', 'a921', 'm148', 'a1038', 'm453', 'm26', 'm1357', 'm1232', 'm165', 'm126', 'a1467', 'm990', 'a1060', 'm796', 'a976', 'm1220', 'a1021', 'm25', 'm32', 'm890', 'm1106', 'a1015', 'a1436', 'm964', 'a782', 'm75', 'm147', 'm1108', 'a1011', 'm1090', 'm121', 'm1092', 'm1045', 'm1213', 'm1000', 'm1101', 'a1505', 'm157', 'a974', 'a1005', 'a893', 'm1185', 'm743', 'm1098', 'a363', 'm122', 'a228', 'a1750', 'm115', 'm1172', 'm924', 'm125', 'm914', 'm1284', 'a1023', 'm1348', 'm1023', 'm995', 'm1024', 'm988', 'm850', 'm1011', 'm982', 'm851', 'm983', 'a1018', 'a1025', 'a400', 'm1138', 'm294', 'a1032', 'a1029', 'm377', 'm1116', 'm973', 'm389', 'm150', 'a1024', 'a3378', 'm902', 'a1039', 'm918', 'm230', 'm84', 'm1372', 'm282', 'm179', 'm127', 'a1381', 'm1049', 'm129', 'm1160', 'm1093', 'm901', 'm430', 'm623', 'm306', 'm1225', 'm120', 'm616', 'm1253', 'm31', 'm1019', 'm915', 'm452', 'm477', 'm847', 'm345', 'm565', 'a1019', 'm1048', 'm587', 'm128', 'm1173', 'm963', 'm155', 'm989', 'm716', 'm653', 'm866', 'm310', 'm73', 'a773', 'm420', 'm1151', 'm1263', 'm215', 'm154', 'm932', 'm1020', 'm662', 'm159', 'm1159', 'a393', 'm219', 'm135', 'm442', 'm340', 'm926', 'm1230', 'm1102', 'm1339', 'm1248', 'm913', 'm242', 'm30', 'a812', 'm986', 'm937', 'a595', 'm985', 'm624', 'm112', 'm396', 'm715', 'm111', 'm169', 'm1212', 'm692', 'm1013', 'm981', 'm1016', 'm1200', 'm1029', 'm1030', 'm856', 'm1198', 'm1162', 'a1366', 'm586', 'm1336', 'm141', 'm808', 'm551', 'm186', 'm947', 'm625', 'm936', 'm1152', 'm897', 'm621', 'm942', 'm1331', 'm228', 'm1300', 'm1239', 'm962', 'a989', 'm307', 'a801', 'm1311', 'a1079', 'm909', 'm1366', 'm1290', 'a1043', 'm626', 'm290', 'm281', 'm560', 'm421', 'm291', 'm974', 'm88', 'm944', 'm745', 'm860', 'm145', 'm293', 'm911', 'm853', 'm380', 'm429', 'm343', 'm1149', 'm1187', 'm1099', 'm1169', 'm704', 'm223', 'm5', 'm1374', 'm1027', 'm83', 'm1036', 'm1052', 'm311', 'm1243', 'm1260', 'm707', 'm650', 'm208', 'm1163', 'm729', 'm719', 'a3369', 'm1189', 'm933', 'm152', 'm283', 'm577', 'm1012', 'm1034', 'm146', 'm949', 'm288', 'm984', 'm1191', 'a1716', 'm86', 'm854', 'm1268', 'm34', 'm769', 'm959', 'm799', 'm905', 'm168', 'm1110', 'm260', 'm1026', 'm599', 'm398', 'a1063', 'm673', 'm674', 'a1048', 'm848', 'm221', 'm305', 'm666', 'm1140', 'm706', 'a1672', 'm1192', 'm925', 'a222', 'm807', 'm443', 'm1064', 'm574', 'm113', 'm1150', 'm573', 'm829', 'a1034', 'm399', 'm1257', 'm1014', 'm898', 'm384', 'a1483', 'a1041', 'm960', 'm1251', 'a775', 'm882', 'm941', 'm798', 'm702', 'm1181', 'm1051', 'm584', 'm1244', 'm862', 'm875', 'm116', 'm943', 'm132', 'm1194', 'a101', 'm55', 'm1237', 'm1035', 'm114', 'a11', 'm537', 'm655', 'm388', 'a217', 'm812', 'm1241', 'm996', 'm876', 'm27', 'm1044', 'm966', 'm426', 'm563', 'm395', 'm809', 'm366', 'm1314', 'm108', 'm1158', 'm1148', 'm475', 'm1297', 'm1222', 'm824', 'm1103', 'm991', 'm1089', 'm956', 'm174', 'm1017', 'm425', 'm284', 'm927', 'm946', 'm1376', 'm667', 'm1210', 'm303', 'm1236', 'a1047', 'm349', 'm350', 'm1193', 'm830', 'm1347', 'm362', 'a152', 'm172', 'm1046', 'm1091', 'm849', 'm1349', 'm1285', 'm1157', 'a834', 'm855', 'm940', 'm240', 'm1155', 'm1196', 'm1325', 'm582', 'm1208', 'm289', 'm339', 'a816', 'm1205', 'm353', 'm1337', 'm265', 'a1022', 'a821', 'a1017', 'm593', 'm1047', 'm969', 'm406', 'm1206', 'm888', 'm203', 'm713', 'm1081', 'm601', 'm416', 'm1178', 'm723', 'm248', 'm550', 'm899', 'm992', 'm407', 'm61', 'm292', 'a807', 'a203', 'm1259', 'm176', 'm1246', 'a88', 'm648', 'm433', 'm877', 'm1329', 'm259', 'm1147', 'm160', 'm835', 'a2305', 'm790', 'a1442', 'a1782', 'm1250', 'm1278', 'm131', 'm405', 'm1231', 'm411', 'm931', 'm957', 'a1232', 'm1008', 'm1215', 'm402', 'm975', 'm1367', 'm552', 'm880', 'a90', 'm1073', 'a370', 'm231', 'm415', 'm575', 'm1281', 'm840', 'm614', 'm1143', 'm361', 'm783', 'm1255', 'm1188', 'm566', 'm636', 'm171', 'm1118', 'm378', 'm385', 'm1295', 'm590', 'm451', 'm222', 'm1274', 'm330', 'm69', 'm280', 'm627', 'm1223', 'm1378', 'm708', 'm1177', 'm383', 'a1513', 'm794', 'm1211', 'm728', 'm1021', 'm1361', 'a95', 'm592', 'm651', 'm628', 'm287', 'm428', 'm697', 'm579', 'm649', 'm1074', 'm286', 'm1031', 'm417', 'm1333', 'm277', 'm596', 'm603', 'm1341', 'm703', 'm705', 'm11', 'm118', 'm295', 'm387', 'm1270', 'm134', 'm1273', 'a789', 'm309', 'm39', 'a1181', 'm1322', 'm891', 'a1045', 'm1040', 'm342', 'm908', 'm209', 'm199', 'm1226', 'm571', 'm335', 'a440', 'm631', 'm1207', 'a466', 'm1084', 'm441', 'm589', 'm1335', 'm826', 'm993', 'm308', 'm903', 'm657', 'a1704', 'm1267', 'm189', 'm647', 'm724', 'm1037', 'm1025', 'm581', 'm859', 'm665', 'm772', 'm843', 'm652', 'm764', 'm1153', 'm410', 'm161', 'm720', 'm1373', 'm700', 'a2139', 'm998', 'm916', 'm852', 'm1032', 'a50', 'm1245', 'm403', 'm1282', 'm355', 'm419', 'a200', 'm787', 'm440', 'a2361', 'm680', 'm322', 'm773', 'a598', 'a51', 'm1252', 'm841', 'm357', 'a416', 'm831', 'm1286', 'm814', 'm544', 'm676', 'a794', 'm976', 'a790', 'm1328', 'm857', 'm472', 'm173', 'm37', 'm681', 'm413', 'm74', 'm3', 'm275', 'm1217', 'm788', 'm40', 'a1758', 'm638', 'm656', 'a2349', 'm344', 'm545', 'm302', 'm213', 'm1058', 'm210', 'm600', 'm386', 'a1558', 'm760', 'm1117', 'm1183', 'a850', 'm319', 'm669', 'm1154', 'm1228', 'm679', 'm1326', 'm325', 'a538', 'm945', 'a115', 'm158', 'm1066', 'm629', 'm583', 'm1082', 'a1083', 'a3561', 'm1186', 'm491', 'a52', 'm997', 'm585', 'm836', 'm598', 'm825', 'm515', 'm180', 'm920', 'm1202', 'm175', 'm832', 'm800', 'm930', 'm438', 'm1332', 'a2785', 'a316', 'm758', 'm980', 'm1380', 'a372', 'm527', 'm182', 'm1279', 'm1334', 'a1635', 'm1370', 'm709', 'm640', 'm299', 'm332', 'm768', 'm815', 'm195', 'm276', 'm143', 'm1345', 'm316', 'm1327', 'm645', 'm241', 'm1258', 'a820', 'a450', 'm194', 'a503', 'm892', 'm622', 'm810', 'm162', 'm797', 'm910', 'm1104', 'm686', 'm757', 'm684', 'm821', 'm1170', 'm951', 'm693', 'm358', 'm968', 'm1107', 'a1', 'a1042', 'm246', 'm701', 'm938', 'm320', 'm1350', 'm699', 'm1077', 'm1010', 'm352', 'm436', 'm774', 'm802', 'a865', 'm117', 'm839', 'm1139', 'a534', 'm671', 'm1280', 'm214', 'm801', 'm336', 'm1119', 'm1320', 'm922', 'a1363', 'm301', 'm401', 'm329', 'm971', 'm227', 'm394', 'a22', 'm187', 'm970', 'm685', 'm1204', 'm803', 'm492', 'm572', 'a2755', 'm845', 'm594', 'm763', 'm1041', 'm1324', 'm324', 'm331', 'm274', 'a1373', 'a1185', 'm204', 'a3203', 'm1209', 'm615', 'm834', 'm767', 'a378', 'm711', 'm1216', 'm1338', 'a1176', 'm1069', 'm1238', 'a462', 'a1040', 'm263', 'm1351', 'm164', 'm144', 'm904', 'a2222', 'm297', 'm1071', 'm595', 'm119', 'm578', 'm192', 'm356', 'a818', 'a1877', 'm315', 'm928', 'm682', 'a1033', 'm1319', 'm1039', 'a1077', 'm313', 'a880', 'm218', 'm323', 'm756', 'm200', 'a2460', 'm346', 'm833', 'a239', 'm630', 'a835', 'm1174', 'm1340', 'm375', 'm822', 'm341', 'm1256', 'a129', 'm327', 'm333', 'm530', 'a924', 'm184', 'a854', 'm654', 'm338', 'm359', 'm1007', 'm939', 'm557', 'm912', 'm813', 'a791', 'm439', 'a1524', 'm792', 'a2301', 'm1184', 'm496', 'm762', 'a2367', 'm923', 'm714', 'm646', 'm262', 'm354', 'a603', 'm608', 'm576', 'm268', 'm273', 'm444', 'm326', 'm521', 'm907', 'a1222', 'a369', 'm696', 'm4', 'a1329', 'm954', 'm695', 'm1313', 'a1911', 'm633', 'm610', 'm580', 'a1170', 'm205', 'm379', 'm278', 'm1199', 'm742', 'a1384', 'm1305', 'a1133', 'm1219', 'm837', 'm921', 'm1344', 'm321', 'm691', 'm1233', 'a1177', 'm391', 'm635', 'a776', 'a2273', 'a1123', 'm188', 'm618', 'a771', 'a144', 'a1377', 'm1176', 'm524', 'm304', 'a1244', 'm196', 'm1277', 'm765', 'm874', 'm1009', 'a94', 'a891', 'm300', 'm977', 'm556', 'm934', 'm523', 'm609', 'm1308', 'a3375', 'a1301', 'm559', 'm1291', 'm1346', 'm190', 'm249', 'm272', 'm688', 'a1203', 'a593', 'a1416', 'm201', 'm163', 'm791', 'm1003', 'm694', 'm1264', 'm360', 'a1993', 'm999', 'm1221', 'm239', 'm740', 'm238', 'm1369', 'a984', 'm397', 'm670', 'm226', 'm348', 'a1454', 'm958', 'a777', 'm893', 'a3368', 'm668', 'm252', 'a285', 'm718', 'm804', 'a1773', 'm1072', 'm365', 'm1068', 'm811', 'a56', 'a2225', 'a1901', 'a1593', 'a1926', 'm1298', 'm373', 'm746', 'm1144', 'a2720', 'm738', 'a2061', 'm698', 'm531', 'a803', 'm431', 'm243', 'm522', 'm894', 'm1214', 'm1294', 'a913', 'm879', 'm434', 'a950', 'a431', 'a2030', 'a2646', 'm465', 'a2125', 'a841', 'a1280', 'm722', 'm518', 'm328', 'm1002', 'm198', 'm1304', 'm805', 'm1190', 'm264', 'm1078', 'a1440', 'm881', 'm51', 'a1376', 'm784', 'm65', 'a2374', 'a1468', 'm1080', 'm1296', 'm712', 'm1085', 'm151', 'm1375', 'm1283', 'a1225', 'm490', 'a2416', 'm296', 'a2181', 'm1175', 'm99', 'm721', 'm917', 'm795', 'm1343', 'a92', 'a3518', 'm525', 'm967', 'a2461', 'a1385', 'm766', 'm101', 'm193', 'm793', 'm606', 'm1303', 'm367', 'a325', 'a2851', 'm52', 'm739', 'm1033', 'm464', 'm661', 'a2491', 'm965', 'm528', 'a1556', 'm611', 'a1783', 'a1223', 'a377', 'a806', 'a875', 'a904', 'a491', 'a1078', 'a3436', 'm1065', 'a942', 'm677', 'm1043', 'm60', 'm1249', 'm789', 'a978', 'a859', 'a2000', 'm591', 'a1305', 'm613', 'a796', 'm538', 'm334', 'a1052', 'm727', 'm177', 'm1055', 'a909', 'm540', 'm245', 'm495', 'm347', 'm236', 'a231', 'm1063', 'm364', 'a1763', 'm212', 'm1227', 'm418', 'm1004', 'm512', 'a107', 'm1356', 'm363', 'm1182', 'm1359', 'm929', 'a69', 'm100', 'a1933', 'a3414', 'a1518', 'm744', 'm317', 'a1164', 'a427', 'a1095', 'm978', 'a2328', 'm535', 'a856', 'a13', 'm1323', 'm185', 'm234', 'm683', 'm271', 'a2393', 'a1512', 'a1907', 'm381', 'a1256', 'a1150', 'a813', 'm224', 'm602', 'm458', 'm632', 'm49', 'm1088', 'a2009', 'm178', 'm1005', 'a153', 'm50', 'a2140', 'm1355', 'm643', 'm1309', 'm225', 'a1718', 'a905', 'a201', 'a434', 'a2133', 'a2814', 'm1275', 'm514', 'm1358', 'm952', 'm424', 'a243', 'm900', 'm1240', 'a961', 'a1294', 'm211', 'a1622', 'a2323', 'a1214', 'm312', 'a1835', 'm1062', 'a59', 'a994', 'a910', 'a1061', 'a1437', 'm136', 'a1192', 'a575', 'm1379', 'm250', 'm191', 'a3441', 'm10', 'a47', 'a1910', 'a226', 'm520', 'a1962', 'm85', 'a1313', 'a2534', 'a1291', 'm390', 'a1730', 'a2119', 'm36', 'm1018', 'a535', 'a1498', 'm690', 'm1067', 'a2016', 'm468', 'm607', 'm285', 'm526', 'a1091', 'm207', 'a986', 'a2146', 'm1266', 'm561', 'a18', 'm1086', 'a461', 'a836', 'm865', 'm644', 'm761', 'a923', 'a119', 'a1178', 'a12', 'a1976', 'a797', 'm1076', 'm1271', 'a1119', 'a374', 'a3365', 'm534', 'a2820', 'a3388', 'a1262', 'm414', 'a887', 'm775', 'm1079', 'a109', 'm513', 'm1354', 'm1301', 'm59', 'a996', 'm873', 'm1330', 'a1438', 'm529', 'a1781', 'm972', 'a202', 'a2262', 'a15', 'a381', 'm459', 'm124', 'a1639', 'm658', 'm1265', 'm659', 'a1963', 'm455', 'a484', 'a1560', 'a2169', 'a3215', 'm737', 'm1293', 'a1125', 'a792', 'a2792', 'm393', 'a922', 'a1516', 'a736', 'a1006', 'm511', 'a1973', 'a886', 'a915', 'm318', 'm1061', 'a2725', 'm1234', 'a137', 'a1246', 'a3367', 'm846', 'a425', 'm427', 'm220', 'a955', 'a638', 'a2802', 'm7', 'a3372', 'm672', 'a106', 'a1179', 'a980', 'm532', 'a1947', 'm206', 'a516', 'a1490', 'a2788', 'm642', 'a2719', 'a1141', 'a992', 'm753', 'a1106', 'm247', 'a640', 'm229', 'm1276', 'a2011', 'a1658', 'm1050', 'a1087', 'a3493', 'a1607', 'a2298', 'a780', 'm244', 'm1075', 'a1271', 'a3306', 'a412', 'm1307', 'a251', 'a2602', 'a408', 'a2764', 'a1051', 'a3305', 'a1044', 'm1164', 'a1939', 'a2239', 'a1784', 'a365', 'a1012', 'm771', 'm1218', 'a2088', 'a1308', 'm1352', 'a2342', 'a778', 'm1038', 'a2232', 'm483', 'm469', 'm1145', 'a411', 'a2233', 'm422', 'a149', 'm1201', 'm1310', 'a655', 'a123', 'm1360', 'm476', 'm717', 'a928', 'a1677', 'a2351', 'a3373', 'm493', 'a2840', 'a633', 'a280', 'm735', 'm1292', 'm726', 'a486', 'm689', 'm994', 'a832', 'm409', 'a1120', 'a3181', 'a449', 'a2131', 'a3342', 'a2772', 'a3315', 'm785', 'a1448', 'a3254', 'a319', 'm498', 'a110', 'a1100', 'a435', 'm1083', 'a885', 'm780', 'm1269', 'a2375', 'a570', 'a563', 'a1058', 'a1085', 'm1197', 'a1581', 'a1205', 'a208', 'm754', 'm770', 'm508', 'm486', 'm755', 'm87', 'm1262', 'm487', 'a1971', 'a1386', 'a599', 'a1361', 'a1458', 'a3370', 'a1533', 'a2971', 'a2347', 'a2870', 'm1179', 'm63', 'a1766', 'a267', 'a3044', 'a911', 'a800', 'a1649', 'a3434', 'a6', 'm759', 'm1381', 'a1090', 'm786', 'a3672', 'a2718', 'a1233', 'm351', 'm639', 'a828', 'a764', 'm1161', 'm1028', 'a1462', 'm1224', 'm948', 'a1785', 'm1365', 'm485', 'a1626', 'a1983', 'a2812', 'a2338', 'm554', 'a2782', 'm1156', 'a2007', 'a58', 'a1553', 'm1229', 'm482', 'm1302', 'a2171', 'a1997', 'a488', 'a2587', 'm153', 'a1088', 'a1595', 'm1015', 'a134', 'm886', 'm298', 'a206', 'a1259', 'm734', 'm170', 'a2934', 'a415', 'a695', 'a1332', 'a490', 'a1114', 'a2084', 'a1536', 'a1362', 'a1494', 'm558', 'a871', 'a531', 'a3416', 'm1363', 'a1590', 'a2270', 'a3396', 'a1328', 'm258', 'a2929', 'a2134', 'm466', 'm710', 'a665', 'a678', 'a1211', 'm470', 'a1862', 'a1995', 'a3219', 'a309', 'a499', 'a1327', 'a89', 'a2400', 'a1175', 'a874', 'a2295', 'a53', 'a1196', 'a1563', 'a2768', 'm1165', 'a116', 'a1496', 'm1070', 'a1580', 'm279', 'm1142', 'a1312', 'a1338', 'a3280', 'a332', 'a2938', 'm494', 'a1226', 'a1938', 'a947', 'm1321', 'a1094', 'a127', 'm9', 'm1006', 'a442', 'a714', 'm1105', 'm517', 'a815', 'a2388', 'm1288', 'a827', 'a2038', 'm369', 'a930', 'm133', 'a2939', 'a1865', 'a1365', 'a656', 'a1137', 'a855', 'a2649', 'm751', 'm2', 'a1281', 'm484', 'a896', 'm820', 'a210', 'a1500', 'm1364', 'a1195', 'a2577', 'a2024', 'a1487', 'a1149', 'a1734', 'm539', 'm1247', 'a769', 'm64', 'm1141', 'a998', 'a1617', 'a3262', 'a620', 'm408', 'a844', 'a2327', 'a3417', 'a3411', 'm619', 'm488', 'm38', 'm637', 'a805', 'm1180', 'a1324', 'a221', 'a3220', 'a952', 'm156', 'a2854', 'a571', 'a3361', 'a3389', 'm474', 'a112', 'a2849', 'a1194', 'a1919', 'a787', 'm1235', 'm505', 'm137', 'a3443', 'a3184', 'a901', 'a1552', 'a808', 'a811', 'a2121', 'a1660', 'm1042', 'a485', 'a1109', 'm687', 'a3413', 'm481', 'a2932', 'm140', 'a596', 'a454', 'a829', 'a2599', 'a728', 'm1377', 'm731', 'm883', 'a3349', 'a1648', 'a261', 'a2790', 'a2803', 'a2074', 'a1748', 'a799', 'm732', 'a367', 'm149', 'a2086', 'a2403', 'a1304', 'a729', 'm166', 'a1587', 'a1673', 'a525', 'm460', 'm663', 'a1138', 'a1693', 'a2506', 'm896', 'm887', 'm536', 'a657', 'a2104', 'a3207', 'a550', 'a1130', 'a1340', 'a66', 'a1767', 'a2819', 'a1393', 'a2164', 'a2490', 'a1592', 'm863', 'a24', 'a590', 'm1306', 'm392', 'a3489', 'a822', 'm819', 'a2943', 'a621', 'a759', 'a1599', 'a2234', 'a1992', 'a1551', 'a2920', 'a3409', 'a2316', 'a2518', 'm29', 'a613', 'a2744', 'a1530', 'a1097', 'a1421', 'm98', 'm750', 'm547', 'a2805', 'm142', 'm1287', 'a760', 'a757', 'a774', 'a997', 'a3393', 'm368', 'm1353', 'a949', 'a939', 'a1837', 'a2293', 'a1800', 'a1484', 'a2170', 'a25', 'a473', 'm519', 'a163', 'm1289', 'm57', 'a2793', 'a364', 'a2750', 'm818', 'a330', 'a2804', 'm660', 'a1508', 'a1339', 'a3508', 'a1598', 'a2591', 'a1154', 'a1925', 'm533', 'a104', 'a2312', 'm130', 'a825', 'a1420', 'm516', 'a504', 'a1984', 'a762', 'a2191', 'a3394', 'a1359', 'a1257', 'm456', 'a779', 'a1242', 'a1227', 'a1566', 'a2442', 'a1606', 'a3330', 'm664', 'a1543', 'a157', 'a1180', 'a1335', 'm68', 'a2838', 'a396', 'm337', 'a487', 'a1737', 'a1745', 'a755', 'a1600', 'a1948', 'a2044', 'm604', 'a1464', 'm562', 'a28', 'a983', 'm382', 'a501', 'm41', 'a430', 'a2370', 'a1619', 'a394', 'a3312', 'm1368', 'a1115', 'a1544', 'a2627', 'a763', 'a766', 'a131', 'a3666', 'm906', 'a946', 'a2003', 'a1396', 'a1266', 'a2218', 'a2722', 'a1249', 'a2908', 'a1898', 'a3592', 'a788', 'a207', 'a518', 'a117', 'a1092', 'a1934', 'a100', 'a2398', 'a418', 'a539', 'a291', 'a1387', 'a2208', 'a395', 'a934', 'a2658', 'a1720', 'a1738', 'a708', 'a126', 'a1946', 'a3386', 'a574', 'a1532', 'a1520', 'm467', 'a2065', 'm549', 'a2889', 'a1882', 'a21', 'a3232', 'a1686', 'a2766', 'a1122', 'a1525', 'a2564', 'a229', 'a770', 'a551', 'm1342', 'm597', 'a683', 'a2535', 'm183', 'm733', 'm568', 'm501', 'a925', 'm641', 'a3265', 'a3211', 'a1892', 'm1054', 'a3283', 'm955', 'a1268', 'a1334', 'm267', 'a1253', 'a3204', 'm58', 'm261', 'a371', 'm123', 'a645', 'a1014', 'a3579', 'a1876', 'm237', 'a2073', 'a2083', 'm1195', 'a3359', 'a2694', 'a2818', 'a1102', 'm869', 'a155', 'a2087', 'a2412', 'a230', 'a136', 'a936', 'm507', 'a1463', 'a3616', 'a299', 'a1589', 'a687', 'a765', 'a652', 'a2995', 'm588', 'a2267', 'a492', 'm634', 'a1708', 'a2215', 'a948', 'a945', 'a1337', 'a3192', 'a1833', 'a1970', 'a2471', 'm471', 'a523', 'a3504', 'a1380', 'a1238', 'a2068', 'a2070', 'a3380', 'a2836', 'a1579', 'a3017', 'a1443', 'a3471', 'a162', 'm675', 'a1139', 'a2128', 'a1368', 'a2967', 'a772', 'm950', 'a2672', 'm462', 'a878', 'm457', 'a1382', 'a3529', 'a3351', 'a845', 'a1188', 'a1200', 'a1994', 'a3661', 'a2806', 'a1131', 'a2345', 'a2651', 'a3288', 'a2562', 'a2072', 'a1582', 'a443', 'a2147', 'a1369', 'a2122', 'a1583', 'a3234', 'a320', 'a2004', 'a108', 'a3475', 'a2545', 'a1604', 'a1347', 'a1107', 'a1473', 'a3016', 'm564', 'm412', 'm749', 'a673', 'a672', 'm1362', 'a3033', 'a1710', 'a684', 'a685', 'a690', 'a719', 'a139', 'a985', 'a1474', 'a1843', 'a1519', 'a1046', 'a433', 'a1652', 'a1550', 'a2247', 'a3', 'a2067', 'a439', 'm1115', 'a1148', 'a3478', 'a2647', 'a1146', 'a125', 'a470', 'a2494', 'a541', 'a238', 'a2141', 'a3281', 'a3439', 'a318', 'a2937', 'm82', 'a867', 'a953', 'm461', 'a128', 'a483', 'a658', 'a2931', 'a1121', 'a2692', 'a1452', 'a2335', 'a284', 'a327', 'a2734', 'm202', 'a1479', 'a881', 'a1615', 'm844', 'a929', 'a1099', 'a918', 'a1009', 'a1641', 'a507', 'a2402', 'a2204', 'm779', 'a615', 'a1389', 'a1285', 'a2695', 'a1432', 'a1886', 'a1713', 'a1881', 'a2961', 'a1425', 'a283', 'a732', 'a1662', 'a2970', 'a1959', 'a98', 'm400', 'm35', 'a3293', 'm503', 'a253', 'a321', 'a376', 'a375', 'a380', 'a634', 'a639', 'a2930', 'a1397', 'a506', 'a2391', 'a725', 'a682', 'a746', 'a1908', 'a1667', 'a899', 'a1601', 'a3594', 'm269', 'a1905', 'a3485', 'a940', 'a2344', 'm828', 'a2583', 'm435', 'a1165', 'a1426', 'a1429', 'a1895', 'a1893', 'a1422', 'a29', 'a1632', 'a2735', 'm542', 'a2314', 'a1960', 'a493', 'a1081', 'a979', 'a3432', 'a1235', 'a328', 'a368', 'a954', 'a592', 'm567', 'a3294', 'a3054', 'a1258', 'm827', 'a722', 'a723', 'a758', 'a1547', 'a3438', 'm747', 'a1873', 'a857', 'a1112', 'a259', 'a617', 'a1554', 'a1172', 'm555', 'a2241', 'a1506', 'a2071', 'a2923', 'a1609', 'a842', 'a1883', 'a1894', 'a1889', 'a2355', 'a96', 'a1388', 'm497', 'a1321', 'a522', 'a1243', 'a567', 'a1273', 'a366', 'a3015', 'a935', 'a548', 'a664', 'm1242', 'a3042', 'a2512', 'a1450', 'm961', 'a654', 'a721', 'a727', 'a3014', 'a677', 'a3566', 'a916', 'a2525', 'a2091', 'a2198', 'm217', 'm510', 'a1126', 'm543', 'a1230', 'a438', 'a1967', 'a2399', 'a2354', 'a785', 'a1431', 'm463', 'a2617', 'a1830', 'a1885', 'a16', 'a733', 'a81', 'a2085', 'a141', 'a64', 'a2020', 'm979', 'a2214', 'a3004', 'a1075', 'a659', 'a3047', 'a669', 'a3028', 'a3266', 'a2080', 'a756', 'a741', 'a650', 'a649', 'a726', 'a3089', 'a743', 'a1869', 'a428', 'a463', 'a1777', 'm736', 'a2540', 'a883', 'a2127', 'a3371', 'a1449', 'a2339', 'a505', 'a1897', 'a1896', 'a1888', 'a2917', 'a3431', 'a740', 'a3531', 'a2001', 'a1062', 'a255', 'a3338', 'a329', 'a2991', 'a2960', 'a1534', 'a671', 'a3233', 'a696', 'm678', 'a2081', 'a872', 'a3038', 'a691', 'a3046', 'a502', 'a552', 'a877', 'm1057', 'a860', 'a3599', 'a232', 'a1816', 'a1265', 'a2624', 'a3407', 'a1931', 'a3345', 'a2299', 'a1676', 'a1269', 'm817', 'a1434', 'a2951', 'a2341', 'a2451', 'a2332', 'a3408', 'm1146', 'a3446', 'm872', 'a2048', 'm868', 'm197', 'a1623', 'a1248', 'a3660', 'a2787', 'a3007', 'a1419', 'a2985', 'a637', 'a944', 'a464', 'm1254', 'a3029', 'a63', 'a724', 'a742', 'a747', 'a3045', 'a1343', 'a3199', 'a3384', 'a1511', 'a937', 'a927', 'a1818', 'a926', 'a1664', 'm1087', 'a1428', 'a2986', 'a3001', 'a1890', 'a2885', 'a2903', 'a3259', 'a3058', 'a3005', 'a401', 'a71', 'a80', 'a1751', 'a161', 'a863', 'a3588', 'a3428', 'a2933', 'a1502', 'a2982', 'a3018', 'a1423', 'a2336', 'a982', 'a1478', 'a679', 'a3030', 'a720', 'a745', 'a653', 'a644', 'a651', 'a1136', 'a2498', 'm867', 'a784', 'a951', 'a2203', 'a1680', 'a1307', 'm871', 'a2888', 'a1585', 'a1260', 'm569', 'a1657', 'm504', 'a1430', 'a1884', 'a1887', 'a1715', 'a3255', 'a2069', 'a1424', 'a1912', 'a147', 'a2396', 'a227', 'a1637', 'a242', 'a840', 'a338', 'a1503', 'a1510', 'a489', 'a2942', 'a2936', 'a3035', 'm1109', 'a540', 'a711', 'a84', 'a3031', 'a701', 'a3090', 'a718', 'a2910', 'a3564', 'a1162', 'a819', 'a1936', 'm473', 'a1855', 'a931', 'a2644', 'm752', 'a1204', 'a1940', 'a2096', 'a2894', 'a3023', 'a3252', 'a2968', 'a2962', 'a2350', 'a23', 'a27', 'a73', 'a1539', 'a105', 'a1110', 'a2478', 'a478', 'a148', 'm62', 'm935', 'a2990', 'a2981', 'a3020', 'a3041', 'a3230', 'a688', 'a715', 'a686', 'a754', 'a3084', 'a2935', 'a2569', 'a1538', 'm181', 'a3570', 'm1299', 'a995', 'a3263', 'a1982', 'a2828', 'a1726', 'a2197', 'a2954', 'a1433', 'm479', 'a1706', 'a3186', 'a2952', 'a1303', 'a3052', 'a2237', 'a14', 'a402', 'a404', 'a3657', 'a2827', 'a82', 'a3621', 'a2459', 'm423', 'a156', 'a154', 'a417', 'a3429', 'a341', 'a3008', 'a2989', 'a1418', 'a2994', 'a636', 'a635', 'a1814', 'a943', 'a1817', 'a2248', 'a1143', 'a3027', 'a3057', 'a666', 'a581', 'a662', 'a3060', 'a660', 'a761', 'a3049', 'a3012', 'a2999', 'a2873', 'a2743', 'a3573', 'a1209', 'a2138', 'a1736', 'a938', 'a3092', 'a1620', 'a1678', 'a2195', 'm919', 'a2075', 'a990', 'a2742', 'a2006', 'a2066', 'a2219', 'a1427', 'a1444', 'a2896', 'a1565', 'a1729', 'a2964', 'a3274', 'a3415', 'a99', 'a2898', 'a3253', 'a3256', 'a3401', 'a3048', 'a3056', 'a2318', 'a87', 'a86', 'a74', 'a3622', 'a2481', 'a2867', 'a3231', 'a830', 'm861', 'a838', 'a344', 'a2966', 'a2963', 'a2969', 'a1815', 'a2959', 'a667', 'a2662', 'a2884', 'a2082', 'a676', 'm266', 'a3024', 'a2724', 'a2878', 'a2730', 'a3455', 'a1124', 'a77', 'a1630', 'a903', 'a3272', 'a933', 'a1379', 'a2789', 'a1577', 'a2875', 'a1979', 'a1493', 'a1189', 'a2483', 'a1949', 'm842', 'a2817', 'a3462', 'a1891', 'a3572', 'a3019', 'a3258', 'a8', 'a405', 'a2747', 'a2319', 'a2732', 'a83', 'a1151', 'a17', 'a919', 'a824', 'm72', 'a335', 'a345', 'a343', 'a3025', 'a1417', 'a2993', 'a2998', 'a3530', 'm546', 'a2448', 'a717', 'a3201', 'a3032', 'a3036', 'a2940', 'a648', 'a675', 'a2748', 'a2733', 'a2913', 'a2892', 'a2922', 'a582', 'a3086', 'a3013', 'a2754', 'a2575', 'a3336', 'a831', 'a900', 'a2307', 'a3587', 'a3395', 'a1724', 'a2861', 'a3188', 'a3009', 'a3021', 'a3228', 'a2877', 'a1395', 'a2703', 'a3268', 'a3260', 'a2984', 'a19', 'a731', 'a317', 'a78', 'a2406', 'a142', 'a1182', 'a3310', 'a564', 'm235', 'a1866', 'a379', 'a1501', 'a3010', 'a3381', 'a2976', 'a3081', 'a3072', 'a680', 'a2752', 'a605', 'a1735', 'a710', 'a748', 'a744', 'a647', 'a692', 'a3051', 'a103', 'a1874', 'm480', 'a2192', 'a1812', 'a1823', 'a1152', 'a3567', 'a3208', 'a2620', 'a1298', 'm725', 'a2246', 'a1326', 'a1300', 'a429', 'a3551', 'a2928', 'a2700', 'a1953', 'a1795', 'a2045', 'a3565', 'a2890', 'a3002', 'm314', 'a2455', 'a2405', 'a1495', 'a160', 'a159', 'a3307', 'a2064', 'a2997', 'a2992', 'a1316', 'a1819', 'a1820', 'a2783', 'a3040', 'a674', 'a1725', 'a1722', 'a1727', 'a3039', 'a767', 'a2252', 'a3085', 'a3087', 'a2988', 'a2745', 'a826', 'a2291', 'a2035', 'a2822', 'a150', 'a2186', 'a1836', 'a2926', 'a3548', 'a2579', 'a1776', 'a1186', 'a1098', 'a2686', 'a1378', 'a1985', 'a991', 'a2897', 'a1254', 'a2832', 'a2728', 'a2921', 'a2519', 'a3053', 'a2517', 'a72', 'a738', 'a3304', 'a2166', 'a2567', 'a2606', 'a2559', 'a3451', 'a3582', 'a3205', 'a244', 'a245', 'a292', 'a1864', 'a337', 'a2767', 'a1504', 'a2996', 'a2983', 'a3022', 'a1074', 'a643', 'a663', 'a3026', 'a2895', 'a455', 'a3517', 'a3034', 'a537', 'a3403', 'a584', 'a3043', 'a1986', 'a2014', 'a2592', 'a749', 'a697', 'a661', 'a709', 'a2200', 'a693', 'a702', 'a2953', 'a132', 'a781', 'a3390', 'a3578', 'a1870', 'a3180', 'a1642', 'a1899', 'a1292', 'a2865', 'a2522', 'a2373', 'a898', 'a1659', 'a2105', 'a2794', 'a2800', 'a2315', 'm509', 'a1768', 'a1128', 'a2839', 'a3547', 'a3637', 'a1629', 'a2395', 'a3437', 'a2099', 'a1665', 'a2919', 'a2168', 'a445', 'a3187', 'a2046', 'a3061', 'a2584', 'a3273', 'a3257', 'a322', 'a2', 'a403', 'a1574', 'a26', 'a2727', 'a2013', 'a2424', 'a2458', 'a2379', 'a1310', 'a2497', 'a236', 'a276', 'a258', 'a2153', 'a2031', 'a336', 'a2786', 'a1499', 'a1497', 'a956', 'a414', 'a560', 'a2423', 'a1535', 'a1255', 'm233', 'a509', 'a2176', 'a2544', 'a3636', 'a3445', 'a1101', 'a2825', 'a3540', 'a2221', 'm741', 'a2365', 'a2101', 'a3261', 'a3066', 'a3000', 'a3629', 'a113', 'a111', 'a2776', 'a1616', 'a2918', 'a3011', 'a3269', 'a4', 'a2731', 'a250', 'a209', 'a2590', 'a1698', 'a798', 'a2549', 'a2685', 'a2566', 'a2594', 'a302', 'a270', 'a281', 'a70', 'a1064', 'a1791', 'a2973', 'a2974', 'a453', 'a447', 'a481', 'a2598', 'a1284', 'a2886', 'a3037', 'a607', 'a1980', 'a1740', 'a752', 'a85', 'a2343', 'a286', 'a707', 'a2409', 'a2130', 'a555', 'a3563', 'm548', 'a436', 'a2657', 'm1318', 'a3583', 'a2235', 'a957', 'a1824', 'm270', 'a1834', 'a2078', 'm1371', 'a809', 'a610', 'a1634', 'a1772', 'a2230', 'a2272', 'a823', 'a2798', 'a2902', 'a2847', 'a2841', 'a2821', 'a2259', 'a1831', 'a2905', 'a2079', 'a3633', 'a2797', 'a2179', 'a3185', 'a2909', 'a2904', 'a2848', 'a2684', 'a3667', 'a459', 'a164', 'a3059', 'a1813', 'a2751', 'a2005', 'a3473', 'a1739', 'a2467', 'a1567', 'a1129', 'a1529', 'a1086', 'a219', 'a3581', 'a542', 'a271', 'a2965', 'a1790', 'a1793', 'a668', 'a670', 'a277', 'a713', 'a2368', 'a2774', 'a2891', 'a3545', 'a3612', 'a2377', 'a1605', 'a1096', 'a2420', 'a3267', 'a1851', 'a1245', 'a2539', 'a1523', 'a941', 'a1821', 'a1989', 'a2309', 'a1681', 'a2216', 'a1764', 'a2801', 'a3301', 'a2384', 'a2835', 'a2843', 'a3500', 'a3526', 'a2100', 'a3264', 'a839', 'a3492', 'a2292', 'a1541', 'a1955', 'a421', 'a1542', 'a2901', 'a2438', 'a2470', 'a2112', 'a3532', 'a2829', 'a2421', 'a2721', 'a3003', 'a9', 'a10', 'a1187', 'a5', 'a3557', 'a3604', 'a158', 'a2864', 'a591', 'a1527', 'a2560', 'a2369', 'a216', 'a220', 'a2595', 'a225', 'a3297', 'a305', 'a275', 'a331', 'a333', 'a2777', 'a3075', 'a456', 'a2435', 'a1760', 'a573', 'a2404', 'm139', 'a689', 'a641', 'a694', 'a2893', 'a2552', 'm612', 'a2762', 'a2378', 'a1828', 'a1872', 'a3366', 'a2674', 'a3481', 'm500', 'a3495', 'a1163', 'a3202', 'a3628', 'a1646', 'a1711', 'a3450', 'a3275', 'a2372', 'a1741', 'a1640', 'a54', 'a482', 'a3218', 'a3544', 'a1728', 'a1668', 'a2385', 'a2656', 'a1171', 'a2294', 'a706', 'a2093', 'a2271', 'a3505', 'a2729', 'm404', 'a2258', 'm432', 'a1951', 'a2738', 'a3514', 'a2899', 'a3356', 'a2779', 'a2255', 'a2582', 'a2866', 'a3652', 'a2253', 'a1964', 'a3618', 'a612', 'a2753', 'a2514', 'a3325', 'a2830', 'a282', 'a79', 'a2430', 'a2427', 'a2484', 'a2462', 'a1697', 'a1391', 'a2568', 'a1914', 'a2740', 'a2603', 'a543', 'a2570', 'a2364', 'a2358', 'a1084', 'm56', 'a2063', 'a3303', 'a233', 'a3179', 'a2593', 'a91', 'a373', 'a1822', 'm889', 'a892', 'a557', 'a549', 'a2650', 'a2977', 'a448', 'a2431', 'a3298', 'a2464', 'a2173', 'a3354', 'a536', 'a2696', 'a681', 'a2526', 'a263', 'a3626', 'a1709', 'a642', 'a646', 'a2556', 'a699', 'a704', 'a2746', 'a2944', 'a2941', 'a1456', 'a1383', 'a2303', 'a866', 'a1975', 'a2482', 'a3555', 'a1950', 'a895', 'a3337', 'a2213', 'a3480', 'a3498', 'a602', 'a1749', 'a932', 'a2330', 'a3617', 'a1988', 'm838', 'a2842', 'a2780', 'a3460', 'a1302', 'a1769', 'a2457', 'a1990', 'a843', 'a2205', 'a1631', 'a2107', 'a3542', 'a793', 'a340', 'a1159', 'a1208', 'a2652', 'a1943', 'a2015', 'a2311', 'a2308', 'a1198', 'a2641', 'a2051', 'a2454', 'a1191', 'a1333', 'a2576', 'a2915', 'a1683', 'a606', 'a2008', 'a2859', 'a2565', 'a2585', 'a1991', 'a2763', 'a2834', 'a2687', 'a3302', 'a444', 'a2826', 'a3050', 'a2987', 'a3656', 'a2510', 'a737', 'a2317', 'a323', 'a75', 'a1744', 'a1482', 'a1515', 'a1786', 'a1514', 'a145', 'a890', 'a2741', 'a2362', 'a3461', 'a234', 'a569', 'a266', 'a3601', 'a342', 'a2799', 'a1794', 'a1792', 'a1747', 'a553', 'a3070', 'a3611', 'a476', 'a3229', 'a3513', 'a2503', 'a2508', 'a2664', 'a2541', 'a804', 'a517', 'a521', 'a295', 'a290', 'a703', 'a3083', 'a1691', 'a3200', 'a3571', 'a2129', 'a2630', 'm1203', 'a1954', 'a1871', 'a1875', 'a2883', 'a1480', 'a1089', 'a1998', 'a2331', 'a1135', 'a1286', 'a1545', 'a3449', 'a1771', 'a1746', 'a2077', 'a897', 'a1522', 'a2816', 'a3227', 'a480', 'a3490', 'a3177', 'a2756', 'a2310', 'a3290', 'a2615', 'a2659', 'a2360', 'a2326', 'a2094', 'a1161', 'a2765', 'a3525', 'a3539', 'a130', 'a1197', 'a2639', 'a1252', 'a2238', 'a457', 'a1679', 'a546', 'a2887', 'a2172', 'a3541', 'a2925', 'a441', 'a2857', 'm502', 'a2243', 'a1603', 'a3189', 'a3543', 'a2236', 'a2588', 'a293', 'a3467', 'a1528', 'a3091', 'a2637', 'a3400', 'a3650', 'a272', 'a2468', 'a2561', 'a3589', 'm1', 'a1183', 'a140', 'a1153', 'a1742', 'a2596', 'm28', 'a2465', 'a3333', 'a1755', 'a2376', 'a2500', 'a2407', 'a146', 'a2548', 'a2021', 'a2683', 'a2231', 'm374', 'a1526', 'a2571', 'a1323', 'a240', 'a3339', 'a3614', 'a3420', 'a2290', 'a879', 'a289', 'a303', 'a1465', 'a3454', 'a1999', 'a632', 'a3316', 'a458', 'a510', 'a3071', 'a588', 'a3222', 'a554', 'a577', 'a2924', 'a3357', 'a750', 'm167', 'a1190', 'a3067', 'a3088', 'a2914', 'a3399', 'a2808', 'a2622', 'a2050', 'a3648', 'a3569', 'a1969', 'a2634', 'a1860', 'a3360', 'a2249', 'a1193', 'a2492', 'a1521', 'a2110', 'a2226', 'a2456', 'a3376', 'a2268', 'a1966', 'a2621', 'a2528', 'a1761', 'm553', 'a1398', 'a2907', 'a2025', 'a2487', 'a2224', 'a2810', 'a3524', 'a1311', 'a1775', 'a2654', 'a1370', 'a2390', 'a2958', 'a2667', 'a2815', 'a1466', 'a1220', 'a2699', 'a2704', 'a2671', 'a1132', 'a600', 'a2906', 'a1702', 'm489', 'a426', 'a2872', 'a1917', 'a1555', 'a248', 'a2876', 'a2927', 'a2436', 'a2680', 'a3404', 'a3271', 'a2946', 'a1929', 'a3006', 'a310', 'a2353', 'a3641', 'a1488', 'a2437', 'a7', 'a870', 'a256', 'a2434', 'a2604', 'a3477', 'a1700', 'a1392', 'a2547', 'a2869', 'a1342', 'a1714', 'a3340', 'a1117', 'a853', 'a802', 'a2256', 'a246', 'a296', 'a334', 'a958', 'a1459', 'a894', 'a566', 'a3080', 'a2425', 'a257', 'a2538', 'a3308', 'a3309', 'a1721', 'a2661', 'a2297', 'a2916', 'a586', 'a2501', 'a1441', 'a2426', 'a712', 'a716', 'a3079', 'a3627', 'a3352', 'a2796', 'a1080', 'a3568', 'a1264', 'a981', 'a3332', 'a3363', 'a3182', 'a2220', 'a1900', 'a3575', 'a1849', 'a68', 'a3472', 'a2495', 'a1010', 'a2855', 'a1687', 'a3093', 'a2103', 'a2012', 'a2860', 'a2269', 'a3536', 'a3634', 'a2632', 'a2837', 'a2844', 'a1774', 'a1765', 'a2371', 'a1549', 'a1663', 'a2356', 'a2739', 'a2716', 'a1572', 'a2616', 'a1219', 'a2380', 'a2516', 'a2321', 'a2681', 'a1867', 'a1213', 'a2947', 'a3440', 'a3527', 'a1978', 'a1857', 'a2283', 'a446', 'a2874', 'a2022', 'a3512', 'a3484', 'a2900', 'a3321', 'a1701', 'a422', 'a1690', 'a3550', 'a437', 'a114', 'a3292', 'a2573', 'a519', 'a297', 'a1932', 'a2736', 'a3335', 'a1586', 'a3560', 'a2418', 'a2466', 'a287', 'a3491', 'a579', 'a601', 'a1218', 'a2511', 'a2041', 'a2515', 'a3324', 'a2823', 'a3063', 'a278', 'a2553', 'a121', 'm33', 'a1924', 'a1562', 'a2479', 'a1915', 'a3317', 'a2366', 'a235', 'a3183', 'a3613', 'a224', 'a252', 'a307', 'a1104', 'a2807', 'a2975', 'a3078', 'a3064', 'a2250', 'a2775', 'a530', 'a260', 'a2862', 'a1723', 'a3501', 'a102', 'a544', 'a2912', 'a1608', 'a2605', 'a2608', 'a76', 'a1461', 'a135', 'a2432', 'a528', 'a265', 'a2363', 'a3055', 'a3073', 'a3470', 'a1695', 'a1318', 'a1320', 'a2673', 'a1878', 'a2049', 'a3553', 'a3482', 'a1974', 'a2574', 'a2029', 'a1212', 'a1481', 'a2212', 'a3577', 'a1134', 'a1140', 'a1647', 'a2626', 'a48', 'a1469', 'm478', 'a2076', 'a1354', 'a889', 'a3546', 'a2852', 'a2383', 'a2781', 'm437', 'a914', 'a1216', 'a2629', 'a2653', 'a2115', 'a2697', 'a1475', 'a3212', 'a3448', 'a2202', 'a1832', 'a3496', 'a1956', 'a3217', 'a1228', 'a3528', 'm541', 'a1861', 'm570', 'a3651', 'a2433', 'a2833', 'a1644', 'a3410', 'a2145', 'a2770', 'a2555', 'a2957', 'a3593', 'a1277', 'a1236', 'a3533', 'a2530', 'a3586', 'a2824', 'a2911', 'a3645', 'a3065', 'a452', 'a2037', 'a2607', 'a3453', 'a1575', 'a3329', 'a3076', 'a269', 'a2428', 'a133', 'a2463', 'a2486', 'a2499', 'a1688', 'a1904', 'a479', 'a2488', 'a3311', 'a2414', 'a2357', 'a223', 'a2223', 'a3497', 'a1920', 'a515', 'a3419', 'a2261', 'a907', 'a2156', 'a301', 'a619', 'a2178', 'a2980', 'a3619', 'a1144', 'a298', 'a247', 'a249', 'a262', 'a3554', 'a3221', 'a2453', 'a2502', 'a585', 'a1903', 'a497', 'a61', 'a3510', 'a2543', 'a753', 'm748', 'a533', 'a3270', 'a2509', 'a3077', 'a2300', 'a864', 'a2089', 'a1699', 'm776', 'a556', 'a3392', 'a3358', 'a1868', 'a3364', 'a993', 'a868', 'a3405', 'a1127', 'a3584', 'a2856', 'a2165', 'a1853', 'a2185', 'a1624', 'a1981', 'a1863', 'a2148', 'a2228', 'a3458', 'a1770', 'a2648', 'a1118', 'a1375', 'a1374', 'a3344', 'a3223', 'a3226', 'a2705', 'a1762', 'a2520', 'a2027', 'a2791', 'a2778', 'a2717', 'a2850', 'a2167', 'a1941', 'a2387', 'a1157', 'a1160', 'a2945', 'a2631', 'a2726', 'a2201', 'a3597', 'a3334', 'a1858', 'a2211', 'a2881', 'a2586', 'a1455', 'a2513', 'a3632', 'a2320', 'a1829', 'a1703', 'm1056', 'a1987', 'a2868', 'a2871', 'a2158', 'a2047', 'a3191', 'a57', 'a1296', 'a2441', 'a1957', 'a2737', 'a1918', 'a2493', 'a2660', 'a1221', 'a3598', 'a2956', 'a3600', 'a3190', 'a3069', 'a2389', 'a460', 'a618', 'a2863', 'a2580', 'a2978', 'a2413', 'a578', 'a572', 'a3640', 'a3644', 'a312', 'a3669', 'a1145', 'a3469', 'a837', 'a1696', 'a468', 'a3176', 'm66', 'a2496', 'a3430', 'a512', 'a2260', 'a3602', 'a304', 'a2419', 'm107', 'a2979', 'a3655', 'a274', 'a288', 'a1927', 'a511', 'a3511', 'a3225', 'a589', 'a2532', 'a3387', 'a279', 'a2359', 'a2304', 'a2749', 'a1692', 'a3444', 'a861', 'a2759', 'm1137', 'a869', 'm1315', 'a2880', 'a2417', 'a3406', 'a3466', 'a1013', 'a751', 'a2333', 'a3596', 'a2113', 'a2229', 'a614', 'a2397', 'a3320', 'a3209', 'a2263', 'a616', 'a1261', 'a2557', 'a3194', 'a2090', 'a3549', 'a2618', 'a2665', 'a513', 'a526', 'a2619', 'a3346', 'a1210', 'a1996', 'a2098', 'a810', 'a2702', 'a1344', 'a1251', 'a2155', 'a2306', 'a2174', 'a1546', 'a2188', 'm454', 'a2180', 'a1509', 'a2689', 'a2761', 'a2542', 'a2257', 'a3521', 'a2610', 'a2033', 'a1928', 'a2154', 'a3559', 'a3433', 'a1561', 'a1103', 'a3323', 'a2529', 'a2955', 'a2693', 'a2578', 'a2811', 'a2422', 'a2669', 'a1564', 'a1942', 'a2524', 'a2042', 'a2469', 'a698', 'a3605', 'a1168', 'a3459', 'a254', 'a3643', 'a2663', 'a2040', 'a2175', 'a1611', 'a1206', 'a3488', 'm24', 'a3515', 'a1732', 'a1113', 'a1346', 'a2018', 'a143', 'a3494', 'a3341', 'a432', 'a3423', 'a3418', 'a851', 'a1638', 'a739', 'a561', 'a3062', 'a264', 'a273', 'a3074', 'a558', 'a2670', 'a1618', 'a3398', 'a547', 'a1612', 'a2302', 'a2475', 'a2480', 'a705', 'a1297', 'a2162', 'a410', 'a3452', 'a3235', 'a1540', 'a3552', 'a1733', 'm895', 'a1753', 'a2533', 'a1923', 'a604', 'a2613', 'a849', 'a1247', 'a2572', 'a3382', 'a1717', 'a1650', 'a1645', 'a2108', 'a3465', 'a1759', 'a67', 'a2010', 'a1842', 'a1921', 'a3427', 'a3580', 'a3623', 'a1350', 'a888', 'a1597', 'm617', 'a1675', 'a1656', 'a500', 'a2623', 'a2161', 'a1879', 'a1457', 'a1965', 'a2002', 'a1287', 'a1390', 'a1394', 'a423', 'a2251', 'a1952', 'a912', 'a2879', 'a1357', 'a2452', 'a2439', 'a562', 'a906', 'a594', 'a1945', 'a2948', 'a1367', 'a527', 'a3625', 'a3343', 'a3590', 'a3624', 'a1682', 'a3374', 'a2193', 'a2410', 'a1451', 'a3412', 'a3206', 'a2429', 'a3506', 'a1935', 'a1602', 'a419', 'a3276', 'a2675', 'a2411', 'a3556', 'a3353', 'a587', 'a1358', 'a848', 'a700', 'a1166', 'a1250', 'a2296', 'a3082', 'a1173', 'a3646', 'a1485', 'a2348', 'a2444', 'a3476', 'a122', 'a2853', 'a1568', 'a2159', 'a1229', 'a1082', 'a2289', 'a3379', 'a508', 'a3424', 'a218', 'a3654', 'a3658', 'a2450', 'a1147', 'a294', 'a1779', 'a568', 'a583', 'a3385', 'a2036', 'a1628', 'a3397', 'a3299', 'a2773', 'a2972', 'a2551', 'a2600', 'a1319', 'a1961', 'a1573', 'a3214', 'a2757', 'a559', 'a2628', 'a2531', 'a2882', 'a3195', 'a1825', 'm870', 'a1621', 'a3585', 'a2760', 'a2182', 'a3538', 'a2334', 'a2337', 'a2691', 'a1050', 'a2149', 'a2227', 'a611', 'a3435', 'a1840', 'm1312', 'a3638', 'a1517', 'a1371', 'a1352', 'a3591', 'a2537', 'a3287', 'a2143', 'a3456', 'a1839', 'a2126', 'a3659', 'a496', 'a1880', 'a1801', 'a339', 'a1944', 'a120', 'a1184', 'a1167', 'a1231', 'a2392', 'a2132', 'a2563', 'a597', 'a2102', 'a1158', 'a1156', 'a1854', 'a2723', 'a2950', 'a2701', 'a3377', 'a1571', 'a2183', 'a3522', 'a1492', 'a1477', 'a1476', 'a2809', 'a514', 'a1977', 'a1093', 'a1584', 'a2184', 'a1968', 'a2546', 'a2401', 'a3425', 'a2118', 'a3668', 'a3326', 'a2485', 'a2714', 'a735', 'a3520', 'a2505', 'a471', 'a495', 'a1756', 'a2550', 'a65', 'a3289', 'a3503', 'a3282', 'a608', 'a124', 'a876', 'a2769', 'a3313', 'm110', 'a1972', 'a3291', 'a475', 'a474', 'a1142', 'a2589', 'a494', 'a730', 'a1627', 'a609', 'a1743', 'a2477', 'a1694', 'a3671', 'a1859', 'a2264', 'a2017', 'a908', 'a1531', 'a2472', 'a2152', 'a1007', 'a3279', 'a3178', 'a3670', 'a2633', 'a3649', 'a3639', 'a2026', 'a1651', 'a1349', 'a524', 'a1537', 'a3447', 'a1288', 'm1171', 'a2244', 'a1655', 'a1610', 'm878', 'a1174', 'a2322', 'a1293', 'a3216', 'a1201', 'a2394', 'a62', 'a2275', 'a1276', 'a846', 'a1299', 'a1633', 'a1155', 'a3442', 'a3516', 'a2124', 'a3383', 'a3318', 'a2265', 'a1705', 'a2329', 'a3664', 'a3277', 'a3631', 'a2682', 'a1169', 'a3348', 'm1053', 'a2679', 'a3328', 'a3193', 'a2254', 'a2136', 'a2019', 'a451', 'a268', 'a3322', 'a3642', 'a3499', 'a2106', 'a576', 'a2446', 'a308', 'a3468', 'a3576', 'a2845', 'a1788', 'a2120', 'a2346', 'a2523', 'a1282', 'a3535', 'a1569', 'a2163', 'a60', 'a409', 'a3486', 'a2601', 'a3422', 'a2473', 'a2023', 'a1049', 'a2028', 'a467', 'a477', 'a3355', 'a545', 'a3175', 'a2536', 'a622', 'a2504', 'a1460', 'a529', 'a300', 'a1902', 'a1489', 'a3331', 'a3347', 'a902', 'a1848', 'a1826', 'm257', 'a1491', 'a1364', 'a2043', 'a1290', 'a3236', 'a1111', 'a1674', 'a3630', 'a2813', 'a3603', 'm864', 'a2278', 'a1845', 'a1053', 'a3615', 'a1906', 'm730', 'a2245', 'a3483', 'a3509', 'a1643', 'a1341', 'a3595', 'a2313', 'a1199', 'a2698', 'a1274', 'a1116', 'a1263', 'a1453', 'a1283', 'a1913', 'a1439', 'a3198', 'a2521', 'a3507', 'a1472', 'a2415', 'a917', 'a2642', 'a118', 'a2758', 'a2609', 'a1719', 'a1930', 'a2771', 'a2668', 'a3537', 'a3558', 'a326', 'a2949', 'a1278', 'a1570', 'a3391', 'a3653', 'a2039', 'a1661', 'a3327', 'm8', 'a3285', 'a3534', 'a151', 'm48', 'a2655', 'a3421', 'a1754', 'a814', 'a465', 'a786', 'a1613', 'a498', 'a565', 'm1317', 'a3519', 'a2476', 'a1322', 'a532', 'a3197', 'a2137', 'a2196', 'a1850', 'a3210', 'a2052', 'a2612', 'a1330', 'a1666', 'a1279', 'a1636', 'a2440', 'a1289', 'a2581', 'a1217', 'a2240', 'a2676', 'a2795', 'a2150', 'a795', 'a1789', 'a1267', 'a2527', 'a420', 'a3673', 'a2194', 'a1309', 'a2092', 'a3300', 'a3635', 'm823', 'a3362', 'a1852', 'a1712', 'a2445', 'a2474', 'a413', 'a2117', 'a2677', 'a1331', 'a2034', 'a2489', 'a2784', 'a2638', 'a2142', 'a2447', 'a469', 'a1757', 'a520', 'a2408', 'a2062', 'a241', 'a1108', 'a2207', 'a3674', 'a3314', 'a3402', 'a734', 'a1295', 'a1689', 'a3479', 'a2625', 'a783', 'a3620', 'm251', 'a1937', 'a2157', 'a3278', 'a1105', 'a2111', 'a1841', 'm806', 'a1654', 'a2611', 'a1325', 'a1685', 'a1207', 'a1054', 'a2381', 'a3463', 'a2636', 'a3350', 'a2635', 'a1202', 'a2097', 'a1275', 'a2286', 'a2678', 'a862', 'a1596', 'a1445', 'a1351', 'a1578', 'a97', 'a1707', 'a2288', 'a1838', 'a1215', 'a2325', 'a2688', 'a3474', 'a1336', 'a1576', 'a1559', 'a1847', 'a1056', 'a1234', 'a2507', 'a2199', 'a2554', 'a1486', 'a873', 'a847', 'a3196', 'a858', 'a1778', 'a1780', 'a1856', 'a1787', 'a2109', 'a1844', 'a1846', 'a1548', 'a55', 'a2831', 'a1625', 'a1272', 'a2284', 'a2287', 'a3319', 'a1348', 'a1360', 'a2177', 'a2151', 'a2846', 'a3502', 'a2643', 'a1591', 'a3296', 'a1958', 'a2266', 'a2190', 'a2274', 'a2858', 'a2690', 'a3562', 'a424', 'a2666', 'a882', 'a2242', 'a2324', 'a1055', 'a2386', 'a3606', 'a2217', 'a237', 'a3068', 'a3523', 'a1614', 'a1239', 'a852', 'a1594', 'a3464', 'a2206', 'm858', 'a3457', 'a2277', 'a1372', 'a1811', 'a1916', 'a2449', 'a2597', 'a1345', 'a1270', 'a2352', 'a1588', 'a1355', 'a2160', 'a3663', 'a2640', 'a1224', 'a884', 'a2276', 'a2285', 'a2382', 'a3665', 'a2144', 'a3647', 'a2282', 'a1909', 'a2095', 'a311', 'a3487', 'a2645', 'a2209', 'a1827', 'a1240', 'a1684', 'a2116', 'a1353', 'a833', 'a2053', 'a1557', 'a1306', 'a1315', 'a3662', 'a3426', 'a3295', 'a2279', 'a1653', 'a1356', 'a2558', 'a3284', 'm953', 'a817', 'm232', 'a3224', 'a324', 'm620', 'a1447', 'a3286', 'a2280', 'a580', 'a2187', 'a2135', 'a1922', 'a1471', 'a2114', 'a2210', 'a2443', 'a2614', 'a1241', 'a3213', 'a1317', 'a2281', 'a1237', 'm499', 'a2189', 'a1446', 'a2123', 'a3574', 'a1314', 'a1752', 'a2340', 'm506', 'a1059', 'a2032']\n"
          ]
        }
      ]
    },
    {
      "cell_type": "code",
      "metadata": {
        "id": "rJ-I8O4HzNAQ",
        "colab": {
          "base_uri": "https://localhost:8080/"
        },
        "outputId": "d6fd1eac-6afb-4959-eec5-eb36ccb27fbf"
      },
      "source": [
        "from sklearn.cluster import KMeans\n",
        "\n",
        "cluster_list=[3,5,10,30,50,100,200,500]\n",
        "Cost=[]\n",
        "\n",
        "for cluster in cluster_list:\n",
        "  algo=KMeans(n_clusters=cluster)\n",
        "  algo.fit(N)\n",
        "  label=algo.labels_\n",
        "  dic=dict(zip(L,label))\n",
        "  cost_1=0\n",
        "  cost_2=0\n",
        "  for i in label:\n",
        "    ac_node = [k for k,v in dic.items() if v == i]\n",
        "    G1=nx.Graph()\n",
        "    for n in ac_node:\n",
        "      \n",
        "      sub_graph1 = nx.ego_graph(A,n)\n",
        "      G1.add_nodes_from(sub_graph1.nodes)\n",
        "      G1.add_edges_from(sub_graph1.edges())\n",
        "    \n",
        "    cost_1=+cost1(G1,cluster)\n",
        "    cost_2=+cost2(G1,cluster)\n",
        "\n",
        "  print(cost_1*cost_2)\n",
        "  Cost.append(cost_1*cost_2)"
      ],
      "execution_count": 31,
      "outputs": [
        {
          "output_type": "stream",
          "name": "stdout",
          "text": [
            "0.4389958060164164\n",
            "0.15558609248634825\n",
            "0.021645825791723552\n",
            "9.397004847985241e-05\n",
            "3.099886419043271e-05\n",
            "6.3023061278697754e-06\n",
            "1.2187674483528756e-06\n",
            "2.6929392446633827e-07\n"
          ]
        }
      ]
    },
    {
      "cell_type": "code",
      "metadata": {
        "id": "w9N2mLa4ABiX"
      },
      "source": [
        "cost_1=+cost1(G1,cluster)\n",
        "cost_2=+cost2(G1,cluster)"
      ],
      "execution_count": 110,
      "outputs": []
    },
    {
      "cell_type": "code",
      "metadata": {
        "colab": {
          "base_uri": "https://localhost:8080/"
        },
        "id": "xaFks1ubABm0",
        "outputId": "aa3ee348-5284-42ea-b900-7ab4b4b41ec0"
      },
      "source": [
        "print(cost_1*cost_2)\n",
        "Cost.append(cost_1*cost_2)"
      ],
      "execution_count": 111,
      "outputs": [
        {
          "output_type": "stream",
          "name": "stdout",
          "text": [
            "2.6929392446633827e-07\n"
          ]
        }
      ]
    },
    {
      "cell_type": "markdown",
      "metadata": {
        "id": "6xfTd3eOzooZ"
      },
      "source": [
        "<font color='blue'>Displaying similar actor clusters</font>"
      ]
    },
    {
      "cell_type": "code",
      "metadata": {
        "id": "MSwNPRctzerd"
      },
      "source": [
        "best_cluster=cluster_list[Cost.index(max(Cost))]"
      ],
      "execution_count": 112,
      "outputs": []
    },
    {
      "cell_type": "code",
      "metadata": {
        "colab": {
          "base_uri": "https://localhost:8080/"
        },
        "id": "046UFIro431y",
        "outputId": "e0df44f7-06ae-49a1-bf90-dc6c0bf7c545"
      },
      "source": [
        "best_cluster"
      ],
      "execution_count": 113,
      "outputs": [
        {
          "output_type": "execute_result",
          "data": {
            "text/plain": [
              "3"
            ]
          },
          "metadata": {},
          "execution_count": 113
        }
      ]
    },
    {
      "cell_type": "code",
      "metadata": {
        "colab": {
          "base_uri": "https://localhost:8080/"
        },
        "id": "RAw3vSrV46zw",
        "outputId": "32678fe0-5e27-438f-c667-3e27361076b5"
      },
      "source": [
        "from sklearn.cluster import KMeans\n",
        "k_means=KMeans(n_clusters=best_cluster)\n",
        "k_means.fit(N)\n",
        "print(k_means.cluster_centers_)"
      ],
      "execution_count": 114,
      "outputs": [
        {
          "output_type": "stream",
          "name": "stdout",
          "text": [
            "[[-1.43657022e-01  2.05439373e-02  1.54603767e-01 -5.40951188e-02\n",
            "  -1.51872968e-01  2.73666262e-02 -6.53429919e-02 -1.73805032e-01\n",
            "  -2.89610202e-01 -4.65922230e-04 -1.81507820e-01  1.81745397e-01\n",
            "   5.52906040e-02 -6.38083864e-02  1.86831050e-01  3.13497972e-02\n",
            "  -1.28343303e-01  1.13872437e-01 -2.37880467e-02 -6.83178697e-02\n",
            "   7.31850669e-02  4.07889509e-02 -1.58659587e-01  9.02188298e-02\n",
            "  -5.95764820e-03 -5.57135012e-02  1.41782324e-01 -3.79609754e-02\n",
            "  -4.21341083e-02 -1.84641033e-02  6.73481430e-02 -2.10328760e-02\n",
            "   7.88762576e-02 -1.38613540e-01  9.38835552e-02  6.77082387e-03\n",
            "  -1.36461022e-01 -8.69453469e-02  2.19063922e-01  2.41163348e-01\n",
            "  -8.02727759e-02  9.79222652e-02 -4.10645863e-02 -1.05325097e-01\n",
            "   2.44188557e-01 -1.81267767e-02  1.38223178e-01  3.66801771e-02\n",
            "  -8.96793103e-02 -5.37353346e-02 -3.28809389e-02  6.36669126e-02\n",
            "  -1.92087068e-01  2.77550026e-02 -1.48618251e-01  8.17457483e-02\n",
            "   3.59524831e-01  1.39390022e-01 -3.77530938e-03  2.83680308e-02\n",
            "   1.96372826e-01 -3.54225992e-02 -6.74931780e-02  9.42979561e-02\n",
            "   7.05764541e-02  6.23410988e-02 -9.17675782e-02 -6.57147605e-02\n",
            "   2.70706725e-01 -1.47831781e-01  2.14266661e-01  2.75448591e-02\n",
            "  -1.29859405e-01 -1.20607429e-01 -1.34999874e-02  7.50198434e-02\n",
            "  -4.27481638e-02  4.08581727e-02  1.63178265e-01 -2.61876800e-01\n",
            "  -1.13975991e-01 -1.33851259e-01  2.07210252e-01  1.38505649e-01\n",
            "   1.81825491e-01  9.54613208e-02 -6.45280044e-02 -1.22521539e-01\n",
            "   8.68997457e-02  6.49696277e-02  1.06205693e-01  7.63399160e-02\n",
            "   1.99748185e-01 -1.80483614e-01 -6.13158217e-02 -1.18748430e-02\n",
            "   2.12980864e-01  6.41183397e-02 -3.33605986e-02  1.68816277e-01\n",
            "   1.64187301e-01  3.49858024e-01 -1.50501526e-01 -1.91010968e-01\n",
            "   4.53378868e-02 -1.33029352e-01  1.06227569e-01  5.58043465e-02\n",
            "   1.42940315e-01 -9.41870734e-02  2.32934421e-03 -1.35381248e-01\n",
            "  -1.85847258e-02  9.71289362e-02 -7.61398866e-02  7.61252161e-02\n",
            "   7.78490427e-02  1.81922310e-01 -1.41749159e-02 -7.35816220e-02\n",
            "   1.48696049e-01  8.75899134e-02 -1.12119664e-01  2.17862519e-01\n",
            "  -8.53774004e-03 -2.03841746e-01 -1.28214122e-02 -1.24831262e-01]\n",
            " [ 1.76995678e-01 -8.26749914e-01  2.85559903e-01 -6.32529081e-02\n",
            "  -2.73719547e-01 -1.02166549e+00  1.46726159e-02 -2.16804745e-01\n",
            "  -8.99360219e-01 -5.99672771e-01 -6.26129313e-01  4.73338369e-01\n",
            "  -1.17088495e+00  4.58061536e-01  1.53054065e+00  1.95147915e+00\n",
            "  -1.34177337e+00  4.57420136e-02  1.15180484e+00 -3.32312359e-01\n",
            "  -1.82942254e-02 -6.73653437e-02 -1.43718496e-01  1.34164737e+00\n",
            "  -4.59865716e-01 -1.17770005e-01  6.07956698e-01  9.96419620e-01\n",
            "  -3.34902705e-02 -4.09994511e-01  5.26104297e-01  1.49243364e+00\n",
            "   5.40288736e-01  1.15052458e-01  4.96902072e-01  6.35779736e-01\n",
            "  -2.67052778e-01  3.32523047e-02  1.68565052e-03  4.37737925e-01\n",
            "   9.83571281e-01 -7.09034652e-01 -2.76778228e-01  1.64665708e+00\n",
            "  -2.75373076e-01 -2.29847159e-01  1.08941397e+00  7.80221600e-01\n",
            "  -1.54959036e+00  3.54160156e-01 -1.11896497e+00  6.14801342e-01\n",
            "  -1.56595732e+00 -1.27139692e+00  5.51315101e-01  5.61995337e-01\n",
            "   3.88969606e-01 -1.17173866e-01 -1.12265653e+00 -1.02210740e+00\n",
            "  -3.27357651e-01  5.76701649e-01 -4.62641513e-01 -9.08306184e-01\n",
            "  -8.72404728e-01 -1.50269959e+00  5.03235066e-01 -4.87628514e-01\n",
            "   1.20056592e+00 -3.12324961e-01 -8.43345754e-01 -2.38193435e-01\n",
            "  -8.36404520e-02  8.99325811e-01  1.37785341e-01 -1.82562326e-01\n",
            "   3.22888514e-01 -3.04687968e-02 -5.51752455e-01 -6.32110211e-01\n",
            "  -6.18191618e-02  1.95106838e-01  1.44812783e-01 -1.99546420e-01\n",
            "   1.38824146e-01  7.85901736e-02 -1.57653215e+00 -2.10838249e+00\n",
            "   8.80828549e-01  1.66094506e+00  2.59238890e-01  5.80347215e-01\n",
            "  -1.52695741e+00 -4.77880967e-01  1.01468007e+00 -2.07201461e-01\n",
            "  -3.65885343e-01 -6.35007945e-01  3.94158529e-01  1.21429564e+00\n",
            "   3.62356672e-01  8.11161664e-01  4.61549923e-01 -2.83952885e-02\n",
            "  -7.37385699e-02 -7.11280845e-01 -8.29399082e-01  2.73084342e-01\n",
            "  -6.60238419e-01  1.69055482e-02  3.20918749e-01 -4.94656172e-01\n",
            "  -3.02356012e-01  9.60043497e-02  1.36902001e+00  3.09127002e-01\n",
            "   8.08138764e-01  4.65062090e-01 -4.09440719e-01  6.06500934e-02\n",
            "  -6.72077590e-01  1.71907838e-01 -1.78033950e-01 -3.65437205e-01\n",
            "  -2.01457726e-01  5.44306606e-02  2.82863363e-01  2.11586247e-01]\n",
            " [-2.33180800e-01 -1.56512575e-01  3.89059540e-02  2.09423226e-01\n",
            "  -1.20407313e-01  2.80328007e-01 -2.87657564e-01 -3.36063819e-01\n",
            "  -4.68673827e-01  2.64776130e-01 -1.11420814e-01  6.50462631e-01\n",
            "   3.57294256e-01 -4.41360373e-02  3.38279986e-01  6.69291042e-05\n",
            "   1.61296376e-02  1.32771365e-01 -8.46714402e-03 -1.28962699e-01\n",
            "  -1.04703318e-01  1.44741922e-01 -1.29116618e-01 -3.80842796e-02\n",
            "   1.28594561e-01 -2.08085854e-03  7.36575163e-02 -5.41177299e-02\n",
            "  -2.27813239e-01  1.26460518e-01  2.80819250e-01 -2.14641097e-02\n",
            "   2.36481019e-02 -3.10870671e-01 -4.95284131e-02 -8.06597336e-03\n",
            "  -4.58750214e-01 -1.71248231e-01  2.89168153e-01  6.83182240e-01\n",
            "   2.50704094e-04  6.08296277e-02 -1.40057853e-02 -3.61100049e-01\n",
            "   5.40577843e-01  2.01099186e-01  2.27163075e-01  6.62623807e-02\n",
            "   3.15483756e-02 -2.30529835e-01 -1.93116288e-02  1.28968764e-01\n",
            "  -3.08955952e-01  2.02778949e-01 -1.12721681e-01  2.23902149e-01\n",
            "   6.57001413e-01  2.60982860e-01  2.47825975e-02  2.72865214e-01\n",
            "   2.70345824e-01 -1.91018120e-01 -3.82081788e-01  3.31777563e-01\n",
            "   2.66799048e-01  6.78141945e-02 -2.29839213e-01  1.51278537e-02\n",
            "   6.16584574e-01 -2.06200231e-01  4.48864619e-01 -1.15494773e-01\n",
            "  -1.55683973e-01 -3.04317051e-01  1.56571967e-01  2.30873674e-01\n",
            "   2.53202027e-01  8.96293304e-02  3.79321715e-01 -5.04252437e-01\n",
            "   7.49379098e-02 -1.59402568e-01  9.21413058e-02  2.28918983e-01\n",
            "   3.40912701e-01  1.87398318e-01 -2.38299632e-02 -2.52448487e-02\n",
            "   7.96483519e-02 -4.00214411e-02  5.78514378e-02  2.16115120e-01\n",
            "   7.02741384e-01 -1.21748105e-01 -2.84317123e-01 -2.28184088e-01\n",
            "   2.52677079e-01  1.89089086e-01  4.99454529e-02  6.71667215e-02\n",
            "   3.33211872e-01  4.17166684e-01 -1.73291367e-01 -1.18806196e-01\n",
            "   2.80583367e-01 -4.46791150e-01  1.18300807e-01  1.26321929e-01\n",
            "   4.29318268e-02 -9.68546128e-02  1.53389377e-02 -4.15766160e-01\n",
            "   1.21403455e-01  1.05304999e-01 -2.90918428e-01  5.98650851e-02\n",
            "   1.16278755e-01  1.25042503e-01  1.02583645e-01 -1.18033443e-01\n",
            "   2.57214936e-01  9.78447836e-02 -2.49927297e-01  6.22860504e-01\n",
            "   1.55935547e-01 -1.88855129e-01 -1.30996003e-01 -2.82354086e-01]]\n"
          ]
        }
      ]
    },
    {
      "cell_type": "code",
      "metadata": {
        "colab": {
          "base_uri": "https://localhost:8080/"
        },
        "id": "5VcIWZPc462V",
        "outputId": "f432ef46-d5bb-4529-eec4-f348d14a7454"
      },
      "source": [
        "print(k_means.labels_)"
      ],
      "execution_count": 115,
      "outputs": [
        {
          "output_type": "stream",
          "name": "stdout",
          "text": [
            "[1 1 2 ... 0 0 0]\n"
          ]
        }
      ]
    },
    {
      "cell_type": "code",
      "metadata": {
        "id": "YAC02tg12J3p"
      },
      "source": [
        ""
      ],
      "execution_count": null,
      "outputs": []
    },
    {
      "cell_type": "code",
      "metadata": {
        "id": "CAX4cWFwHb58"
      },
      "source": [
        "from sklearn.manifold import TSNE"
      ],
      "execution_count": 116,
      "outputs": []
    },
    {
      "cell_type": "code",
      "metadata": {
        "colab": {
          "base_uri": "https://localhost:8080/"
        },
        "id": "cUflmnSGLBmo",
        "outputId": "c9261279-7d1c-47c3-ec30-d734c1400c39"
      },
      "source": [
        "#dimension data for actor node:\n",
        "dimension_data_for_actor_node = N\n",
        "\n",
        "dimension_data_for_actor_node_array=np.asarray([dimension_data_for_actor_node])\n",
        "dimension_data_for_actor_node_array.shape\n"
      ],
      "execution_count": 117,
      "outputs": [
        {
          "output_type": "execute_result",
          "data": {
            "text/plain": [
              "(1, 3411, 128)"
            ]
          },
          "metadata": {},
          "execution_count": 117
        }
      ]
    },
    {
      "cell_type": "code",
      "metadata": {
        "colab": {
          "base_uri": "https://localhost:8080/"
        },
        "id": "f3AFHhfUA9Xk",
        "outputId": "67d6b5dc-3de1-465e-feee-7b39a131dff3"
      },
      "source": [
        "dimension_data_for_actor_node_final=np.reshape(dimension_data_for_actor_node_array,(3411,128))\n",
        "dimension_data_for_actor_node_final.shape"
      ],
      "execution_count": 55,
      "outputs": [
        {
          "output_type": "execute_result",
          "data": {
            "text/plain": [
              "(3411, 128)"
            ]
          },
          "metadata": {},
          "execution_count": 55
        }
      ]
    },
    {
      "cell_type": "code",
      "metadata": {
        "id": "zslFSigzRkzw",
        "colab": {
          "base_uri": "https://localhost:8080/",
          "height": 457
        },
        "outputId": "2f160887-392e-4acf-9d5d-6fa34e266526"
      },
      "source": [
        "#step2:apply kmeans algorithm on data using n_cluster\n",
        "from sklearn.cluster import KMeans\n",
        "#here we are considering n_clusters=5\n",
        "kmeans= KMeans(n_clusters=5) \n",
        "kmeans.fit(dimension_data_for_actor_node_final)\n",
        "#now Kmeans model contain five clusters and each cluster contain similar actor nodes\n",
        "predicted_cluster=kmeans.predict(dimension_data_for_actor_node_final)\n",
        "\n",
        "#Step3:\n",
        "\n",
        "from sklearn.manifold import TSNE\n",
        "#TSNE_model = TSNE \n",
        "\n",
        "TSNE_model = TSNE(n_components=2)\n",
        "\n",
        "#apply TSNE model on the \"dimension data for actor node\" to reduce 128 dimensions to 2 dimensions\n",
        "two_dimensional_data = TSNE_model.fit_transform(dimension_data_for_actor_node_final)\n",
        "\n",
        "#now 2 dimensional data contains 3411 rows and 2 dimensions\n",
        "two_dimensional_data_shape= two_dimensional_data.shape\n",
        "\n",
        "#step4: Perform Verticle Stacking\n",
        "#By using vstack() function which is present inside the numpy module, we are going to perform verticle stacking on the transpose data of \"two_dimensional_data\" & \"predicted_cluster\"\n",
        "#Taking Transpose:\n",
        "transpose_predicted_cluster = predicted_cluster.T\n",
        "transpose_two_dimensional_data = two_dimensional_data.T\n",
        "\n",
        "required_data = np.vstack((transpose_predicted_cluster,transpose_two_dimensional_data))\n",
        "\n",
        "#Now shape of required data is (3, 3411)\n",
        "#step5:\n",
        "#use DataFrame() function present in pandas module to convert the transposed_required_data into a dataframe\n",
        "import pandas as pd\n",
        "import seaborn as sn\n",
        "\n",
        "final_data = pd.DataFrame(required_data.T, columns= [\"Col_1\",\"Col_2\",\"Label\"])\n",
        "#now final_data is a DataFrame, which contain 3411 rows and 3 columns\n",
        "\n",
        "#Ploting the result of tsne\n",
        "\n",
        "sn.FacetGrid(final_data, hue=\"Label\", size=6).map(plt.scatter, 'Col_1', 'Col_2')\n",
        "plt.title('Visualization for similar actor clusters With perplexity = 2')\n",
        "plt.show()\n"
      ],
      "execution_count": 62,
      "outputs": [
        {
          "output_type": "display_data",
          "data": {
            "image/png": "[encoded data removed]",
            "text/plain": [
              "<Figure size 432x432 with 1 Axes>"
            ]
          },
          "metadata": {
            "needs_background": "light"
          }
        }
      ]
    },
    {
      "cell_type": "code",
      "metadata": {
        "id": "L89wxMMaHZuG"
      },
      "source": [
        ""
      ],
      "execution_count": null,
      "outputs": []
    },
    {
      "cell_type": "markdown",
      "metadata": {
        "id": "oLtD_0HWzfFA"
      },
      "source": [
        "<font color='blue'>Grouping similar movies</font>"
      ]
    },
    {
      "cell_type": "code",
      "metadata": {
        "id": "A1YZ5AjhzfhZ",
        "colab": {
          "base_uri": "https://localhost:8080/"
        },
        "outputId": "8a407840-482e-40e5-918d-199ac23a069b"
      },
      "source": [
        "from sklearn.cluster import KMeans\n",
        "\n",
        "cluster_list5=[3,5,10,30,50,100,200,500]\n",
        "Cost5=[]\n",
        "\n",
        "for cluster in cluster_list5:\n",
        "  algo5=KMeans(n_clusters=cluster)\n",
        "  algo5.fit(O)\n",
        "  label=algo5.labels_\n",
        "  dic=dict(zip(M,label))\n",
        "  cost_15=0\n",
        "  cost_25=0\n",
        "  for i in label:\n",
        "    ac_node5 = [k for k,v in dic.items() if v == i]\n",
        "    G15=nx.Graph()\n",
        "    for n in ac_node5:\n",
        "      \n",
        "      sub_graph15 = nx.ego_graph(A,n)\n",
        "      G15.add_nodes_from(sub_graph15.nodes)\n",
        "      G15.add_edges_from(sub_graph15.edges())\n",
        "    \n",
        "    cost_15=+cost1(G15,cluster)\n",
        "    cost_25=+cost2(G15,cluster)\n",
        "\n",
        "  print(cost_15*cost_25)\n",
        "  Cost5.append(cost_15*cost_25)"
      ],
      "execution_count": 139,
      "outputs": [
        {
          "output_type": "stream",
          "name": "stdout",
          "text": [
            "0.6991793052399112\n",
            "0.20491804955381115\n",
            "0.020149620748715444\n",
            "0.0013918095418521677\n",
            "0.00042443845954037756\n",
            "5.5247471703167915e-05\n",
            "7.104987917913947e-06\n",
            "4.779686333084392e-07\n"
          ]
        }
      ]
    },
    {
      "cell_type": "markdown",
      "metadata": {
        "id": "fvhwPpX00EhA"
      },
      "source": [
        "<font color='blue'>Displaying similar movie clusters</font>"
      ]
    },
    {
      "cell_type": "code",
      "metadata": {
        "id": "BpC5C2TrzfwK"
      },
      "source": [
        "best_cluster1=cluster_list5[Cost5.index(max(Cost5))]"
      ],
      "execution_count": 140,
      "outputs": []
    },
    {
      "cell_type": "code",
      "metadata": {
        "id": "r17agJfVpAMp",
        "colab": {
          "base_uri": "https://localhost:8080/"
        },
        "outputId": "c6843b3d-117e-4d4a-c169-e15ae9befb7b"
      },
      "source": [
        "best_cluster1"
      ],
      "execution_count": 141,
      "outputs": [
        {
          "output_type": "execute_result",
          "data": {
            "text/plain": [
              "3"
            ]
          },
          "metadata": {},
          "execution_count": 141
        }
      ]
    },
    {
      "cell_type": "code",
      "metadata": {
        "id": "bEjh7-iWq8Do"
      },
      "source": [
        "cost_15=+cost1(G15,cluster)\n",
        "cost_25=+cost2(G15,cluster)"
      ],
      "execution_count": 142,
      "outputs": []
    },
    {
      "cell_type": "code",
      "metadata": {
        "colab": {
          "base_uri": "https://localhost:8080/"
        },
        "id": "OQk-Z9eCq8Ic",
        "outputId": "405c35e5-bd2f-4d65-e0a4-5f510e8e6962"
      },
      "source": [
        "print(cost_15*cost_25)\n",
        "Cost5.append(cost_15*cost_25)"
      ],
      "execution_count": 143,
      "outputs": [
        {
          "output_type": "stream",
          "name": "stdout",
          "text": [
            "4.779686333084392e-07\n"
          ]
        }
      ]
    },
    {
      "cell_type": "code",
      "metadata": {
        "colab": {
          "base_uri": "https://localhost:8080/"
        },
        "id": "z0xMa_Tfq8K7",
        "outputId": "b065fc18-d482-48f1-fdcf-788fa086e504"
      },
      "source": [
        "from sklearn.cluster import KMeans\n",
        "k_means5=KMeans(n_clusters=best_cluster1)\n",
        "k_means5.fit(O)\n",
        "print(k_means.cluster_centers_)"
      ],
      "execution_count": 144,
      "outputs": [
        {
          "output_type": "stream",
          "name": "stdout",
          "text": [
            "[[-1.43657022e-01  2.05439373e-02  1.54603767e-01 -5.40951188e-02\n",
            "  -1.51872968e-01  2.73666262e-02 -6.53429919e-02 -1.73805032e-01\n",
            "  -2.89610202e-01 -4.65922230e-04 -1.81507820e-01  1.81745397e-01\n",
            "   5.52906040e-02 -6.38083864e-02  1.86831050e-01  3.13497972e-02\n",
            "  -1.28343303e-01  1.13872437e-01 -2.37880467e-02 -6.83178697e-02\n",
            "   7.31850669e-02  4.07889509e-02 -1.58659587e-01  9.02188298e-02\n",
            "  -5.95764820e-03 -5.57135012e-02  1.41782324e-01 -3.79609754e-02\n",
            "  -4.21341083e-02 -1.84641033e-02  6.73481430e-02 -2.10328760e-02\n",
            "   7.88762576e-02 -1.38613540e-01  9.38835552e-02  6.77082387e-03\n",
            "  -1.36461022e-01 -8.69453469e-02  2.19063922e-01  2.41163348e-01\n",
            "  -8.02727759e-02  9.79222652e-02 -4.10645863e-02 -1.05325097e-01\n",
            "   2.44188557e-01 -1.81267767e-02  1.38223178e-01  3.66801771e-02\n",
            "  -8.96793103e-02 -5.37353346e-02 -3.28809389e-02  6.36669126e-02\n",
            "  -1.92087068e-01  2.77550026e-02 -1.48618251e-01  8.17457483e-02\n",
            "   3.59524831e-01  1.39390022e-01 -3.77530938e-03  2.83680308e-02\n",
            "   1.96372826e-01 -3.54225992e-02 -6.74931780e-02  9.42979561e-02\n",
            "   7.05764541e-02  6.23410988e-02 -9.17675782e-02 -6.57147605e-02\n",
            "   2.70706725e-01 -1.47831781e-01  2.14266661e-01  2.75448591e-02\n",
            "  -1.29859405e-01 -1.20607429e-01 -1.34999874e-02  7.50198434e-02\n",
            "  -4.27481638e-02  4.08581727e-02  1.63178265e-01 -2.61876800e-01\n",
            "  -1.13975991e-01 -1.33851259e-01  2.07210252e-01  1.38505649e-01\n",
            "   1.81825491e-01  9.54613208e-02 -6.45280044e-02 -1.22521539e-01\n",
            "   8.68997457e-02  6.49696277e-02  1.06205693e-01  7.63399160e-02\n",
            "   1.99748185e-01 -1.80483614e-01 -6.13158217e-02 -1.18748430e-02\n",
            "   2.12980864e-01  6.41183397e-02 -3.33605986e-02  1.68816277e-01\n",
            "   1.64187301e-01  3.49858024e-01 -1.50501526e-01 -1.91010968e-01\n",
            "   4.53378868e-02 -1.33029352e-01  1.06227569e-01  5.58043465e-02\n",
            "   1.42940315e-01 -9.41870734e-02  2.32934421e-03 -1.35381248e-01\n",
            "  -1.85847258e-02  9.71289362e-02 -7.61398866e-02  7.61252161e-02\n",
            "   7.78490427e-02  1.81922310e-01 -1.41749159e-02 -7.35816220e-02\n",
            "   1.48696049e-01  8.75899134e-02 -1.12119664e-01  2.17862519e-01\n",
            "  -8.53774004e-03 -2.03841746e-01 -1.28214122e-02 -1.24831262e-01]\n",
            " [ 1.76995678e-01 -8.26749914e-01  2.85559903e-01 -6.32529081e-02\n",
            "  -2.73719547e-01 -1.02166549e+00  1.46726159e-02 -2.16804745e-01\n",
            "  -8.99360219e-01 -5.99672771e-01 -6.26129313e-01  4.73338369e-01\n",
            "  -1.17088495e+00  4.58061536e-01  1.53054065e+00  1.95147915e+00\n",
            "  -1.34177337e+00  4.57420136e-02  1.15180484e+00 -3.32312359e-01\n",
            "  -1.82942254e-02 -6.73653437e-02 -1.43718496e-01  1.34164737e+00\n",
            "  -4.59865716e-01 -1.17770005e-01  6.07956698e-01  9.96419620e-01\n",
            "  -3.34902705e-02 -4.09994511e-01  5.26104297e-01  1.49243364e+00\n",
            "   5.40288736e-01  1.15052458e-01  4.96902072e-01  6.35779736e-01\n",
            "  -2.67052778e-01  3.32523047e-02  1.68565052e-03  4.37737925e-01\n",
            "   9.83571281e-01 -7.09034652e-01 -2.76778228e-01  1.64665708e+00\n",
            "  -2.75373076e-01 -2.29847159e-01  1.08941397e+00  7.80221600e-01\n",
            "  -1.54959036e+00  3.54160156e-01 -1.11896497e+00  6.14801342e-01\n",
            "  -1.56595732e+00 -1.27139692e+00  5.51315101e-01  5.61995337e-01\n",
            "   3.88969606e-01 -1.17173866e-01 -1.12265653e+00 -1.02210740e+00\n",
            "  -3.27357651e-01  5.76701649e-01 -4.62641513e-01 -9.08306184e-01\n",
            "  -8.72404728e-01 -1.50269959e+00  5.03235066e-01 -4.87628514e-01\n",
            "   1.20056592e+00 -3.12324961e-01 -8.43345754e-01 -2.38193435e-01\n",
            "  -8.36404520e-02  8.99325811e-01  1.37785341e-01 -1.82562326e-01\n",
            "   3.22888514e-01 -3.04687968e-02 -5.51752455e-01 -6.32110211e-01\n",
            "  -6.18191618e-02  1.95106838e-01  1.44812783e-01 -1.99546420e-01\n",
            "   1.38824146e-01  7.85901736e-02 -1.57653215e+00 -2.10838249e+00\n",
            "   8.80828549e-01  1.66094506e+00  2.59238890e-01  5.80347215e-01\n",
            "  -1.52695741e+00 -4.77880967e-01  1.01468007e+00 -2.07201461e-01\n",
            "  -3.65885343e-01 -6.35007945e-01  3.94158529e-01  1.21429564e+00\n",
            "   3.62356672e-01  8.11161664e-01  4.61549923e-01 -2.83952885e-02\n",
            "  -7.37385699e-02 -7.11280845e-01 -8.29399082e-01  2.73084342e-01\n",
            "  -6.60238419e-01  1.69055482e-02  3.20918749e-01 -4.94656172e-01\n",
            "  -3.02356012e-01  9.60043497e-02  1.36902001e+00  3.09127002e-01\n",
            "   8.08138764e-01  4.65062090e-01 -4.09440719e-01  6.06500934e-02\n",
            "  -6.72077590e-01  1.71907838e-01 -1.78033950e-01 -3.65437205e-01\n",
            "  -2.01457726e-01  5.44306606e-02  2.82863363e-01  2.11586247e-01]\n",
            " [-2.33180800e-01 -1.56512575e-01  3.89059540e-02  2.09423226e-01\n",
            "  -1.20407313e-01  2.80328007e-01 -2.87657564e-01 -3.36063819e-01\n",
            "  -4.68673827e-01  2.64776130e-01 -1.11420814e-01  6.50462631e-01\n",
            "   3.57294256e-01 -4.41360373e-02  3.38279986e-01  6.69291042e-05\n",
            "   1.61296376e-02  1.32771365e-01 -8.46714402e-03 -1.28962699e-01\n",
            "  -1.04703318e-01  1.44741922e-01 -1.29116618e-01 -3.80842796e-02\n",
            "   1.28594561e-01 -2.08085854e-03  7.36575163e-02 -5.41177299e-02\n",
            "  -2.27813239e-01  1.26460518e-01  2.80819250e-01 -2.14641097e-02\n",
            "   2.36481019e-02 -3.10870671e-01 -4.95284131e-02 -8.06597336e-03\n",
            "  -4.58750214e-01 -1.71248231e-01  2.89168153e-01  6.83182240e-01\n",
            "   2.50704094e-04  6.08296277e-02 -1.40057853e-02 -3.61100049e-01\n",
            "   5.40577843e-01  2.01099186e-01  2.27163075e-01  6.62623807e-02\n",
            "   3.15483756e-02 -2.30529835e-01 -1.93116288e-02  1.28968764e-01\n",
            "  -3.08955952e-01  2.02778949e-01 -1.12721681e-01  2.23902149e-01\n",
            "   6.57001413e-01  2.60982860e-01  2.47825975e-02  2.72865214e-01\n",
            "   2.70345824e-01 -1.91018120e-01 -3.82081788e-01  3.31777563e-01\n",
            "   2.66799048e-01  6.78141945e-02 -2.29839213e-01  1.51278537e-02\n",
            "   6.16584574e-01 -2.06200231e-01  4.48864619e-01 -1.15494773e-01\n",
            "  -1.55683973e-01 -3.04317051e-01  1.56571967e-01  2.30873674e-01\n",
            "   2.53202027e-01  8.96293304e-02  3.79321715e-01 -5.04252437e-01\n",
            "   7.49379098e-02 -1.59402568e-01  9.21413058e-02  2.28918983e-01\n",
            "   3.40912701e-01  1.87398318e-01 -2.38299632e-02 -2.52448487e-02\n",
            "   7.96483519e-02 -4.00214411e-02  5.78514378e-02  2.16115120e-01\n",
            "   7.02741384e-01 -1.21748105e-01 -2.84317123e-01 -2.28184088e-01\n",
            "   2.52677079e-01  1.89089086e-01  4.99454529e-02  6.71667215e-02\n",
            "   3.33211872e-01  4.17166684e-01 -1.73291367e-01 -1.18806196e-01\n",
            "   2.80583367e-01 -4.46791150e-01  1.18300807e-01  1.26321929e-01\n",
            "   4.29318268e-02 -9.68546128e-02  1.53389377e-02 -4.15766160e-01\n",
            "   1.21403455e-01  1.05304999e-01 -2.90918428e-01  5.98650851e-02\n",
            "   1.16278755e-01  1.25042503e-01  1.02583645e-01 -1.18033443e-01\n",
            "   2.57214936e-01  9.78447836e-02 -2.49927297e-01  6.22860504e-01\n",
            "   1.55935547e-01 -1.88855129e-01 -1.30996003e-01 -2.82354086e-01]]\n"
          ]
        }
      ]
    },
    {
      "cell_type": "code",
      "metadata": {
        "colab": {
          "base_uri": "https://localhost:8080/"
        },
        "id": "iFN4W9P-q8Nd",
        "outputId": "f4621803-52da-4ff5-a645-b411d8c49edf"
      },
      "source": [
        "print(k_means5.labels_)"
      ],
      "execution_count": 145,
      "outputs": [
        {
          "output_type": "stream",
          "name": "stdout",
          "text": [
            "[2 2 2 ... 0 0 0]\n"
          ]
        }
      ]
    },
    {
      "cell_type": "code",
      "metadata": {
        "id": "gS6qCWK6q8Qn"
      },
      "source": [
        "from sklearn.manifold import TSNE"
      ],
      "execution_count": 146,
      "outputs": []
    },
    {
      "cell_type": "code",
      "metadata": {
        "id": "1EOXiOq2t3EI",
        "colab": {
          "base_uri": "https://localhost:8080/"
        },
        "outputId": "1bd6e72c-e7af-4f27-8a18-282967bfcd77"
      },
      "source": [
        "#dimension data for movie node:\n",
        "dimension_data_for_movie_node = O\n",
        "\n",
        "dimension_data_for_movie_node_array=np.asarray([dimension_data_for_movie_node])\n",
        "dimension_data_for_movie_node_array.shape"
      ],
      "execution_count": 147,
      "outputs": [
        {
          "output_type": "execute_result",
          "data": {
            "text/plain": [
              "(1, 1292, 128)"
            ]
          },
          "metadata": {},
          "execution_count": 147
        }
      ]
    },
    {
      "cell_type": "code",
      "metadata": {
        "id": "9ZkAczjCt3GY",
        "colab": {
          "base_uri": "https://localhost:8080/"
        },
        "outputId": "114f143f-7635-47e3-870a-a2a193fd9604"
      },
      "source": [
        "dimension_data_for_movie_node_final=np.reshape(dimension_data_for_movie_node_array,(1292,128))\n",
        "dimension_data_for_movie_node_final.shape"
      ],
      "execution_count": 148,
      "outputs": [
        {
          "output_type": "execute_result",
          "data": {
            "text/plain": [
              "(1292, 128)"
            ]
          },
          "metadata": {},
          "execution_count": 148
        }
      ]
    },
    {
      "cell_type": "code",
      "metadata": {
        "colab": {
          "base_uri": "https://localhost:8080/",
          "height": 457
        },
        "id": "epU8izS-sw6B",
        "outputId": "c985a16a-a40f-4174-bac6-57e2ed32f434"
      },
      "source": [
        "#step2:apply kmeans algorithm on data using n_cluster\n",
        "from sklearn.cluster import KMeans\n",
        "#here we are considering n_clusters=5\n",
        "kmeans5= KMeans(n_clusters=5) \n",
        "\n",
        "kmeans5.fit(dimension_data_for_movie_node_final)\n",
        "#now Kmeans model contain five clusters and each cluster contain similar movie nodes\n",
        "predicted_cluster5=kmeans.predict(dimension_data_for_movie_node_final)\n",
        "\n",
        "#Step3:\n",
        "\n",
        "from sklearn.manifold import TSNE\n",
        "#TSNE_model = TSNE \n",
        "\n",
        "TSNE_model5 = TSNE(n_components=2)\n",
        "\n",
        "#apply TSNE model on the \"dimension data for actor node\" to reduce 128 dimensions to 2 dimensions\n",
        "two_dimensional_data5 = TSNE_model5.fit_transform(dimension_data_for_movie_node_final)\n",
        "\n",
        "#now 2 dimensional data contains 3411 rows and 2 dimensions\n",
        "two_dimensional_data5_shape= two_dimensional_data5.shape\n",
        "\n",
        "#step4: Perform Verticle Stacking\n",
        "#By using vstack() function which is present inside the numpy module, we are going to perform verticle stacking on the transpose data of \"two_dimensional_data5\" & \"predicted_cluster5\"\n",
        "#Taking Transpose:\n",
        "transpose_predicted_cluster5 = predicted_cluster5.T\n",
        "transpose_two_dimensional_data5 = two_dimensional_data5.T\n",
        "\n",
        "required_data5 = np.vstack((transpose_predicted_cluster5,transpose_two_dimensional_data5))\n",
        "\n",
        "#Now shape of required data is (3, 1292)\n",
        "#step5:\n",
        "#use DataFrame() function present in pandas module to convert the transposed_required_data into a dataframe\n",
        "import pandas as pd\n",
        "import seaborn as sn\n",
        "\n",
        "final_data5 = pd.DataFrame(required_data5.T, columns= [\"Col_15\",\"Col_25\",\"Label5\"])\n",
        "#now final_data is a DataFrame, which contain 1292 rows and 3 columns\n",
        "\n",
        "#Ploting the result of tsne\n",
        "\n",
        "sn.FacetGrid(final_data5, hue=\"Label5\", size=6).map(plt.scatter, 'Col_15', 'Col_25')\n",
        "plt.title('Visualization for similar movie clusters With perplexity = 2')\n",
        "plt.show()\n"
      ],
      "execution_count": 149,
      "outputs": [
        {
          "output_type": "display_data",
          "data": {
            "image/png": "[encoded data removed]",
            "text/plain": [
              "<Figure size 432x432 with 1 Axes>"
            ]
          },
          "metadata": {
            "needs_background": "light"
          }
        }
      ]
    },
    {
      "cell_type": "code",
      "metadata": {
        "id": "7vJ6O9mAsw8n"
      },
      "source": [
        ""
      ],
      "execution_count": null,
      "outputs": []
    }
  ]
}