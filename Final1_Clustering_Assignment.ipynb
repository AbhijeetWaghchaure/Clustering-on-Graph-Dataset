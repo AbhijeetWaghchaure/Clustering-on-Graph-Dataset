{
  "nbformat": 4,
  "nbformat_minor": 0,
  "metadata": {
    "colab": {
      "name": "Final_Clustering_Assignment.ipynb",
      "provenance": [],
      "collapsed_sections": []
    },
    "kernelspec": {
      "name": "python3",
      "display_name": "Python 3"
    }
  },
  "cells": [
    {
      "cell_type": "code",
      "metadata": {
        "id": "5tvRZoIk4GS1"
      },
      "source": [
        ""
      ],
      "execution_count": null,
      "outputs": []
    },
    {
      "cell_type": "markdown",
      "metadata": {
        "id": "MwM5tdEPTp83"
      },
      "source": [
        "# <font color='red'>Clustering Assignment</font>"
      ]
    },
    {
      "cell_type": "markdown",
      "metadata": {
        "id": "aW8pyV-Q5fV2"
      },
      "source": [
        "**There will be some functions that start with the word \"grader\" ex: grader_actors(), grader_movies(), grader_cost1() etc, you should not change those function definition.<br><br>Every Grader function has to return True.**"
      ]
    },
    {
      "cell_type": "markdown",
      "metadata": {
        "id": "nOvuWZ1XLFPG"
      },
      "source": [
        "**Please check [clustering assignment helper functions](https://drive.google.com/file/d/1V29KhKo3YnckMX32treEgdtH5r90DIjU/view?usp=sharing) notebook before attempting this assignment.**"
      ]
    },
    {
      "cell_type": "markdown",
      "metadata": {
        "id": "KwVzbmIoT621"
      },
      "source": [
        "*  Read graph from the given <font color='blue'>movie_actor_network.csv</font> (note that the graph is bipartite graph.)\n",
        "\n",
        "*  Using stellergaph and gensim packages, get the dense representation(128dimensional vector) of every node in the graph. [Refer <font color='blue'>Clustering_Assignment_Reference.ipynb</font>]\n",
        "\n",
        "* Split the dense representation into actor nodes, movies nodes.(Write you code in <font color='blue'>def data_split()</font>)\n"
      ]
    },
    {
      "cell_type": "markdown",
      "metadata": {
        "id": "3lUhnVcTZ3q_"
      },
      "source": [
        "# <font color='red'>Task 1 : Apply clustering algorithm to group similar actors</font>"
      ]
    },
    {
      "cell_type": "markdown",
      "metadata": {
        "id": "dG0XAMMmgi1r"
      },
      "source": [
        " 1. For this task consider only the actor nodes \n",
        " 2. Apply any clustering algorithm of your choice <br>\n",
        "    Refer : https://scikit-learn.org/stable/modules/clustering.html\n",
        " 3. Choose the number of clusters for which you have maximum score of <b>$Cost1*Cost2$</b><br>\n",
        " 4. Cost1 = $\\frac{1}{N}\\sum_{\\text{each cluster i}}  \\frac{\\text{(number of nodes in the largest connected component in the graph with the actor nodes and its movie neighbours in cluster i)}}{\\text{(total number of nodes in that cluster i)}}$ where N= number of clusters \n",
        "<br> (Write your code in <font color='blue'>def cost1()</font>)<br>\n",
        " 5. Cost2 = $\\frac{1}{N}\\sum_{\\text{each cluster i}}  \\frac{\\text{(sum of degress of actor nodes in the graph with the actor nodes and its movie neighbours in cluster i)}}{\\text{(number of unique movie nodes in the graph with the actor nodes and its movie neighbours in cluster i)}}$ where N= number of clusters \n",
        " <br> (Write your code in <font color='blue'>def cost2()</font>)<br>\n",
        " 6. Fit the clustering algorithm with the opimal number_of_clusters and get the cluster number for each node <br>\n",
        " 7. Convert the d-dimensional dense vectors of nodes into 2-dimensional using dimensionality reduction techniques (preferably TSNE)<br>\n",
        " 8. Plot the 2d scatter plot, with the node vectors after step e and give colors to nodes such that same cluster nodes will have same color"
      ]
    },
    {
      "cell_type": "markdown",
      "metadata": {
        "id": "7pH2axXawRbG"
      },
      "source": [
        "<img src='https://i.imgur.com/4SPYPFa.jpg'>"
      ]
    },
    {
      "cell_type": "markdown",
      "metadata": {
        "id": "Qh7HrbKAuGbD"
      },
      "source": [
        "# <font color='red'>Task 2 : Apply clustering algorithm to group similar movies</font>"
      ]
    },
    {
      "cell_type": "markdown",
      "metadata": {
        "id": "e9pALo19uJsw"
      },
      "source": [
        "\n",
        "1. For this task consider only the movie nodes\n",
        "2. Apply any clustering algorithm of your choice\n",
        "3.Choose the number of clusters for which you have maximum score of $Cost1*Cost2$ <br>\n",
        "\n",
        "    Cost1 = $\\frac{1}{N}\\sum_{\\text{each cluster i}}  \\frac{\\text{(number of nodes in the largest connected component in the graph with the movie nodes and its actor neighbours in cluster i)}}{\\text{(total number of nodes in that cluster i)}}$ where N= number of clusters <br>\n",
        "(Write your code in <font color='blue'>def cost1()</font>)<br>\n",
        "\t\n",
        "4. Cost2 = $\\frac{1}{N}\\sum_{\\text{each cluster i}}  \\frac{\\text{(sum of degress of movie nodes in the graph with the movie nodes and its actor neighbours in cluster i)}}{\\text{(number of unique actor nodes in the graph with the movie nodes and its actor neighbours in cluster i)}}$ \n",
        "where N= number of clusters \n",
        "<br>(Write your code in <font color='blue'>def cost2()</font>)<br>\n"
      ]
    },
    {
      "cell_type": "markdown",
      "metadata": {
        "id": "MrXdWBDSvijT"
      },
      "source": [
        "**Algorithm for actor nodes**"
      ]
    },
    {
      "cell_type": "markdown",
      "metadata": {
        "id": "JLAAEftyvs9b"
      },
      "source": [
        "<pre>\n",
        "\tfor number_of_clusters in [3, 5, 10, 30, 50, 100, 200, 500]:\n",
        "\t\talgo = clustering_algorith(clusters=number_of_clusters)\n",
        "        # you will be passing a matrix of size N*d where N number of actor nodes and d is dimension from gensim\n",
        "\t\talgo.fit(the dense vectors of actor nodes) \n",
        "        You can get the labels for corresponding actor nodes (algo.labels_)\n",
        "        Create a graph for every cluster(ie., if n_clusters=3, create 3 graphs)\n",
        "        (You can use ego_graph to create subgraph from the actual graph)\n",
        "        compute cost1,cost2 \n",
        "           (if n_cluster=3, cost1=cost1(graph1)+cost1(graph2)+cost1(graph3) # here we are doing summation\n",
        "            cost2=cost2(graph1)+cost2(graph2)+cost2(graph3)\n",
        "\t\tcomputer the metric Cost = Cost1*Cost2\n",
        "\treturn number_of_clusters which have maximum Cost\n",
        "\t</pre>"
      ]
    },
    {
      "cell_type": "markdown",
      "metadata": {
        "id": "DLbRJvsgyniG"
      },
      "source": [
        "<br>"
      ]
    },
    {
      "cell_type": "code",
      "metadata": {
        "id": "j_5uI10OyqVe",
        "colab": {
          "base_uri": "https://localhost:8080/"
        },
        "outputId": "05215490-1f33-4792-d3a0-0f35742e38c4"
      },
      "source": [
        "!pip install networkx==2.3\n",
        "!pip install stellargraph"
      ],
      "execution_count": 1,
      "outputs": [
        {
          "output_type": "stream",
          "name": "stdout",
          "text": [
            "Collecting networkx==2.3\n",
            "  Downloading networkx-2.3.zip (1.7 MB)\n",
            "\u001b[K     |████████████████████████████████| 1.7 MB 2.7 MB/s \n",
            "\u001b[?25hRequirement already satisfied: decorator>=4.3.0 in /usr/local/lib/python3.7/dist-packages (from networkx==2.3) (4.4.2)\n",
            "Building wheels for collected packages: networkx\n",
            "  Building wheel for networkx (setup.py) ... \u001b[?25l\u001b[?25hdone\n",
            "  Created wheel for networkx: filename=networkx-2.3-py2.py3-none-any.whl size=1556009 sha256=53bb68539f51cd3e3fc6b8e1d72bed1af3644cac4461976462c27fc6e00ff663\n",
            "  Stored in directory: /root/.cache/pip/wheels/44/e6/b8/4efaab31158e9e9ca9ed80b11f6b11130bac9a9672b3cbbeaf\n",
            "Successfully built networkx\n",
            "Installing collected packages: networkx\n",
            "  Attempting uninstall: networkx\n",
            "    Found existing installation: networkx 2.6.3\n",
            "    Uninstalling networkx-2.6.3:\n",
            "      Successfully uninstalled networkx-2.6.3\n",
            "\u001b[31mERROR: pip's dependency resolver does not currently take into account all the packages that are installed. This behaviour is the source of the following dependency conflicts.\n",
            "albumentations 0.1.12 requires imgaug<0.2.7,>=0.2.5, but you have imgaug 0.2.9 which is incompatible.\u001b[0m\n",
            "Successfully installed networkx-2.3\n",
            "Collecting stellargraph\n",
            "  Downloading stellargraph-1.2.1-py3-none-any.whl (435 kB)\n",
            "\u001b[K     |████████████████████████████████| 435 kB 2.8 MB/s \n",
            "\u001b[?25hRequirement already satisfied: gensim>=3.4.0 in /usr/local/lib/python3.7/dist-packages (from stellargraph) (3.6.0)\n",
            "Requirement already satisfied: scikit-learn>=0.20 in /usr/local/lib/python3.7/dist-packages (from stellargraph) (1.0.1)\n",
            "Requirement already satisfied: pandas>=0.24 in /usr/local/lib/python3.7/dist-packages (from stellargraph) (1.1.5)\n",
            "Requirement already satisfied: networkx>=2.2 in /usr/local/lib/python3.7/dist-packages (from stellargraph) (2.3)\n",
            "Requirement already satisfied: matplotlib>=2.2 in /usr/local/lib/python3.7/dist-packages (from stellargraph) (3.2.2)\n",
            "Requirement already satisfied: scipy>=1.1.0 in /usr/local/lib/python3.7/dist-packages (from stellargraph) (1.4.1)\n",
            "Requirement already satisfied: numpy>=1.14 in /usr/local/lib/python3.7/dist-packages (from stellargraph) (1.19.5)\n",
            "Requirement already satisfied: tensorflow>=2.1.0 in /usr/local/lib/python3.7/dist-packages (from stellargraph) (2.7.0)\n",
            "Requirement already satisfied: six>=1.5.0 in /usr/local/lib/python3.7/dist-packages (from gensim>=3.4.0->stellargraph) (1.15.0)\n",
            "Requirement already satisfied: smart-open>=1.2.1 in /usr/local/lib/python3.7/dist-packages (from gensim>=3.4.0->stellargraph) (5.2.1)\n",
            "Requirement already satisfied: pyparsing!=2.0.4,!=2.1.2,!=2.1.6,>=2.0.1 in /usr/local/lib/python3.7/dist-packages (from matplotlib>=2.2->stellargraph) (3.0.6)\n",
            "Requirement already satisfied: kiwisolver>=1.0.1 in /usr/local/lib/python3.7/dist-packages (from matplotlib>=2.2->stellargraph) (1.3.2)\n",
            "Requirement already satisfied: python-dateutil>=2.1 in /usr/local/lib/python3.7/dist-packages (from matplotlib>=2.2->stellargraph) (2.8.2)\n",
            "Requirement already satisfied: cycler>=0.10 in /usr/local/lib/python3.7/dist-packages (from matplotlib>=2.2->stellargraph) (0.11.0)\n",
            "Requirement already satisfied: decorator>=4.3.0 in /usr/local/lib/python3.7/dist-packages (from networkx>=2.2->stellargraph) (4.4.2)\n",
            "Requirement already satisfied: pytz>=2017.2 in /usr/local/lib/python3.7/dist-packages (from pandas>=0.24->stellargraph) (2018.9)\n",
            "Requirement already satisfied: joblib>=0.11 in /usr/local/lib/python3.7/dist-packages (from scikit-learn>=0.20->stellargraph) (1.1.0)\n",
            "Requirement already satisfied: threadpoolctl>=2.0.0 in /usr/local/lib/python3.7/dist-packages (from scikit-learn>=0.20->stellargraph) (3.0.0)\n",
            "Requirement already satisfied: google-pasta>=0.1.1 in /usr/local/lib/python3.7/dist-packages (from tensorflow>=2.1.0->stellargraph) (0.2.0)\n",
            "Requirement already satisfied: keras-preprocessing>=1.1.1 in /usr/local/lib/python3.7/dist-packages (from tensorflow>=2.1.0->stellargraph) (1.1.2)\n",
            "Requirement already satisfied: protobuf>=3.9.2 in /usr/local/lib/python3.7/dist-packages (from tensorflow>=2.1.0->stellargraph) (3.17.3)\n",
            "Requirement already satisfied: libclang>=9.0.1 in /usr/local/lib/python3.7/dist-packages (from tensorflow>=2.1.0->stellargraph) (12.0.0)\n",
            "Requirement already satisfied: flatbuffers<3.0,>=1.12 in /usr/local/lib/python3.7/dist-packages (from tensorflow>=2.1.0->stellargraph) (2.0)\n",
            "Requirement already satisfied: tensorflow-io-gcs-filesystem>=0.21.0 in /usr/local/lib/python3.7/dist-packages (from tensorflow>=2.1.0->stellargraph) (0.22.0)\n",
            "Requirement already satisfied: wheel<1.0,>=0.32.0 in /usr/local/lib/python3.7/dist-packages (from tensorflow>=2.1.0->stellargraph) (0.37.0)\n",
            "Requirement already satisfied: tensorflow-estimator<2.8,~=2.7.0rc0 in /usr/local/lib/python3.7/dist-packages (from tensorflow>=2.1.0->stellargraph) (2.7.0)\n",
            "Requirement already satisfied: gast<0.5.0,>=0.2.1 in /usr/local/lib/python3.7/dist-packages (from tensorflow>=2.1.0->stellargraph) (0.4.0)\n",
            "Requirement already satisfied: astunparse>=1.6.0 in /usr/local/lib/python3.7/dist-packages (from tensorflow>=2.1.0->stellargraph) (1.6.3)\n",
            "Requirement already satisfied: opt-einsum>=2.3.2 in /usr/local/lib/python3.7/dist-packages (from tensorflow>=2.1.0->stellargraph) (3.3.0)\n",
            "Requirement already satisfied: wrapt>=1.11.0 in /usr/local/lib/python3.7/dist-packages (from tensorflow>=2.1.0->stellargraph) (1.13.3)\n",
            "Requirement already satisfied: absl-py>=0.4.0 in /usr/local/lib/python3.7/dist-packages (from tensorflow>=2.1.0->stellargraph) (0.12.0)\n",
            "Requirement already satisfied: keras<2.8,>=2.7.0rc0 in /usr/local/lib/python3.7/dist-packages (from tensorflow>=2.1.0->stellargraph) (2.7.0)\n",
            "Requirement already satisfied: typing-extensions>=3.6.6 in /usr/local/lib/python3.7/dist-packages (from tensorflow>=2.1.0->stellargraph) (3.10.0.2)\n",
            "Requirement already satisfied: grpcio<2.0,>=1.24.3 in /usr/local/lib/python3.7/dist-packages (from tensorflow>=2.1.0->stellargraph) (1.42.0)\n",
            "Requirement already satisfied: termcolor>=1.1.0 in /usr/local/lib/python3.7/dist-packages (from tensorflow>=2.1.0->stellargraph) (1.1.0)\n",
            "Requirement already satisfied: tensorboard~=2.6 in /usr/local/lib/python3.7/dist-packages (from tensorflow>=2.1.0->stellargraph) (2.7.0)\n",
            "Requirement already satisfied: h5py>=2.9.0 in /usr/local/lib/python3.7/dist-packages (from tensorflow>=2.1.0->stellargraph) (3.1.0)\n",
            "Requirement already satisfied: cached-property in /usr/local/lib/python3.7/dist-packages (from h5py>=2.9.0->tensorflow>=2.1.0->stellargraph) (1.5.2)\n",
            "Requirement already satisfied: setuptools>=41.0.0 in /usr/local/lib/python3.7/dist-packages (from tensorboard~=2.6->tensorflow>=2.1.0->stellargraph) (57.4.0)\n",
            "Requirement already satisfied: werkzeug>=0.11.15 in /usr/local/lib/python3.7/dist-packages (from tensorboard~=2.6->tensorflow>=2.1.0->stellargraph) (1.0.1)\n",
            "Requirement already satisfied: tensorboard-data-server<0.7.0,>=0.6.0 in /usr/local/lib/python3.7/dist-packages (from tensorboard~=2.6->tensorflow>=2.1.0->stellargraph) (0.6.1)\n",
            "Requirement already satisfied: markdown>=2.6.8 in /usr/local/lib/python3.7/dist-packages (from tensorboard~=2.6->tensorflow>=2.1.0->stellargraph) (3.3.6)\n",
            "Requirement already satisfied: tensorboard-plugin-wit>=1.6.0 in /usr/local/lib/python3.7/dist-packages (from tensorboard~=2.6->tensorflow>=2.1.0->stellargraph) (1.8.0)\n",
            "Requirement already satisfied: google-auth<3,>=1.6.3 in /usr/local/lib/python3.7/dist-packages (from tensorboard~=2.6->tensorflow>=2.1.0->stellargraph) (1.35.0)\n",
            "Requirement already satisfied: google-auth-oauthlib<0.5,>=0.4.1 in /usr/local/lib/python3.7/dist-packages (from tensorboard~=2.6->tensorflow>=2.1.0->stellargraph) (0.4.6)\n",
            "Requirement already satisfied: requests<3,>=2.21.0 in /usr/local/lib/python3.7/dist-packages (from tensorboard~=2.6->tensorflow>=2.1.0->stellargraph) (2.23.0)\n",
            "Requirement already satisfied: pyasn1-modules>=0.2.1 in /usr/local/lib/python3.7/dist-packages (from google-auth<3,>=1.6.3->tensorboard~=2.6->tensorflow>=2.1.0->stellargraph) (0.2.8)\n",
            "Requirement already satisfied: rsa<5,>=3.1.4 in /usr/local/lib/python3.7/dist-packages (from google-auth<3,>=1.6.3->tensorboard~=2.6->tensorflow>=2.1.0->stellargraph) (4.8)\n",
            "Requirement already satisfied: cachetools<5.0,>=2.0.0 in /usr/local/lib/python3.7/dist-packages (from google-auth<3,>=1.6.3->tensorboard~=2.6->tensorflow>=2.1.0->stellargraph) (4.2.4)\n",
            "Requirement already satisfied: requests-oauthlib>=0.7.0 in /usr/local/lib/python3.7/dist-packages (from google-auth-oauthlib<0.5,>=0.4.1->tensorboard~=2.6->tensorflow>=2.1.0->stellargraph) (1.3.0)\n",
            "Requirement already satisfied: importlib-metadata>=4.4 in /usr/local/lib/python3.7/dist-packages (from markdown>=2.6.8->tensorboard~=2.6->tensorflow>=2.1.0->stellargraph) (4.8.2)\n",
            "Requirement already satisfied: zipp>=0.5 in /usr/local/lib/python3.7/dist-packages (from importlib-metadata>=4.4->markdown>=2.6.8->tensorboard~=2.6->tensorflow>=2.1.0->stellargraph) (3.6.0)\n",
            "Requirement already satisfied: pyasn1<0.5.0,>=0.4.6 in /usr/local/lib/python3.7/dist-packages (from pyasn1-modules>=0.2.1->google-auth<3,>=1.6.3->tensorboard~=2.6->tensorflow>=2.1.0->stellargraph) (0.4.8)\n",
            "Requirement already satisfied: chardet<4,>=3.0.2 in /usr/local/lib/python3.7/dist-packages (from requests<3,>=2.21.0->tensorboard~=2.6->tensorflow>=2.1.0->stellargraph) (3.0.4)\n",
            "Requirement already satisfied: idna<3,>=2.5 in /usr/local/lib/python3.7/dist-packages (from requests<3,>=2.21.0->tensorboard~=2.6->tensorflow>=2.1.0->stellargraph) (2.10)\n",
            "Requirement already satisfied: urllib3!=1.25.0,!=1.25.1,<1.26,>=1.21.1 in /usr/local/lib/python3.7/dist-packages (from requests<3,>=2.21.0->tensorboard~=2.6->tensorflow>=2.1.0->stellargraph) (1.24.3)\n",
            "Requirement already satisfied: certifi>=2017.4.17 in /usr/local/lib/python3.7/dist-packages (from requests<3,>=2.21.0->tensorboard~=2.6->tensorflow>=2.1.0->stellargraph) (2021.10.8)\n",
            "Requirement already satisfied: oauthlib>=3.0.0 in /usr/local/lib/python3.7/dist-packages (from requests-oauthlib>=0.7.0->google-auth-oauthlib<0.5,>=0.4.1->tensorboard~=2.6->tensorflow>=2.1.0->stellargraph) (3.1.1)\n",
            "Installing collected packages: stellargraph\n",
            "Successfully installed stellargraph-1.2.1\n"
          ]
        }
      ]
    },
    {
      "cell_type": "code",
      "metadata": {
        "id": "ppVsL_H-co0G"
      },
      "source": [
        "import networkx as nx\n",
        "from networkx.algorithms import bipartite\n",
        "import matplotlib.pyplot as plt\n",
        "from sklearn.cluster import KMeans\n",
        "import numpy as np\n",
        "import warnings\n",
        "warnings.filterwarnings(\"ignore\")\n",
        "import pandas as pd \n",
        "from stellargraph.data import UniformRandomMetaPathWalk\n",
        "from stellargraph import StellarGraph"
      ],
      "execution_count": 2,
      "outputs": []
    },
    {
      "cell_type": "code",
      "metadata": {
        "colab": {
          "resources": {
            "http://localhost:8080/nbextensions/google.colab/files.js": {
              "data": "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",
              "ok": true,
              "headers": [
                [
                  "content-type",
                  "application/javascript"
                ]
              ],
              "status": 200,
              "status_text": ""
            }
          },
          "base_uri": "https://localhost:8080/",
          "height": 55
        },
        "id": "8wLtJbWalU1H",
        "outputId": "069be6ac-cf6c-4316-f104-0523de8c1bf1"
      },
      "source": [
        "from google.colab import files\n",
        "files= files.upload()"
      ],
      "execution_count": 3,
      "outputs": [
        {
          "output_type": "display_data",
          "data": {
            "text/html": [
              "\n",
              "     <input type=\"file\" id=\"files-18ed6381-f033-4bb5-87a8-41783386a4af\" name=\"files[]\" multiple disabled\n",
              "        style=\"border:none\" />\n",
              "     <output id=\"result-18ed6381-f033-4bb5-87a8-41783386a4af\">\n",
              "      Upload widget is only available when the cell has been executed in the\n",
              "      current browser session. Please rerun this cell to enable.\n",
              "      </output>\n",
              "      <script src=\"/nbextensions/google.colab/files.js\"></script> "
            ],
            "text/plain": [
              "<IPython.core.display.HTML object>"
            ]
          },
          "metadata": {}
        },
        {
          "output_type": "stream",
          "name": "stdout",
          "text": [
            "Saving movie_actor_network.csv to movie_actor_network.csv\n"
          ]
        }
      ]
    },
    {
      "cell_type": "code",
      "metadata": {
        "id": "QbChYqlFv_cL"
      },
      "source": [
        "data=pd.read_csv('movie_actor_network.csv', index_col=False, names=['movie','actor'])"
      ],
      "execution_count": 4,
      "outputs": []
    },
    {
      "cell_type": "code",
      "metadata": {
        "id": "gcBsQzFGv_fL"
      },
      "source": [
        "edges = [tuple(x) for x in data.values.tolist()]"
      ],
      "execution_count": 5,
      "outputs": []
    },
    {
      "cell_type": "code",
      "metadata": {
        "id": "uTzj_WK-v_iL"
      },
      "source": [
        "B = nx.Graph()\n",
        "B.add_nodes_from(data['movie'].unique(), bipartite=0, label='movie')\n",
        "B.add_nodes_from(data['actor'].unique(), bipartite=1, label='actor')\n",
        "B.add_edges_from(edges, label='acted')"
      ],
      "execution_count": 6,
      "outputs": []
    },
    {
      "cell_type": "code",
      "metadata": {
        "id": "4cNRukL2v_lT"
      },
      "source": [
        "A = list(nx.connected_component_subgraphs(B))[0]"
      ],
      "execution_count": 7,
      "outputs": []
    },
    {
      "cell_type": "code",
      "metadata": {
        "id": "Mbrcb_npv_oY",
        "colab": {
          "base_uri": "https://localhost:8080/"
        },
        "outputId": "5f7a2e44-fbb0-4d5e-ab3a-fa5adcedf50a"
      },
      "source": [
        "print(\"number of nodes\", A.number_of_nodes())\n",
        "print(\"number of edges\", A.number_of_edges())"
      ],
      "execution_count": 8,
      "outputs": [
        {
          "output_type": "stream",
          "name": "stdout",
          "text": [
            "number of nodes 4703\n",
            "number of edges 9650\n"
          ]
        }
      ]
    },
    {
      "cell_type": "code",
      "metadata": {
        "id": "izhQYFBuv_ru",
        "colab": {
          "base_uri": "https://localhost:8080/",
          "height": 319
        },
        "outputId": "4902d4d9-07be-4586-b324-532e6c6e7487"
      },
      "source": [
        "l, r = nx.bipartite.sets(A)\n",
        "pos = {}\n",
        "\n",
        "pos.update((node, (1, index)) for index, node in enumerate(l))\n",
        "pos.update((node, (2, index)) for index, node in enumerate(r))\n",
        "  \n",
        "nx.draw(A, pos=pos, with_labels=True)\n",
        "plt.show()"
      ],
      "execution_count": 9,
      "outputs": [
        {
          "output_type": "display_data",
          "data": {
            "image/png": "[encoded data removed]",
            "text/plain": [
              "<Figure size 432x288 with 1 Axes>"
            ]
          },
          "metadata": {}
        }
      ]
    },
    {
      "cell_type": "code",
      "metadata": {
        "id": "hO1t2gViv_vH",
        "colab": {
          "base_uri": "https://localhost:8080/"
        },
        "outputId": "9d1468c3-aae0-4060-fd3b-0dc2d5e1543a"
      },
      "source": [
        "movies = []\n",
        "actors = []\n",
        "for i in A.nodes():\n",
        "    if 'm' in i:\n",
        "        movies.append(i)\n",
        "    if 'a' in i:\n",
        "        actors.append(i)\n",
        "print('number of movies ', len(movies))\n",
        "print('number of actors ', len(actors))"
      ],
      "execution_count": 61,
      "outputs": [
        {
          "output_type": "stream",
          "name": "stdout",
          "text": [
            "number of movies  1292\n",
            "number of actors  3411\n"
          ]
        }
      ]
    },
    {
      "cell_type": "code",
      "metadata": {
        "id": "caqMya1xy_QT",
        "colab": {
          "base_uri": "https://localhost:8080/"
        },
        "outputId": "d0f08ff6-f143-4782-a827-7fb008845402"
      },
      "source": [
        "# Create the random walker\n",
        "rw = UniformRandomMetaPathWalk(StellarGraph(A))\n",
        "\n",
        "# specify the metapath schemas as a list of lists of node types.\n",
        "metapaths = [\n",
        "    [\"movie\", \"actor\", \"movie\"],\n",
        "    [\"actor\", \"movie\", \"actor\"]\n",
        "]\n",
        "\n",
        "walks = rw.run(nodes=list(A.nodes()), # root nodes\n",
        "               length=100,  # maximum length of a random walk\n",
        "               n=1,        # number of random walks per root node \n",
        "               metapaths=metapaths\n",
        "              )\n",
        "\n",
        "print(\"Number of random walks: {}\".format(len(walks)))"
      ],
      "execution_count": 62,
      "outputs": [
        {
          "output_type": "stream",
          "name": "stdout",
          "text": [
            "Number of random walks: 4703\n"
          ]
        }
      ]
    },
    {
      "cell_type": "code",
      "metadata": {
        "id": "FYCCAqFhzCpz"
      },
      "source": [
        "from gensim.models import Word2Vec\n",
        "model = Word2Vec(walks, size=128, window=5)"
      ],
      "execution_count": 12,
      "outputs": []
    },
    {
      "cell_type": "code",
      "metadata": {
        "id": "x3Xf2z1-co3k",
        "colab": {
          "base_uri": "https://localhost:8080/"
        },
        "outputId": "70c6f342-8840-4988-cc19-8de0cc2c505f"
      },
      "source": [
        "model.wv.vectors.shape  # 128-dimensional vector for each node in the graph"
      ],
      "execution_count": 13,
      "outputs": [
        {
          "output_type": "execute_result",
          "data": {
            "text/plain": [
              "(4703, 128)"
            ]
          },
          "metadata": {},
          "execution_count": 13
        }
      ]
    },
    {
      "cell_type": "code",
      "metadata": {
        "id": "ja8oxOWVzE2e"
      },
      "source": [
        "# Retrieve node embeddings and corresponding subjects\n",
        "node_ids = model.wv.index2word  # list of node IDs\n",
        "node_embeddings = model.wv.vectors  # numpy.ndarray of size number of nodes times embeddings dimensionality\n",
        "node_targets = [ A.node[node_id]['label'] for node_id in node_ids]"
      ],
      "execution_count": 14,
      "outputs": []
    },
    {
      "cell_type": "code",
      "metadata": {
        "colab": {
          "base_uri": "https://localhost:8080/"
        },
        "id": "X5K7-8C228F_",
        "outputId": "b9f1073b-ecc7-485c-d498-3a7723cffcd6"
      },
      "source": [
        "print(node_ids)"
      ],
      "execution_count": 15,
      "outputs": [
        {
          "output_type": "stream",
          "name": "stdout",
          "text": [
            "['a973', 'a967', 'a964', 'a1731', 'a970', 'a969', 'a1028', 'a1003', 'a1057', 'a965', 'm1094', 'm67', 'm1111', 'a966', 'a959', 'a988', 'a49', 'a1037', 'a93', 'm1100', 'a962', 'a963', 'a971', 'a1076', 'a1030', 'a960', 'm1095', 'a977', 'a1016', 'a204', 'a472', 'a1027', 'a768', 'a631', 'a968', 'm1114', 'm1001', 'a1020', 'a1004', 'm1113', 'a1026', 'a407', 'a2715', 'a1035', 'a975', 'a1507', 'm1096', 'a1031', 'm1112', 'a972', 'a306', 'a138', 'm376', 'm1097', 'm126', 'm75', 'a1036', 'm1261', 'a1467', 'a1435', 'm1232', 'a1021', 'a1008', 'm964', 'a205', 'a987', 'm1022', 'a1015', 'a921', 'm990', 'm987', 'm1106', 'm32', 'm148', 'a1038', 'm26', 'm1000', 'a782', 'm816', 'm121', 'a1060', 'm115', 'a976', 'a1436', 'a1011', 'm1090', 'm1357', 'a893', 'm25', 'm453', 'm1220', 'm942', 'a974', 'm1108', 'm1101', 'm1272', 'm1023', 'm1348', 'm796', 'm122', 'm914', 'a1750', 'm157', 'm1116', 'm915', 'm587', 'a228', 'm377', 'a1505', 'm165', 'm1213', 'm995', 'a1005', 'm983', 'm154', 'm902', 'm963', 'm988', 'm918', 'm1045', 'm1253', 'm84', 'a1023', 'm850', 'a363', 'm147', 'm1098', 'm1284', 'm1024', 'a1029', 'm430', 'm1048', 'm345', 'm982', 'm924', 'm129', 'm973', 'm112', 'm155', 'm1092', 'm294', 'm215', 'm1185', 'm135', 'm159', 'm125', 'm616', 'm1225', 'a1024', 'a400', 'm565', 'm389', 'm1011', 'm452', 'm73', 'm421', 'm769', 'm901', 'm150', 'a595', 'm985', 'm937', 'm282', 'm1372', 'a3378', 'm551', 'a1032', 'm1260', 'm1013', 'a1025', 'm1374', 'm560', 'm1198', 'm653', 'm127', 'm584', 'a1039', 'm477', 'm1162', 'm128', 'a1018', 'm1159', 'm1263', 'm1030', 'm114', 'm420', 'a1043', 'm1212', 'm745', 'm145', 'm623', 'm947', 'm1029', 'm1138', 'm624', 'm932', 'm986', 'm936', 'm310', 'a3369', 'm1173', 'm847', 'm340', 'm30', 'm1314', 'm1200', 'a1019', 'm949', 'm1012', 'a1483', 'm1110', 'm692', 'm743', 'm1093', 'm909', 'm1151', 'm242', 'm577', 'm1230', 'm306', 'm1102', 'm141', 'm34', 'm168', 'm1239', 'm866', 'm396', 'm1169', 'm943', 'm984', 'm1103', 'm981', 'm1339', 'm716', 'm890', 'a989', 'm1336', 'm230', 'm704', 'm291', 'm88', 'm31', 'm111', 'm1052', 'a812', 'm221', 'm311', 'm882', 'm1049', 'm1020', 'a1381', 'm179', 'a1063', 'm662', 'm1172', 'm433', 'm1019', 'm305', 'm1148', 'm707', 'm729', 'm429', 'a773', 'm960', 'm715', 'm281', 'a1366', 'm307', 'm808', 'a217', 'a1034', 'm586', 'm388', 'm897', 'm891', 'a1079', 'm1034', 'a1716', 'a1017', 'm1099', 'm132', 'm1152', 'm706', 'm169', 'm1036', 'm1191', 'm162', 'm926', 'm860', 'm1243', 'm875', 'm1248', 'm851', 'm5', 'a801', 'm1244', 'a1513', 'm283', 'm55', 'm666', 'm219', 'm1149', 'm1331', 'm1187', 'm407', 'm1150', 'm1178', 'm1241', 'm877', 'm260', 'a440', 'm621', 'm116', 'm571', 'a1181', 'm118', 'm1255', 'm626', 'm799', 'm989', 'm1163', 'm1237', 'm152', 'm120', 'a1672', 'm898', 'm380', 'm399', 'm1210', 'm853', 'm911', 'm1274', 'm1189', 'm398', 'm403', 'm86', 'm1016', 'm426', 'm1222', 'm442', 'm443', 'a393', 'm913', 'm856', 'm1157', 'm719', 'm416', 'm593', 'm962', 'm1311', 'm1337', 'm592', 'm946', 'm1349', 'm1160', 'a222', 'm1064', 'a1041', 'm941', 'm383', 'm1025', 'm343', 'm798', 'm614', 'm1008', 'm974', 'm1273', 'm575', 'm723', 'm1223', 'a95', 'm289', 'm848', 'm702', 'm1089', 'm1300', 'm1081', 'm552', 'm1046', 'm944', 'm208', 'a1047', 'm1297', 'm290', 'm223', 'm573', 'm1376', 'm1027', 'a152', 'm1290', 'm61', 'm1091', 'm362', 'm940', 'm146', 'm451', 'm830', 'm1259', 'm790', 'm625', 'a1782', 'm210', 'm293', 'm595', 'm991', 'm992', 'm1047', 'm966', 'm284', 'm905', 'm288', 'm1026', 'm303', 'm794', 'm366', 'm667', 'm537', 'm923', 'm1188', 'm1236', 'm395', 'm1051', 'm925', 'm933', 'm1207', 'm1270', 'm802', 'm428', 'm650', 'm862', 'm350', 'm807', 'm131', 'm854', 'm69', 'm1044', 'm713', 'm1014', 'm931', 'a775', 'm353', 'm655', 'a1045', 'm417', 'm385', 'm1367', 'a1048', 'm1246', 'm411', 'm1380', 'm975', 'a11', 'm1181', 'm1192', 'm240', 'm378', 'm888', 'm600', 'm582', 'm1341', 'm648', 'm1347', 'a1022', 'm113', 'm160', 'm899', 'm857', 'm172', 'm579', 'm419', 'm589', 'm824', 'm415', 'm292', 'm189', 'm996', 'm387', 'm361', 'm849', 'm1205', 'm357', 'm880', 'a834', 'm1366', 'm922', 'm1268', 'm1286', 'm1206', 'm309', 'a370', 'm1155', 'm809', 'm277', 'm280', 'm406', 'm956', 'm959', 'm209', 'a316', 'm550', 'm1177', 'm1217', 'm173', 'm812', 'm339', 'm836', 'm599', 'm627', 'm969', 'a2349', 'm833', 'm434', 'm475', 'm544', 'm829', 'a1524', 'm708', 'm697', 'a816', 'm1215', 'm724', 'm1140', 'm615', 'm603', 'm563', 'a101', 'm1335', 'm1257', 'm1282', 'm876', 'm574', 'm1158', 'm259', 'm652', 'm681', 'm1325', 'm585', 'm163', 'm440', 'm425', 'm1153', 'm27', 'm386', 'm74', 'm342', 'm651', 'm83', 'a807', 'm231', 'm628', 'm1252', 'm349', 'm186', 'm436', 'm37', 'm783', 'a821', 'm1345', 'm910', 'm908', 'm405', 'm1186', 'm843', 'm330', 'm1231', 'm649', 'm1370', 'm1285', 'm176', 'm265', 'm957', 'm601', 'm286', 'm1329', 'm203', 'm1194', 'a378', 'm693', 'm384', 'm1035', 'a1442', 'm1251', 'm1328', 'm39', 'a2305', 'm402', 'm916', 'm1267', 'm720', 'm1074', 'a88', 'm840', 'm998', 'a503', 'm636', 'm705', 'm728', 'm410', 'm845', 'm1066', 'a1040', 'm248', 'm1211', 'm1037', 'm295', 'm590', 'm222', 'm1333', 'a789', 'a2139', 'm763', 'm201', 'm1278', 'm143', 'm832', 'm134', 'm287', 'm438', 'm335', 'm1147', 'm194', 'm1258', 'm195', 'a1083', 'm1208', 'a50', 'm1058', 'm174', 'm855', 'm596', 'a598', 'm788', 'm308', 'm1226', 'm700', 'm976', 'm1361', 'm835', 'a820', 'm302', 'm1281', 'm1118', 'a1176', 'm1202', 'a52', 'a450', 'a854', 'm674', 'm1143', 'm1040', 'a2361', 'm1073', 'a285', 'm968', 'a1558', 'a3561', 'm608', 'm657', 'm613', 'm684', 'm246', 'm108', 'm825', 'm1154', 'm1228', 'm1021', 'm524', 'm344', 'a790', 'm355', 'm1334', 'm665', 'm336', 'm441', 'm635', 'a1758', 'a372', 'm1250', 'a90', 'm1117', 'm826', 'a369', 'm228', 'm325', 'm997', 'm1196', 'm631', 'm679', 'm518', 'm583', 'm545', 'a1329', 'a2367', 'm656', 'm1199', 'm814', 'm227', 'm379', 'm275', 'm772', 'm1082', 'm1104', 'm1139', 'm773', 'm117', 'a865', 'm1174', 'm881', 'a1377', 'a1363', 'm1327', 'm40', 'm182', 'a2222', 'm841', 'm1193', 'm993', 'm1084', 'a1042', 'm784', 'a239', 'm709', 'm1351', 'm686', 'm839', 'm699', 'm1017', 'm1245', 'm930', 'm263', 'm927', 'm696', 'm1326', 'm1032', 'm576', 'm472', 'm444', 'm319', 'm912', 'm1031', 'm787', 'm680', 'm276', 'a2301', 'm757', 'm703', 'a1177', 'm320', 'm144', 'm1313', 'm352', 'm792', 'a203', 'a880', 'm638', 'm322', 'a771', 'a1222', 'm669', 'm1373', 'm676', 'm980', 'a924', 'm701', 'm515', 'm262', 'm354', 'm581', 'm184', 'm331', 'a466', 'm566', 'm413', 'm714', 'm834', 'a115', 'a2785', 'm1077', 'm938', 'a1704', 'm1209', 'm800', 'm1071', 'm192', 'm691', 'm401', 'm559', 'm970', 'm791', 'm1069', 'a200', 'm348', 'm1279', 'm1332', 'm945', 'm774', 'm375', 'm606', 'm1216', 'm1068', 'm1233', 'm610', 'm297', 'm1344', 'm1004', 'm1256', 'm629', 'm213', 'm397', 'm1238', 'm356', 'a1232', 'a1416', 'm682', 'a51', 'm797', 'm904', 'm768', 'm492', 'a2755', 'm205', 'a1635', 'm204', 'a377', 'm758', 'm299', 'm427', 'm358', 'm527', 'm971', 'm1324', 'm187', 'a1993', 'm756', 'm177', 'm801', 'm1295', 'm647', 'm1175', 'm171', 'm1009', 'm214', 'a850', 'm323', 'm161', 'm742', 'm1219', 'm673', 'm767', 'a144', 'm329', 'm557', 'm313', 'm196', 'm346', 'm333', 'm622', 'm903', 'm760', 'm218', 'm1338', 'm928', 'm301', 'a1911', 'm491', 'm241', 'm193', 'm1298', 'm718', 'm921', 'm65', 'm831', 'a129', 'm1378', 'm326', 'm175', 'm300', 'a1384', 'm1041', 'm327', 'a431', 'm316', 'm874', 'm894', 'm815', 'm1305', 'm1280', 'm199', 'm1356', 'a638', 'm381', 'm1078', 'a1877', 'm513', 'm1204', 'm598', 'm158', 'm465', 'm273', 'm439', 'a3518', 'm530', 'a791', 'm721', 'm1007', 'a416', 'm274', 'm764', 'm1182', 'm496', 'm315', 'a231', 'm364', 'm1043', 'm1320', 'm766', 'm654', 'm243', 'm180', 'm224', 'a1373', 'm394', 'a593', 'm63', 'a2125', 'm1184', 'm873', 'a1077', 'm151', 'm200', 'a2374', 'm939', 'm685', 'm920', 'm893', 'm321', 'm762', 'm810', 'm359', 'm1340', 'a2460', 'm60', 'a1170', 'm694', 'm304', 'm164', 'a891', 'm954', 'm630', 'm341', 'm821', 'm1330', 'm373', 'a534', 'a1223', 'm365', 'm390', 'a2181', 'm1003', 'm711', 'a1052', 'a325', 'm328', 'm1308', 'm929', 'a818', 'a2720', 'a94', 'm852', 'm525', 'm951', 'm1010', 'a1179', 'm837', 'm278', 'm795', 'm391', 'm523', 'm1214', 'm363', 'm360', 'm1107', 'm1144', 'm1264', 'a462', 'a1033', 'm414', 'a984', 'm1183', 'a2169', 'm334', 'a22', 'm296', 'a736', 'm556', 'm671', 'a538', 'a1078', 'm578', 'm198', 'm859', 'm512', 'm211', 'm811', 'm178', 'm324', 'a794', 'm1080', 'a1133', 'm190', 'm967', 'm645', 'm958', 'a1244', 'm977', 'm1304', 'm1249', 'a1123', 'm712', 'm268', 'a3414', 'm393', 'a1468', 'm11', 'm495', 'a777', 'm738', 'm765', 'm746', 'm670', 'm594', 'm468', 'a3375', 'm1085', 'm640', 'm431', 'm646', 'a815', 'm245', 'm1176', 'a2061', 'a1301', 'm1039', 'm907', 'a427', 'a1783', 'm531', 'm609', 'm822', 'm238', 'm1294', 'm188', 'a2030', 'm490', 'm952', 'm999', 'm1055', 'm522', 'a1556', 'a904', 'a2393', 'm695', 'm1322', 'm119', 'a1294', 'm892', 'm633', 'm1072', 'a1203', 'a2009', 'm754', 'm239', 'm1221', 'a796', 'a1376', 'a15', 'm722', 'm917', 'a1730', 'm879', 'm1283', 'a835', 'm332', 'm156', 'm572', 'a1305', 'a806', 'm934', 'm149', 'a994', 'a2461', 'a913', 'm418', 'a1718', 'a1437', 'm212', 'a986', 'm1275', 'm1033', 'a856', 'm883', 'a12', 'a1438', 'a1835', 'a3436', 'a1973', 'a1095', 'm668', 'm247', 'm1265', 'm1170', 'a153', 'm1303', 'm534', 'a461', 'a1256', 'm226', 'm1224', 'a978', 'm793', 'm498', 'm124', 'm1309', 'a2273', 'a1', 'm521', 'a859', 'm642', 'a1185', 'a1100', 'm1005', 'm252', 'a1225', 'a1454', 'm3', 'a226', 'a3493', 'm338', 'm1358', 'm1369', 'm1062', 'a434', 'a1061', 'm813', 'a603', 'a243', 'a3203', 'm236', 'm744', 'm978', 'm661', 'a1593', 'a961', 'a2491', 'a871', 'a875', 'a910', 'a516', 'm51', 'a1560', 'a2840', 'm786', 'a1622', 'm683', 'm740', 'm865', 'm36', 'm602', 'm459', 'a1600', 'a1262', 'a2262', 'm1277', 'a1677', 'm644', 'm1292', 'm1088', 'a59', 'a2416', 'a1141', 'a797', 'm207', 'a381', 'm643', 'm250', 'm972', 'a1291', 'm249', 'm1343', 'm632', 'm717', 'm1352', 'm1291', 'm727', 'a2725', 'a2000', 'a1119', 'm688', 'a2646', 'm285', 'm424', 'm1346', 'm487', 'm1079', 'a1910', 'm508', 'm789', 'a137', 'a1976', 'a2134', 'm804', 'a3368', 'm1365', 'a374', 'a633', 'a2146', 'm1061', 'a1615', 'm1379', 'm639', 'a1490', 'a1901', 'a1214', 'm1354', 'a56', 'a2011', 'a92', 'a792', 'm532', 'a1362', 'm476', 'a319', 'a813', 'm803', 'm455', 'a3372', 'm994', 'm529', 'm464', 'a202', 'm191', 'a2929', 'm220', 'a535', 'a3365', 'm136', 'a3396', 'm272', 'm561', 'm1271', 'a412', 'm1296', 'm1227', 'm1269', 'm580', 'a950', 'm367', 'm658', 'a2323', 'm1067', 'a280', 'm514', 'a886', 'm1065', 'a922', 'a449', 'm1015', 'a1125', 'a1748', 'm1276', 'a915', 'a2971', 'm347', 'a1907', 'm1156', 'm618', 'm528', 'm482', 'a905', 'a1120', 'm38', 'm49', 'a1087', 'a13', 'm494', 'a1106', 'm351', 'm659', 'm805', 'm607', 'a149', 'a575', 'm369', 'a1498', 'm1063', 'm1301', 'm520', 'a425', 'a18', 'a1051', 'a1280', 'a1006', 'a1962', 'a1639', 'a1518', 'm264', 'm1142', 'm611', 'a1195', 'a1626', 'm317', 'm698', 'a110', 'a2814', 'a2328', 'a1440', 'm1234', 'a2802', 'a2792', 'm318', 'm1197', 'a1178', 'a1763', 'm687', 'm312', 'a1595', 'm1262', 'a803', 'a1785', 'a2820', 'a531', 'm755', 'm1201', 'm735', 'm672', 'a2719', 'm1190', 'a2932', 'a1658', 'a570', 'a599', 'm1350', 'm1083', 'm1164', 'm1359', 'a2347', 'm540', 'm1002', 'm1075', 'm526', 'm1288', 'm900', 'a1458', 'a909', 'm780', 'a442', 'a1091', 'm739', 'm234', 'a1012', 'm690', 'a267', 'm1218', 'a980', 'm1240', 'm511', 'm775', 'a1359', 'm1319', 'a127', 'm466', 'a2602', 'a58', 'a2233', 'a1533', 'a1784', 'a1164', 'm1355', 'a841', 'm142', 'a69', 'm726', 'a3373', 'a923', 'm677', 'm820', 'a106', 'a1246', 'm185', 'a2934', 'm85', 'a640', 'm538', 'a655', 'a2854', 'a2007', 'a1484', 'm965', 'a3431', 'a1512', 'a2342', 'a1271', 'a365', 'a1500', 'a836', 'a2851', 'a491', 'm483', 'a3441', 'a1773', 'm493', 'a2038', 'a484', 'm761', 'm460', 'a1385', 'a2939', 'm87', 'm100', 'a885', 'm1353', 'm153', 'a1268', 'a2016', 'm737', 'a2812', 'm1323', 'a928', 'a3044', 'a2938', 'a896', 'a221', 'a1192', 'm1266', 'a571', 'a488', 'a930', 'a2400', 'a1926', 'm1028', 'a1536', 'm57', 'a3367', 'a998', 'a123', 'a620', 'a1592', 'a2587', 'a805', 'a3439', 'a1308', 'a2577', 'm271', 'a1196', 'a2024', 'a1139', 'a1044', 'a2534', 'a1313', 'm1145', 'm1360', 'a778', 'm29', 'a1115', 'a1919', 'a3417', 'm1076', 'm52', 'a1338', 'm485', 'm458', 'm731', 'm535', 'm770', 'a2375', 'a2351', 'm591', 'a992', 'a2316', 'a3207', 'a47', 'a1997', 'a411', 'm568', 'a1530', 'm1310', 'm536', 'a2298', 'a1508', 'a2338', 'a1494', 'a808', 'a911', 'a2140', 'a1607', 'a1386', 'm59', 'a590', 'm1229', 'a251', 'a1137', 'm408', 'm886', 'a2119', 'm225', 'a109', 'm637', 'a3254', 'm771', 'm558', 'a613', 'a2388', 'a208', 'm1070', 'a3181', 'a332', 'm229', 'a3306', 'm710', 'm1050', 'a774', 'a107', 'm675', 'a1150', 'm818', 'm486', 'a1673', 'a1226', 'a2208', 'm1195', 'a1933', 'a874', 'a1487', 'a136', 'a2772', 'a157', 'a1088', 'm50', 'a201', 'a2171', 'm481', 'a2239', 'a1138', 'a1590', 'a1014', 'm1377', 'm1302', 'a1130', 'a98', 'a525', 'a1340', 'a844', 'a3388', 'a232', 'm409', 'a1396', 'm101', 'm99', 'm166', 'm1018', 'a2225', 'm1086', 'a3411', 'm1293', 'a1361', 'm130', 'a438', 'a1693', 'a435', 'm689', 'm298', 'm1038', 'a887', 'a443', 'm785', 'm267', 'a1281', 'a1800', 'a563', 'a1766', 'a899', 'm753', 'a3529', 'm759', 'a1676', 'm1287', 'a3434', 'a901', 'a3342', 'a996', 'a2044', 'a776', 'm1119', 'a1781', 'm1364', 'a3359', 'a134', 'a2133', 'm244', 'a596', 'a2836', 'a645', 'm539', 'a1553', 'm206', 'a2179', 'm948', 'm507', 'm819', 'a1983', 'm750', 'a855', 'a415', 'a116', 'a780', 'a942', 'a3416', 'm170', 'a997', 'a1995', 'm569', 'a2127', 'a2788', 'a3386', 'a2327', 'a800', 'm1375', 'a3370', 'a1566', 'a81', 'a2203', 'a1563', 'a291', 'a1963', 'a3315', 'm423', 'm137', 'a714', 'a1114', 'a1058', 'a2355', 'a1328', 'm547', 'a581', 'a665', 'a1249', 'a2399', 'm846', 'a695', 'a501', 'a3305', 'a1227', 'a717', 'a678', 'm469', 'a1324', 'a1131', 'a1496', 'a2295', 'm564', 'a3361', 'a2084', 'a1205', 'a2838', 'm863', 'a3588', 'a2270', 'a918', 'a1393', 'm1307', 'm467', 'a2350', 'a309', 'a1971', 'a1473', 'a2232', 'a1946', 'a1947', 'a2131', 'a1085', 'a428', 'a283', 'a681', 'm660', 'a2790', 'm456', 'm725', 'a486', 'a2549', 'a2766', 'm1161', 'm62', 'a112', 'a1211', 'a2750', 'm64', 'a53', 'a368', 'a1090', 'a832', 'm133', 'a769', 'm641', 'm1057', 'a89', 'a1511', 'a2370', 'a206', 'm237', 'a2599', 'm269', 'a1094', 'm516', 'a1538', 'a985', 'm382', 'a1601', 'a2241', 'm461', 'a621', 'm140', 'a772', 'a1124', 'a3219', 'a1617', 'a1443', 'a1109', 'a499', 'm519', 'm734', 'a1312', 'a1551', 'a3616', 'm4', 'm7', 'a1516', 'a2403', 'm1006', 'a1604', 'm504', 'a946', 'a1365', 'a2525', 'a2088', 'a708', 'a3078', 'a1146', 'a1110', 'a1830', 'a1862', 'a827', 'a1332', 'a1292', 'm896', 'a2804', 'a1581', 'a828', 'a1623', 'a210', 'm1247', 'a3349', 'a2908', 'a371', 'a749', 'm664', 'a829', 'a104', 'm503', 'a811', 'a955', 'm392', 'a3215', 'a119', 'm484', 'a1544', 'a3046', 'a103', 'a3280', 'm437', 'm868', 'a478', 'a550', 'm1179', 'a1175', 'a3485', 'a1580', 'm1368', 'm488', 'm279', 'm470', 'a1938', 'a2793', 'a1122', 'a1649', 'm1180', 'a1369', 'a236', 'a3407', 'm1235', 'a1587', 'a1599', 'a70', 'a657', 'a784', 'a1632', 'a3672', 'a1182', 'a1855', 'm612', 'a2819', 'm732', 'a1097', 'a2803', 'a2198', 'a3446', 'a2649', 'a615', 'a2076', 'a439', 'a229', 'a156', 'a162', 'a592', 'a1448', 'a2943', 'm261', 'a1172', 'a1233', 'm337', 'a2299', 'a2658', 'm1381', 'a299', 'a3060', 'a2345', 'm950', 'a6', 'm1289', 'a2336', 'a1121', 'a1235', 'a230', 'm663', 'a732', 'a2402', 'a128', 'a2204', 'm887', 'm779', 'a1532', 'a3294', 'a1339', 'a1092', 'a656', 'a2782', 'a1081', 'a548', 'a1478', 'a261', 'a3413', 'a1940', 'a857', 'a1418', 'a754', 'm1105', 'a473', 'a1204', 'a541', 'a733', 'a253', 'a1112', 'a490', 'm533', 'm1342', 'a3208', 'a3256', 'a1664', 'a16', 'm1321', 'm41', 'a1259', 'a1463', 'a845', 'm435', 'a1343', 'a1102', 'm542', 'a2734', 'a1238', 'a3489', 'a2170', 'a2075', 'a2086', 'm1165', 'a408', 'm961', 'm501', 'a2112', 'a2048', 'a255', 'a1474', 'a506', 'm1115', 'a552', 'a483', 'a284', 'a139', 'a1257', 'a1180', 'a3475', 'a1469', 'a2805', 'a344', 'a2215', 'a799', 'a3428', 'a1679', 'a1680', 'a1550', 'a2694', 'a2191', 'a860', 'a2498', 'a1194', 'a1493', 'a3077', 'a3371', 'a1316', 'a505', 'a2004', 'm10', 'a2398', 'm457', 'a1515', 'm869', 'm1363', 'm1042', 'a1510', 'a3393', 'a1421', 'a1504', 'a3003', 'a2806', 'm1141', 'a2205', 'a825', 'a750', 'a3053', 'a1273', 'a1162', 'a2354', 'a1462', 'a2147', 'a2214', 'a2849', 'a3381', 'a3531', 'a740', 'a148', 'a872', 'a418', 'a2672', 'a504', 'a1865', 'a330', 'a1794', 'a1075', 'a591', 'a751', 'a3058', 'a644', 'a2083', 'a3048', 'a3345', 'a1321', 'm473', 'a3262', 'a2047', 'a2722', 'a897', 'a28', 'a2003', 'm619', 'a1357', 'a2335', 'a1539', 'a1525', 'm555', 'a238', 'a3281', 'a1253', 'a125', 'a1619', 'a286', 'a1795', 'm98', 'a150', 'a2920', 'a2121', 'a2506', 'a712', 'a1598', 'm505', 'a2889', 'a2267', 'a3232', 'a2471', 'm258', 'm462', 'm549', 'a1925', 'a2718', 'a3049', 'a3034', 'a2478', 'm906', 'a96', 'm35', 'a207', 'a3234', 'm68', 'a320', 'a2768', 'a373', 'a3005', 'a3010', 'a1665', 'a760', 'a454', 'm422', 'a567', 'a3091', 'a729', 'a726', 'a684', 'a687', 'a742', 'a551', 'a1939', 'm202', 'a979', 'a1964', 'a1380', 'm463', 'm517', 'a1188', 'a1662', 'a3252', 'a1298', 'a3019', 'a1657', 'a3069', 'a333', 'a2396', 'a3432', 'a2391', 'a2627', 'a3408', 'a1708', 'a877', 'a1606', 'a507', 'a2246', 'm1299', 'a335', 'a2933', 'a941', 'a1967', 'a637', 'a452', 'a2290', 'a1495', 'a617', 'a3087', 'a2980', 'a700', 'a2764', 'm588', 'a1912', 'a2692', 'a3051', 'm634', 'a2412', 'a1519', 'a331', 'a1543', 'a1334', 'm509', 'a2583', 'a259', 'a3045', 'a3011', 'a3039', 'a329', 'a2252', 'a147', 'a2535', 'a3575', 'a916', 'a2930', 'a375', 'a1420', 'a752', 'a759', 'a639', 'a518', 'a704', 'a2141', 'a646', 'a635', 'a935', 'a3050', 'a3086', 'a903', 'a2344', 'a1648', 'a2651', 'a690', 'm1306', 'a2091', 'm368', 'a3056', 'a487', 'm1362', 'a3312', 'a2192', 'a2314', 'a1327', 'm1054', 'a141', 'a539', 'a831', 'a1230', 'a1269', 'a2219', 'a3579', 'm935', 'a318', 'a3389', 'a1419', 'a379', 'a945', 'a2035', 'a1379', 'a2164', 'm123', 'a3530', 'a2406', 'm183', 'a669', 'a741', 'a1154', 'a1641', 'a1258', 'a1265', 'a3438', 'a430', 'a1992', 'a1165', 'a748', 'm479', 'a1388', 'a3061', 'a2104', 'a269', 'a2545', 'a2494', 'a2992', 'a336', 'm871', 'a493', 'a1660', 'a2247', 'a328', 'a1397', 'a1503', 'a1501', 'a3014', 'a247', 'a2512', 'a3384', 'a108', 'a2935', 'a685', 'a727', 'a723', 'a3204', 'a2518', 'a779', 'a2197', 'a1713', 'a3288', 'm749', 'a2870', 'a429', 'a1307', 'a3293', 'a1242', 'a334', 'a3023', 'a1686', 'a345', 'a2967', 'a2234', 'a2951', 'a2952', 'a1136', 'a163', 'm471', 'a2271', 'a1389', 'm72', 'a322', 'a66', 'a1064', 'a3022', 'a3004', 'a2490', 'a523', 'a463', 'a785', 'a1387', 'a721', 'a667', 'm412', 'a934', 'a1126', 'a3062', 'a3071', 'a3047', 'a2540', 'a1107', 'a1449', 'a1710', 'a1934', 'a926', 'a1609', 'a1931', 'a1347', 'a342', 'a1984', 'a3035', 'a3028', 'a2186', 'a3059', 'a1243', 'm9', 'a2647', 'm58', 'm548', 'a3409', 'a155', 'a1368', 'a3211', 'a3478', 'a3660', 'a341', 'a2911', 'a380', 'a2984', 'a3025', 'a3024', 'a2981', 'a2997', 'a757', 'a2564', 'a2839', 'a250', 'a2917', 'a2915', 'a574', 'a2096', 'a3394', 'a713', 'a3084', 'a3090', 'a693', 'a682', 'a2818', 'a648', 'a3072', 'a485', 'a649', 'a3594', 'a822', 'a1148', 'a1337', 'm678', 'a636', 'a3040', 'a470', 'a3338', 'a1678', 'a3220', 'm502', 'a1266', 'm817', 'm480', 'm567', 'a1552', 'a3068', 'a1585', 'a2987', 'a607', 'a3055', 'a2985', 'a919', 'a272', 'a1326', 'a787', 'a1260', 'a321', 'a1263', 'a1499', 'a1793', 'a1582', 'm489', 'a1009', 'a445', 'a100', 'a2885', 'a433', 'a720', 'a688', 'a414', 'a522', 'a3283', 'm197', 'a953', 'a2562', 'm510', 'a3233', 'a3066', 'm404', 'a3192', 'a1303', 'a1464', 'a1429', 'm543', 'a2991', 'a3537', 'a1722', 'a266', 'a2964', 'a2999', 'a14', 'a3351', 'a126', 'm955', 'a1720', 'a131', 'a1729', 'm752', 'a1583', 'm751', 'm1242', 'a2986', 'a3021', 'a753', 'a765', 'a63', 'a1285', 'a819', 'a983', 'a553', 'a764', 'a728', 'a762', 'a686', 'a680', 'a707', 'a689', 'a2077', 'a3079', 'm1109', 'a698', 'a1565', 'a881', 'a3661', 'm747', 'a956', 'm872', 'a3057', 'm597', 'm266', 'a3073', 'a3076', 'a1777', 'a1444', 'a1335', 'a1948', 'a1452', 'a492', 'a1637', 'a244', 'a340', 'a338', 'm827', 'a3017', 'a2824', 'a3036', 'a1881', 'a2079', 'a2936', 'a3026', 'a2963', 'a3080', 'm2', 'a1659', 'a2218', 'a867', 'a262', 'a323', 'a1790', 'a1497', 'a2983', 'a2996', 'a395', 'a1520', 'a451', 'a265', 'a3592', 'm314', 'a3199', 'a2504', 'a605', 'a756', 'a755', 'a725', 'a936', 'a3081', 'a722', 'm233', 'a2735', 'a2001', 'a1652', 'a940', 'a2948', 'a2695', 'a3227', 'a1734', 'a3064', 'a2358', 'a295', 'a367', 'a502', 'a2045', 'a2312', 'a3031', 'a3032', 'a3029', 'a1675', 'a3038', 'a3253', 'a2591', 'a270', 'a1876', 'a225', 'a3504', 'a2451', 'a2516', 'a616', 'a763', 'a2085', 'a248', 'a558', 'a3576', 'a2864', 'a715', 'a711', 'a652', 'a653', 'a697', 'a699', 'a948', 'a743', 'a1143', 'a2726', 'a788', 'a1248', 'a3', 'a933', 'a931', 'a954', 'a2721', 'a2945', 'a1745', 'a1103', 'a990', 'm497', 'a464', 'a770', 'a2284', 'a279', 'a1431', 'a1426', 'a1959', 'a3030', 'a3542', 'a1382', 'a585', 'a3013', 'a2962', 'a2968', 'a3074', 'a863', 'a293', 'a1630', 'a3457', 'a87', 'a117', 'a1356', 'a2332', 'a160', 'a894', 'a3471', 'a1128', 'a1994', 'a2900', 'a3016', 'a2989', 'a2990', 'a1579', 'a2280', 'a838', 'a2464', 'a3534', 'a2831', 'a2976', 'a3083', 'a683', 'a702', 'a1575', 'a668', 'a677', 'a719', 'a2600', 'm1254', 'm919', 'a1681', 'm474', 'a1295', 'a1887', 'a3380', 'a2644', 'a3052', 'a1683', 'a2894', 'a1960', 'm733', 'a3265', 'a2609', 'a995', 'a289', 'a1350', 'a2523', 'a2128', 'a3257', 'a1479', 'a3589', 'a3043', 'a2903', 'a2959', 'a1667', 'a3360', 'a2078', 'a82', 'a3496', 'a3415', 'a1767', 'a154', 'a376', 'a1791', 'a3008', 'a758', 'a447', 'a2918', 'a3657', 'a1286', 'a2278', 'a1099', 'a3089', 'a2977', 'a767', 'a691', 'a706', 'a744', 'a2364', 'a673', 'a670', 'a672', 'a718', 'a2087', 'a709', 'a659', 'a1531', 'm546', 'a991', 'a99', 'a3508', 'a944', 'a925', 'a939', 'a3201', 'a2459', 'a1694', 'a2910', 'a1082', 'm270', 'a422', 'a264', 'a2276', 'm1146', 'a2660', 'a275', 'a300', 'a3479', 'a1714', 'a337', 'a3184', 'a245', 'a1423', 'a1502', 'a1633', 'a3070', 'a898', 'a2294', 'm878', 'a2481', 'a237', 'a2064', 'a71', 'a1450', 'a2673', 'a2221', 'a2744', 'a2306', 'a912', 'a317', 'a3271', 'a1596', 'a3067', 'a246', 'a252', 'a257', 'a477', 'a476', 'a2924', 'a2857', 'a2861', 'm139', 'a3088', 'a634', 'a724', 'a650', 'a705', 'a1863', 'm217', 'a676', 'a675', 'a3065', 'a604', 'a2675', 'm235', 'a1589', 'a2195', 'a64', 'a842', 'a798', 'a1145', 'a1885', 'a952', 'a3085', 'a1818', 'a937', 'a1822', 'a2949', 'a3054', 'a1715', 'a273', 'a1046', 'a1149', 'a2738', 'a3443', 'a2116', 'a3255', 'a2442', 'a3075', 'a1434', 'a3027', 'a2206', 'a2970', 'a1514', 'a2237', 'a3549', 'a1936', 'a159', 'a2378', 'a220', 'a2310', 'a3269', 'a3063', 'm82', 'a3018', 'a3002', 'a302', 'a766', 'a1074', 'a444', 'a2456', 'a2730', 'a716', 'a2979', 'a679', 'a3422', 'a710', 'a73', 'a2259', 'a1191', 'a1614', 'a1537', 'a927', 'a1812', 'a2823', 'a1695', 'a2103', 'a1837', 'a2318', 'a1873', 'm554', 'a2866', 'a3666', 'a2362', 'a2122', 'a2666', 'a1161', 'a1738', 'a2931', 'a1433', 'a3000', 'a3042', 'a2954', 'a559', 'a1706', 'a1882', 'a1894', 'a746', 'a2175', 'a274', 'a3520', 'a25', 'a1970', 'a84', 'a738', 'a1254', 'a1212', 'm562', 'a2624', 'a140', 'a3514', 'a158', 'a3455', 'a3578', 'a2308', 'a343', 'a1792', 'a2998', 'a1821', 'a458', 'a475', 'a895', 'a2886', 'a2888', 'a2902', 'a2842', 'a1762', 'a1690', 'a2729', 'a1751', 'a2973', 'a3429', 'a642', 'a2080', 'a441', 'a2874', 'a1833', 'a1779', 'a2858', 'a1163', 'a3037', 'a745', 'a2377', 'a2947', 'a1104', 'a562', 'm506', 'a1597', 'a1871', 'a3426', 'a2334', 'a294', 'a1979', 'a327', 'a2049', 'a2871', 'a2867', 'a2046', 'a2778', 'a3602', 'm604', 'a2794', 'a2066', 'a2982', 'a339', 'a2965', 'a121', 'a80', 'a2556', 'a2357', 'a2363', 'a1251', 'a1250', 'a1843', 'm828', 'a161', 'a1096', 'a883', 'a2307', 'a847', 'a311', 'm736', 'a366', 'a3006', 'a2994', 'a396', 'a1819', 'a610', 'a1062', 'a2489', 'a556', 'a2499', 'a900', 'a2601', 'a2728', 'a3654', 'a2020', 'a694', 'a696', 'a703', 'a1576', 'a674', 'm889', 'a75', 'a86', 'a78', 'a2376', 'a2846', 'm979', 'a1839', 'a1276', 'a2702', 'a982', 'a3569', 'a1897', 'a1813', 'a3538', 'a1153', 'a1949', 'a2282', 'a1588', 'a2758', 'a2869', 'a2859', 'a810', 'a2421', 'a1425', 'a1430', 'a1424', 'a3012', 'a2884', 'a2610', 'a2919', 'a2786', 'a3041', 'a2969', 'a19', 'm8', 'a124', 'a24', 'a3447', 'a85', 'a2548', 'a2360', 'a3515', 'a216', 'a3477', 'a3599', 'a2309', 'a3379', 'a2248', 'a2957', 'a2993', 'a3020', 'a146', 'a2526', 'a457', 'a460', 'a2590', 'a1611', 'a547', 'a795', 'a1574', 'a2937', 'a1364', 'a394', 'a1886', 'm1318', 'a410', 'a561', 'a1200', 'a3486', 'a1283', 'a2617', 'a943', 'm861', 'a2296', 'a560', 'a3453', 'm870', 'a2528', 'a3606', 'a2279', 'a1682', 'a2611', 'a2779', 'a2281', 'a2756', 'a1594', 'a2667', 'a1159', 'a2082', 'a2343', 'a1427', 'a1422', 'a1432', 'a2598', 'a2467', 'a3195', 'a1684', 'a3491', 'a2893', 'a3516', 'a3532', 'a1883', 'a2519', 'a1896', 'a2966', 'a2961', 'a588', 'a3600', 'm844', 'a2550', 'a1922', 'a2798', 'a2763', 'a2810', 'a1187', 'a2582', 'a2629', 'a218', 'a2642', 'a2670', 'a21', 'a2944', 'a364', 'a735', 'a2521', 'a456', 'a2822', 'a2594', 'a837', 'a2457', 'a1290', 'a858', 'a1395', 'a2865', 'a2974', 'a643', 'a2462', 'a2256', 'm400', 'a1554', 'a2257', 'a1895', 'a878', 'a2640', 'a1820', 'a2493', 'a2876', 'a2339', 'a1318', 'a602', 'a420', 'a3188', 'a2283', 'a2559', 'a1874', 'a2260', 'a1685', 'a2625', 'a1547', 'a2754', 'a254', 'a263', 'm500', 'a312', 'a2774', 'a2780', 'a611', 'a2324', 'a1390', 'a2853', 'a3517', 'a508', 'a3202', 'a2701', 'a417', 'a2925', 'a2875', 'a2789', 'a2698', 'a3490', 'a1721', 'a1869', 'a2905', 'a2662', 'a2210', 'a76', 'a2723', 'a3015', 'a2995', 'a3007', 'a2070', 'a2073', 'm776', 'a3320', 'a2437', 'a17', 'a234', 'a77', 'a2368', 'a2737', 'a1923', 'a3541', 'a3482', 'a3605', 'a1261', 'a3330', 'a849', 'a1634', 'a2515', 'a271', 'a2522', 'a612', 'a3273', 'a2907', 'a258', 'a1345', 'a3323', 'a641', 'a1814', 'a1916', 'a446', 'a3301', 'a2401', 'a2148', 'a1756', 'a3225', 'a1625', 'a1905', 'a580', 'a2975', 'a651', 'a3228', 'a734', 'a957', 'a671', 'a739', 'a647', 'a660', 'm432', 'a557', 'a1786', 'a1255', 'a1999', 'a1838', 'a864', 'a2138', 'a2800', 'a1688', 'a2458', 'a2620', 'a3189', 'a3187', 'a281', 'a455', 'a1311', 'a2664', 'a1274', 'a423', 'a2760', 'a3358', 'a3399', 'a3310', 'a2661', 'a2098', 'a3512', 'a544', 'a2369', 'a2767', 'a1309', 'a3275', 'a549', 'a2960', 'a2988', 'a3562', 'a3009', 'm1171', 'a2333', 'a2592', 'a3456', 'm1053', 'a79', 'a2300', 'a2012', 'a3309', 'a1284', 'a2155', 'a1270', 'a1460', 'a3632', 'a2249', 'a873', 'a305', 'a298', 'a3270', 'a2941', 'a761', 'a145', 'a2953', 'a459', 'a2892', 'a2921', 'a521', 'm838', 'a2463', 'a2404', 'a2509', 'a2731', 'a2090', 'a1908', 'a632', 'a701', 'a1118', 'a1367', 'a664', 'a2852', 'a1144', 'a1610', 'a3197', 'a2261', 'a3539', 'a1613', 'a1831', 'a1127', 'a2348', 'a2394', 'a2958', 'a403', 'a1892', 'a2776', 'a2878', 'a578', 'a1322', 'a2544', 'a448', 'a1956', 'a2414', 'a1868', 'a2217', 'a268', 'a282', 'a2759', 'a543', 'a2860', 'a1240', 'a1832', 'a2159', 'a1351', 'a1348', 'a3311', 'a278', 'a2671', 'a1372', 'a2762', 'a662', 'a2787', 'a1875', 'a1304', 'a2828', 'a3511', 'a2855', 'a3573', 'a2883', 'a2411', 'a3001', 'a1049', 'a29', 'a3449', 'a1974', 'a1920', 'a1210', 'a1209', 'a3494', 'a3540', 'a133', 'a3357', 'a2405', 'a2488', 'a2303', 'a240', 'a1451', 'a3377', 'a2242', 'a241', 'a2796', 'a256', 'a1969', 'a3299', 'a402', 'a2517', 'a1239', 'a453', 'a2380', 'a3347', 'a583', 'a1171', 'a164', 'a2897', 'a2895', 'a2450', 'a546', 'a1696', 'a2151', 'a1213', 'a2724', 'a2727', 'a1952', 'a2264', 'a2266', 'a2872', 'a1577', 'a2848', 'a731', 'a2503', 'a661', 'a2524', 'a2757', 'a1534', 'a2010', 'a1627', 'a3617', 'a524', 'a242', 'a2821', 'a2833', 'a2395', 'a3663', 'a3658', 'a932', 'a929', 'a938', 'a3223', 'a2950', 'a2605', 'a1105', 'a1108', 'a1086', 'a2588', 'a3186', 'a2485', 'a3554', 'a2365', 'a1755', 'a1218', 'a2189', 'a1638', 'a307', 'a2229', 'a3548', 'a2898', 'a517', 'a1854', 'a1856', 'a2699', 'a290', 'a3277', 'a2043', 'a1935', 'a1529', 'a2809', 'a2167', 'a3670', 'a2909', 'a2065', 'a2413', 'a654', 'a3194', 'a297', 'a1568', 'a296', 'a1975', 'a2554', 'a2553', 'a2304', 'a2381', 'a1921', 'a1360', 'a2420', 'a2415', 'a1728', 'a1724', 'a120', 'a2765', 'a1570', 'a2641', 'a3476', 'a2676', 'a500', 'a3631', 'a1655', 'a3374', 'a1215', 'a404', 'a401', 'a2142', 'a3665', 'a2470', 'a2832', 'a479', 'a2483', 'a2923', 'a2887', 'a2826', 'a1624', 'a3466', 'a3385', 'a2455', 'a105', 'a2732', 'a3580', 'a1629', 'a2868', 'a3487', 'a3423', 'a3464', 'a3433', 'a737', 'a74', 'a830', 'a1147', 'a1559', 'a2040', 'm181', 'a2042', 'a2089', 'a2258', 'a1852', 'a2101', 'a3313', 'a1378', 'a2438', 'a3553', 'a3291', 'a1759', 'a3566', 'a1727', 'a2193', 'a3353', 'a2881', 'a2163', 'a424', 'a1151', 'a2797', 'a3454', 'a1753', 'a1950', 'm1312', 'a249', 'a1341', 'a2612', 'a542', 'a2052', 'a1167', 'a2311', 'a1160', 'a3224', 'a1586', 'a3258', 'a529', 'a1944', 'a1374', 'a3547', 'a2926', 'm1087', 'a3276', 'a908', 'a2703', 'a2129', 'a3082', 'a545', 'a2904', 'a2740', 'a2663', 'a2445', 'a3463', 'a2593', 'a301', 'm56', 'a3460', 'a3458', 'a2136', 'a2173', 'a2808', 'a3356', 'a2382', 'a597', 'a2630', 'a892', 'a2482', 'a2153', 'a1461', 'a1562', 'a2674', 'a496', 'a498', 'a512', 'a879', 'a308', 'a1605', 'a2807', 'a276', 'a2111', 'a143', 'a692', 'a2916', 'a2928', 'a2596', 'a2597', 'a555', 'a3601', 'a565', 'a2581', 'a537', 'a2507', 'a1297', 'a1945', 'a2022', 'a826', 'a2862', 'm867', 'a2847', 'a666', 'a3406', 'a292', 'a1628', 'a514', 'a2041', 'a2733', 'a3535', 'a2213', 'a3290', 'a843', 'a2422', 'a2100', 'a3314', 'a1941', 'a853', 'a3662', 'a3198', 'a2850', 'a3459', 'a949', 'a2034', 'a2773', 'a2105', 'a1572', 'a2466', 'a3674', 'a2423', 'a2352', 'a2659', 'a304', 'a2320', 'a3185', 'a1811', 'a902', 'a2176', 'a2495', 'a1872', 'a2633', 'a2207', 'a2761', 'a2293', 'a1330', 'a1642', 'a2747', 'a303', 'a2484', 'a2514', 'm454', 'a3222', 'a1289', 'a409', 'a3450', 'a1314', 'a2527', 'a1955', 'a3644', 'a1472', 'a1561', 'a2817', 'a586', 'a2873', 'a2183', 'a1228', 'a3340', 'a1674', 'a2771', 'a2955', 'm806', 'a1890', 'a2558', 'a2209', 'a2743', 'a2366', 'a3468', 'a1889', 'a3546', 'a2835', 'a554', 'a2068', 'm1', 'm28', 'a1252', 'm374', 'a2424', 'a3352', 'a3355', 'a1342', 'a2379', 'a3461', 'a3474', 'a3469', 'a227', 'a2272', 'a2250', 'a219', 'a2386', 'a618', 'a326', 'a3570', 'm107', 'a405', 'a1093', 'a1965', 'a467', 'a2165', 'a2816', 'a1169', 'a2501', 'a3536', 'a2753', 'a3583', 'a3420', 'a1903', 'a2815', 'a1264', 'a1902', 'a2468', 'a658', 'a783', 'a1591', 'a533', 'a814', 'a3318', 'a824', 'a132', 'a2353', 'a3638', 'a1344', 'a1166', 'a2486', 'a1888', 'a951', 'a1816', 'a747', 'a2317', 'a1197', 'm864', 'a1545', 'a151', 'm1315', 'a2639', 'a2637', 'a1735', 'a600', 'a1951', 'a2178', 'a3444', 'a2604', 'a2277', 'a3287', 'a3229', 'a1853', 'a1732', 'a1569', 'a2019', 'a1189', 'a1961', 'a2513', 'a3316', 'm1056', 'a2538', 'a2635', 'a3190', 'a1549', 'a2487', 'a2469', 'a1080', 'a494', 'a497', 'a2263', 'a1428', 'a2880', 'a1234', 'a2050', 'a1491', 'a2053', 'a1132', 'a3513', 'a2497', 'a1488', 'a3550', 'a480', 'a3502', 'a3500', 'a1282', 'a2608', 'a3581', 'a509', 'a2784', 'a2212', 'a1884', 'a2843', 'a1315', 'a530', 'a2922', 'a1661', 'a277', 'a135', 'a235', 'a3214', 'a1358', 'a3543', 'a3545', 'a2653', 'a2626', 'a1439', 'a2158', 'a2039', 'a224', 'a1383', 'a2657', 'a2384', 'a3335', 'a2927', 'a1417', 'a614', 'a2145', 'a3402', 'a2511', 'a1237', 'a1168', 'a288', 'a917', 'a2906', 'a519', 'a1689', 'a1392', 'a1394', 'a566', 'a589', 'a3572', 'a2275', 'a2177', 'a1216', 'a1219', 'a2107', 'a1828', 'a1932', 'a2152', 'a2292', 'a1998', 'a1988', 'a2286', 'a851', 'a2648', 'a532', 'a1827', 'a2681', 'a1817', 'a1815', 'm823', 'a1217', 'a2946', 'a2877', 'a3625', 'a1612', 'a2244', 'a1723', 'a419', 'a2302', 'a2552', 'a2551', 'a1870', 'a1456', 'a1441', 'a3200', 'a1567', 'a1183', 'a1319', 'a130', 'a1231', 'a2683', 'a2274', 'a1277', 'a1914', 'a2769', 'a2555', 'a1789', 'a1522', 'a3424', 'a3354', 'a2510', 'a3642', 'a2013', 'a1900', 'a2801', 'a3329', 'a2547', 'a1736', 'a663', 'a3285', 'a2563', 'a1221', 'a2285', 'a1726', 'a2428', 'a1981', 'a2891', 'a582', 'a3419', 'a2288', 'a2791', 'a3552', 'a2447', 'a1801', 'a2072', 'a2397', 'a1193', 'a2392', 'a3278', 'a223', 'a3470', 'a3473', 'a2130', 'a3213', 'a2530', 'a2956', 'a2705', 'a2144', 'a1834', 'a564', 'a474', 'a2287', 'a1173', 'a1206', 'a3506', 'a3507', 'a122', 'a2595', 'a1482', 'a2505', 'a584', 'a572', 'a2149', 'a823', 'a3668', 'a2508', 'a3584', 'a3421', 'a1904', 'a72', 'a3366', 'a3178', 'a1966', 'a469', 'a2255', 'a1918', 'a1717', 'a2168', 'a833', 'a65', 'a2574', 'a1336', 'a3440', 'a981', 'a1752', 'a1323', 'a1826', 'a906', 'a2475', 'a1893', 'a958', 'a2182', 'a471', 'a2021', 'a3437', 'a1224', 'a1111', 'a3627', 'a465', 'a1287', 'a1700', 'a3206', 'a1089', 'a1320', 'a601', 'a2202', 'm499', 'a2110', 'a1152', 'a1954', 'a1521', 'a3655', 'a2668', 'a1184', 'm541', 'm478', 'a1760', 'a3483', 'a1930', 'a1098', 'a1275', 'a2634', 'a3350', 'a3503', 'a2777', 'a2685', 'a1278', 'a1156', 'a1155', 'a1987', 'a3582', 'a1296', 'a1666', 'a2188', 'a2751', 'a2752', 'a2783', 'a3319', 'a3435', 'a1958', 'a3480', 'a2408', 'a3645', 'a1346', 'a1113', 'a2736', 'a1618', 'a2187', 'a2741', 'a3308', 'a1528', 'a3492', 'a3442', 'a3586', 'a2359', 'a3344', 'a2686', 'a2356', 'a489', 'a2717', 'a2795', 'a2882', 'a2069', 'a23', 'a260', 'a2033', 'a233', 'a2231', 'a2419', 'a2417', 'a1866', 'a1771', 'a2430', 'a2062', 'a2407', 'a3400', 'a3218', 'a2154', 'a861', 'a3630', 'a3635', 'a3557', 'a3430', 'a2586', 'a3390', 'a142', 'a3236', 'a2912', 'a2465', 'a2748', 'a1476', 'a3544', 'a436', 'a2546', 'a1654', 'a839', 'a817', 'a2536', 'a2433', 'a3495', 'a1850', 'a1851', 'a1848', 'a114', 'a1267', 'a3567', 'a1711', 'a3659', 'a1310', 'a1824', 'a2093', 'a1546', 'a2645', 'a2841', 'm257', 'a3175', 'a1486', 'a1535', 'a1765', 'a2097', 'a2656', 'a1465', 'a3656', 'a2185', 'a1117', 'a2679', 'a3462', 'a513', 'a1302', 'a2254', 'a1157', 'a2341', 'a914', 'a1245', 'a1353', 'a3522', 'a526', 'a619', 'a3259', 'a495', 'a1331', 'a1985', 'a3551', 'a1776', 'a3300', 'a1986', 'a2439', 'a3640', 'a2716', 'a2879', 'a2180', 'a1459', 'a1010', 'a3524', 'a3341', 'a2230', 'a2565', 'm953', 'a3395', 'a2474', 'a1829', 'a2245', 'a2913', 'a2067', 'a2781', 'a3317', 'a2432', 'a2446', 'a481', 'a2632', 'a3033', 'a2896', 'a1742', 'a310', 'a2227', 'a1050', 'a2440', 'a3619', 'a27', 'a3521', 'a2289', 'a2385', 'a1208', 'a1129', 'a102', 'a1190', 'a3364', 'a2579', 'a2291', 'm48', 'a869', 'a1526', 'a511', 'a889', 'a2585', 'a324', 'a2051', 'a2578', 'a2329', 'a1943', 'a3499', 'a2825', 'a3346', 'a2890', 'a3519', 'a569', 'a579', 'a2313', 'a2829', 'a60', 'a1279', 'a3217', 'a2426', 'a67', 'a809', 'a3488', 'a3339', 'a1719', 'a3649', 'a852', 'a2143', 'a3614', 'a730', 'a888', 'a2269', 'a1823', 'a2092', 'a2224', 'a622', 'a1699', 'a2606', 'm858', 'a421', 'a2268', 'a1471', 'a1860', 'a1447', 'a2315', 'a2150', 'a2568', 'a2372', 'a3604', 'a1480', 'a1687', 'a1371', 'a2031', 'a1084', 'a2631', 'a3210', 'a3193', 'a3177', 'a2500', 'a3671', 'a2199', 'a1608', 'a3629', 'a1846', 'a1757', 'a1647', 'a1584', 'a1953', 'a1355', 'a2429', 'a3260', 'a2541', 'a1523', 'm741', 'a1455', 'a1712', 'm1137', 'a2622', 'a3427', 'a3295', 'm1203', 'a786', 'a1542', 'a2745', 'a2118', 'a1836', 'a1398', 'a540', 'a3560', 'a2746', 'a2770', 'a3176', 'a426', 'a1749', 'a2680', 'a3322', 'a113', 'a2749', 'a3585', 'a1725', 'a2704', 'a287', 'a3523', 'a2477', 'a2383', 'a2830', 'a1867', 'm33', 'a2480', 'a3307', 'a3282', 'a2678', 'a862', 'a3624', 'm66', 'a2174', 'a2390', 'a3272', 'a3321', 'a3302', 'a2108', 'm110', 'a1055', 'a2472', 'a1174', 'a2427', 'a1691', 'a1697', 'a2502', 'a2940', 'a2017', 'a3664', 'a3387', 'a2542', 'a1509', 'a594', 'a2162', 'a55', 'a432', 'a2216', 'a2573', 'a2845', 'a2036', 'a3628', 'a1477', 'a3568', 'a3448', 'a947', 'a2190', 'a2126', 'a2226', 'a3484', 'a3336', 'a118', 'a1692', 'a2899', 'a2914', 'a2529', 'a2520', 'a573', 'a577', 'a1743', 'a1968', 'a2619', 'a1007', 'a2113', 'a1768', 'a2410', 'a2238', 'm730', 'a1053', 'a2037', 'a3327', 'a536', 'a1636', 'a1787', 'm553', 'a3296', 'a1116', 'a1134', 'a1220', 'a3337', 'a2081', 'a1236', 'a3304', 'a3209', 'a1352', 'a1564', 'a2322', 'a1616', 'a2901', 'a1135', 'a1489', 'a3183', 'a3180', 'a3303', 'a2613', 'a3263', 'a57', 'a2687', 'a2115', 'a2228', 'a2700', 'a2799', 'a3563', 'a2811', 'a1548', 'a1645', 'a2618', 'a3533', 'a606', 'a2775', 'a111', 'a2978', 'a1527', 'a4', 'a2444', 'a2184', 'a2008', 'a83', 'a91', 'a3405', 'm232', 'a2135', 'a1540', 'a2436', 'a1858', 'a1845', 'a3451', 'a3452', 'a1247', 'a2156', 'a2677', 'a876', 'a54', 'a3626', 'a1864', 'a1917', 'a3235', 'a68', 'a1391', 'a2018', 'a2028', 'a3418', 'a3620', 'a3634', 'a413', 'a1229', 'a61', 'a2099', 'a2200', 'a1333', 'a1054', 'a3595', 'a3182', 'a3623', 'a3348', 'a2166', 'a2616', 'a2373', 'a2253', 'a1445', 'a1481', 'a1761', 'a2029', 'a2614', 'a3510', 'a1640', 'a2297', 'a1982', 'a1186', 'a3639', 'a3289', 'a3221', 'a1646', 'a3196', 'a1349', 'a1354', 'a3226', 'a1778', 'a1457', 'a2473', 'a3597', 'a1927', 'a2827', 'a2025', 'a515', 'a1644', 'a846', 'a2109', 'm842', 'a3425', 'a1701', 'a2682', 'a2566', 'a2240', 'a2813', 'a3481', 'a1142', 'a608', 'a568', 'a1915', 'a2074', 'a2071', 'a1656', 'a2532', 'a26', 'a2431', 'a2690', 'a2693', 'a2434', 'a3363', 'a3397', 'a2337', 'a3216', 'a3472', 'a884', 'a1557', 'a1603', 'a3636', 'a3637', 'a3392', 'a1485', 'a2856', 'a3391', 'a3230', 'a1272', 'a3612', 'a1775', 'a2161', 'a1202', 'a2435', 'a2492', 'a2002', 'a1772', 'a3577', 'a3593', 'a1991', 'a3633', 'a2697', 'a781', 'a1703', 'a3284', 'a576', 'a1972', 'a1370', 'm748', 'a2615', 'a1101', 'a1733', 'a1466', 'a1506', 'a1880', 'a2326', 'a2628', 'a3401', 'a1306', 'a1929', 'a1857', 'a1842', 'a2418', 'a3556', 'a2102', 'a3266', 'a1293', 'a866', 'a1957', 'a3445', 'a1317', 'a3528', 'a3376', 'a3669', 'a1541', 'a2621', 'a3574', 'a848', 'a2325', 'a3598', 'a3412', 'a2691', 'a2561', 'a890', 'a2863', 'a1668', 'a2684', 'a2669', 'a1898', 'a3498', 'a3298', 'a3565', 'a2942', 'a2844', 'a587', 'a3646', 'a10', 'a2', 'a2409', 'a2576', 'a2006', 'a97', 'm1371', 'a1841', 'a1840', 'a1769', 'a840', 'a2636', 'a1774', 'a3274', 'a3590', 'a3382', 'a3404', 'a2580', 'a1744', 'a2575', 'a510', 'm167', 'a804', 'a1201', 'a2837', 'a1989', 'a1990', 'a1780', 'a1709', 'a2319', 'a1140', 'a1199', 'a3526', 'a3555', 'a2032', 'a3231', 'a2972', 'a3297', 'a437', 'a2236', 'a1056', 'a1446', 'a2557', 'a1754', 'a1737', 'a3334', 'a2223', 'a1643', 'a1325', 'a3558', 'a1241', 'a3383', 'a802', 'a2496', 'a2346', 'a3467', 'a1375', 'a3641', 'a3603', 'm570', 'a793', 'a2443', 'a2014', 'a3333', 'a2655', 'a2330', 'a3559', 'a2742', 'a3332', 'a1059', 'a2589', 'a2603', 'a2441', 'a2689', 'a3410', 'a3292', 'a1937', 'a2005', 'a1705', 'm617', 'm24', 'a2172', 'a2235', 'a2696', 'a2132', 'm895', 'm620', 'a1602', 'a2387', 'a1663', 'a3611', 'a62', 'a520', 'a2106', 'a1847', 'a3650', 'a468', 'a1702', 'a1013', 'a2243', 'a2623', 'a1788', 'a3615', 'a3324', 'a3191', 'a2543', 'a3527', 'a3465', 'a1517', 'a2211', 'a2114', 'a868', 'a2027', 'a3268', 'a3596', 'a3501', 'a1621', 'a1978', 'a2063', 'a1739', 'a3398', 'a1891', 'a3212', 'a2834', 'a1470', 'a527', 'a2560', 'a2124', 'm1317', 'a1996', 'a1571', 'a209', 'a1453', 'a2654', 'a2453', 'a2688', 'a1899', 'a3652', 'a3613', 'a3653', 'a3648', 'a1849', 'a3286', 'a2340', 'm251', 'a2638', 'a1878', 'a2569', 'a1555', 'a3622', 'a1158', 'a3325', 'a1906', 'a1650', 'a1299', 'a2015', 'a3261', 'a3621', 'a2265', 'a482', 'a3497', 'a2650', 'a2607', 'a1631', 'a1747', 'a2026', 'a2389', 'a2220', 'a609', 'a2584', 'a7', 'a1844', 'a1770', 'a3362', 'a3591', 'a2454', 'a1913', 'a1909', 'a1288', 'a3205', 'a1698', 'a2201', 'a1741', 'a1861', 'a2449', 'a2537', 'a528', 'a1651', 'a2643', 'a882', 'a1764', 'a3328', 'a2137', 'a1620', 'a3267', 'a2571', 'a1653', 'a3525', 'a1859', 'a2570', 'a2531', 'a3264', 'a2425', 'a3564', 'a3643', 'a2196', 'a2157', 'a3509', 'a3618', 'a2095', 'a2160', 'a1578', 'a1707', 'a2452', 'a1492', 'a1928', 'a2371', 'a3587', 'a1879', 'a3673', 'a3331', 'a2714', 'a2665', 'a2476', 'a3647', 'a3179', 'a2448', 'a3326', 'a3403', 'a993', 'a1746', 'a2321', 'a2652', 'a2117', 'a1980', 'a2251', 'a1740', 'a2739', 'a2123', 'a5', 'a3505', 'a1924', 'a9', 'a3279', 'a1198', 'a1475', 'a2194', 'a2023', 'a1573', 'a2533', 'a3571', 'a8', 'a2479', 'a1207', 'a2572', 'a1825', 'a2094', 'a2539', 'a3667', 'a3092', 'a907', 'a2120', 'a1977', 'a2331', 'a2567', 'a48', 'a3651', 'a870', 'a3093', 'a1300', 'a1942', 'a3343']\n"
          ]
        }
      ]
    },
    {
      "cell_type": "code",
      "metadata": {
        "colab": {
          "base_uri": "https://localhost:8080/"
        },
        "id": "YQ4-Mbs223Oz",
        "outputId": "06358578-a3ab-43c4-b7b7-d3d915556e90"
      },
      "source": [
        "print(node_embeddings)"
      ],
      "execution_count": 16,
      "outputs": [
        {
          "output_type": "stream",
          "name": "stdout",
          "text": [
            "[[-0.36408344  0.6013007   0.19060278 ...  1.070536    0.36474088\n",
            "  -1.5114822 ]\n",
            " [-1.0541456   1.5448879   0.42175627 ... -0.7364733   0.40513664\n",
            "  -1.0941483 ]\n",
            " [-0.9837526   0.75910765 -0.25438234 ...  1.4631729  -0.32913098\n",
            "  -1.453644  ]\n",
            " ...\n",
            " [-0.00555333  0.10831326  0.08687561 ... -0.00736847 -0.07330825\n",
            "   0.03718201]\n",
            " [-0.03076893  0.16981243  0.13722724 ...  0.06990413 -0.08223744\n",
            "  -0.02922636]\n",
            " [-0.00268559  0.08356352  0.09306414 ...  0.04964262 -0.08914711\n",
            "   0.03794672]]\n"
          ]
        }
      ]
    },
    {
      "cell_type": "code",
      "metadata": {
        "colab": {
          "base_uri": "https://localhost:8080/"
        },
        "id": "4b-haD7_2-Yp",
        "outputId": "e2589cb4-89d0-4aa8-a122-932db7311083"
      },
      "source": [
        "print(node_targets)"
      ],
      "execution_count": 17,
      "outputs": [
        {
          "output_type": "stream",
          "name": "stdout",
          "text": [
            "['actor', 'actor', 'actor', 'actor', 'actor', 'actor', 'actor', 'actor', 'actor', 'actor', 'movie', 'movie', 'movie', 'actor', 'actor', 'actor', 'actor', 'actor', 'actor', 'movie', 'actor', 'actor', 'actor', 'actor', 'actor', 'actor', 'movie', 'actor', 'actor', 'actor', 'actor', 'actor', 'actor', 'actor', 'actor', 'movie', 'movie', 'actor', 'actor', 'movie', 'actor', 'actor', 'actor', 'actor', 'actor', 'actor', 'movie', 'actor', 'movie', 'actor', 'actor', 'actor', 'movie', 'movie', 'movie', 'movie', 'actor', 'movie', 'actor', 'actor', 'movie', 'actor', 'actor', 'movie', 'actor', 'actor', 'movie', 'actor', 'actor', 'movie', 'movie', 'movie', 'movie', 'movie', 'actor', 'movie', 'movie', 'actor', 'movie', 'movie', 'actor', 'movie', 'actor', 'actor', 'actor', 'movie', 'movie', 'actor', 'movie', 'movie', 'movie', 'movie', 'actor', 'movie', 'movie', 'movie', 'movie', 'movie', 'movie', 'movie', 'movie', 'actor', 'movie', 'movie', 'movie', 'movie', 'actor', 'movie', 'actor', 'movie', 'movie', 'movie', 'actor', 'movie', 'movie', 'movie', 'movie', 'movie', 'movie', 'movie', 'movie', 'movie', 'actor', 'movie', 'actor', 'movie', 'movie', 'movie', 'movie', 'actor', 'movie', 'movie', 'movie', 'movie', 'movie', 'movie', 'movie', 'movie', 'movie', 'movie', 'movie', 'movie', 'movie', 'movie', 'movie', 'movie', 'movie', 'movie', 'actor', 'actor', 'movie', 'movie', 'movie', 'movie', 'movie', 'movie', 'movie', 'movie', 'movie', 'actor', 'movie', 'movie', 'movie', 'movie', 'actor', 'movie', 'actor', 'movie', 'movie', 'actor', 'movie', 'movie', 'movie', 'movie', 'movie', 'movie', 'actor', 'movie', 'movie', 'movie', 'actor', 'movie', 'movie', 'movie', 'movie', 'movie', 'actor', 'movie', 'movie', 'movie', 'movie', 'movie', 'movie', 'movie', 'movie', 'movie', 'movie', 'movie', 'movie', 'actor', 'movie', 'movie', 'movie', 'movie', 'movie', 'movie', 'actor', 'movie', 'movie', 'actor', 'movie', 'movie', 'movie', 'movie', 'movie', 'movie', 'movie', 'movie', 'movie', 'movie', 'movie', 'movie', 'movie', 'movie', 'movie', 'movie', 'movie', 'movie', 'movie', 'movie', 'movie', 'movie', 'movie', 'movie', 'movie', 'actor', 'movie', 'movie', 'movie', 'movie', 'movie', 'movie', 'movie', 'movie', 'actor', 'movie', 'movie', 'movie', 'movie', 'movie', 'actor', 'movie', 'actor', 'movie', 'movie', 'movie', 'movie', 'movie', 'movie', 'movie', 'movie', 'movie', 'actor', 'movie', 'movie', 'movie', 'actor', 'movie', 'movie', 'actor', 'actor', 'movie', 'movie', 'movie', 'movie', 'actor', 'movie', 'actor', 'actor', 'movie', 'movie', 'movie', 'movie', 'movie', 'movie', 'movie', 'movie', 'movie', 'movie', 'movie', 'movie', 'movie', 'movie', 'movie', 'actor', 'movie', 'actor', 'movie', 'movie', 'movie', 'movie', 'movie', 'movie', 'movie', 'movie', 'movie', 'movie', 'movie', 'movie', 'movie', 'actor', 'movie', 'movie', 'movie', 'actor', 'movie', 'movie', 'movie', 'movie', 'movie', 'movie', 'movie', 'movie', 'movie', 'actor', 'movie', 'movie', 'movie', 'movie', 'movie', 'movie', 'movie', 'movie', 'movie', 'movie', 'movie', 'movie', 'movie', 'movie', 'movie', 'movie', 'actor', 'movie', 'movie', 'movie', 'movie', 'movie', 'movie', 'movie', 'movie', 'movie', 'movie', 'movie', 'movie', 'movie', 'actor', 'movie', 'actor', 'movie', 'movie', 'movie', 'movie', 'movie', 'movie', 'movie', 'movie', 'movie', 'movie', 'movie', 'movie', 'actor', 'movie', 'movie', 'movie', 'movie', 'movie', 'movie', 'movie', 'movie', 'movie', 'movie', 'actor', 'movie', 'movie', 'movie', 'movie', 'movie', 'movie', 'actor', 'movie', 'movie', 'movie', 'movie', 'movie', 'movie', 'movie', 'movie', 'movie', 'movie', 'movie', 'actor', 'movie', 'movie', 'movie', 'movie', 'movie', 'movie', 'movie', 'movie', 'movie', 'movie', 'movie', 'movie', 'movie', 'movie', 'movie', 'movie', 'movie', 'movie', 'movie', 'movie', 'movie', 'movie', 'movie', 'movie', 'movie', 'movie', 'movie', 'movie', 'movie', 'movie', 'movie', 'movie', 'movie', 'movie', 'movie', 'movie', 'movie', 'movie', 'actor', 'movie', 'movie', 'actor', 'movie', 'movie', 'movie', 'actor', 'movie', 'movie', 'movie', 'movie', 'actor', 'movie', 'movie', 'movie', 'movie', 'movie', 'movie', 'movie', 'movie', 'movie', 'movie', 'actor', 'movie', 'movie', 'movie', 'movie', 'movie', 'movie', 'movie', 'movie', 'movie', 'movie', 'movie', 'movie', 'movie', 'movie', 'movie', 'movie', 'movie', 'movie', 'movie', 'actor', 'movie', 'movie', 'movie', 'movie', 'movie', 'movie', 'actor', 'movie', 'movie', 'movie', 'movie', 'movie', 'movie', 'movie', 'movie', 'actor', 'movie', 'movie', 'movie', 'movie', 'movie', 'movie', 'movie', 'movie', 'movie', 'movie', 'actor', 'movie', 'movie', 'movie', 'movie', 'movie', 'actor', 'movie', 'movie', 'actor', 'movie', 'movie', 'movie', 'movie', 'movie', 'movie', 'actor', 'movie', 'movie', 'movie', 'movie', 'movie', 'movie', 'movie', 'movie', 'movie', 'movie', 'movie', 'movie', 'movie', 'movie', 'movie', 'movie', 'movie', 'movie', 'movie', 'movie', 'movie', 'actor', 'movie', 'movie', 'movie', 'movie', 'movie', 'movie', 'movie', 'movie', 'actor', 'movie', 'movie', 'movie', 'movie', 'movie', 'movie', 'movie', 'movie', 'movie', 'movie', 'movie', 'movie', 'movie', 'movie', 'movie', 'movie', 'movie', 'movie', 'movie', 'actor', 'movie', 'movie', 'movie', 'actor', 'movie', 'movie', 'movie', 'actor', 'movie', 'movie', 'movie', 'movie', 'movie', 'actor', 'movie', 'movie', 'actor', 'movie', 'movie', 'movie', 'movie', 'movie', 'movie', 'actor', 'movie', 'movie', 'movie', 'movie', 'movie', 'movie', 'movie', 'actor', 'actor', 'movie', 'movie', 'movie', 'movie', 'movie', 'movie', 'movie', 'movie', 'movie', 'movie', 'movie', 'movie', 'movie', 'actor', 'movie', 'actor', 'movie', 'movie', 'movie', 'movie', 'actor', 'movie', 'movie', 'movie', 'movie', 'movie', 'movie', 'movie', 'actor', 'movie', 'movie', 'movie', 'actor', 'movie', 'actor', 'actor', 'actor', 'movie', 'movie', 'movie', 'actor', 'movie', 'actor', 'movie', 'actor', 'actor', 'movie', 'movie', 'movie', 'movie', 'movie', 'movie', 'movie', 'movie', 'movie', 'movie', 'movie', 'movie', 'actor', 'movie', 'movie', 'movie', 'movie', 'movie', 'movie', 'actor', 'actor', 'movie', 'actor', 'movie', 'movie', 'actor', 'movie', 'movie', 'movie', 'movie', 'movie', 'movie', 'movie', 'movie', 'movie', 'actor', 'actor', 'movie', 'movie', 'movie', 'movie', 'movie', 'movie', 'movie', 'movie', 'movie', 'movie', 'movie', 'movie', 'actor', 'movie', 'movie', 'actor', 'actor', 'movie', 'movie', 'movie', 'actor', 'movie', 'movie', 'movie', 'movie', 'actor', 'movie', 'actor', 'movie', 'movie', 'movie', 'movie', 'movie', 'movie', 'movie', 'movie', 'movie', 'movie', 'movie', 'movie', 'movie', 'movie', 'movie', 'movie', 'movie', 'movie', 'movie', 'movie', 'movie', 'movie', 'actor', 'movie', 'movie', 'actor', 'movie', 'movie', 'movie', 'movie', 'movie', 'actor', 'actor', 'movie', 'movie', 'actor', 'actor', 'movie', 'movie', 'movie', 'movie', 'actor', 'movie', 'movie', 'movie', 'movie', 'movie', 'movie', 'movie', 'actor', 'movie', 'movie', 'movie', 'movie', 'actor', 'actor', 'movie', 'movie', 'actor', 'movie', 'movie', 'movie', 'movie', 'movie', 'movie', 'movie', 'movie', 'movie', 'movie', 'actor', 'movie', 'movie', 'movie', 'movie', 'movie', 'movie', 'movie', 'movie', 'movie', 'movie', 'movie', 'movie', 'movie', 'movie', 'movie', 'movie', 'movie', 'movie', 'movie', 'movie', 'actor', 'actor', 'movie', 'actor', 'movie', 'movie', 'movie', 'movie', 'actor', 'movie', 'actor', 'movie', 'actor', 'movie', 'movie', 'movie', 'movie', 'movie', 'movie', 'movie', 'movie', 'actor', 'movie', 'movie', 'movie', 'movie', 'movie', 'movie', 'movie', 'movie', 'movie', 'actor', 'movie', 'movie', 'movie', 'movie', 'movie', 'movie', 'actor', 'movie', 'movie', 'movie', 'movie', 'movie', 'movie', 'movie', 'movie', 'movie', 'movie', 'movie', 'movie', 'movie', 'actor', 'movie', 'movie', 'movie', 'movie', 'movie', 'movie', 'movie', 'movie', 'actor', 'movie', 'movie', 'movie', 'movie', 'actor', 'movie', 'movie', 'actor', 'movie', 'movie', 'movie', 'movie', 'movie', 'movie', 'movie', 'movie', 'actor', 'movie', 'movie', 'actor', 'movie', 'movie', 'movie', 'movie', 'movie', 'movie', 'movie', 'actor', 'movie', 'actor', 'movie', 'movie', 'actor', 'movie', 'movie', 'movie', 'movie', 'movie', 'actor', 'movie', 'movie', 'movie', 'movie', 'movie', 'movie', 'movie', 'movie', 'actor', 'movie', 'actor', 'movie', 'actor', 'movie', 'movie', 'actor', 'movie', 'movie', 'actor', 'movie', 'movie', 'movie', 'movie', 'movie', 'movie', 'movie', 'movie', 'movie', 'actor', 'movie', 'actor', 'movie', 'movie', 'movie', 'actor', 'movie', 'movie', 'movie', 'movie', 'movie', 'movie', 'actor', 'actor', 'movie', 'movie', 'actor', 'movie', 'movie', 'actor', 'actor', 'movie', 'movie', 'movie', 'actor', 'actor', 'actor', 'movie', 'movie', 'movie', 'movie', 'actor', 'movie', 'movie', 'movie', 'movie', 'movie', 'movie', 'movie', 'movie', 'movie', 'movie', 'movie', 'actor', 'actor', 'movie', 'actor', 'movie', 'actor', 'movie', 'actor', 'movie', 'actor', 'movie', 'movie', 'actor', 'actor', 'movie', 'movie', 'movie', 'movie', 'movie', 'movie', 'movie', 'movie', 'actor', 'movie', 'actor', 'movie', 'movie', 'movie', 'movie', 'actor', 'movie', 'movie', 'movie', 'actor', 'movie', 'movie', 'actor', 'movie', 'actor', 'movie', 'movie', 'actor', 'movie', 'movie', 'movie', 'movie', 'movie', 'movie', 'actor', 'movie', 'movie', 'movie', 'movie', 'actor', 'movie', 'movie', 'actor', 'actor', 'movie', 'movie', 'actor', 'actor', 'movie', 'movie', 'movie', 'movie', 'movie', 'movie', 'actor', 'movie', 'movie', 'movie', 'movie', 'movie', 'actor', 'actor', 'actor', 'movie', 'movie', 'movie', 'actor', 'movie', 'movie', 'movie', 'actor', 'actor', 'movie', 'movie', 'movie', 'actor', 'actor', 'actor', 'movie', 'movie', 'actor', 'movie', 'movie', 'actor', 'movie', 'movie', 'movie', 'actor', 'actor', 'movie', 'movie', 'actor', 'actor', 'actor', 'movie', 'actor', 'actor', 'movie', 'actor', 'movie', 'movie', 'actor', 'movie', 'actor', 'actor', 'actor', 'actor', 'actor', 'actor', 'movie', 'movie', 'movie', 'movie', 'actor', 'movie', 'movie', 'actor', 'actor', 'movie', 'movie', 'actor', 'movie', 'movie', 'movie', 'movie', 'actor', 'actor', 'movie', 'actor', 'movie', 'actor', 'actor', 'movie', 'movie', 'actor', 'actor', 'movie', 'actor', 'actor', 'movie', 'movie', 'movie', 'movie', 'actor', 'actor', 'movie', 'actor', 'actor', 'actor', 'movie', 'movie', 'movie', 'movie', 'actor', 'actor', 'actor', 'actor', 'actor', 'actor', 'actor', 'movie', 'actor', 'actor', 'movie', 'actor', 'movie', 'movie', 'movie', 'movie', 'movie', 'movie', 'actor', 'actor', 'actor', 'movie', 'actor', 'movie', 'movie', 'movie', 'actor', 'actor', 'actor', 'actor', 'movie', 'actor', 'movie', 'movie', 'movie', 'actor', 'movie', 'movie', 'movie', 'movie', 'movie', 'movie', 'movie', 'actor', 'actor', 'actor', 'movie', 'actor', 'movie', 'movie', 'movie', 'movie', 'movie', 'actor', 'movie', 'movie', 'actor', 'actor', 'actor', 'movie', 'actor', 'movie', 'actor', 'actor', 'actor', 'movie', 'actor', 'movie', 'movie', 'actor', 'actor', 'actor', 'movie', 'actor', 'actor', 'actor', 'actor', 'movie', 'actor', 'movie', 'actor', 'actor', 'movie', 'movie', 'actor', 'movie', 'movie', 'movie', 'actor', 'movie', 'actor', 'movie', 'actor', 'actor', 'movie', 'actor', 'movie', 'movie', 'movie', 'actor', 'movie', 'movie', 'movie', 'movie', 'actor', 'movie', 'movie', 'actor', 'movie', 'actor', 'movie', 'actor', 'movie', 'actor', 'actor', 'movie', 'actor', 'actor', 'movie', 'actor', 'actor', 'movie', 'actor', 'movie', 'movie', 'movie', 'movie', 'actor', 'actor', 'movie', 'movie', 'actor', 'actor', 'movie', 'actor', 'movie', 'movie', 'movie', 'movie', 'actor', 'actor', 'movie', 'actor', 'movie', 'movie', 'movie', 'actor', 'actor', 'actor', 'actor', 'actor', 'actor', 'actor', 'actor', 'movie', 'movie', 'movie', 'actor', 'actor', 'movie', 'movie', 'actor', 'actor', 'actor', 'actor', 'movie', 'actor', 'actor', 'movie', 'movie', 'actor', 'actor', 'movie', 'movie', 'actor', 'movie', 'actor', 'actor', 'actor', 'actor', 'movie', 'movie', 'movie', 'movie', 'actor', 'movie', 'actor', 'actor', 'actor', 'actor', 'movie', 'movie', 'movie', 'movie', 'actor', 'movie', 'movie', 'movie', 'movie', 'movie', 'movie', 'actor', 'actor', 'movie', 'actor', 'actor', 'movie', 'movie', 'actor', 'movie', 'actor', 'movie', 'actor', 'movie', 'movie', 'movie', 'actor', 'movie', 'actor', 'movie', 'actor', 'actor', 'actor', 'actor', 'actor', 'actor', 'movie', 'actor', 'movie', 'actor', 'movie', 'actor', 'actor', 'movie', 'movie', 'actor', 'actor', 'movie', 'actor', 'movie', 'actor', 'movie', 'actor', 'actor', 'actor', 'actor', 'movie', 'actor', 'actor', 'actor', 'actor', 'actor', 'actor', 'actor', 'actor', 'actor', 'movie', 'actor', 'actor', 'movie', 'actor', 'actor', 'movie', 'movie', 'actor', 'actor', 'movie', 'movie', 'actor', 'movie', 'movie', 'actor', 'actor', 'movie', 'actor', 'movie', 'actor', 'actor', 'actor', 'actor', 'actor', 'actor', 'movie', 'actor', 'actor', 'actor', 'actor', 'actor', 'movie', 'actor', 'movie', 'actor', 'actor', 'actor', 'actor', 'actor', 'actor', 'actor', 'actor', 'actor', 'actor', 'movie', 'actor', 'actor', 'actor', 'actor', 'actor', 'actor', 'movie', 'movie', 'actor', 'movie', 'actor', 'actor', 'actor', 'movie', 'movie', 'actor', 'movie', 'movie', 'movie', 'movie', 'movie', 'actor', 'actor', 'movie', 'actor', 'actor', 'actor', 'actor', 'actor', 'actor', 'movie', 'actor', 'movie', 'movie', 'actor', 'actor', 'actor', 'actor', 'actor', 'actor', 'actor', 'actor', 'actor', 'movie', 'actor', 'movie', 'actor', 'actor', 'movie', 'movie', 'actor', 'movie', 'actor', 'movie', 'actor', 'movie', 'movie', 'actor', 'actor', 'actor', 'movie', 'actor', 'actor', 'movie', 'actor', 'movie', 'movie', 'actor', 'actor', 'movie', 'actor', 'movie', 'movie', 'actor', 'actor', 'actor', 'movie', 'actor', 'actor', 'actor', 'actor', 'actor', 'actor', 'actor', 'movie', 'actor', 'actor', 'movie', 'actor', 'actor', 'actor', 'actor', 'movie', 'movie', 'actor', 'actor', 'actor', 'actor', 'actor', 'actor', 'actor', 'movie', 'actor', 'movie', 'movie', 'movie', 'movie', 'actor', 'movie', 'actor', 'movie', 'actor', 'movie', 'actor', 'actor', 'actor', 'movie', 'movie', 'movie', 'actor', 'actor', 'movie', 'movie', 'actor', 'actor', 'actor', 'actor', 'actor', 'movie', 'actor', 'movie', 'actor', 'movie', 'actor', 'actor', 'actor', 'actor', 'actor', 'actor', 'movie', 'actor', 'movie', 'actor', 'actor', 'actor', 'movie', 'actor', 'actor', 'actor', 'movie', 'actor', 'movie', 'actor', 'movie', 'movie', 'movie', 'actor', 'movie', 'actor', 'actor', 'actor', 'actor', 'actor', 'actor', 'movie', 'actor', 'actor', 'movie', 'actor', 'actor', 'actor', 'actor', 'actor', 'movie', 'actor', 'actor', 'actor', 'actor', 'actor', 'actor', 'actor', 'actor', 'movie', 'movie', 'actor', 'actor', 'actor', 'actor', 'actor', 'movie', 'actor', 'actor', 'actor', 'actor', 'movie', 'actor', 'actor', 'actor', 'actor', 'actor', 'actor', 'movie', 'actor', 'actor', 'actor', 'actor', 'movie', 'actor', 'actor', 'actor', 'actor', 'movie', 'actor', 'actor', 'actor', 'actor', 'movie', 'movie', 'actor', 'actor', 'actor', 'actor', 'actor', 'actor', 'actor', 'actor', 'actor', 'actor', 'actor', 'actor', 'movie', 'actor', 'movie', 'movie', 'actor', 'actor', 'actor', 'movie', 'movie', 'actor', 'actor', 'actor', 'movie', 'actor', 'actor', 'actor', 'actor', 'movie', 'actor', 'movie', 'movie', 'actor', 'actor', 'actor', 'actor', 'movie', 'actor', 'movie', 'actor', 'movie', 'actor', 'actor', 'movie', 'actor', 'actor', 'movie', 'actor', 'movie', 'actor', 'actor', 'actor', 'actor', 'actor', 'actor', 'actor', 'movie', 'movie', 'actor', 'actor', 'actor', 'movie', 'movie', 'actor', 'actor', 'movie', 'actor', 'movie', 'actor', 'actor', 'actor', 'actor', 'actor', 'actor', 'actor', 'actor', 'actor', 'actor', 'actor', 'actor', 'actor', 'movie', 'actor', 'actor', 'actor', 'actor', 'actor', 'movie', 'actor', 'actor', 'actor', 'actor', 'movie', 'actor', 'actor', 'movie', 'actor', 'actor', 'movie', 'actor', 'actor', 'movie', 'actor', 'actor', 'actor', 'actor', 'movie', 'movie', 'actor', 'actor', 'movie', 'actor', 'actor', 'actor', 'movie', 'movie', 'movie', 'movie', 'actor', 'actor', 'actor', 'actor', 'movie', 'actor', 'actor', 'actor', 'movie', 'actor', 'actor', 'actor', 'actor', 'actor', 'actor', 'actor', 'actor', 'actor', 'movie', 'actor', 'movie', 'actor', 'actor', 'actor', 'actor', 'actor', 'actor', 'actor', 'actor', 'actor', 'actor', 'actor', 'actor', 'actor', 'actor', 'movie', 'actor', 'actor', 'movie', 'actor', 'actor', 'movie', 'actor', 'actor', 'actor', 'movie', 'actor', 'movie', 'actor', 'actor', 'actor', 'actor', 'movie', 'actor', 'actor', 'actor', 'actor', 'movie', 'movie', 'actor', 'actor', 'actor', 'actor', 'actor', 'actor', 'actor', 'actor', 'actor', 'actor', 'actor', 'actor', 'actor', 'actor', 'actor', 'movie', 'actor', 'actor', 'actor', 'actor', 'actor', 'actor', 'actor', 'movie', 'movie', 'actor', 'actor', 'actor', 'actor', 'movie', 'movie', 'actor', 'actor', 'actor', 'movie', 'actor', 'actor', 'movie', 'actor', 'actor', 'actor', 'actor', 'actor', 'actor', 'movie', 'actor', 'movie', 'movie', 'actor', 'actor', 'actor', 'actor', 'actor', 'movie', 'actor', 'actor', 'actor', 'actor', 'actor', 'actor', 'actor', 'actor', 'actor', 'actor', 'actor', 'actor', 'actor', 'actor', 'actor', 'actor', 'actor', 'actor', 'actor', 'actor', 'actor', 'actor', 'actor', 'actor', 'actor', 'actor', 'actor', 'movie', 'actor', 'movie', 'actor', 'movie', 'movie', 'movie', 'actor', 'actor', 'actor', 'actor', 'actor', 'actor', 'movie', 'actor', 'actor', 'actor', 'actor', 'actor', 'actor', 'actor', 'actor', 'actor', 'actor', 'actor', 'actor', 'actor', 'actor', 'actor', 'actor', 'actor', 'actor', 'actor', 'actor', 'actor', 'actor', 'actor', 'actor', 'actor', 'actor', 'actor', 'actor', 'actor', 'actor', 'actor', 'movie', 'actor', 'actor', 'actor', 'actor', 'actor', 'actor', 'movie', 'actor', 'actor', 'actor', 'actor', 'movie', 'actor', 'actor', 'actor', 'actor', 'actor', 'actor', 'actor', 'movie', 'actor', 'actor', 'actor', 'actor', 'actor', 'actor', 'movie', 'actor', 'actor', 'actor', 'actor', 'movie', 'movie', 'movie', 'actor', 'actor', 'actor', 'actor', 'actor', 'movie', 'actor', 'movie', 'actor', 'actor', 'movie', 'actor', 'actor', 'actor', 'actor', 'actor', 'actor', 'actor', 'actor', 'movie', 'actor', 'actor', 'actor', 'actor', 'actor', 'actor', 'actor', 'actor', 'actor', 'movie', 'actor', 'actor', 'actor', 'movie', 'movie', 'actor', 'actor', 'actor', 'actor', 'actor', 'actor', 'actor', 'actor', 'actor', 'actor', 'actor', 'actor', 'actor', 'actor', 'actor', 'actor', 'actor', 'actor', 'movie', 'actor', 'actor', 'actor', 'actor', 'actor', 'actor', 'actor', 'actor', 'actor', 'actor', 'actor', 'actor', 'actor', 'movie', 'actor', 'actor', 'actor', 'movie', 'actor', 'actor', 'actor', 'actor', 'actor', 'movie', 'actor', 'actor', 'actor', 'actor', 'actor', 'actor', 'actor', 'actor', 'actor', 'actor', 'actor', 'actor', 'actor', 'actor', 'actor', 'actor', 'actor', 'actor', 'actor', 'actor', 'actor', 'actor', 'actor', 'actor', 'actor', 'actor', 'actor', 'actor', 'actor', 'actor', 'movie', 'actor', 'movie', 'actor', 'actor', 'movie', 'actor', 'actor', 'actor', 'actor', 'movie', 'actor', 'actor', 'actor', 'actor', 'actor', 'actor', 'actor', 'movie', 'actor', 'actor', 'actor', 'actor', 'actor', 'actor', 'actor', 'actor', 'movie', 'actor', 'actor', 'movie', 'actor', 'actor', 'actor', 'actor', 'actor', 'actor', 'actor', 'actor', 'actor', 'actor', 'actor', 'movie', 'actor', 'actor', 'actor', 'actor', 'actor', 'actor', 'actor', 'actor', 'movie', 'actor', 'actor', 'actor', 'actor', 'actor', 'actor', 'actor', 'actor', 'actor', 'actor', 'actor', 'actor', 'actor', 'actor', 'actor', 'actor', 'actor', 'actor', 'actor', 'actor', 'actor', 'actor', 'movie', 'actor', 'actor', 'actor', 'actor', 'actor', 'actor', 'actor', 'actor', 'actor', 'actor', 'actor', 'actor', 'actor', 'actor', 'actor', 'movie', 'actor', 'actor', 'movie', 'actor', 'actor', 'actor', 'actor', 'actor', 'actor', 'actor', 'actor', 'actor', 'actor', 'actor', 'actor', 'movie', 'actor', 'actor', 'actor', 'actor', 'actor', 'actor', 'actor', 'actor', 'actor', 'actor', 'actor', 'actor', 'actor', 'actor', 'actor', 'actor', 'actor', 'actor', 'actor', 'actor', 'actor', 'movie', 'actor', 'movie', 'movie', 'actor', 'actor', 'actor', 'actor', 'actor', 'actor', 'actor', 'actor', 'actor', 'actor', 'actor', 'actor', 'actor', 'actor', 'actor', 'actor', 'actor', 'actor', 'actor', 'actor', 'actor', 'actor', 'actor', 'actor', 'actor', 'actor', 'actor', 'actor', 'actor', 'actor', 'actor', 'actor', 'actor', 'actor', 'actor', 'actor', 'actor', 'movie', 'actor', 'actor', 'actor', 'actor', 'actor', 'actor', 'movie', 'actor', 'movie', 'movie', 'movie', 'actor', 'actor', 'actor', 'actor', 'actor', 'actor', 'actor', 'actor', 'actor', 'actor', 'actor', 'actor', 'actor', 'actor', 'actor', 'actor', 'actor', 'movie', 'actor', 'actor', 'actor', 'actor', 'actor', 'actor', 'actor', 'actor', 'actor', 'actor', 'movie', 'actor', 'actor', 'movie', 'actor', 'actor', 'movie', 'actor', 'actor', 'actor', 'actor', 'movie', 'actor', 'actor', 'actor', 'actor', 'actor', 'actor', 'actor', 'actor', 'actor', 'movie', 'actor', 'actor', 'actor', 'movie', 'actor', 'movie', 'movie', 'actor', 'actor', 'actor', 'actor', 'actor', 'actor', 'actor', 'actor', 'actor', 'actor', 'actor', 'actor', 'actor', 'actor', 'actor', 'actor', 'actor', 'actor', 'movie', 'actor', 'actor', 'actor', 'actor', 'movie', 'actor', 'movie', 'actor', 'movie', 'movie', 'actor', 'actor', 'actor', 'actor', 'actor', 'actor', 'actor', 'actor', 'actor', 'actor', 'actor', 'actor', 'movie', 'actor', 'actor', 'actor', 'actor', 'actor', 'actor', 'actor', 'actor', 'actor', 'movie', 'actor', 'actor', 'actor', 'actor', 'actor', 'actor', 'actor', 'actor', 'actor', 'actor', 'actor', 'actor', 'actor', 'actor', 'movie', 'actor', 'actor', 'actor', 'actor', 'actor', 'actor', 'actor', 'actor', 'actor', 'movie', 'actor', 'actor', 'actor', 'actor', 'actor', 'actor', 'actor', 'actor', 'actor', 'actor', 'actor', 'actor', 'actor', 'actor', 'actor', 'actor', 'actor', 'actor', 'actor', 'actor', 'actor', 'actor', 'actor', 'actor', 'actor', 'actor', 'actor', 'actor', 'actor', 'actor', 'actor', 'actor', 'actor', 'actor', 'actor', 'actor', 'actor', 'actor', 'actor', 'actor', 'actor', 'actor', 'actor', 'actor', 'actor', 'actor', 'actor', 'actor', 'actor', 'actor', 'actor', 'actor', 'actor', 'actor', 'actor', 'actor', 'movie', 'actor', 'actor', 'actor', 'actor', 'actor', 'actor', 'actor', 'actor', 'actor', 'actor', 'actor', 'actor', 'actor', 'actor', 'actor', 'actor', 'actor', 'actor', 'actor', 'actor', 'actor', 'actor', 'actor', 'actor', 'actor', 'actor', 'actor', 'actor', 'actor', 'actor', 'actor', 'actor', 'actor', 'actor', 'actor', 'actor', 'actor', 'actor', 'actor', 'actor', 'actor', 'actor', 'actor', 'actor', 'actor', 'actor', 'actor', 'movie', 'movie', 'actor', 'movie', 'actor', 'actor', 'actor', 'actor', 'actor', 'actor', 'actor', 'actor', 'movie', 'actor', 'actor', 'actor', 'actor', 'actor', 'actor', 'actor', 'actor', 'actor', 'actor', 'actor', 'actor', 'actor', 'actor', 'actor', 'actor', 'actor', 'actor', 'actor', 'actor', 'actor', 'actor', 'actor', 'actor', 'actor', 'actor', 'actor', 'actor', 'actor', 'actor', 'actor', 'actor', 'actor', 'actor', 'actor', 'actor', 'actor', 'actor', 'actor', 'actor', 'actor', 'actor', 'actor', 'actor', 'actor', 'actor', 'movie', 'actor', 'actor', 'actor', 'actor', 'actor', 'actor', 'actor', 'actor', 'actor', 'actor', 'actor', 'movie', 'actor', 'actor', 'actor', 'movie', 'actor', 'actor', 'actor', 'actor', 'actor', 'actor', 'actor', 'actor', 'actor', 'actor', 'actor', 'actor', 'actor', 'actor', 'movie', 'actor', 'actor', 'actor', 'actor', 'actor', 'actor', 'actor', 'actor', 'actor', 'actor', 'actor', 'actor', 'actor', 'actor', 'actor', 'actor', 'actor', 'actor', 'actor', 'actor', 'actor', 'actor', 'movie', 'actor', 'actor', 'actor', 'actor', 'actor', 'actor', 'movie', 'actor', 'actor', 'actor', 'actor', 'actor', 'movie', 'actor', 'actor', 'actor', 'actor', 'actor', 'actor', 'actor', 'actor', 'actor', 'actor', 'actor', 'actor', 'actor', 'actor', 'actor', 'actor', 'actor', 'actor', 'actor', 'actor', 'actor', 'actor', 'actor', 'actor', 'actor', 'actor', 'actor', 'actor', 'actor', 'actor', 'actor', 'actor', 'actor', 'actor', 'actor', 'actor', 'actor', 'actor', 'movie', 'actor', 'actor', 'actor', 'actor', 'actor', 'actor', 'actor', 'actor', 'actor', 'actor', 'actor', 'actor', 'actor', 'actor', 'actor', 'actor', 'actor', 'actor', 'actor', 'actor', 'actor', 'actor', 'actor', 'actor', 'actor', 'actor', 'movie', 'actor', 'actor', 'actor', 'actor', 'actor', 'actor', 'actor', 'actor', 'actor', 'actor', 'actor', 'actor', 'actor', 'actor', 'actor', 'actor', 'actor', 'actor', 'actor', 'actor', 'actor', 'actor', 'actor', 'actor', 'actor', 'actor', 'movie', 'actor', 'actor', 'actor', 'actor', 'actor', 'actor', 'actor', 'actor', 'actor', 'actor', 'actor', 'actor', 'actor', 'actor', 'actor', 'actor', 'actor', 'actor', 'actor', 'actor', 'actor', 'actor', 'actor', 'actor', 'actor', 'actor', 'actor', 'actor', 'actor', 'actor', 'actor', 'actor', 'actor', 'actor', 'actor', 'actor', 'actor', 'actor', 'movie', 'actor', 'actor', 'actor', 'actor', 'actor', 'actor', 'actor', 'actor', 'actor', 'actor', 'actor', 'actor', 'actor', 'movie', 'actor', 'actor', 'actor', 'actor', 'actor', 'actor', 'actor', 'actor', 'actor', 'actor', 'actor', 'actor', 'actor', 'movie', 'actor', 'actor', 'actor', 'actor', 'actor', 'actor', 'movie', 'actor', 'actor', 'actor', 'actor', 'actor', 'actor', 'actor', 'actor', 'actor', 'actor', 'actor', 'actor', 'actor', 'actor', 'actor', 'actor', 'actor', 'actor', 'actor', 'actor', 'movie', 'actor', 'actor', 'actor', 'actor', 'actor', 'movie', 'actor', 'actor', 'actor', 'actor', 'actor', 'actor', 'actor', 'actor', 'actor', 'actor', 'actor', 'actor', 'actor', 'actor', 'actor', 'actor', 'actor', 'actor', 'actor', 'actor', 'actor', 'actor', 'actor', 'actor', 'actor', 'actor', 'actor', 'actor', 'movie', 'actor', 'actor', 'actor', 'actor', 'actor', 'actor', 'actor', 'actor', 'actor', 'actor', 'actor', 'actor', 'actor', 'actor', 'actor', 'actor', 'actor', 'actor', 'actor', 'actor', 'actor', 'actor', 'actor', 'actor', 'actor', 'actor', 'actor', 'actor', 'actor', 'movie', 'actor', 'actor', 'actor', 'actor', 'actor', 'actor', 'actor', 'movie', 'actor', 'actor', 'actor', 'movie', 'actor', 'actor', 'actor', 'actor', 'actor', 'actor', 'actor', 'actor', 'actor', 'actor', 'actor', 'actor', 'actor', 'actor', 'actor', 'actor', 'actor', 'actor', 'actor', 'actor', 'actor', 'actor', 'actor', 'actor', 'actor', 'actor', 'actor', 'actor', 'actor', 'actor', 'actor', 'movie', 'actor', 'actor', 'actor', 'actor', 'actor', 'actor', 'actor', 'actor', 'actor', 'actor', 'actor', 'actor', 'actor', 'actor', 'actor', 'actor', 'actor', 'actor', 'actor', 'actor', 'actor', 'actor', 'actor', 'actor', 'actor', 'actor', 'actor', 'actor', 'actor', 'movie', 'actor', 'actor', 'actor', 'actor', 'actor', 'actor', 'actor', 'actor', 'actor', 'actor', 'actor', 'actor', 'actor', 'actor', 'actor', 'actor', 'actor', 'actor', 'actor', 'actor', 'actor', 'actor', 'actor', 'movie', 'actor', 'actor', 'actor', 'actor', 'actor', 'actor', 'actor', 'actor', 'actor', 'actor', 'actor', 'actor', 'actor', 'actor', 'actor', 'actor', 'actor', 'actor', 'actor', 'actor', 'actor', 'actor', 'actor', 'actor', 'actor', 'actor', 'actor', 'actor', 'actor', 'movie', 'actor', 'actor', 'actor', 'actor', 'actor', 'actor', 'actor', 'actor', 'actor', 'actor', 'actor', 'actor', 'actor', 'actor', 'actor', 'actor', 'actor', 'actor', 'actor', 'actor', 'actor', 'actor', 'actor', 'actor', 'actor', 'actor', 'actor', 'actor', 'actor', 'actor', 'actor', 'actor', 'actor', 'actor', 'actor', 'actor', 'actor', 'actor', 'actor', 'actor', 'actor', 'actor', 'actor', 'actor', 'actor', 'movie', 'actor', 'actor', 'actor', 'actor', 'actor', 'actor', 'actor', 'actor', 'actor', 'actor', 'actor', 'actor', 'actor', 'actor', 'actor', 'actor', 'actor', 'actor', 'actor', 'actor', 'actor', 'actor', 'actor', 'actor', 'actor', 'actor', 'actor', 'actor', 'actor', 'actor', 'actor', 'actor', 'actor', 'actor', 'actor', 'actor', 'movie', 'actor', 'actor', 'actor', 'movie', 'actor', 'actor', 'actor', 'actor', 'actor', 'actor', 'actor', 'actor', 'actor', 'actor', 'actor', 'actor', 'actor', 'actor', 'actor', 'actor', 'actor', 'actor', 'actor', 'actor', 'actor', 'actor', 'movie', 'actor', 'actor', 'actor', 'actor', 'actor', 'actor', 'actor', 'actor', 'actor', 'actor', 'actor', 'actor', 'actor', 'actor', 'actor', 'actor', 'actor', 'actor', 'actor', 'actor', 'actor', 'actor', 'actor', 'actor', 'actor', 'actor', 'actor', 'actor', 'actor', 'actor', 'actor', 'actor', 'actor', 'actor', 'actor', 'actor', 'actor', 'actor', 'actor', 'actor', 'actor', 'actor', 'actor', 'actor', 'actor', 'actor', 'actor', 'actor', 'actor', 'actor', 'actor', 'actor', 'actor', 'actor', 'actor', 'actor', 'actor', 'actor', 'actor', 'actor', 'actor', 'actor', 'actor', 'actor', 'actor', 'actor', 'actor', 'actor', 'actor', 'actor', 'actor', 'actor', 'actor', 'actor', 'actor', 'actor', 'actor', 'actor', 'actor', 'actor', 'actor', 'actor', 'actor', 'actor', 'actor', 'actor', 'actor', 'actor', 'actor', 'actor', 'actor', 'actor', 'actor', 'actor', 'actor', 'actor', 'actor', 'actor', 'actor', 'actor', 'actor', 'actor', 'actor', 'actor', 'actor', 'actor', 'actor', 'actor', 'actor', 'actor', 'actor', 'actor', 'actor', 'actor', 'actor', 'actor', 'actor', 'actor', 'actor', 'actor', 'actor', 'actor', 'actor', 'actor', 'actor', 'actor', 'actor', 'actor', 'actor', 'actor', 'actor', 'actor', 'actor', 'actor', 'actor', 'actor', 'actor', 'actor', 'actor', 'actor', 'actor', 'actor', 'actor', 'actor', 'actor', 'actor', 'actor', 'actor', 'actor', 'actor', 'actor', 'actor', 'actor', 'actor', 'actor', 'actor', 'actor', 'actor', 'actor', 'actor', 'actor', 'actor', 'actor', 'actor', 'actor', 'actor', 'actor', 'actor', 'actor', 'actor', 'actor', 'actor', 'actor', 'actor', 'actor', 'actor', 'actor', 'actor', 'actor', 'actor', 'actor', 'actor', 'actor', 'actor', 'actor', 'actor', 'actor', 'actor', 'actor', 'actor', 'actor', 'actor', 'actor', 'actor', 'actor', 'actor', 'actor', 'actor', 'actor', 'actor', 'actor', 'actor', 'actor', 'actor', 'actor', 'actor', 'actor', 'actor', 'actor', 'actor', 'actor', 'actor', 'actor', 'actor', 'actor', 'actor', 'actor', 'actor', 'movie', 'actor', 'actor', 'actor', 'actor', 'actor', 'actor', 'actor', 'actor', 'actor', 'actor', 'actor', 'actor', 'actor', 'actor', 'actor', 'actor', 'actor', 'actor', 'actor', 'actor', 'actor', 'actor', 'actor', 'movie', 'actor', 'actor', 'actor', 'actor', 'actor', 'actor', 'actor', 'actor', 'actor', 'actor', 'actor', 'actor', 'actor', 'actor', 'actor', 'actor', 'movie', 'actor', 'actor', 'actor', 'actor', 'actor', 'actor', 'actor', 'actor', 'actor', 'actor', 'actor', 'actor', 'actor', 'movie', 'actor', 'actor', 'actor', 'actor', 'actor', 'actor', 'actor', 'actor', 'actor', 'actor', 'actor', 'actor', 'actor', 'actor', 'actor', 'actor', 'actor', 'actor', 'actor', 'actor', 'actor', 'actor', 'actor', 'actor', 'actor', 'actor', 'actor', 'actor', 'actor', 'actor', 'actor', 'actor', 'actor', 'actor', 'actor', 'actor', 'actor', 'actor', 'actor', 'actor', 'actor', 'movie', 'actor', 'actor', 'actor', 'actor', 'actor', 'actor', 'actor', 'actor', 'actor', 'actor', 'actor', 'actor', 'actor', 'actor', 'actor', 'actor', 'actor', 'actor', 'actor', 'actor', 'actor', 'actor', 'actor', 'actor', 'actor', 'actor', 'actor', 'actor', 'actor', 'actor', 'actor', 'actor', 'actor', 'actor', 'actor', 'actor', 'actor', 'actor', 'actor', 'actor', 'actor', 'actor', 'actor', 'actor', 'actor', 'actor', 'actor', 'actor', 'actor', 'movie', 'actor', 'actor', 'actor', 'actor', 'actor', 'actor', 'actor', 'actor', 'actor', 'actor', 'actor', 'actor', 'actor', 'actor', 'actor', 'actor', 'actor', 'actor', 'actor', 'movie', 'actor', 'actor', 'actor', 'actor', 'actor', 'actor', 'actor', 'actor', 'actor', 'actor', 'actor', 'movie', 'movie', 'actor', 'movie', 'actor', 'actor', 'actor', 'actor', 'actor', 'actor', 'actor', 'actor', 'actor', 'actor', 'actor', 'actor', 'actor', 'actor', 'actor', 'actor', 'movie', 'actor', 'actor', 'actor', 'actor', 'actor', 'actor', 'actor', 'actor', 'actor', 'actor', 'actor', 'actor', 'actor', 'actor', 'actor', 'actor', 'actor', 'actor', 'actor', 'actor', 'actor', 'actor', 'actor', 'actor', 'actor', 'actor', 'actor', 'actor', 'actor', 'actor', 'actor', 'actor', 'actor', 'actor', 'actor', 'actor', 'movie', 'actor', 'actor', 'movie', 'actor', 'actor', 'actor', 'actor', 'actor', 'actor', 'actor', 'actor', 'actor', 'actor', 'actor', 'actor', 'actor', 'actor', 'actor', 'actor', 'actor', 'actor', 'actor', 'movie', 'actor', 'actor', 'actor', 'actor', 'actor', 'actor', 'actor', 'actor', 'actor', 'actor', 'actor', 'actor', 'actor', 'actor', 'actor', 'actor', 'actor', 'actor', 'actor', 'actor', 'actor', 'actor', 'actor', 'actor', 'actor', 'actor', 'actor', 'actor', 'actor', 'actor', 'actor', 'actor', 'actor', 'actor', 'actor', 'actor', 'actor', 'actor', 'actor', 'actor', 'actor', 'actor', 'actor', 'actor', 'actor', 'actor', 'actor', 'actor', 'actor', 'actor', 'actor', 'actor', 'actor', 'actor', 'actor', 'actor', 'actor', 'actor', 'actor', 'actor', 'actor', 'actor', 'actor', 'actor', 'actor', 'actor', 'actor', 'actor', 'actor', 'actor', 'actor', 'actor', 'actor', 'actor', 'actor', 'actor', 'actor', 'actor', 'actor', 'actor', 'actor', 'actor', 'actor', 'actor', 'actor', 'actor', 'actor', 'actor', 'actor', 'actor', 'movie', 'actor', 'actor', 'actor', 'actor', 'actor', 'actor', 'actor', 'actor', 'actor', 'actor', 'actor', 'actor', 'actor', 'actor', 'actor', 'actor', 'actor', 'actor', 'actor', 'actor', 'actor', 'actor', 'actor', 'actor', 'actor', 'actor', 'actor', 'actor', 'actor', 'actor', 'actor', 'actor', 'actor', 'actor', 'actor', 'actor', 'actor', 'actor', 'actor', 'actor', 'actor', 'actor', 'actor', 'actor', 'actor', 'actor', 'actor', 'actor', 'actor', 'actor', 'actor', 'actor', 'actor', 'actor', 'actor', 'actor', 'actor', 'actor', 'actor', 'actor', 'actor', 'actor', 'actor', 'actor', 'actor', 'actor', 'actor', 'actor', 'actor', 'actor', 'actor', 'actor', 'actor', 'actor', 'actor', 'actor', 'actor', 'actor', 'actor', 'actor', 'actor', 'actor', 'actor', 'actor', 'actor', 'actor', 'actor', 'actor', 'actor', 'actor', 'actor', 'actor', 'actor', 'actor', 'actor', 'actor', 'actor', 'actor', 'actor', 'actor', 'actor', 'actor', 'actor', 'actor', 'actor', 'actor', 'actor', 'actor', 'actor', 'actor', 'actor', 'actor', 'actor', 'actor', 'actor', 'actor', 'actor', 'actor', 'actor', 'actor', 'actor', 'actor', 'actor', 'actor', 'actor', 'actor', 'movie', 'actor', 'actor', 'actor', 'actor', 'actor', 'actor', 'actor', 'movie', 'movie', 'actor', 'actor', 'actor', 'actor', 'actor', 'actor', 'actor', 'actor', 'actor', 'actor', 'actor', 'actor', 'actor', 'actor', 'actor', 'actor', 'actor', 'actor', 'actor', 'actor', 'actor', 'actor', 'actor', 'actor', 'actor', 'actor', 'actor', 'actor', 'actor', 'actor', 'actor', 'actor', 'actor', 'actor', 'actor', 'actor', 'actor', 'actor', 'actor', 'actor', 'actor', 'actor', 'actor', 'actor', 'actor', 'actor', 'actor', 'actor', 'actor', 'actor', 'actor', 'actor', 'actor', 'actor', 'actor', 'actor', 'actor', 'actor', 'actor', 'actor', 'actor', 'actor', 'actor', 'actor', 'actor', 'actor', 'actor', 'actor', 'actor', 'actor', 'actor', 'actor', 'actor', 'actor', 'actor', 'actor', 'actor', 'actor', 'actor', 'actor', 'actor', 'actor', 'actor', 'actor', 'actor', 'actor', 'actor', 'actor', 'actor', 'actor', 'actor', 'actor', 'actor', 'actor', 'actor', 'actor', 'actor', 'actor', 'movie', 'actor', 'actor', 'actor', 'actor', 'actor', 'actor', 'actor', 'actor', 'actor', 'actor', 'actor', 'actor', 'actor', 'actor', 'actor', 'actor', 'actor', 'actor', 'actor', 'actor', 'actor', 'actor', 'actor', 'actor', 'actor', 'actor', 'actor', 'actor', 'actor', 'actor', 'actor', 'actor', 'actor', 'actor', 'actor', 'actor', 'actor', 'actor', 'actor', 'actor', 'actor', 'actor', 'movie', 'actor', 'actor', 'actor', 'actor', 'actor', 'actor', 'actor', 'actor', 'actor', 'actor', 'actor', 'actor', 'actor', 'actor', 'actor', 'actor', 'actor', 'actor', 'actor', 'actor', 'actor', 'actor', 'actor', 'actor', 'actor', 'actor', 'actor', 'actor', 'actor', 'actor', 'actor', 'movie', 'actor', 'actor', 'actor', 'actor', 'actor', 'actor', 'actor', 'actor', 'actor', 'actor', 'actor', 'actor', 'actor', 'actor', 'actor', 'actor', 'actor', 'actor', 'actor', 'actor', 'actor', 'actor', 'actor', 'actor', 'actor', 'actor', 'actor', 'actor', 'actor', 'actor', 'actor', 'actor', 'actor', 'actor', 'actor', 'actor', 'actor', 'actor', 'actor', 'actor', 'actor', 'movie', 'actor', 'actor', 'actor', 'actor', 'actor', 'actor', 'actor', 'actor', 'actor', 'actor', 'actor', 'actor', 'actor', 'actor', 'actor', 'actor', 'actor', 'actor', 'actor', 'actor', 'actor', 'actor', 'actor', 'actor', 'actor', 'actor', 'actor', 'actor', 'actor', 'actor', 'actor', 'actor', 'actor', 'actor', 'movie', 'actor', 'actor', 'movie', 'actor', 'actor', 'actor', 'movie', 'actor', 'actor', 'actor', 'actor', 'actor', 'actor', 'actor', 'actor', 'actor', 'actor', 'actor', 'actor', 'actor', 'actor', 'actor', 'actor', 'actor', 'actor', 'actor', 'actor', 'actor', 'actor', 'actor', 'actor', 'actor', 'actor', 'movie', 'actor', 'actor', 'actor', 'actor', 'actor', 'actor', 'movie', 'actor', 'actor', 'actor', 'actor', 'actor', 'actor', 'movie', 'actor', 'actor', 'actor', 'actor', 'actor', 'actor', 'actor', 'actor', 'actor', 'actor', 'actor', 'actor', 'actor', 'actor', 'actor', 'actor', 'actor', 'actor', 'actor', 'actor', 'actor', 'actor', 'actor', 'actor', 'actor', 'actor', 'actor', 'actor', 'actor', 'actor', 'actor', 'actor', 'actor', 'actor', 'actor', 'actor', 'actor', 'actor', 'actor', 'actor', 'actor', 'actor', 'actor', 'actor', 'actor', 'actor', 'actor', 'movie', 'actor', 'actor', 'actor', 'actor', 'actor', 'actor', 'movie', 'actor', 'actor', 'actor', 'actor', 'actor', 'actor', 'actor', 'actor', 'actor', 'actor', 'actor', 'actor', 'actor', 'actor', 'actor', 'actor', 'actor', 'actor', 'actor', 'actor', 'actor', 'actor', 'actor', 'actor', 'actor', 'actor', 'actor', 'actor', 'actor', 'actor', 'actor', 'actor', 'actor', 'actor', 'actor', 'actor', 'actor', 'actor', 'actor', 'actor', 'actor', 'actor', 'actor', 'actor', 'actor', 'movie', 'actor', 'actor', 'actor', 'actor', 'actor', 'actor', 'actor', 'actor', 'actor', 'actor', 'actor', 'actor', 'actor', 'actor', 'actor', 'actor', 'actor', 'actor', 'actor', 'actor', 'actor', 'actor', 'actor', 'actor', 'actor', 'actor', 'actor', 'actor', 'actor', 'actor', 'actor', 'actor', 'actor', 'actor', 'actor', 'actor', 'actor', 'actor', 'actor', 'actor', 'actor', 'actor', 'actor', 'actor', 'actor', 'actor', 'actor', 'actor', 'actor', 'actor', 'actor', 'actor', 'actor', 'actor', 'actor', 'actor', 'actor', 'actor', 'actor', 'actor', 'actor', 'actor', 'actor', 'actor', 'actor', 'actor', 'actor', 'movie', 'actor', 'actor', 'actor', 'actor', 'actor', 'actor', 'actor', 'actor', 'actor', 'actor', 'actor', 'actor', 'actor', 'actor', 'actor', 'actor', 'actor', 'actor', 'actor', 'actor', 'actor', 'actor', 'actor', 'actor', 'actor', 'actor', 'actor', 'actor', 'actor', 'actor', 'actor', 'actor', 'actor', 'actor', 'actor', 'actor', 'actor', 'actor', 'actor', 'actor', 'actor', 'actor', 'actor', 'actor', 'actor', 'actor', 'actor', 'actor', 'actor', 'actor', 'actor', 'actor', 'actor', 'actor', 'actor', 'movie', 'actor', 'actor', 'actor', 'actor', 'actor', 'actor', 'actor', 'actor', 'actor', 'actor', 'actor', 'actor', 'actor', 'actor', 'actor', 'actor', 'actor', 'actor', 'actor', 'actor', 'actor', 'actor', 'actor', 'actor', 'actor', 'actor', 'actor', 'actor', 'actor', 'actor', 'actor', 'actor', 'actor', 'actor', 'actor', 'actor', 'actor', 'actor', 'actor', 'actor', 'actor', 'actor', 'actor', 'actor', 'actor', 'actor', 'actor', 'actor', 'actor', 'actor', 'actor', 'actor', 'actor', 'movie', 'actor', 'actor', 'actor', 'actor', 'actor', 'actor', 'actor', 'actor', 'actor', 'actor', 'actor', 'actor', 'actor', 'actor', 'movie', 'actor', 'actor', 'actor', 'actor', 'actor', 'actor', 'actor', 'actor', 'actor', 'actor', 'actor', 'actor', 'actor', 'actor', 'actor', 'actor', 'actor', 'actor', 'actor', 'actor', 'actor', 'actor', 'actor', 'actor', 'actor', 'actor', 'actor', 'actor', 'actor', 'actor', 'actor', 'actor', 'actor', 'actor', 'actor', 'actor', 'actor', 'movie', 'actor', 'actor', 'actor', 'actor', 'actor', 'actor', 'actor', 'actor', 'actor', 'actor', 'actor', 'actor', 'actor', 'actor', 'actor', 'actor', 'actor', 'actor', 'actor', 'movie', 'movie', 'actor', 'actor', 'actor', 'actor', 'movie', 'movie', 'actor', 'actor', 'actor', 'actor', 'actor', 'actor', 'actor', 'actor', 'actor', 'actor', 'actor', 'actor', 'actor', 'actor', 'actor', 'actor', 'actor', 'actor', 'actor', 'actor', 'actor', 'actor', 'actor', 'actor', 'actor', 'actor', 'actor', 'actor', 'actor', 'actor', 'actor', 'actor', 'actor', 'actor', 'actor', 'actor', 'actor', 'actor', 'actor', 'actor', 'actor', 'movie', 'actor', 'actor', 'actor', 'actor', 'actor', 'actor', 'actor', 'actor', 'actor', 'actor', 'actor', 'actor', 'actor', 'actor', 'actor', 'movie', 'actor', 'actor', 'actor', 'actor', 'actor', 'actor', 'actor', 'actor', 'actor', 'actor', 'actor', 'actor', 'actor', 'actor', 'actor', 'actor', 'actor', 'actor', 'actor', 'actor', 'actor', 'actor', 'actor', 'actor', 'actor', 'actor', 'actor', 'actor', 'actor', 'actor', 'actor', 'actor', 'actor', 'actor', 'actor', 'actor', 'actor', 'actor', 'actor', 'actor', 'actor', 'actor', 'actor', 'actor', 'actor', 'actor', 'actor', 'actor', 'actor', 'actor', 'actor', 'actor', 'actor', 'actor', 'actor', 'actor', 'actor', 'actor', 'actor', 'actor', 'actor', 'actor', 'actor', 'actor', 'actor', 'actor', 'actor', 'actor', 'actor', 'actor', 'actor', 'actor', 'actor', 'actor', 'actor', 'actor', 'actor', 'actor', 'actor', 'actor', 'actor', 'actor', 'actor', 'actor', 'actor', 'actor', 'actor', 'actor', 'actor', 'actor', 'actor', 'actor', 'actor', 'actor', 'actor', 'actor', 'actor', 'actor', 'actor', 'actor', 'actor', 'actor', 'actor', 'actor', 'actor', 'actor', 'actor', 'actor', 'actor', 'actor', 'actor', 'actor', 'actor', 'actor', 'actor', 'actor', 'actor', 'actor', 'actor', 'actor', 'actor', 'actor', 'actor', 'actor', 'actor', 'actor', 'actor']\n"
          ]
        }
      ]
    },
    {
      "cell_type": "markdown",
      "metadata": {
        "id": "TMIE_4D17fp_"
      },
      "source": [
        "![image.png](data:image/png;base64,iVBORw0KGgoAAAANSUhEUgAABTcAAAC7CAYAAACw/qqnAAAgAElEQVR4Ae2dva40V5m2d8oB+ABIfBScgzEBAYFlxAE4dgBy4MCMRAgRCIMlz4iJDRKRQTOSJSQHnpBX37yMIYSQHc3Up7u7791PP71W1aru6vrpvlrab/2t32tda1W/T9fu/fT8/NzxAwMcwAEcwAEcwAEcwAEcwAEcwAEcwAEcwAEcwIGtOfC0tQbTXiYZDuAADuAADuAADuAADuAADuAADuAADuAADuCAHCC4yZOrPLmLAziAAziAAziAAziAAziAAziAAziAAziAA5t0gOAm4m5SXD6d4dMZHMABHMABHMABHMABHMABHMABHMABHMABgpsENwlu4gAO4AAO4AAO4AAO4AAO4AAO4AAO4AAO4MAmHSC4ibibFJdPZvhkBgdwAAdwAAdwAAdwAAdwAAdwAAdwAAdwgOAmwU2CmziAAziAAziAAziAAziAAziAAziAAziAAziwSQfWE9z88sPu/Xfe7N7/4NPu67ll+sMH3dPTB93nM9f7+Y+euqfvfNy9vmm9r7uPv/PUPT09dR/8oTGa/+rj7q0x6VP7d/162tepep9+9PkqJsda23Xxp0w7b9/qPn7VOK5pnJ6f/6P77RtvdJ+88S/dl2fXQpn/71+7f1e6d/+1+0sp3ULz52JupT5wbhVzlDEN8w4ncRIHcAAHcAAHcAAHcAAHcAAHmhy4w+DmF92v33mz+8lvv24C8HwI5L31q9dt6ScU666DmzcP2l4TBDgEfFcSdL04oLOW4Obzgeeqx/waX8h7saMTrpe0AQ9xAAdwAAdwAAdwAAdwAAdwAAdKDqwnuDnZf4LHBDc/7z5Y8MnCeYKbF4g/xZObEwa6/vjp97pvfPS97huffnkegP7Tz/fXdP3k5+fdH6tOEdzcLwb/0/3h3Z4nMl/4HZ7w/Og/zvm/pFl2LpUWN85dMPdfxpO8+IMDOIADOIADOIADOIADOIADOLANBx46uPn6V28t8uvonhwENwcmySFw+eGfvuw+7A1u/rD75PVAWSdBG4KbewenDG4+d8+7J0lHfP3ByZiMGT/Seg1hiws4gAM4gAM4gAM4gAM4gAM4gAOP7sAFwc39k5G//vK5+/q3P9h/T6a+K/OdD0+/t2/3HZo/6H7/1+fuy1/oun9K6Xztze79X3xx/nTYXz/tfvJOoazw/ZynbQnlHeo9/zX1/ZNm1V9H3z29uP8+w5Pvaiw9kXh40nH3/ZK775osf3/nPpgavotSac/KOwTeduUo7aXfqTimnMNTdy91lr+j86z9lV/rbg7amlupnNefdd/9yE9fbji4eQj4vbiR+3qVZ9f4cYvF/+DcmdO3qIsyH/3mRf+ZAziAAziAAziAAziAAziAAziAA3Lg4uDm6R//+br7/QfpjwH5DwQpuPgSsCyke3l663DtJW0YoF1wcx+wPAYp90HWY9lO3/hr6UPfV+jA29NTdwyAnv/qrQN+8Y/17IOhp0HJ/bnToOd5ELBW/mlZoydvX18P/Tz28bnz95DGPu37edoOnYtp3K7zfnlsTrdmN/zHnLYZ3Dxndj6+Zq3g53EMCulKT0X2jevLvDpl7jG61fa8z/PWf6t+US7jiAM4gAM4gAM4gAM4gAM4gAM4gAPrdODy4GZ4anI3uOFJzePx+R/22T9hmZ7e3AViGoKbKfC5eyI0t+O5Lbg5GIBzcDM9aXeabx+EOgalPMgpOHUoKwcCT8t67vaBodMA6LP/WEtqx6gJ1RMEy23YlVtobzFdJYDWnLbC+LxvQ8HNMd+3qTGa49fSK27ksagwOGVYaW8ua3ecngwOT+Nm/845298rtgV3blJPxT3qumLsYHr+WwMwgQkO4AAO4AAO4AAO4AAO4AAOrN6Bi4ObxycoD/+ZPjxdqV9X3wUYDk9uvhwPyjAc3MxlXR7crASLYhsrQZqToNMhmFQKGsV05aDlcxfT9AXcTtNdELzIQbCXflYCcIW+7/tQ+jX68/Zc3d6X9rnsnuDmWdqvu09+pmBn3/dwNoz/WbluS+O2xjyzzceHek8YVtLsv+Py9Gna5YN7Faeu5Un+1d9MlnevcW7iEi7hAA7gAA7gAA7gAA7gAA7gwF05QHCzJnQloHQSdKoFsJ4Pgcun/VOYbcHNw9Oe4Um7l+9p1Llrvsew2s5KIKrSd//BmJd2VZ4mPWFU4zvq/Jjg5nP3vPu+zu913/3d15XJevvg5kswuDKeLwHxCusThpU0BDcJZhFQxAEcwAEcwAEcwAEcwAEcwAEcwIFHd4DgZi3IVgkonQSdqkHD06cy24KbNwy4Vds5MrgZWO04KHBXCHCeMAp5Lp9sI4Obz0Ppb8ja/a0yT4tui2eVNGfBzV2dC/9a+nPFKXNhWwm4Jy/gBCccwAEcwAEcwAEcwAEcwAEcwAEcaHJgsuDm2XdpLvZr6T2/3h6kGAzAVQJKp/lqgZx0vhToOpQfn8g8LXvCYEep/h2LcpBv146np+IfC4oBylp7a+dj3t2+GRQCpKdph4KVidWfft5946PvdR/+KZ1/Gf9yv491Hq43MDjmSXVV/DlLX0l3yjD5FMfuaWW/ll7pz1m/X8YiceN808INT7zBARzAARzAARzAARzAARzAARzAgb0D0wQ3D9+3efI9nIsFN5+73XdxvvOD7vd/7RG9GvA75KkEaU6DTv4jQKcBpl2aw6+k70XbB6eOTzkeglXfeev0180PdR7T9bR/TBCop6/7p0qP7d8df+et7q2TwJ6CffkPHeU+HduaGdUm2/FXt3PZx7L2eUcENw+/kv6NT7/sCRINBTcPfbvy6wD2HhzZFjk0epad2jPWOA2UP8aTCdJmn4p9nqAeys1zhGOcwAEcwAEcwAEcwAEcwAEcwAEceEwHLg5uvv/Om138yX/s57kxuLkPRJ6W5XJfysx/rOgQHCn/QSEN5OHpzdDGk8DrLv8hwPir1+UgWGPQSRPnGKQ7/Epw6fsxHbjcfQfjPiC1DyR+3L0+CfaEwFr4vsaX72g8Sdsj7Ul96VeVU/v2gbNDmt1TlPs2nNZ53q7zvxK/b88+8Jb7VWir21h8cvMQ0Pwo/yX0/bGfyvzL7364e0pTT2r6x9fqi9pQcDOMaWJVL7PQv5IbOWDa7NnxaVJ95+mO/S7vmoKbw1zH8iN92Su4wAUHcAAHcAAHcAAHcAAHcAAHcAAH9g5cHNw8DxZuTyqeMrvNmDUHN1sDtZOnawjC9QZeb8Nt84tSzxPCm+/b5A7iEE7gAA7gAA7gAA7gAA7gAA7gAA7gwBQOPHRw8/nwx0/i915OAfXRy9h+cNNPSQ79ujyL0NH1w5O9xadw4XTkBAtY4AAO4AAO4AAO4AAO4AAO4AAO4MCUDjx4cPO5e+YJvfKv5V/xpNqWg5svXzFw5a+jTzlJ11/WIRgMs8nn0vrHnhsyY4QDOIADOIADOIADOIADOIADOLCsAwQ3FcTb/TrtBp7ScyA2fBenvn/x7Gfhp+d2wc3YroXb40Vmre1y+za73cr8uSJgv9mxoc8EnHEAB3AAB3AAB3AAB3AAB3AAB+7cgQuCm8tGYwkywB8HcAAHcAAHcAAHcAAHcAAHcAAHcAAHcAAHcEAOENy88+g1E52JjgM4gAM4gAM4gAM4gAM4gAM4gAM4gAM4cK8OENwkuMnj2TiAAziAAziAAziAAziAAziAAziAAziAAziwSQcIbiLuJsW9108b6BefpOEADuAADuAADuAADuAADuAADuAADuBAuwMENwluEtzEARzAARzAARzAARzAARzAARzAARzAARzAgU06QHATcTcpLp9gtH+CAStY4QAO4AAO4AAO4AAO4AAO4AAO4AAO3KsDBDcJbhLcxAEcwAEcwAEcwAEcwAEcwAEcwAEcwAEcwIFNOkBwE3E3Ke69ftpAv/gkDQdwAAdwAAdwAAdwAAdwAAdwAAdwAAfaHSC4SXCT4CYO4AAO4AAO4AAO4AAO4AAO4AAO4AAO4AAObNIBgpuIu0lx+QSj/RMMWMEKB3AAB3AAB3AAB3AAB3AAB3AAB3DgXh0guElwk+AmDuAADuAADuAADuAADuAADuAADuAADuAADmzSAYKbiLtJce/10wb6xSdpOIADOIADOIADOIADOIADOIADOIADONDuAMFNgpsEN3EAB3AAB3AAB3AAB3AAB3AAB3AAB3AAB3Bgkw4Q3ETcTYrLJxjtn2DAClY4gAM4gAM4gAM4gAM4gAM4gAM4gAP36gDBTYKbBDdxAAdwAAdwAAdwAAdwAAdwAAdwAAdwAAdwYJMOPHW8IAABCEAAAhCAAAQgAAEIQAACEIAABCAAAQhskADBzQ0OGk2GAAQgAAEIQAACEIAABCAAAQhAAAIQgAAEuo7gJhZAAAIQgAAEIAABCEAAAhCAAAQgAAEIQAACmyRAcHOTw0ajIQABCEAAAhCAAAQgAAEIQAACEIAABCAAAYKbOAABCEAAAhCAAAQgAAEIQAACEIAABCAAAQhskgDBzU0OG42GAAQgAAEIQAACEIAABCAAAQhAAAIQgAAECG7iAAQgAAEIQAACEIAABCAAAQhAAAIQgAAEILBJAgQ3NzlsNBoCEIAABCAAAQhAAAIQgAAEIAABCEAAAhAguIkDEIAABCAAAQhAAAIQgAAEIAABCEAAAhCAwCYJENzc5LDRaAhAAAIQgAAEIAABCEAAAhCAAAQgAAEIQIDgJg5AAAIQgAAEIAABCEAAAhCAAAQgAAEIQAACmyRAcHOTw0ajIQABCEAAAhCAAAQgAAEIQAACEIAABCAAAYKbOAABCEAAAhCAAAQgAAEIQAACEIAABCAAAQhsksBFwc0f//jH3Te/+c2XHx2XXn/+85+7b33rW917773X/fOf/ywlWfW5f/zjH93bb7+9+9H+HC+YjacMs8dj1trj3/zmN7t1Stu5XkvUOWXflmi/7ylffPHFlF2ZrSyY3Qb1EvfgJeq8Db3+Upe4by4xT/opjLsKs3G8xqSe+x7APB8zOuPSLjFPxrWwP/US7V+izn4Kx6vMzSOLlr0l1pYl6mxhMXWaoXni645RKQalc7wei8DFwc2WgKUla0m7RuxLLBYwG28CzB6PWWuPl/jP9BJ1tvJoSbdE++d+89zCYUwamI2h1Z52iXvwEnW2E5ku5RL3zSXmyXTEut1/kub+wH7rzFr5z30PYJ63jsz4dEusLeNbWc+xRPuXqLNO4PQKc/OUx9DREmvLEnUOcbjF9THzRA9LENy8xSisv8ybBjc92bQwXvOyzI7E52Bpvu503rp+t8fnte0TX0+bqq5c3zV9GcrrNrrNQ+lr1zOTvj70pfVNLTLzfokdzM5HxAxrY7BlZuqt/Sn54Gt2Jm/tub2P10vlma7L7UujtLq5qcw5nwicqk6XYyZmZQZxa8ecNvd3TFlOm8uI9U29r//AD41lS51DHPJ189I212/HnEZP8cvT0mvLzNQfc9G29nIa89CY5VdOUysvp6uxXWJtnLJOlyVmJV7iN+RZLMPsvXWZpfXTabQt3XucpzZGeWynOJ5qnrgc97GvD2LkdNqamfqTy3G6mo9bZhb7W+uf0uS5GXnZAXMwr7x21pwV79pL9eRyammnOO82lubG2PJdVvYrljPEzGkz/z5myuP0tX643r454rqn2k5VZ14ba31Uu/vmeeyXedndEt+p2h/rHdqfsk6X5T7G+Z45OY23JR5bnZtxXqp/tfVFfXb/vS1xyO5ErnF8XW+frzH9FPtT1umyxEJjX3uZW42D85lb3xrkuV4bI5dlt/vKclq1b6g8p2V7XwRWH9z05IkLjaQemkwaJk+WmDcPn8qqye8JPucCNWbi5r74eAyzvv67vNJW+UpcYHZKy2Ohm0SJl1JvlVls9y9/+cvqPDolsj+6dG6OrdP8+9aAUvuuOTdFnfnNZOy39v0yR83H2qu1LOefov0uq3Wb29iaz+lKfMym782Z8+f1zAyc1+XX7jtOr+1cr2uZqZ1u92effba7p5Y8KvXd+cxHZSlvzG/+8ZzLimuhz5XY+lpMf2u+U9Xp8RFbvceIrNyHzNF1RxY+Fzk6/9DW7ydKdfvaJeUO1Vu77v5qe+nLXOWXXuaTHXH/8vlYr9pRe/8X03nfZW6NWWy32h79ct/MMV7zeEV/SvNaZQ5xVBl6H1Qb+zyubtettu5vnx8tdbvdffO8hVmpPc4X+cc2eXz63l/GsY95b7k/RZ3uW/Sl5K7rGhpHs2yZuy6zJe1UHKeqc2ie1dqrfHHux3R2XAzneJXmwth6SzxLTpX6lhmW2uNzJWa+NuTk2D71pZ+qTvPoW88i29KcdDvNu+X9pVi1/D8y1u16alvVP3RfquXl/LYJ3DS42YJGE0M3Zv/Em4kl1mSLL9+k8vmYRvt9k85pXVa8gfraWrdTMbt04pvZEP818VuCmW82qls/c97opmDfx0zl67od0HbMTUR5S28KYrvtWZyb19QZy15y3/3ympe5+Xrst9qrY+Xx+ehXrT+tZdXyr+W8+1FjJv9KPo3xzC7XuNbuR2thlNsxxEzXv//97++eRnXfxCu/5Ft2VGlqzGP+zN9tssNOW6vD19e2Vb/soraZm/rj9d59tl/uS6tntXQup2+rOktj15dnyWvua2QbuZllyR/liec1Jh6DWp+25l2pH2ZiZnm8zdRs8px0mTUWeZ6XuLqOPA9ctrZeY+J4xutr2hcL3U/MRPt/+9vfdj7F+a7rdszjUOpfC7PM2Txq4xWZl8p3/jVu3XY7q23kVnOlxLil765Pabf2ctvFR+03K7mn/TjfzUfXxrzMe0t8zMIO5bbr2HPTLMzS532c85qHnaxx9fqg62t+qX/6UX/ES/vuk47ti7Zm4+tm4P6ZmfOorNJ7b+VveX/pdql81RV9dp2XbrcyPpf2j3x1AosGNyWyJ4ia6Mkk2eNxTKPznlxOt0uc/nFZeWKmZC915jpyurUcT8WshWGtz7XFrJZ+6fNLMVO9XvTFzDeNpXm01D/ELJeh9K03panm5pg6c3uXOtabJrmg+eeXjiO72g05v+GqpXO52tbS5LJinrXttzCrza9a/2MfldfzVOftp/LGl3zTG8EtzOMWZrFv9kEs8qvE1unjG+OcT8c1tmIZXzqOYxCvrW1fbY1u2JcSO7Xd13OffT6WpfRKFz279F7tMaq1a21c1Z6f/vSnO15um9iIhdnpOK6VTue+Ol2NrdN7WyvP19e+Vb81vn33k9yHPCd9Xefz2maunuc+Nmfn9Tj1zeFaXpexpq29EI9Xr17t1qZ3331356H6Xuqnnctsav3OzEr8xcRtUfnxFdtRyxvTr2l/aJ6bpfoeX3ktrKWLebRfY5jTrfHYfY7+ffvb394FjuymnbvUA+Uvratr5KE2qb3RDXug/utlZj6O/YjzxunyuufyXIePzdnlxbJ8bo1bcZAzmneeC/Lpq6++2q35JU61Puf+KW9pPYzpvAaW6onpxHNKD91X9YXXYxFYNLhZQh0niidEXlBqC1IsL5YTz8f9lnJi+rXux762MnM6PQauhV1vXv3jBb3U39YFr5R3TeduzcyczFL15Rvomni0tCUyy+nH3JT6ynG5LXNzTJ0ud41bu+J1zsd2x232nBU/vZRebyr0Kx+eu9pGz1rLch1b2bpfZmYWYhRfYigmmaXT5HJ0XmnzGyzPX62XQ2/kXPbatqW+uo3ZLZ/3PLRzOu9y/KtGHgPn8dZ5o4+6pvQaE5fp49oYubw1b9WXmhfmlTm1emaOcY5rP5eX+eh69jinWfux+26HzDK7kv01W/9qndnlMVI6X/M2p1k7o9w+M6r5UXLVnD0nVabLifPc5yJ/1SNmZq00pVep3lK6NZyzF+qb3bKDtXllNpm7zw8xM8eWe1guU2zdvjXwG9sG++c+mHlmmdOJqdY4u1ebw2ardE6jresb294507vPXpfUF7VdfTcnjb/TaV8/sZ+ZY2x/LCOe39q++mxGaruOS+MrFvG+6LnkvD5W/vgyd5/3cZzXMf2a9tVm91ntlRtqv50pcTIHpet7qWyzq6VrdUx1uZ21ssac9/qgvvB6LAKrC25K7jhR4qT00ChN342pb1J6Mnvhj3W5/K1tL2FmRnkhMdvagt2ykG2B362ZiVO8YeTjLTDKbczM4nVdyy7F6963d0qfX2PnZmuduZ61HfvGbybmkNcmOaR1S1u98rHOuSy711rW2pgMtcf9NDN7ZTaRhZiNWc/iG6Jcj+rL4zLU1rVcz32J7fK1yE/X7Y/Px/47j8cglqd9nRf70nWPl663rBu57LUdRy65be5r5nCNZ8ob14Jcp8fG45avb+lYfRi7ntk951N/7XLf/HWaLTvpsc++eczFMzNwv+1L9DmWZ5flX84TfY51ydOtzfPYF/c/sin5YTaZu88PMXM61yOGrlv8lN8vpYlu52On29I290HHmXOe1/lY/bWX0XGVlddLs40c18jL/VEf9FKfzcV90DXvZ1fkjc5lL93XWJ7PbXGrfsQxL/Xbc8z83E8zFqc+Vs6vNLkMl7XGrfyw5+airfvta7Ht7mvNG6dV2ZG7z8et3bTD8Vrcn9pF9XFL4xRZsH8dgUWDmxbeC4q3eaJoQviatn7asDZRWiabsXmiD01gp196OxWz2sLlxa7EtpZnaSZD9c/NrLSgimfpBjLU9qWutzJz+1pvSlPOzdY63ca1bNXuuJ55P65Bnoe+pm18gkZ9qbHM/rWUtRY2tXa0MPP6ZGa6j/iJDl3LL6eP3JXG/JxXx34pbb4/+drati3M3GbP97zu2x2d109cw5wn81OZrjuXF685n9JozEpp3b41bd1ve+ZtzYtbeSZetTrFdotv6s3KTL2N3tlJX9M2r421/rv8OKezW05jP/P1tR2rnZGF92vtL3ljprqmn8jbvqs8s8m8xcTrptKUXs6r8tf+in1x/91ucSjNLfcvc/f5FmZO6zEs3cNi28wxj5nPr3Wb++n+Ru/UdvXL17TN//cbGgvPc5VTWitLLNfGLM5NtS32OboZ93Mfan705cllrOnY7Y5uaD+PscY3ppFf+bdv7KLdc55clrirLM9vu6nt2l9x/N0/be2W+x77YS7ub7wW91V2ZhWva9/jNcQqup3LuORYfSyt1ZeURZ5tEVgsuGnZ86SS3K0TpTTpWidkHKY48eP5te1PycxlZYZe7EqLUMsi9ujMaly34pjGz30YMzdbbkpTz82WOtfmo9qsN0i66fpl3nku+rq35ue8Sl9aK1tu6Lks17HG7TXMaozUz9p6ZjalN0VbmcdjmdlB9S+/dE7O5mvmZB+dT8dKn9cPXfc1tS++Su2N19eyb065b32emVPus89f6pnKK+V1G/N4rYVhrR3mkdut48w7l+G8dlHbEpucLpej4y3xK80btz/75r6KZ+m+ofND89xl53uYylZ9pXJdb2uamH6p/eiP+2wva/PObmXuzj8FM5eV62iZI0uxzPWak3n6eksfcv/jOLkcbV2H14Oam7X8sayl9/P/yaJ/5iF2OV1sd41tLCumX/O++5zvCbUxzn2JLGpl2R+l1UueaP6qjvjScWlexzRr2I99dl+0tTOZpdpsBrnPuT8qe2jdN2fzzGX4WHWV7tu+Pna7hfk9tk+kbyOwWHAzTrDYVMk9NFGUt5amZaLF+rQfJ36+1nKs/KWFryXvmDRTMvOilhcbL0J5QWtd6Fr7c6/MPEbyofZTupG0cFszs5abktpfm7e1/itPjVdLnbVy43nPhVu/SXE9uT+1ORfbqH31N+aVa6U3Ako3xDmXlesaOvZ6MFTPUDlD169h5rzqa365/aVrzif34qt1nGKeuO8618jMfct9VvvHeOb1L3oaGYh3aZ45X2k8Yv7avvPX6q3lG3ve9WgbX2p3bVw97rlv13jmvKX+qp7SuhDb27rvekpj1lpGa7pau/vuAS5beSMLM8/jpOMhNrUxdl1D27mYuZ7Yb7XNczn75naLZ8nVGhuVE9OXxsNtKa0frlfbXFa81rLvscl9bsk7Jk1kYZ7um/pQcsjOlbhfysxcXab7X3tvqfOXslEbld91jeE1Jm2NX4lRLlf9jy6auc7HVxw/nc/HTqu2xPJ8vnU7BzM7oLr0ivyymyWGOb/7lvP6/KVbMb7Gv9Z6XY+28dUylu6z89ofs3V5Tue5pLLVN+dzOrdF1y95Ob/ruaSMljzRC9eprd0o1W82Q31T2UNzyDwz59x21VVaW3O61mP1ccryWusl3fIEFgtueuJE2bWvBaRvoihNTVaXOTQZI3alLS1aMU3fvheHoXb3ldF6zf2billc5NwGlV3iXzvvfGO2j8IsMhG/0g0kpunbXzuzoZuS3Z1ybg7V2cczXvONV3P4mjGKZdb25UFcv8xFddfYeOzzvPT52GaXN7asWntr57129LW7lnfs+UuYmYPyll46n3nGdO6ftnqVWMf0Lfsuc43MPAdKvEp9d1/MR/33uehj5uJxiWlcfpwXOd/QsXwXV/3ENg3lG3vd7Y+ctK96az45T2lOmpnbbBaRT6mNqrPEq28cS+UMnXN56t9Qm4bKGrpuFuZkFn11O02JvRjF8+5LHLvcJo9VX5qcJx+7nr525zyXHmcP3H7VbY657MzF180yjrPHxH4qreuI5dfKdNnauqyYL15v2Vde9U0/sU0tecekUdmeXx5PO6E2+Foss8TF10vXhpg5j+t1WaWt0sRxK6XpO+exF9c4Z/ryXHotexDr7uuD+ljinjnm8VI7XUcs33wv9dFl3pqZ67EH0b/c11KfYvo4ZrXzMc2YfZU3x9x0H81DbdT+0Dhk75TPbLNX7ou2ernO6E8t7y5D4z+uR22/5XomPm67OWjrPvhabLb7bAbxWtxX2UNrRvY05o/7qiuPRbw+dl99nLK8sfWTfjkCiwU31WVPMi+IEls/caLo2Ne1jQtaxqZrfSJ7ssbySiBs5McAACAASURBVJM6lzt07H7Edg/lufS663IfrmWWyyvxMLc+9mP743rvlVnmIXYltjld3/HamdlJbXNfp5qbeT3oq7OPZb7mcnO7c7prj/1mwu2W/69evdqteWqDX+LlNNrGa06jbS5PaeVJfLWWFfMM7cd6a20bKqP1eqxL/Ssx85snM2u5D4hL38vzzWVe60bsxxqZuZ/eRo9i21uvO522kbXvJ/H6tfeBOP6x3X3je+m17IXGUj+xD6U+ur/ZzVxe9iz2zWXkNO6L2qE0UzJwmbU6XfcUW9flfqofcifWPWY9G0qb65uKncuN7Z6CTy4jz8vS2qg8mYP5aqtrfuXyajyy39F9lVVyNqdxnWO2sdwpHc9tUNmep67TnDS2vpY5RK5O47Jz2szD9biMnN/llLZq27Wuqc+qO7erVN+15zw/3NfSPM9pzL9Ut665LG2VN79a3c75+o7nYOZ2u//RPzvja2rrkGdK43zXOhPZuEzxF5dbvszdYy4m+onutnBQG83XZXmb+5DLU7pY3yX9nYuZ/PBYm5227ruvlfpoHnE9yvPNabS1i7Fv8br3zVfj5nN563ZdwlZ5VEds96XlkG97BBYNbm4PV7nFnsTXTsRy6fd5FmbjxxVm45m15vBN3Tfm1nyPnM5vSvwm5ZFZtPYdZq2kxqfT3OWN7HhuQzlYG4cInV+H2TmTqc4wz6cieVoO7y9PebQcweyUEnPzlEfLEcxaKF2WhuDmZdzuIRfBzQlGkcVpPESYwWw8gdvk8KeX134Ke5vWrbNU/vM+flxgNp5Zaw69idWn/goe85qOAGvjeJYwG8+sNQfzvJXU+HS8J4fZeALHHMzNI4vWPZi1krosnfjygfdl7Laei+DmFSPohYmgSDtEmLWzckqYmcT0Wz9Jx1PXbWz9H3cCSW28lApm7azGpvSTM/JR6ySv6QiwNo5nCbPxzFpyMM9bKF2WhveX47nB7MiMuXlk0boHs1ZS16XTPCW4eR3Drea+OLgZvxtBn/jxggAEIAABCEAAAhCAAAQgAAEIQAACEIDAXAT8G1KOURHcnIv8uuq5KLi5ri7QGghAAAIQgAAEIAABCEAAAhCAAAQgAAEIQOARCRDcfMRRp88QgAAEIAABCEAAAhCAAAQgAAEIQAACELgDAgQ372AQ6QIEIAABCEAAAhCAAAQgAAEIQAACEIAABB6RAMHNRxx1+gwBCEAAAhCAAAQgAAEIQAACEIAABCAAgTsgQHDzDgaRLkAAAhCAAAQgAAEIQAACEIAABCAAAQhA4BEJENx8xFGnzxCAAAQgAAEIQAACEIAABCAAAQhAAAIQuAMCBDfvYBDpAgQgAAEIQAACEIAABCAAAQhAAAIQgAAEHpEAwc1HHHX6DAEIQAACEIAABCAAAQhAAAIQgAAEIACBOyBAcPMOBpEuQAACEIAABCAAAQhAAAIQgAAEIAABCEDgEQkQ3HzEUafPEIAABCAAAQhAAAIQgAAEIAABCEAAAhC4AwIEN+9gEOkCBCAAAQhAAAIQgAAEIAABCEAAAhCAAAQekQDBzUccdfoMAQhAAAIQgAAEIAABCEAAAhCAAAQgAIE7IEBw8w4GkS5AAAIQgAAEIAABCEAAAhCAAAQgAAEIQOARCRDcfMRRp88QgAAEIAABCEAAAhCAAAQgAAEIQAACELgDAgQ372AQ6QIEIAABCEAAAhCAAAQgAAEIQAACEIAABB6RAMHNRxx1+gwBCEAAAhCAAAQgAAEIQAACEIAABCAAgTsgQHDzDgaRLkAAAhCAAAQgAAEIQAACEIAABCAAAQhA4BEJENx8xFGnzxCAAAQgAAEIQAACEIAABCAAAQhAAAIQuAMCBDfvYBDpAgQgAAEIQAACEIAABCAAAQhAAAIQgAAEHpEAwc1HHHX6DAEIQAACEIAABCAAAQhAAAIQgAAEIACBOyBAcPMOBpEuQAACEIAABCAAAQhAAAIQgAAEIAABCEDgEQkQ3HzEUafPEIAABCAAAQhAAAIQgAAEIAABCEAAAhC4AwIEN+9gEOkCBCAAAQhAAAIQgAAEIAABCEAAAhCAAAQekQDBzUccdfoMAQhAAAIQgAAEIAABCEAAAhCAAAQgAIE7IPD0/Pzc8QMDHMABHMABHMABHMABHMABHMABHMABHMABHMCBrTlAcJPgLsFtHMABHMABHMABHMABHMABHMABHMABHMABHNikAwQ3EXeT4m7tUwTayydfOIADOIADOIADOIADOIADOIADOIADODC9AwQ3CW4S3MQBHMABHMABHMABHMABHMABHMABHMABHMCBTTpAcBNxNykun3RM/0kHTGGKAziAAziAAziAAziAAziAAziAAziwNQcIbhLcJLiJAziAAziAAziAAziAAziAAziAAziAAziAA5t0gOAm4m5S3K19ikB7+eQLB3AAB3AAB3AAB3AAB3AAB3AAB3AAB6Z3gOAmwU2CmziAAziAAziAAziAAziAAziAAziAAziAAziwSQcIbiLuJsXlk47pP+mAKUxxAAdwAAdwAAdwAAdwAAdwAAdwAAe25gDBTYKbBDdxAAdwAAdwAAdwAAdwAAdwAAdwAAdwAAdwYJMOENxE3E2Ku7VPEWgvn3zhAA7gAA7gAA7gAA7gAA7gAA7gAA7gwPQOENwkuElwEwdwAAdwAAdwAAdwAAdwAAdwAAdwAAdwAAc26QDBTcTdpLh80jH9Jx0whSkO4AAO4AAO4AAO4AAO4AAO4AAO4MDWHCC4SXCT4CYO4AAO4AAO4AAO4AAO4AAO4AAO4AAO4AAObNIBgpuIu0lxt/YpAu3lky8cwAEcwAEcwAEcwAEcwAEcwAEcwAEcmN4BgpsENwlu4gAO4AAO4AAO4AAO4AAO4AAO4AAO4AAO4MAmHVhPcPPLD7v333mze/+DT7uv55bpDx90T08fdJ/PXO/nP3rqnr7zcfd65nof9lOCVx93bz09dU8vP291H7+a/hOD0XzX2q6Sl7u5cg23/+h++8Yb3Sdv/Ev3Zan8w7m//Ns73SdvvNH9+7/9T3lhXWjOjh7bnj5S1grmHuNTnl9wgQsO4AAO4AAO4AAO4AAO4MCGHLjD4OYX3a/febP7yW+/bhPxEFh661ev29JPOLhzBDfnqOOWQZrXv3prusDzYaw/+MOKgypXBw9v3Ler2zdRcPP5dffxd/hw4JZzj7JvPJcmvJcwVowVDuAADuAADuAADuAADuDAIzuwnuDmZP/RGxPc/Lz7QE/x/ejz2QObkm6OwOMcddxyAq06uPn6s+67H32v+8ZHP+w+eZ0X0q+7T36ma+c/3/1dT+D96uBhbsfEx1e373+6P7z7RvfJu//a/aVvzv/nv+ye3Pztf/a1f9n5e0vvKbtv3LmGHziAAziAAziAAziAAziAAziAA0cHHjq4OWngrC9QU7k2R+BxjjpuOaEmHaPJntw8BC5/9ln3x9/9sD+4+emX4wLnVwcPj5P7JuNydfumDG4+d8+79jx1q34atzL/bzI+1DVuvsELXjiAAziAAziAAziAAziAAziweQcuCG7un4z89ZfP3de//cH+ezL1XZnvfHj6HXq779D8Qff7vz53X/5C1/1TSudrb3bv/+KLc6h//bT7yTuFssL3c562JZR3qPf819T3T31Vfx19Fwjbf7fgLkDo72ksfUfmIWh2/C7H8vd37gN18TsfS79We/h1W9f3dMH3G561Z6DOs/S5zkOb9IRrSnvOL7f/WPdp2sNTdy/9jMzytWMZe8YxrYJ5OX1u/yHgd2h7SyBsP+blcv746fc6P335lzUGNw8Bvxcf05PJOw93Hp9yOx2fU2YvZe3Gq8xlmWAdv56+DPcbB9F5c3F+H4QJTHAAB3AAB3AAB3AAB3AAB3Cg6MDFwc3TP/7zdff7D9IfA/IfCFJw8SVgWUj3MjCHay9pw3+ed8HNfcDyGKTcB1mPZTt946+lDz2BFoJ4x6DPIRgUgkUOWMaAWSkwtj93GpTbnTsJltbKvzyYdF6HOXn7effBSRsOvy5/ElSNAcvQlrOn5s4DTSU+DpAeubrOUz4K2uzzn58/BnTOme2CnalPu/TNwc1j0C+28Vin2T13awtu7nmFMXLgt+DsUxzjs7GsPBU5NG9e5vORUYnblOfO+zxf3VP2g7IYNxzAARzAARzAARzAARzAARzAARwY78Dlwc3w1OQOfHhS83h8/od99k9Ypqc3dwGRhuBmCnzungjN7XhuC24OBv0c3AxBIfXrNN8+CHYeAEsBt0pQ7bSsWiDvEDBM7WiVPdfRlO/Q3mO/HNzMQcbU/2I/E4szhpY2lXUIkg0GN4t1usy0HZF2xy0G/ypBu8HgZvrOTT/xWR2Hq4KHZYb7X90+Bjz3TPOvcue8Fe9S+1zW6ZOdftL2WGe1vxWuo9KPGNdR5U7RNsoofqrGOKS1CU/wBAdwAAdwAAdwAAdwAAdwAAcuduDi4ObxCcrDf9IOT1fq19V3/3E9PLn5cjw4SMPBzVzW5cHNSuAmtrESMDkJFpaedjuUEdPVAnQxzbP/+nMhiHmabtx/ii/LWwl0lZ6GjMyKPHJZ+dj9KY9Jjd0xOLIvT8G1+PTs8brLf375lfrBdLFPA/v14Gao12X86ef7PzDU9z2cKXhY7IfLy9ta3uRymWkal5TnpR21OnJbZj1ObZ+17sI4U//FN6QXz2AIQxzAARzAARzAARzAARzAARzAgUYHCG7WQFWCOyfBwp5Azy7d0/5Jx3IwqfwUaPkJuNJ3c7YFVU7aW+nrvn1+2u64PXtycyi46QBtSLcvOzzBd+Ba7WcK7tbYnQZB/GSp2x7qi32ujOlpWW1cnWdUcPP5udP3dX7jo593f4ztivs9TrnO2rY2jmbtoG6ZaQoQ1lhd0b5au68/n9oeebLPzRAHcAAHcAAHcAAHcAAHcAAHcAAH7toBgps1wSvBnZNgYU+gJ6YrB5NycLP85OK1gZ/YjlJZDog58LVPk4NFh7aFoGWprPM/7KNgYw405rL7g4k1duX6j09nntd7vHba1/76q/UcvBkb3BxM3+PUUFvyr5/X0peZpnGp+J/rsD8OoJ5u89hfx7rWH3t3DMbfqh7KrY8BbGCDAziAAziAAziAAziAAziAAziwjAOTBTfPvktzsV9L7/n19hDIHAr6+Y/e5EDYab4UEHopP50vBawOwaOnEDA8LXsaIcqBLJddC1qm9heeyCxN2P66Up3pCc1SebtzJXYvnF1m2tYCc7XzhfJ2Y3EWmE31PPf9QaHztM/PX3ef/Ox73Td+9ln3l0KdTf3d8ag8ydvYv/I45THPx+qPn5CdK2hZYlg419jvqmO1seD8XX+yhw+FuYTzOI8DOIADOIADOIADOIADOLBBB6YJbh6+b/PkezgXC24+d7vv4nznB93v/9rzn7ehoFklYJIDkPtA0WmwZx8Yi398Zx8oenoJ6B0CR995q4vBTQdUj+l62t8q2yEYVnuq7SyId+i3nsA75qkFQVP7hpi6zQNtOgk6uD0v7M7rPLZzf600JrsyK2N6Ut+ujYfxOmGQ6j30ZfBJTPf55VfSf9h98rpc1q4dAwz3fdv/+n0OvCv/2XiG+t3PtuCmyzp6vHf/re6thqCv65pjWx3vQt/naA919PjNmPBGCQdwAAdwAAdwAAdwAAdwAAdwYGIHLg5uvv/Om138yX/s57kxuLkPRJ6W5XJfysx/rOgAofwHhfQf68PTm6GNJ4HXXf7Sk2nhP+WVQNg+wPNx9zoMRAw47X4tNzyN+RLocJDu6fir2rt8Z2mPgbX4K76lQNZL2aEtpXP97fPTeP6+SgWzMpvG4OZLcM1lhW0OTp7wcLrTIPFLXw7B0COPY8BNac76d/iu05f85lMZ07N0L/0ot2cf0NR3ZxZ+Xp7K/LL7MF9/uRY8c9u8HQhu+lewxaLmxDmP0yc999dPGbrc00DxqRu7azuGZS4ljrc/d2hj9ss82XLTxAEcwAEcwAEcwAEcwAEcwAEcwIG7duDi4OZ5sLAnYLNSifZBnjUFarbHMAavqk8NjnlS85aujAhuxn7Nuj8Y3PQTlXi7G5cGXrOO3y39pey7vhnj6bbvf4wf44cDOIADOIADOIADOIADyznw0MFNP6128qvhBBAuDCD0PN15CCqePhW4gPT3ENxcS6B4FfPk8JQzT21eOGcXmIOr8IZ+86YLB3AAB3AAB3AAB3AAB3AAB+7JgQcPbh7/gvak33P5oP+BLz+56V9tXsGThpsObh6/rqD26+j3tDAN96UnmP6g82+YGTdvGOEADuAADuAADuAADuAADuAADtyfAwQ3FQjZPQ2Xv4NwhYN9CM4dv3vS31WZtgs+ybYPcKb2nH2v6EJsz/itIOAq/9barjUHCbcyZ9fMkLbxxCsO4AAO4AAO4AAO4AAO4AAO4MAdOHBBcHOhwNQdwObTAdzBARzAARzAARzAARzAARzAARzAARzAARzAgekcILhJ0JRPKXAAB3AAB3AAB3AAB3AAB3AAB3AAB3AAB3Bgkw4Q3ETcTYrLJxzTfcIBS1jiAA7gAA7gAA7gAA7gAA7gAA7gAA5s1QGCmwQ3CW7iAA7gAA7gAA7gAA7gAA7gAA7gAA7gAA7gwCYdILiJuJsUd6ufJtBuPgnDARzAARzAARzAARzAARzAARzAARzAgekcILhJcJPgJg7gAA7gAA7gAA7gAA7gAA7gAA7gAA7gAA5s0gGCm4i7SXH5hGO6TzhgCUscwAEcwAEcwAEcwAEcwAEcwAEcwIGtOkBwk+AmwU0cwAEcwAEcwAEcwAEcwAEcwAEcwAEcwAEc2KQDBDcRd5PibvXTBNrNJ2E4gAM4gAM4gAM4gAM4gAM4gAM4gAM4MJ0DBDcJbhLcxAEcwAEcwAEcwAEcwAEcwAEcwAEcwAEcwIFNOkBwE3E3KS6fcEz3CQcsYYkDOIADOIADOIADOIADOIADOIADOLBVBwhuEtwkuIkDOIADOIADOIADOIADOIADOIADOIADOIADm3SA4CbiblLcrX6aQLv5JAwHcAAHcAAHcAAHcAAHcAAHcAAHcAAHpnOA4CbBTYKbOIADOIADOIADOIADOIADOIADOIADOIADOLBJBwhuIu4mxeUTjuk+4YAlLHEAB3AAB3AAB3AAB3AAB3AAB3AAB7bqAMFNgpsEN3EAB3AAB3AAB3AAB3AAB3AAB3AAB3AAB3Bgkw48dbwgAAEIQAACEIAABCAAAQhAAAIQgAAEIAABCGyQwNPr16+7+LPBPtBkCEAAAhCAAAQgAAEIQAACEIAABCAAAQhA4AEJENx8wEGnyxCAAAQgAAEIQAACEIAABCAAAQhAAAIQuAcCBDfvYRTpAwQgAAEIQAACEIAABCAAAQhAAAIQgAAEHpAAwc0HHHS6DAEIQAACEIAABCAAAQhAAAIQgAAEIACBeyBAcPMeRpE+QAACEIAABCAAAQhAAAIQgAAEIAABCEDgAQkQ3HzAQafLEIAABCAAAQhAAAIQgAAEIAABCEAAAhC4BwIEN+9hFOkDBCAAAQhAAAIQgAAEIAABCEAAAhCAAAQekADBzQccdLoMAQhAAAIQgAAEIAABCEAAAhCAAAQgAIF7IEBw8x5GkT5AAAIQgAAEIAABCEAAAhCAAAQgAAEIQOABCRDcfMBBp8sQgAAEIAABCEAAAhCAAAQgAAEIQAACELgHAgQ372EU6QMEIAABCEAAAhCAAAQgAAEIQAACEIAABB6QAMHNBxx0ugwBCEAAAhCAAAQgAAEIQAACEIAABCAAgXsgcFFw88c//nH3zW9+8+VHx6XXn//85+5b3/pW995773X//Oc/S0nu4txvfvObHQtt53otUedcfYv12LUvvvginr7Z/j/+8Y/u7bff3v1o/15fS8zNJepcYvyWmJtzz5MluC4xN3H2diO9xDy5XW/qJc89N5eYJ/Xe3+7KEnNziTpvR7Be8tzOqiVL1FkncJsrS8zNtTqr/xPq/4b6v+QU7++XuJ8sUedtzOwvde65ucQ86SdwvGoWGvtrX0vMTZy9dtTq+e3GFOtZvZbxV9QerbNTxOKG5qavxxjhEjwuDm62QJp74rq+uUEusVjMXacmbcuYj592/TnmXiw8MRXg1P6tX65vihvlmLZ6rsw5pnPXKaZzjWNkP/fcVN1zzpOlnHW9c47p3M66Pu5hcUZNs889bBqOuRTPS+5hmcz1x0vdw+a8n5jSnHUu5azrved7mMdzaEtwc4jQ+XXuYedM5j7jdWqK+53f7835/7C5/3/CPWxuQ8/rmzO4GWu333P/f0ZtuGlw0zdyLQZzvJYCaXHmHMC561zqpqqFUU//amznePkN11w3G8+RKW6UY/i43rnmpto2d51L3VTnnptiO+c88TjO7ezcc3MJZ7mHjVnFxqXlHjaOV2vqpdYD18s9rHWk2tPNeT9xq+as0+5wDzP97W+XeN81d53cw7bvaeyB16E572FzO6s1ds4Pc8x3zvvJknW67rm2Y/4fttT/Z8SC4OYERsy9WKjJc9fJTXUCUQpF+OY295ts1zvnTXXuOpe6qc49N6XVnDdyj+Pczo65qRam2kWn3Ne55slSbwaWcHbuOrmHXTQFBjN5jsy9HrjeueamQMxd51L3sDnvJxZszjo9jnM7+wj3MI/n3Nu57yfq39x1cg+b26rb1ud1aM572NzOcg+7rUNzlz7mHrbU/2fE5KbBzRbomtTxd/Nrk9wT0mljulyG03irvPGV0+c3OErvpwVj2iU+fYjtHrNvqczA/SmVof47nbbmkcuIabSfn270Qu10uU5PCjHNZbvOUvvWdi67WPMi84jpMnMz8zbzyOnFML5cl9Ll9mX/Y7417dsPM9A2c3B7cx/NwxxiGXE/joHLinO8VKfaoHx/+9vfXr4jSumy/y5vjdvMq8RB7c5jEOdwdjByLXHLczzX6bHasrNilv2xi9mDPAYxXS4js81zOKfP80TpPXYxbR6D3MY1HWd/3J9SG7Ob5pHLyFzzHLaTTpfr9PwQ01y26yy1b23nsos1LzKPmC4zNzNvM4+cXgzjy3UpXW5f9j/mW9O+/TADbTMHtzfzcDpziGXE/TgGKiunz84qjcpWPu5hp+91I9fSWOU5XmMvvlt0VnNQP3Yxr2tx3g155v7HPHZd5ZpdniMlX51vTFrnWdM2+9PXV4+BndSxXrkMX/f20e5hY5wVP6U3K23NVddanS2VU/Jc6bbubG5/ZqY++lVzNq8Vkb/2vRa4nJy+NE9U11bvYXJFbddWfcv9kKPxlbnG614PosfOq3ORnf02/1iO83ib6yyV77StW7e1Nlday7kk3aLBTcGLnTaIPAA61uDEtNqPx+q88+fzBuMJFG8GzhPrVP4sgyd8zOty17ZVP9UftdkvHUfpdd59yuc/++yzHUvn1Vb5+/puZnFCeLJ4PFyf2MY6ndfpYr1r25cvP/3pT1+a5T7lxdp9il5pXD7++OOXvNqxk5FbTFAq33niePic2Ma2qNzIOpa9tn1xFV+/zDCzEdOW9UD5IguX662ZRY6l9UDleD1wW5w3jq/LXdu21Vn3PfKQf7/85S9P1hL33SxK/TWzOKfFKrrocrbsrPoZ+2iG2YtWZ50/lhn5mlkcI+eJdXruiK3Pey2JeWPZa9pXP9VutdkvHUd/dN59yue5h5na+Va+cA875zLFmZZ72Bhntb703cM8z+NaXFp7fU7rgdN6LfH6MEX/b1VGq7NeC+MaJ97cw8ojo7H/9re/vVsP5JLW0Xfffbf76quvdu/37UaLZzWffN7exZa4To1bfjmf26DrKiOv9TnfWo7VfrWde9i0I9LqrP2Ja4HXBzvlND52S32+5KzLkLv55XyxvC05q/5wD8ujev2x1zm5+OrVq909Xeus3NCP7/F+b+Bj1Wyn7LHT+Nit8/noXss1pVGeWKcdL/nvMlu2Lqc0V1ryX5Nm0eBmqeE1yC1whkBGiWLdOh9vmKorvgl02lp+X1/z1myirJ5wujb00rjkyeQ8tUnl887n4ziJVIYnb2yby97C1r7YUfeztMjk/gz1vTZGuU6XY9aux+Putvn8FrbmGPs0pj9D87V2XefjeqBjrQeZYd+cWDvf7I/a29ofuyYupVftus97Xvg4jq/KGzPGpfqXPqf+xTVuTH+G0rY66/HNY1TLvzSzlvrNJvZJ/Yxzta+cPr+91thNl+PzdtTHcXyV1i7HtrmMLWzti7Z6uZ+ZR6kvQ32vjVGu0+WYtevyuLttPr+FrTnGPtV4lPrTN19ddh4jn491qhzuYUfCdq02X2vXfd7MfRxZq5atOKt+eP30fBST6NDf//73k0CnKcY02tdL5eW1sc/3vmsl912n+bstW9nai+hdH4PcL/U7u+Y0NTY+73w+zuNkl2PbXPaati3Oqo8lf9QPnbfzOh7rrMdQ45ZfpTrNe6vOuv32R30e42yJibm57MzG52OdKmer9zDxckzJ88x9iz7WuDq/tnrFPGbZ56V5Zs7KW8vXN26uc2hbK3so3xTXVxfczEDzcV+n+0B6cC1ULCfnyyLFtFvd94QST78keomHr8dtX1rzi2U7bxy/vjFw+i1u3X8vPPm4r0+lcYnpxT2/CdH1nM/HpcUrlre1/exd9GmoL31p+1zM46dy4puhoXq3cD330f6or0OvobR962ccT5dzb85m7/JxH988LjHtGGf7xiCWuaV9+xIdjT4N9aUvrbnHsl1eHL++MXD6LW7df+5h049e9i4f99UY3cvpPGZDziqf0nAPOxIsrSXHq8O/rur3zS5HY7rFV3Qx3jPiOvdf//VfO3daPLOTXkfEJNaRGSldyUvXX+LaV14uf23H9iWyHNOfvrRmH8t2/3XO/48wWzvsNFvZRgY1Zx2QL/XRnOxoPhaHWEfmUkqvNOaqvPnVV15Ou8bj3P583Nfm6F5OsC3bHQAADGZJREFUZ5ZDziqf0pTWilzmGo/jOuc1wJ7Efumc52nsh/OYUz42n1JeXetzU2WW8sU2x7aM2ff4eq6NyXtt2kWDmx4gRbTjTwQ9ZhL1gewbXOezOBqI0icE18KeM7/6Epl6333s41FqZ984mF9JYNXnBcl1lm44pTrXek4szDNu3X9t3eehPngOeFxy+hp359N1vfJxLmcLx/YoMtV+9KXGo9Q/MY1rSUxjF80vXnM7PCbR4ZhuS/vqZ+aqYzvrPvu4r292zXxy2j7/1Q6PicspjUEuc63H7kNm6z6q3epfdLivL33jMMZZjUEc374613pNfmWuOrZ3fTxKfeobhz7ucf67ztbxLLVjDefEosTW879vDuf2ew54XPL1Gnfn03W98nEuZwvH9iiztS/2x30e6pOYxrUkpnddHrN4LTqr8/k4pt3K/pCzfTxyH+1azdk+/9UOj4nLaR3P3I6lj9Vuu6k+y1tt7amuObjZ4pnzmYf5lPKq7zpfeq/sfHke+dhtXprfUP3yy22OW3uXeQ2VF8crp+3zP85/17kVhrmfkYH8EVdtY78c3LSHsQxzqo2B3as56/z5uvPFcY77W+Ht/sW2a9/tN+cS28jZ++Ls9dLnvHVdmaWuR2dLxy5jC1v1z+ucPTG/2M/oduxXzqNrMa3HxE7HvNr3ddcZr+tcHmsfu80x/Zj9vvEdU84laRcLbnqwPGHc+DwR8rHTlbZ9IPsGN+eTiBrc0oQr1bu2c2KW22/eUf44OYb60Jc284tlxfHzGOQxj+nXvi8OecLn/ufjvj6VxiWmr3HP+Xys9Ft8mVluf+5/9Gmon31p7WKuT2W6LZ7/KieP+VDda7quPub25z7aH/V16DWUNt7Ic1lxPF1OaQxyvjUeu/15Pcve5eO+vuRxiWnHOMs9LJLb70f38tU+7nH8PAZ5zHN5az5uWQ/6eOS+eR7U1o4a95zPx1tdD8wstz/3Px9nnvE4uhfPa9/1+T4Vr+d8Os73gJh+7ftiltuf+29/ah7GPg6lfZR7WHQx3jPiOjcU3MyBi+ieyszX4zjUOLt+tW+rL3Hg/2HTj16Lsy3BTbnn1xhn87rjMu7BWfctz7vIXP3Nx2ZQ2ka2+brri2PhNDmfjvM9wGnXvo3rnO89Zhz7VePqPErrVyxTHPXdydqWXn1uZs6l/Jee6xvfS8tszbdYcFMDkxd+NTqDrqUrdbAkQEyXy/a1fH5MnS5jaGu5Sn0eyjvmuuvJ//kqsVG/WxeLzCi2yXV6svpaPu/j3Danv3Tr8Zq63NweM8z9zBO4li6Xp2MzyWU6rfpWGqN8fkydLrtlq3bJWY3/LV81F1V/HFePtbZDr8wop685nc/X2pbLG3NsZ/re+I8pr5a25oXrN0d7GFnXynTamrOuU9ziK5/3ca2cmHfM/lzO1lzM/tTSlfpkJpmd0+aya+fH1OkyhrYed+5h752sSUPcWq57vFrmX0t5tTT2K8+5vB7U0pXKtRe5TKdV37iHvbe714uJ5nCJh3nFbY2d0tS4l86PqTPW37dvZ7iHvb37z34fq7HX5rqHqR6vOV6DtLVDulYLFDlNnvdeO1SOruXrkUWf37FtMc81+24z97Dt3sOiFzVnNc6t75Xk0xhnve6p7vyKbcvXLj2ey1m1r3afyP2qpSv1sW+Ou28qP75K58fUGcvq2/dY3voeFhnYNfc59iumi+0unTcj5deP1/GYz/tO6zp9XttS2fH6Nfvmqzrmfi0W3HSnI2zt66YTRfOg5DeDgpWBOW3MH4FmqXTN7ZAcfqncqW9+rlvl9knoNlyzFcfIy31U3bGfblPmVfpLs2YS88c2+nocE6WN7fD4TN1/1aO+TT1msX/ad/sjL/c71+02RV7inf9ausrN4xXrdZ2Rmcctzp3SuVjOJfuuW32Lfb6krKE85mhese7Yd5+PXqls5Y/u6Zy9j5xiO0rMnMftUHrt5/piOZfsu79iG+u6pKy+POYVxy/WHZn5fOSl/Pkvzaq+Pmd1vcRMeWI7Svz7+tJyzf2dw1m7EnlpP9ftNmWHxDvyV/+cNnKK/S4xczuiRx7LXH4sa+y+61b/4pwcW05L+uyX+5jni9uUeXEPK1Mu+WVXxDb6Ip9KvLmHldmao+ehWef5MsZZex/XmFi768zjltea0nocy7lk33VnRy4pqy+POcY5HuuOfff5yEv5uYeVCYuT13Kz09bMS9dcUp9TLvf73/9+9WkilaO6sqsuf8h9pxuz9dzLc3JMGa1pxSD2zf3J88Vtin6rDu5hZdJ2S472OWuuSu+Xx8BrtM9r63KHnHUZqju/fC3WmdOMPXY/5nDWPM3H60Cu221qcXaIieuMPEtrS+ncWJY5vevOczKnu/ZY9XgtMDs7Evtl3l53VW9OH9uivPJVP5FfTKN9l+s643Vfy2MZ01y677Hva9ulZQ/lWyy4qYZFsSyXBqsEWYOiNP4pDZLKtAhOp20EO3Q9tivmGwLZcl19U3uiuC35xqaxrGYgnq9evdpxVRviK6dVnpzG6d1+l5v7kcczj6Pryvlc/qXbOKZTj1luU6zLY/nVV1/tFq5c9xAPl20u5prHYOi6ynG7avPCdY3dug95LMeW05I++6W61Z+SL63rgdtvtrkf5ubr2ipPfKldvjHF89fsxzGtzbdryo95cx/Fs+asb0bmUet3bL/T5n7k8czj6HZt2dnsl/qsn+yZxqPVWXMx1+zk0HXV5XZll6MXl+x7TPNYXlJWX57sl3hyD+sj1n4t+9O3Htgju1jyWjXn8VJ6ueLX0HWlc7u2vB54fpiX+Kk/eb608DC7oTEYuq5y1K7aWu56xm5jH+JYjy2nJb3dMNc+Z7mHtRDdp4lu2iNtPbbRW1/3GNTWApXstDG/W5XHx+Vpm9PncXdalX/py3M013VpebV8Zug2cw+rkRp3foyzJX9q7vQ5Wyonjquu+1VLW6vX+fq2czmrNrgu90/tjszdzuy30tfuA2brMvPaMXTd7drqPUz9c9vth5iW+jWGq9fSzNNjpDrMPG/VpvgqpXUbY7ox+25frmtMGZemXTS4eWmjt5rPA32tMFvt/y3bLaZePG5Zz6OV7YX41m8EH42r+us3EUss/PfMG2dvN7rcw27HlnvYbdiyHtyGq0rlHnYbtjh7G64qlXvY7dhyD7sNW5y9DVeVyj3sdmzt7RL/xyW4ebtxPSnZ0fhahP0kMQejCGji9H1qNKowEp8Q4M3KCY7JDrzoiy+vaQng7LQ8XRr3MJOYfss9bHqmLpH1wCSm3XIPm5ZnLA1nI43p9rmHTccyl8Q9LBOZ5hhnp+FYKoV7WInKdOfMl+DmdExXVZI/GeDpt2mHxZ9uK7C5xOSZtjfrKs1vVAjGTzsufqNCMH5arioNZ6dn6hK5h5nEtFvuYdPyjKWxHkQa0+1zD5uOZS4JZzOR6Y65h03HMpbEPSzSmHYfZ6fl6dK4h5nEbbebDG7G39/n6aPbCkLpEIAABCAAAQhAAAIQgAAEIAABCEAAAhBYE4H4YYfjhPrQbu7XRb+WPncjqQ8CEIAABCAAAQhAAAIQgAAEIAABCEAAAhCAQCZAcDMT4RgCEIAABCAAAQhAAAIQgAAEIAABCEAAAhDYBAGCm5sYJhoJAQhAAAIQgAAEIAABCEAAAhCAAAQgAAEIZAIENzMRjiEAAQhAAAIQgAAEIAABCEAAAhCAAAQgAIFNECC4uYlhopEQgAAEIAABCEAAAhCAAAQgAAEIQAACEIBAJkBwMxPhGAIQgAAEIAABCEAAAhCAAAQgAAEIQAACENgEAYKbmxgmGgkBCEAAAhCAAAQgAAEIQAACEIAABCAAAQhkAgQ3MxGOIQABCEAAAhCAAAQgAAEIQAACEIAABCAAgU0QILi5iWGikRCAAAQgAAEIQAACEIAABCAAAQhAAAIQgEAmQHAzE+EYAhCAAAQgAAEIQAACEIAABCAAAQhAAAIQ2AQBgpubGCYaCQEIQAACEIAABCAAAQhAAAIQgAAEIAABCGQCT//93//dxZ//+7//6/iBAQ7gAA7gAA7gAA7gAA7gAA7gAA7gAA7gAA7gwNodILhJMJdgNg7gAA7gAA7gAA7gAA7gAA7gAA7gAA7gAA5s0oGntUdfaR+fEOAADuAADuAADuAADuAADuAADuAADuAADuAADpQcePrf//3fjh8Y4AAO4AAO4AAO4AAO4AAO4AAO4AAO4AAO4AAObM2B/w9NLtQuxXs/SQAAAABJRU5ErkJggg==)"
      ]
    },
    {
      "cell_type": "code",
      "metadata": {
        "id": "Y63_g9Y4co66"
      },
      "source": [
        "def data_split(node_ids,node_targets,node_embeddings):\n",
        "  actor_nodes,movie_nodes=[],[]\n",
        "  actor_embeddings,movie_embeddings=[],[]\n",
        "\n",
        "#In this function, we will split the node embeddings into actor_embeddings , movie_embeddings\n",
        "#split the node_embeddings into actor_embeddings,movie_embeddings based on node_ids\n",
        "\n",
        "\n",
        "  actor_embedding = [actor_embeddings.append(x) for i,x in enumerate(node_embeddings) if node_targets[i]=='actor']\n",
        "  actor_node = [actor_nodes.append(x) for i,x in enumerate(node_ids) if node_targets[i]=='actor']\n",
        "\n",
        "  movie_embedding = [movie_embeddings.append(x) for i,x in enumerate(node_embeddings) if node_targets[i]=='movie']\n",
        "  movie_node = [movie_nodes.append(x) for i,x in enumerate(node_ids) if node_targets[i]=='movie']\n",
        "  \n",
        "  return actor_nodes, movie_nodes, actor_embeddings, movie_embeddings\n",
        "    \n",
        "  # By using node_embedding and node_targets, we can extract actor_embedding and movie embedding\n",
        "  # By using node_ids and node_targets, we can extract actor_nodes and movie nodes\n",
        "  \n",
        "  # split the node_embeddings into actor_embeddings,movie_embeddings based on node_ids\n",
        "  # By using node_embedding and node_targets, we can extract actor_embedding and movie embedding\n",
        "  # By using node_ids and node_targets, we can extract actor_nodes and movie nodes"
      ],
      "execution_count": 18,
      "outputs": []
    },
    {
      "cell_type": "code",
      "metadata": {
        "id": "p5e3LVFW13rT"
      },
      "source": [
        "#L=actor_nodes\n",
        "#M=movie_nodes\n",
        "#N=actor_embeddings\n",
        "#O=movie_embeddings\n",
        "L,M,N,O = data_split(node_ids,node_targets,node_embeddings)"
      ],
      "execution_count": 19,
      "outputs": []
    },
    {
      "cell_type": "code",
      "metadata": {
        "id": "coMEeIV1sgNp"
      },
      "source": [
        ""
      ],
      "execution_count": 19,
      "outputs": []
    },
    {
      "cell_type": "markdown",
      "metadata": {
        "id": "xa7PdnRufRV3"
      },
      "source": [
        "<font color='cyan'>Grader function - 1</font>"
      ]
    },
    {
      "cell_type": "code",
      "metadata": {
        "id": "PGG8Drj5fNbY",
        "colab": {
          "base_uri": "https://localhost:8080/"
        },
        "outputId": "2f7d88c7-0ba2-4472-cc07-23206502f7bd"
      },
      "source": [
        "def grader_actors(data):\n",
        "  assert(len(data)==3411)\n",
        "  return True\n",
        "grader_actors(L)"
      ],
      "execution_count": 20,
      "outputs": [
        {
          "output_type": "execute_result",
          "data": {
            "text/plain": [
              "True"
            ]
          },
          "metadata": {},
          "execution_count": 20
        }
      ]
    },
    {
      "cell_type": "markdown",
      "metadata": {
        "id": "3ZuEXUw-fipG"
      },
      "source": [
        "<font color='cyan'>Grader function - 2</font>"
      ]
    },
    {
      "cell_type": "code",
      "metadata": {
        "id": "tYTGJqQTflxL",
        "colab": {
          "base_uri": "https://localhost:8080/"
        },
        "outputId": "134a9cf3-9faa-4a55-c653-abf5a1e02a24"
      },
      "source": [
        "def grader_movies(data):\n",
        "  assert(len(data)==1292)\n",
        "  return True\n",
        "grader_movies(M)"
      ],
      "execution_count": 21,
      "outputs": [
        {
          "output_type": "execute_result",
          "data": {
            "text/plain": [
              "True"
            ]
          },
          "metadata": {},
          "execution_count": 21
        }
      ]
    },
    {
      "cell_type": "markdown",
      "metadata": {
        "id": "0Nz_ojodhwOp"
      },
      "source": [
        "<font color='blue'>Calculating cost1</font>"
      ]
    },
    {
      "cell_type": "markdown",
      "metadata": {
        "id": "xdixgDsZhtM1"
      },
      "source": [
        "Cost1 = $\\frac{1}{N}\\sum_{\\text{each cluster i}}  \\frac{\\text{(number of nodes in the largest connected component in the graph with the actor nodes and its movie neighbours in cluster i)}}{\\text{(total number of nodes in that cluster i)}}$ where N= number of clusters <br><br>\n",
        "<br>"
      ]
    },
    {
      "cell_type": "code",
      "metadata": {
        "id": "7akLq1z6hiiU"
      },
      "source": [
        "def cost1(graph,number_of_clusters):\n",
        "    '''In this function, we will calculate cost1'''\n",
        "    num= max([len(x) for x in list(nx.connected_components(graph))])\n",
        "    Total_Nodes=graph.number_of_nodes()\n",
        "    cost1= (num/Total_Nodes)*(1/number_of_clusters)\n",
        "    return cost1"
      ],
      "execution_count": 22,
      "outputs": []
    },
    {
      "cell_type": "code",
      "metadata": {
        "id": "C4EdKJyri-wl",
        "colab": {
          "base_uri": "https://localhost:8080/",
          "height": 248
        },
        "outputId": "3978e963-4bc5-455a-b944-e2777464041a"
      },
      "source": [
        "import networkx as nx\n",
        "from networkx.algorithms import bipartite\n",
        "graded_graph= nx.Graph()\n",
        "graded_graph.add_nodes_from(['a1','a5','a10','a11'], bipartite=0) # Add the node attribute \"bipartite\"\n",
        "graded_graph.add_nodes_from(['m1','m2','m4','m6','m5','m8'], bipartite=1)\n",
        "graded_graph.add_edges_from([('a1','m1'),('a1','m2'),('a1','m4'),('a11','m6'),('a5','m5'),('a10','m8')])\n",
        "l={'a1','a5','a10','a11'};r={'m1','m2','m4','m6','m5','m8'}\n",
        "pos = {}\n",
        "pos.update((node, (1, index)) for index, node in enumerate(l))\n",
        "pos.update((node, (2, index)) for index, node in enumerate(r))\n",
        "\n",
        "nx.draw_networkx(graded_graph, pos=pos, with_labels=True,node_color='lightblue',alpha=0.8,style='dotted',node_size=500)"
      ],
      "execution_count": 23,
      "outputs": [
        {
          "output_type": "display_data",
          "data": {
            "image/png": "[encoded data removed]",
            "text/plain": [
              "<Figure size 432x288 with 1 Axes>"
            ]
          },
          "metadata": {}
        }
      ]
    },
    {
      "cell_type": "markdown",
      "metadata": {
        "id": "fVNEfef6raEn"
      },
      "source": [
        "<font color='cyan'>Grader function - 3</font>"
      ]
    },
    {
      "cell_type": "code",
      "metadata": {
        "id": "B4YRxNkKj1Qc",
        "colab": {
          "base_uri": "https://localhost:8080/"
        },
        "outputId": "aa72d67e-3893-4449-ae5a-846050de161c"
      },
      "source": [
        "graded_cost1=cost1(graded_graph,3)\n",
        "def grader_cost1(data):\n",
        "    assert(data==((1/3)*(4/10))) # 1/3 is number of clusters\n",
        "    return True\n",
        "grader_cost1(graded_cost1)"
      ],
      "execution_count": 24,
      "outputs": [
        {
          "output_type": "execute_result",
          "data": {
            "text/plain": [
              "True"
            ]
          },
          "metadata": {},
          "execution_count": 24
        }
      ]
    },
    {
      "cell_type": "markdown",
      "metadata": {
        "id": "J7qiz7nxsqJL"
      },
      "source": [
        "<font color='blue'>Calculating cost2</font>"
      ]
    },
    {
      "cell_type": "markdown",
      "metadata": {
        "id": "XFqzhGqys03U"
      },
      "source": [
        "Cost2 = $\\frac{1}{N}\\sum_{\\text{each cluster i}}  \\frac{\\text{(sum of degress of actor nodes in the graph with the actor nodes and its movie neighbours in cluster i)}}{\\text{(number of unique movie nodes in the graph with the actor nodes and its movie neighbours in cluster i)}}$ where N= number of clusters "
      ]
    },
    {
      "cell_type": "code",
      "metadata": {
        "id": "NH6ayCdKsw0U"
      },
      "source": [
        "def cost2(graph,number_of_clusters):\n",
        "  d=graph.degree()\n",
        "  nodes=list(graph.nodes())\n",
        "  unique=[]\n",
        "\n",
        "  for i in nodes:\n",
        "    if i not in unique:\n",
        "      unique.append(i)\n",
        "\n",
        "  sum=0\n",
        "  for i in d:\n",
        "    if 'a' in i[0]:\n",
        "      sum+=i[1]\n",
        "\n",
        "  mov=0\n",
        "  for i in unique:\n",
        "    if 'm' in i:\n",
        "      mov+=1\n",
        "  cost2=sum/mov\n",
        "\n",
        "  return cost2 /number_of_clusters"
      ],
      "execution_count": 25,
      "outputs": []
    },
    {
      "cell_type": "markdown",
      "metadata": {
        "id": "SaL1nOMrtYMT"
      },
      "source": [
        "<font color='cyan'>Grader function - 4</font>"
      ]
    },
    {
      "cell_type": "code",
      "metadata": {
        "id": "lNC23DCIs-uD",
        "colab": {
          "base_uri": "https://localhost:8080/"
        },
        "outputId": "229d6fb3-e965-4b4b-f894-6faf7c0eb394"
      },
      "source": [
        "graded_cost2=cost2(graded_graph,3)\n",
        "def grader_cost2(data):\n",
        "    assert(data==((1/3)*(6/6))) # 1/3 is number of clusters\n",
        "    return True\n",
        "grader_cost2(graded_cost2)"
      ],
      "execution_count": 26,
      "outputs": [
        {
          "output_type": "execute_result",
          "data": {
            "text/plain": [
              "True"
            ]
          },
          "metadata": {},
          "execution_count": 26
        }
      ]
    },
    {
      "cell_type": "markdown",
      "metadata": {
        "id": "GIOPhbBizdWd"
      },
      "source": [
        "<font color='blue'>Grouping similar actors</font>"
      ]
    },
    {
      "cell_type": "code",
      "metadata": {
        "colab": {
          "base_uri": "https://localhost:8080/"
        },
        "id": "oxSD6tVQ37JC",
        "outputId": "6ef4c0b4-9d86-4a0c-bb8a-766417b8e628"
      },
      "source": [
        "print(node_ids)"
      ],
      "execution_count": 27,
      "outputs": [
        {
          "output_type": "stream",
          "name": "stdout",
          "text": [
            "['a973', 'a967', 'a964', 'a1731', 'a970', 'a969', 'a1028', 'a1003', 'a1057', 'a965', 'm1094', 'm67', 'm1111', 'a966', 'a959', 'a988', 'a49', 'a1037', 'a93', 'm1100', 'a962', 'a963', 'a971', 'a1076', 'a1030', 'a960', 'm1095', 'a977', 'a1016', 'a204', 'a472', 'a1027', 'a768', 'a631', 'a968', 'm1114', 'm1001', 'a1020', 'a1004', 'm1113', 'a1026', 'a407', 'a2715', 'a1035', 'a975', 'a1507', 'm1096', 'a1031', 'm1112', 'a972', 'a306', 'a138', 'm376', 'm1097', 'm126', 'm75', 'a1036', 'm1261', 'a1467', 'a1435', 'm1232', 'a1021', 'a1008', 'm964', 'a205', 'a987', 'm1022', 'a1015', 'a921', 'm990', 'm987', 'm1106', 'm32', 'm148', 'a1038', 'm26', 'm1000', 'a782', 'm816', 'm121', 'a1060', 'm115', 'a976', 'a1436', 'a1011', 'm1090', 'm1357', 'a893', 'm25', 'm453', 'm1220', 'm942', 'a974', 'm1108', 'm1101', 'm1272', 'm1023', 'm1348', 'm796', 'm122', 'm914', 'a1750', 'm157', 'm1116', 'm915', 'm587', 'a228', 'm377', 'a1505', 'm165', 'm1213', 'm995', 'a1005', 'm983', 'm154', 'm902', 'm963', 'm988', 'm918', 'm1045', 'm1253', 'm84', 'a1023', 'm850', 'a363', 'm147', 'm1098', 'm1284', 'm1024', 'a1029', 'm430', 'm1048', 'm345', 'm982', 'm924', 'm129', 'm973', 'm112', 'm155', 'm1092', 'm294', 'm215', 'm1185', 'm135', 'm159', 'm125', 'm616', 'm1225', 'a1024', 'a400', 'm565', 'm389', 'm1011', 'm452', 'm73', 'm421', 'm769', 'm901', 'm150', 'a595', 'm985', 'm937', 'm282', 'm1372', 'a3378', 'm551', 'a1032', 'm1260', 'm1013', 'a1025', 'm1374', 'm560', 'm1198', 'm653', 'm127', 'm584', 'a1039', 'm477', 'm1162', 'm128', 'a1018', 'm1159', 'm1263', 'm1030', 'm114', 'm420', 'a1043', 'm1212', 'm745', 'm145', 'm623', 'm947', 'm1029', 'm1138', 'm624', 'm932', 'm986', 'm936', 'm310', 'a3369', 'm1173', 'm847', 'm340', 'm30', 'm1314', 'm1200', 'a1019', 'm949', 'm1012', 'a1483', 'm1110', 'm692', 'm743', 'm1093', 'm909', 'm1151', 'm242', 'm577', 'm1230', 'm306', 'm1102', 'm141', 'm34', 'm168', 'm1239', 'm866', 'm396', 'm1169', 'm943', 'm984', 'm1103', 'm981', 'm1339', 'm716', 'm890', 'a989', 'm1336', 'm230', 'm704', 'm291', 'm88', 'm31', 'm111', 'm1052', 'a812', 'm221', 'm311', 'm882', 'm1049', 'm1020', 'a1381', 'm179', 'a1063', 'm662', 'm1172', 'm433', 'm1019', 'm305', 'm1148', 'm707', 'm729', 'm429', 'a773', 'm960', 'm715', 'm281', 'a1366', 'm307', 'm808', 'a217', 'a1034', 'm586', 'm388', 'm897', 'm891', 'a1079', 'm1034', 'a1716', 'a1017', 'm1099', 'm132', 'm1152', 'm706', 'm169', 'm1036', 'm1191', 'm162', 'm926', 'm860', 'm1243', 'm875', 'm1248', 'm851', 'm5', 'a801', 'm1244', 'a1513', 'm283', 'm55', 'm666', 'm219', 'm1149', 'm1331', 'm1187', 'm407', 'm1150', 'm1178', 'm1241', 'm877', 'm260', 'a440', 'm621', 'm116', 'm571', 'a1181', 'm118', 'm1255', 'm626', 'm799', 'm989', 'm1163', 'm1237', 'm152', 'm120', 'a1672', 'm898', 'm380', 'm399', 'm1210', 'm853', 'm911', 'm1274', 'm1189', 'm398', 'm403', 'm86', 'm1016', 'm426', 'm1222', 'm442', 'm443', 'a393', 'm913', 'm856', 'm1157', 'm719', 'm416', 'm593', 'm962', 'm1311', 'm1337', 'm592', 'm946', 'm1349', 'm1160', 'a222', 'm1064', 'a1041', 'm941', 'm383', 'm1025', 'm343', 'm798', 'm614', 'm1008', 'm974', 'm1273', 'm575', 'm723', 'm1223', 'a95', 'm289', 'm848', 'm702', 'm1089', 'm1300', 'm1081', 'm552', 'm1046', 'm944', 'm208', 'a1047', 'm1297', 'm290', 'm223', 'm573', 'm1376', 'm1027', 'a152', 'm1290', 'm61', 'm1091', 'm362', 'm940', 'm146', 'm451', 'm830', 'm1259', 'm790', 'm625', 'a1782', 'm210', 'm293', 'm595', 'm991', 'm992', 'm1047', 'm966', 'm284', 'm905', 'm288', 'm1026', 'm303', 'm794', 'm366', 'm667', 'm537', 'm923', 'm1188', 'm1236', 'm395', 'm1051', 'm925', 'm933', 'm1207', 'm1270', 'm802', 'm428', 'm650', 'm862', 'm350', 'm807', 'm131', 'm854', 'm69', 'm1044', 'm713', 'm1014', 'm931', 'a775', 'm353', 'm655', 'a1045', 'm417', 'm385', 'm1367', 'a1048', 'm1246', 'm411', 'm1380', 'm975', 'a11', 'm1181', 'm1192', 'm240', 'm378', 'm888', 'm600', 'm582', 'm1341', 'm648', 'm1347', 'a1022', 'm113', 'm160', 'm899', 'm857', 'm172', 'm579', 'm419', 'm589', 'm824', 'm415', 'm292', 'm189', 'm996', 'm387', 'm361', 'm849', 'm1205', 'm357', 'm880', 'a834', 'm1366', 'm922', 'm1268', 'm1286', 'm1206', 'm309', 'a370', 'm1155', 'm809', 'm277', 'm280', 'm406', 'm956', 'm959', 'm209', 'a316', 'm550', 'm1177', 'm1217', 'm173', 'm812', 'm339', 'm836', 'm599', 'm627', 'm969', 'a2349', 'm833', 'm434', 'm475', 'm544', 'm829', 'a1524', 'm708', 'm697', 'a816', 'm1215', 'm724', 'm1140', 'm615', 'm603', 'm563', 'a101', 'm1335', 'm1257', 'm1282', 'm876', 'm574', 'm1158', 'm259', 'm652', 'm681', 'm1325', 'm585', 'm163', 'm440', 'm425', 'm1153', 'm27', 'm386', 'm74', 'm342', 'm651', 'm83', 'a807', 'm231', 'm628', 'm1252', 'm349', 'm186', 'm436', 'm37', 'm783', 'a821', 'm1345', 'm910', 'm908', 'm405', 'm1186', 'm843', 'm330', 'm1231', 'm649', 'm1370', 'm1285', 'm176', 'm265', 'm957', 'm601', 'm286', 'm1329', 'm203', 'm1194', 'a378', 'm693', 'm384', 'm1035', 'a1442', 'm1251', 'm1328', 'm39', 'a2305', 'm402', 'm916', 'm1267', 'm720', 'm1074', 'a88', 'm840', 'm998', 'a503', 'm636', 'm705', 'm728', 'm410', 'm845', 'm1066', 'a1040', 'm248', 'm1211', 'm1037', 'm295', 'm590', 'm222', 'm1333', 'a789', 'a2139', 'm763', 'm201', 'm1278', 'm143', 'm832', 'm134', 'm287', 'm438', 'm335', 'm1147', 'm194', 'm1258', 'm195', 'a1083', 'm1208', 'a50', 'm1058', 'm174', 'm855', 'm596', 'a598', 'm788', 'm308', 'm1226', 'm700', 'm976', 'm1361', 'm835', 'a820', 'm302', 'm1281', 'm1118', 'a1176', 'm1202', 'a52', 'a450', 'a854', 'm674', 'm1143', 'm1040', 'a2361', 'm1073', 'a285', 'm968', 'a1558', 'a3561', 'm608', 'm657', 'm613', 'm684', 'm246', 'm108', 'm825', 'm1154', 'm1228', 'm1021', 'm524', 'm344', 'a790', 'm355', 'm1334', 'm665', 'm336', 'm441', 'm635', 'a1758', 'a372', 'm1250', 'a90', 'm1117', 'm826', 'a369', 'm228', 'm325', 'm997', 'm1196', 'm631', 'm679', 'm518', 'm583', 'm545', 'a1329', 'a2367', 'm656', 'm1199', 'm814', 'm227', 'm379', 'm275', 'm772', 'm1082', 'm1104', 'm1139', 'm773', 'm117', 'a865', 'm1174', 'm881', 'a1377', 'a1363', 'm1327', 'm40', 'm182', 'a2222', 'm841', 'm1193', 'm993', 'm1084', 'a1042', 'm784', 'a239', 'm709', 'm1351', 'm686', 'm839', 'm699', 'm1017', 'm1245', 'm930', 'm263', 'm927', 'm696', 'm1326', 'm1032', 'm576', 'm472', 'm444', 'm319', 'm912', 'm1031', 'm787', 'm680', 'm276', 'a2301', 'm757', 'm703', 'a1177', 'm320', 'm144', 'm1313', 'm352', 'm792', 'a203', 'a880', 'm638', 'm322', 'a771', 'a1222', 'm669', 'm1373', 'm676', 'm980', 'a924', 'm701', 'm515', 'm262', 'm354', 'm581', 'm184', 'm331', 'a466', 'm566', 'm413', 'm714', 'm834', 'a115', 'a2785', 'm1077', 'm938', 'a1704', 'm1209', 'm800', 'm1071', 'm192', 'm691', 'm401', 'm559', 'm970', 'm791', 'm1069', 'a200', 'm348', 'm1279', 'm1332', 'm945', 'm774', 'm375', 'm606', 'm1216', 'm1068', 'm1233', 'm610', 'm297', 'm1344', 'm1004', 'm1256', 'm629', 'm213', 'm397', 'm1238', 'm356', 'a1232', 'a1416', 'm682', 'a51', 'm797', 'm904', 'm768', 'm492', 'a2755', 'm205', 'a1635', 'm204', 'a377', 'm758', 'm299', 'm427', 'm358', 'm527', 'm971', 'm1324', 'm187', 'a1993', 'm756', 'm177', 'm801', 'm1295', 'm647', 'm1175', 'm171', 'm1009', 'm214', 'a850', 'm323', 'm161', 'm742', 'm1219', 'm673', 'm767', 'a144', 'm329', 'm557', 'm313', 'm196', 'm346', 'm333', 'm622', 'm903', 'm760', 'm218', 'm1338', 'm928', 'm301', 'a1911', 'm491', 'm241', 'm193', 'm1298', 'm718', 'm921', 'm65', 'm831', 'a129', 'm1378', 'm326', 'm175', 'm300', 'a1384', 'm1041', 'm327', 'a431', 'm316', 'm874', 'm894', 'm815', 'm1305', 'm1280', 'm199', 'm1356', 'a638', 'm381', 'm1078', 'a1877', 'm513', 'm1204', 'm598', 'm158', 'm465', 'm273', 'm439', 'a3518', 'm530', 'a791', 'm721', 'm1007', 'a416', 'm274', 'm764', 'm1182', 'm496', 'm315', 'a231', 'm364', 'm1043', 'm1320', 'm766', 'm654', 'm243', 'm180', 'm224', 'a1373', 'm394', 'a593', 'm63', 'a2125', 'm1184', 'm873', 'a1077', 'm151', 'm200', 'a2374', 'm939', 'm685', 'm920', 'm893', 'm321', 'm762', 'm810', 'm359', 'm1340', 'a2460', 'm60', 'a1170', 'm694', 'm304', 'm164', 'a891', 'm954', 'm630', 'm341', 'm821', 'm1330', 'm373', 'a534', 'a1223', 'm365', 'm390', 'a2181', 'm1003', 'm711', 'a1052', 'a325', 'm328', 'm1308', 'm929', 'a818', 'a2720', 'a94', 'm852', 'm525', 'm951', 'm1010', 'a1179', 'm837', 'm278', 'm795', 'm391', 'm523', 'm1214', 'm363', 'm360', 'm1107', 'm1144', 'm1264', 'a462', 'a1033', 'm414', 'a984', 'm1183', 'a2169', 'm334', 'a22', 'm296', 'a736', 'm556', 'm671', 'a538', 'a1078', 'm578', 'm198', 'm859', 'm512', 'm211', 'm811', 'm178', 'm324', 'a794', 'm1080', 'a1133', 'm190', 'm967', 'm645', 'm958', 'a1244', 'm977', 'm1304', 'm1249', 'a1123', 'm712', 'm268', 'a3414', 'm393', 'a1468', 'm11', 'm495', 'a777', 'm738', 'm765', 'm746', 'm670', 'm594', 'm468', 'a3375', 'm1085', 'm640', 'm431', 'm646', 'a815', 'm245', 'm1176', 'a2061', 'a1301', 'm1039', 'm907', 'a427', 'a1783', 'm531', 'm609', 'm822', 'm238', 'm1294', 'm188', 'a2030', 'm490', 'm952', 'm999', 'm1055', 'm522', 'a1556', 'a904', 'a2393', 'm695', 'm1322', 'm119', 'a1294', 'm892', 'm633', 'm1072', 'a1203', 'a2009', 'm754', 'm239', 'm1221', 'a796', 'a1376', 'a15', 'm722', 'm917', 'a1730', 'm879', 'm1283', 'a835', 'm332', 'm156', 'm572', 'a1305', 'a806', 'm934', 'm149', 'a994', 'a2461', 'a913', 'm418', 'a1718', 'a1437', 'm212', 'a986', 'm1275', 'm1033', 'a856', 'm883', 'a12', 'a1438', 'a1835', 'a3436', 'a1973', 'a1095', 'm668', 'm247', 'm1265', 'm1170', 'a153', 'm1303', 'm534', 'a461', 'a1256', 'm226', 'm1224', 'a978', 'm793', 'm498', 'm124', 'm1309', 'a2273', 'a1', 'm521', 'a859', 'm642', 'a1185', 'a1100', 'm1005', 'm252', 'a1225', 'a1454', 'm3', 'a226', 'a3493', 'm338', 'm1358', 'm1369', 'm1062', 'a434', 'a1061', 'm813', 'a603', 'a243', 'a3203', 'm236', 'm744', 'm978', 'm661', 'a1593', 'a961', 'a2491', 'a871', 'a875', 'a910', 'a516', 'm51', 'a1560', 'a2840', 'm786', 'a1622', 'm683', 'm740', 'm865', 'm36', 'm602', 'm459', 'a1600', 'a1262', 'a2262', 'm1277', 'a1677', 'm644', 'm1292', 'm1088', 'a59', 'a2416', 'a1141', 'a797', 'm207', 'a381', 'm643', 'm250', 'm972', 'a1291', 'm249', 'm1343', 'm632', 'm717', 'm1352', 'm1291', 'm727', 'a2725', 'a2000', 'a1119', 'm688', 'a2646', 'm285', 'm424', 'm1346', 'm487', 'm1079', 'a1910', 'm508', 'm789', 'a137', 'a1976', 'a2134', 'm804', 'a3368', 'm1365', 'a374', 'a633', 'a2146', 'm1061', 'a1615', 'm1379', 'm639', 'a1490', 'a1901', 'a1214', 'm1354', 'a56', 'a2011', 'a92', 'a792', 'm532', 'a1362', 'm476', 'a319', 'a813', 'm803', 'm455', 'a3372', 'm994', 'm529', 'm464', 'a202', 'm191', 'a2929', 'm220', 'a535', 'a3365', 'm136', 'a3396', 'm272', 'm561', 'm1271', 'a412', 'm1296', 'm1227', 'm1269', 'm580', 'a950', 'm367', 'm658', 'a2323', 'm1067', 'a280', 'm514', 'a886', 'm1065', 'a922', 'a449', 'm1015', 'a1125', 'a1748', 'm1276', 'a915', 'a2971', 'm347', 'a1907', 'm1156', 'm618', 'm528', 'm482', 'a905', 'a1120', 'm38', 'm49', 'a1087', 'a13', 'm494', 'a1106', 'm351', 'm659', 'm805', 'm607', 'a149', 'a575', 'm369', 'a1498', 'm1063', 'm1301', 'm520', 'a425', 'a18', 'a1051', 'a1280', 'a1006', 'a1962', 'a1639', 'a1518', 'm264', 'm1142', 'm611', 'a1195', 'a1626', 'm317', 'm698', 'a110', 'a2814', 'a2328', 'a1440', 'm1234', 'a2802', 'a2792', 'm318', 'm1197', 'a1178', 'a1763', 'm687', 'm312', 'a1595', 'm1262', 'a803', 'a1785', 'a2820', 'a531', 'm755', 'm1201', 'm735', 'm672', 'a2719', 'm1190', 'a2932', 'a1658', 'a570', 'a599', 'm1350', 'm1083', 'm1164', 'm1359', 'a2347', 'm540', 'm1002', 'm1075', 'm526', 'm1288', 'm900', 'a1458', 'a909', 'm780', 'a442', 'a1091', 'm739', 'm234', 'a1012', 'm690', 'a267', 'm1218', 'a980', 'm1240', 'm511', 'm775', 'a1359', 'm1319', 'a127', 'm466', 'a2602', 'a58', 'a2233', 'a1533', 'a1784', 'a1164', 'm1355', 'a841', 'm142', 'a69', 'm726', 'a3373', 'a923', 'm677', 'm820', 'a106', 'a1246', 'm185', 'a2934', 'm85', 'a640', 'm538', 'a655', 'a2854', 'a2007', 'a1484', 'm965', 'a3431', 'a1512', 'a2342', 'a1271', 'a365', 'a1500', 'a836', 'a2851', 'a491', 'm483', 'a3441', 'a1773', 'm493', 'a2038', 'a484', 'm761', 'm460', 'a1385', 'a2939', 'm87', 'm100', 'a885', 'm1353', 'm153', 'a1268', 'a2016', 'm737', 'a2812', 'm1323', 'a928', 'a3044', 'a2938', 'a896', 'a221', 'a1192', 'm1266', 'a571', 'a488', 'a930', 'a2400', 'a1926', 'm1028', 'a1536', 'm57', 'a3367', 'a998', 'a123', 'a620', 'a1592', 'a2587', 'a805', 'a3439', 'a1308', 'a2577', 'm271', 'a1196', 'a2024', 'a1139', 'a1044', 'a2534', 'a1313', 'm1145', 'm1360', 'a778', 'm29', 'a1115', 'a1919', 'a3417', 'm1076', 'm52', 'a1338', 'm485', 'm458', 'm731', 'm535', 'm770', 'a2375', 'a2351', 'm591', 'a992', 'a2316', 'a3207', 'a47', 'a1997', 'a411', 'm568', 'a1530', 'm1310', 'm536', 'a2298', 'a1508', 'a2338', 'a1494', 'a808', 'a911', 'a2140', 'a1607', 'a1386', 'm59', 'a590', 'm1229', 'a251', 'a1137', 'm408', 'm886', 'a2119', 'm225', 'a109', 'm637', 'a3254', 'm771', 'm558', 'a613', 'a2388', 'a208', 'm1070', 'a3181', 'a332', 'm229', 'a3306', 'm710', 'm1050', 'a774', 'a107', 'm675', 'a1150', 'm818', 'm486', 'a1673', 'a1226', 'a2208', 'm1195', 'a1933', 'a874', 'a1487', 'a136', 'a2772', 'a157', 'a1088', 'm50', 'a201', 'a2171', 'm481', 'a2239', 'a1138', 'a1590', 'a1014', 'm1377', 'm1302', 'a1130', 'a98', 'a525', 'a1340', 'a844', 'a3388', 'a232', 'm409', 'a1396', 'm101', 'm99', 'm166', 'm1018', 'a2225', 'm1086', 'a3411', 'm1293', 'a1361', 'm130', 'a438', 'a1693', 'a435', 'm689', 'm298', 'm1038', 'a887', 'a443', 'm785', 'm267', 'a1281', 'a1800', 'a563', 'a1766', 'a899', 'm753', 'a3529', 'm759', 'a1676', 'm1287', 'a3434', 'a901', 'a3342', 'a996', 'a2044', 'a776', 'm1119', 'a1781', 'm1364', 'a3359', 'a134', 'a2133', 'm244', 'a596', 'a2836', 'a645', 'm539', 'a1553', 'm206', 'a2179', 'm948', 'm507', 'm819', 'a1983', 'm750', 'a855', 'a415', 'a116', 'a780', 'a942', 'a3416', 'm170', 'a997', 'a1995', 'm569', 'a2127', 'a2788', 'a3386', 'a2327', 'a800', 'm1375', 'a3370', 'a1566', 'a81', 'a2203', 'a1563', 'a291', 'a1963', 'a3315', 'm423', 'm137', 'a714', 'a1114', 'a1058', 'a2355', 'a1328', 'm547', 'a581', 'a665', 'a1249', 'a2399', 'm846', 'a695', 'a501', 'a3305', 'a1227', 'a717', 'a678', 'm469', 'a1324', 'a1131', 'a1496', 'a2295', 'm564', 'a3361', 'a2084', 'a1205', 'a2838', 'm863', 'a3588', 'a2270', 'a918', 'a1393', 'm1307', 'm467', 'a2350', 'a309', 'a1971', 'a1473', 'a2232', 'a1946', 'a1947', 'a2131', 'a1085', 'a428', 'a283', 'a681', 'm660', 'a2790', 'm456', 'm725', 'a486', 'a2549', 'a2766', 'm1161', 'm62', 'a112', 'a1211', 'a2750', 'm64', 'a53', 'a368', 'a1090', 'a832', 'm133', 'a769', 'm641', 'm1057', 'a89', 'a1511', 'a2370', 'a206', 'm237', 'a2599', 'm269', 'a1094', 'm516', 'a1538', 'a985', 'm382', 'a1601', 'a2241', 'm461', 'a621', 'm140', 'a772', 'a1124', 'a3219', 'a1617', 'a1443', 'a1109', 'a499', 'm519', 'm734', 'a1312', 'a1551', 'a3616', 'm4', 'm7', 'a1516', 'a2403', 'm1006', 'a1604', 'm504', 'a946', 'a1365', 'a2525', 'a2088', 'a708', 'a3078', 'a1146', 'a1110', 'a1830', 'a1862', 'a827', 'a1332', 'a1292', 'm896', 'a2804', 'a1581', 'a828', 'a1623', 'a210', 'm1247', 'a3349', 'a2908', 'a371', 'a749', 'm664', 'a829', 'a104', 'm503', 'a811', 'a955', 'm392', 'a3215', 'a119', 'm484', 'a1544', 'a3046', 'a103', 'a3280', 'm437', 'm868', 'a478', 'a550', 'm1179', 'a1175', 'a3485', 'a1580', 'm1368', 'm488', 'm279', 'm470', 'a1938', 'a2793', 'a1122', 'a1649', 'm1180', 'a1369', 'a236', 'a3407', 'm1235', 'a1587', 'a1599', 'a70', 'a657', 'a784', 'a1632', 'a3672', 'a1182', 'a1855', 'm612', 'a2819', 'm732', 'a1097', 'a2803', 'a2198', 'a3446', 'a2649', 'a615', 'a2076', 'a439', 'a229', 'a156', 'a162', 'a592', 'a1448', 'a2943', 'm261', 'a1172', 'a1233', 'm337', 'a2299', 'a2658', 'm1381', 'a299', 'a3060', 'a2345', 'm950', 'a6', 'm1289', 'a2336', 'a1121', 'a1235', 'a230', 'm663', 'a732', 'a2402', 'a128', 'a2204', 'm887', 'm779', 'a1532', 'a3294', 'a1339', 'a1092', 'a656', 'a2782', 'a1081', 'a548', 'a1478', 'a261', 'a3413', 'a1940', 'a857', 'a1418', 'a754', 'm1105', 'a473', 'a1204', 'a541', 'a733', 'a253', 'a1112', 'a490', 'm533', 'm1342', 'a3208', 'a3256', 'a1664', 'a16', 'm1321', 'm41', 'a1259', 'a1463', 'a845', 'm435', 'a1343', 'a1102', 'm542', 'a2734', 'a1238', 'a3489', 'a2170', 'a2075', 'a2086', 'm1165', 'a408', 'm961', 'm501', 'a2112', 'a2048', 'a255', 'a1474', 'a506', 'm1115', 'a552', 'a483', 'a284', 'a139', 'a1257', 'a1180', 'a3475', 'a1469', 'a2805', 'a344', 'a2215', 'a799', 'a3428', 'a1679', 'a1680', 'a1550', 'a2694', 'a2191', 'a860', 'a2498', 'a1194', 'a1493', 'a3077', 'a3371', 'a1316', 'a505', 'a2004', 'm10', 'a2398', 'm457', 'a1515', 'm869', 'm1363', 'm1042', 'a1510', 'a3393', 'a1421', 'a1504', 'a3003', 'a2806', 'm1141', 'a2205', 'a825', 'a750', 'a3053', 'a1273', 'a1162', 'a2354', 'a1462', 'a2147', 'a2214', 'a2849', 'a3381', 'a3531', 'a740', 'a148', 'a872', 'a418', 'a2672', 'a504', 'a1865', 'a330', 'a1794', 'a1075', 'a591', 'a751', 'a3058', 'a644', 'a2083', 'a3048', 'a3345', 'a1321', 'm473', 'a3262', 'a2047', 'a2722', 'a897', 'a28', 'a2003', 'm619', 'a1357', 'a2335', 'a1539', 'a1525', 'm555', 'a238', 'a3281', 'a1253', 'a125', 'a1619', 'a286', 'a1795', 'm98', 'a150', 'a2920', 'a2121', 'a2506', 'a712', 'a1598', 'm505', 'a2889', 'a2267', 'a3232', 'a2471', 'm258', 'm462', 'm549', 'a1925', 'a2718', 'a3049', 'a3034', 'a2478', 'm906', 'a96', 'm35', 'a207', 'a3234', 'm68', 'a320', 'a2768', 'a373', 'a3005', 'a3010', 'a1665', 'a760', 'a454', 'm422', 'a567', 'a3091', 'a729', 'a726', 'a684', 'a687', 'a742', 'a551', 'a1939', 'm202', 'a979', 'a1964', 'a1380', 'm463', 'm517', 'a1188', 'a1662', 'a3252', 'a1298', 'a3019', 'a1657', 'a3069', 'a333', 'a2396', 'a3432', 'a2391', 'a2627', 'a3408', 'a1708', 'a877', 'a1606', 'a507', 'a2246', 'm1299', 'a335', 'a2933', 'a941', 'a1967', 'a637', 'a452', 'a2290', 'a1495', 'a617', 'a3087', 'a2980', 'a700', 'a2764', 'm588', 'a1912', 'a2692', 'a3051', 'm634', 'a2412', 'a1519', 'a331', 'a1543', 'a1334', 'm509', 'a2583', 'a259', 'a3045', 'a3011', 'a3039', 'a329', 'a2252', 'a147', 'a2535', 'a3575', 'a916', 'a2930', 'a375', 'a1420', 'a752', 'a759', 'a639', 'a518', 'a704', 'a2141', 'a646', 'a635', 'a935', 'a3050', 'a3086', 'a903', 'a2344', 'a1648', 'a2651', 'a690', 'm1306', 'a2091', 'm368', 'a3056', 'a487', 'm1362', 'a3312', 'a2192', 'a2314', 'a1327', 'm1054', 'a141', 'a539', 'a831', 'a1230', 'a1269', 'a2219', 'a3579', 'm935', 'a318', 'a3389', 'a1419', 'a379', 'a945', 'a2035', 'a1379', 'a2164', 'm123', 'a3530', 'a2406', 'm183', 'a669', 'a741', 'a1154', 'a1641', 'a1258', 'a1265', 'a3438', 'a430', 'a1992', 'a1165', 'a748', 'm479', 'a1388', 'a3061', 'a2104', 'a269', 'a2545', 'a2494', 'a2992', 'a336', 'm871', 'a493', 'a1660', 'a2247', 'a328', 'a1397', 'a1503', 'a1501', 'a3014', 'a247', 'a2512', 'a3384', 'a108', 'a2935', 'a685', 'a727', 'a723', 'a3204', 'a2518', 'a779', 'a2197', 'a1713', 'a3288', 'm749', 'a2870', 'a429', 'a1307', 'a3293', 'a1242', 'a334', 'a3023', 'a1686', 'a345', 'a2967', 'a2234', 'a2951', 'a2952', 'a1136', 'a163', 'm471', 'a2271', 'a1389', 'm72', 'a322', 'a66', 'a1064', 'a3022', 'a3004', 'a2490', 'a523', 'a463', 'a785', 'a1387', 'a721', 'a667', 'm412', 'a934', 'a1126', 'a3062', 'a3071', 'a3047', 'a2540', 'a1107', 'a1449', 'a1710', 'a1934', 'a926', 'a1609', 'a1931', 'a1347', 'a342', 'a1984', 'a3035', 'a3028', 'a2186', 'a3059', 'a1243', 'm9', 'a2647', 'm58', 'm548', 'a3409', 'a155', 'a1368', 'a3211', 'a3478', 'a3660', 'a341', 'a2911', 'a380', 'a2984', 'a3025', 'a3024', 'a2981', 'a2997', 'a757', 'a2564', 'a2839', 'a250', 'a2917', 'a2915', 'a574', 'a2096', 'a3394', 'a713', 'a3084', 'a3090', 'a693', 'a682', 'a2818', 'a648', 'a3072', 'a485', 'a649', 'a3594', 'a822', 'a1148', 'a1337', 'm678', 'a636', 'a3040', 'a470', 'a3338', 'a1678', 'a3220', 'm502', 'a1266', 'm817', 'm480', 'm567', 'a1552', 'a3068', 'a1585', 'a2987', 'a607', 'a3055', 'a2985', 'a919', 'a272', 'a1326', 'a787', 'a1260', 'a321', 'a1263', 'a1499', 'a1793', 'a1582', 'm489', 'a1009', 'a445', 'a100', 'a2885', 'a433', 'a720', 'a688', 'a414', 'a522', 'a3283', 'm197', 'a953', 'a2562', 'm510', 'a3233', 'a3066', 'm404', 'a3192', 'a1303', 'a1464', 'a1429', 'm543', 'a2991', 'a3537', 'a1722', 'a266', 'a2964', 'a2999', 'a14', 'a3351', 'a126', 'm955', 'a1720', 'a131', 'a1729', 'm752', 'a1583', 'm751', 'm1242', 'a2986', 'a3021', 'a753', 'a765', 'a63', 'a1285', 'a819', 'a983', 'a553', 'a764', 'a728', 'a762', 'a686', 'a680', 'a707', 'a689', 'a2077', 'a3079', 'm1109', 'a698', 'a1565', 'a881', 'a3661', 'm747', 'a956', 'm872', 'a3057', 'm597', 'm266', 'a3073', 'a3076', 'a1777', 'a1444', 'a1335', 'a1948', 'a1452', 'a492', 'a1637', 'a244', 'a340', 'a338', 'm827', 'a3017', 'a2824', 'a3036', 'a1881', 'a2079', 'a2936', 'a3026', 'a2963', 'a3080', 'm2', 'a1659', 'a2218', 'a867', 'a262', 'a323', 'a1790', 'a1497', 'a2983', 'a2996', 'a395', 'a1520', 'a451', 'a265', 'a3592', 'm314', 'a3199', 'a2504', 'a605', 'a756', 'a755', 'a725', 'a936', 'a3081', 'a722', 'm233', 'a2735', 'a2001', 'a1652', 'a940', 'a2948', 'a2695', 'a3227', 'a1734', 'a3064', 'a2358', 'a295', 'a367', 'a502', 'a2045', 'a2312', 'a3031', 'a3032', 'a3029', 'a1675', 'a3038', 'a3253', 'a2591', 'a270', 'a1876', 'a225', 'a3504', 'a2451', 'a2516', 'a616', 'a763', 'a2085', 'a248', 'a558', 'a3576', 'a2864', 'a715', 'a711', 'a652', 'a653', 'a697', 'a699', 'a948', 'a743', 'a1143', 'a2726', 'a788', 'a1248', 'a3', 'a933', 'a931', 'a954', 'a2721', 'a2945', 'a1745', 'a1103', 'a990', 'm497', 'a464', 'a770', 'a2284', 'a279', 'a1431', 'a1426', 'a1959', 'a3030', 'a3542', 'a1382', 'a585', 'a3013', 'a2962', 'a2968', 'a3074', 'a863', 'a293', 'a1630', 'a3457', 'a87', 'a117', 'a1356', 'a2332', 'a160', 'a894', 'a3471', 'a1128', 'a1994', 'a2900', 'a3016', 'a2989', 'a2990', 'a1579', 'a2280', 'a838', 'a2464', 'a3534', 'a2831', 'a2976', 'a3083', 'a683', 'a702', 'a1575', 'a668', 'a677', 'a719', 'a2600', 'm1254', 'm919', 'a1681', 'm474', 'a1295', 'a1887', 'a3380', 'a2644', 'a3052', 'a1683', 'a2894', 'a1960', 'm733', 'a3265', 'a2609', 'a995', 'a289', 'a1350', 'a2523', 'a2128', 'a3257', 'a1479', 'a3589', 'a3043', 'a2903', 'a2959', 'a1667', 'a3360', 'a2078', 'a82', 'a3496', 'a3415', 'a1767', 'a154', 'a376', 'a1791', 'a3008', 'a758', 'a447', 'a2918', 'a3657', 'a1286', 'a2278', 'a1099', 'a3089', 'a2977', 'a767', 'a691', 'a706', 'a744', 'a2364', 'a673', 'a670', 'a672', 'a718', 'a2087', 'a709', 'a659', 'a1531', 'm546', 'a991', 'a99', 'a3508', 'a944', 'a925', 'a939', 'a3201', 'a2459', 'a1694', 'a2910', 'a1082', 'm270', 'a422', 'a264', 'a2276', 'm1146', 'a2660', 'a275', 'a300', 'a3479', 'a1714', 'a337', 'a3184', 'a245', 'a1423', 'a1502', 'a1633', 'a3070', 'a898', 'a2294', 'm878', 'a2481', 'a237', 'a2064', 'a71', 'a1450', 'a2673', 'a2221', 'a2744', 'a2306', 'a912', 'a317', 'a3271', 'a1596', 'a3067', 'a246', 'a252', 'a257', 'a477', 'a476', 'a2924', 'a2857', 'a2861', 'm139', 'a3088', 'a634', 'a724', 'a650', 'a705', 'a1863', 'm217', 'a676', 'a675', 'a3065', 'a604', 'a2675', 'm235', 'a1589', 'a2195', 'a64', 'a842', 'a798', 'a1145', 'a1885', 'a952', 'a3085', 'a1818', 'a937', 'a1822', 'a2949', 'a3054', 'a1715', 'a273', 'a1046', 'a1149', 'a2738', 'a3443', 'a2116', 'a3255', 'a2442', 'a3075', 'a1434', 'a3027', 'a2206', 'a2970', 'a1514', 'a2237', 'a3549', 'a1936', 'a159', 'a2378', 'a220', 'a2310', 'a3269', 'a3063', 'm82', 'a3018', 'a3002', 'a302', 'a766', 'a1074', 'a444', 'a2456', 'a2730', 'a716', 'a2979', 'a679', 'a3422', 'a710', 'a73', 'a2259', 'a1191', 'a1614', 'a1537', 'a927', 'a1812', 'a2823', 'a1695', 'a2103', 'a1837', 'a2318', 'a1873', 'm554', 'a2866', 'a3666', 'a2362', 'a2122', 'a2666', 'a1161', 'a1738', 'a2931', 'a1433', 'a3000', 'a3042', 'a2954', 'a559', 'a1706', 'a1882', 'a1894', 'a746', 'a2175', 'a274', 'a3520', 'a25', 'a1970', 'a84', 'a738', 'a1254', 'a1212', 'm562', 'a2624', 'a140', 'a3514', 'a158', 'a3455', 'a3578', 'a2308', 'a343', 'a1792', 'a2998', 'a1821', 'a458', 'a475', 'a895', 'a2886', 'a2888', 'a2902', 'a2842', 'a1762', 'a1690', 'a2729', 'a1751', 'a2973', 'a3429', 'a642', 'a2080', 'a441', 'a2874', 'a1833', 'a1779', 'a2858', 'a1163', 'a3037', 'a745', 'a2377', 'a2947', 'a1104', 'a562', 'm506', 'a1597', 'a1871', 'a3426', 'a2334', 'a294', 'a1979', 'a327', 'a2049', 'a2871', 'a2867', 'a2046', 'a2778', 'a3602', 'm604', 'a2794', 'a2066', 'a2982', 'a339', 'a2965', 'a121', 'a80', 'a2556', 'a2357', 'a2363', 'a1251', 'a1250', 'a1843', 'm828', 'a161', 'a1096', 'a883', 'a2307', 'a847', 'a311', 'm736', 'a366', 'a3006', 'a2994', 'a396', 'a1819', 'a610', 'a1062', 'a2489', 'a556', 'a2499', 'a900', 'a2601', 'a2728', 'a3654', 'a2020', 'a694', 'a696', 'a703', 'a1576', 'a674', 'm889', 'a75', 'a86', 'a78', 'a2376', 'a2846', 'm979', 'a1839', 'a1276', 'a2702', 'a982', 'a3569', 'a1897', 'a1813', 'a3538', 'a1153', 'a1949', 'a2282', 'a1588', 'a2758', 'a2869', 'a2859', 'a810', 'a2421', 'a1425', 'a1430', 'a1424', 'a3012', 'a2884', 'a2610', 'a2919', 'a2786', 'a3041', 'a2969', 'a19', 'm8', 'a124', 'a24', 'a3447', 'a85', 'a2548', 'a2360', 'a3515', 'a216', 'a3477', 'a3599', 'a2309', 'a3379', 'a2248', 'a2957', 'a2993', 'a3020', 'a146', 'a2526', 'a457', 'a460', 'a2590', 'a1611', 'a547', 'a795', 'a1574', 'a2937', 'a1364', 'a394', 'a1886', 'm1318', 'a410', 'a561', 'a1200', 'a3486', 'a1283', 'a2617', 'a943', 'm861', 'a2296', 'a560', 'a3453', 'm870', 'a2528', 'a3606', 'a2279', 'a1682', 'a2611', 'a2779', 'a2281', 'a2756', 'a1594', 'a2667', 'a1159', 'a2082', 'a2343', 'a1427', 'a1422', 'a1432', 'a2598', 'a2467', 'a3195', 'a1684', 'a3491', 'a2893', 'a3516', 'a3532', 'a1883', 'a2519', 'a1896', 'a2966', 'a2961', 'a588', 'a3600', 'm844', 'a2550', 'a1922', 'a2798', 'a2763', 'a2810', 'a1187', 'a2582', 'a2629', 'a218', 'a2642', 'a2670', 'a21', 'a2944', 'a364', 'a735', 'a2521', 'a456', 'a2822', 'a2594', 'a837', 'a2457', 'a1290', 'a858', 'a1395', 'a2865', 'a2974', 'a643', 'a2462', 'a2256', 'm400', 'a1554', 'a2257', 'a1895', 'a878', 'a2640', 'a1820', 'a2493', 'a2876', 'a2339', 'a1318', 'a602', 'a420', 'a3188', 'a2283', 'a2559', 'a1874', 'a2260', 'a1685', 'a2625', 'a1547', 'a2754', 'a254', 'a263', 'm500', 'a312', 'a2774', 'a2780', 'a611', 'a2324', 'a1390', 'a2853', 'a3517', 'a508', 'a3202', 'a2701', 'a417', 'a2925', 'a2875', 'a2789', 'a2698', 'a3490', 'a1721', 'a1869', 'a2905', 'a2662', 'a2210', 'a76', 'a2723', 'a3015', 'a2995', 'a3007', 'a2070', 'a2073', 'm776', 'a3320', 'a2437', 'a17', 'a234', 'a77', 'a2368', 'a2737', 'a1923', 'a3541', 'a3482', 'a3605', 'a1261', 'a3330', 'a849', 'a1634', 'a2515', 'a271', 'a2522', 'a612', 'a3273', 'a2907', 'a258', 'a1345', 'a3323', 'a641', 'a1814', 'a1916', 'a446', 'a3301', 'a2401', 'a2148', 'a1756', 'a3225', 'a1625', 'a1905', 'a580', 'a2975', 'a651', 'a3228', 'a734', 'a957', 'a671', 'a739', 'a647', 'a660', 'm432', 'a557', 'a1786', 'a1255', 'a1999', 'a1838', 'a864', 'a2138', 'a2800', 'a1688', 'a2458', 'a2620', 'a3189', 'a3187', 'a281', 'a455', 'a1311', 'a2664', 'a1274', 'a423', 'a2760', 'a3358', 'a3399', 'a3310', 'a2661', 'a2098', 'a3512', 'a544', 'a2369', 'a2767', 'a1309', 'a3275', 'a549', 'a2960', 'a2988', 'a3562', 'a3009', 'm1171', 'a2333', 'a2592', 'a3456', 'm1053', 'a79', 'a2300', 'a2012', 'a3309', 'a1284', 'a2155', 'a1270', 'a1460', 'a3632', 'a2249', 'a873', 'a305', 'a298', 'a3270', 'a2941', 'a761', 'a145', 'a2953', 'a459', 'a2892', 'a2921', 'a521', 'm838', 'a2463', 'a2404', 'a2509', 'a2731', 'a2090', 'a1908', 'a632', 'a701', 'a1118', 'a1367', 'a664', 'a2852', 'a1144', 'a1610', 'a3197', 'a2261', 'a3539', 'a1613', 'a1831', 'a1127', 'a2348', 'a2394', 'a2958', 'a403', 'a1892', 'a2776', 'a2878', 'a578', 'a1322', 'a2544', 'a448', 'a1956', 'a2414', 'a1868', 'a2217', 'a268', 'a282', 'a2759', 'a543', 'a2860', 'a1240', 'a1832', 'a2159', 'a1351', 'a1348', 'a3311', 'a278', 'a2671', 'a1372', 'a2762', 'a662', 'a2787', 'a1875', 'a1304', 'a2828', 'a3511', 'a2855', 'a3573', 'a2883', 'a2411', 'a3001', 'a1049', 'a29', 'a3449', 'a1974', 'a1920', 'a1210', 'a1209', 'a3494', 'a3540', 'a133', 'a3357', 'a2405', 'a2488', 'a2303', 'a240', 'a1451', 'a3377', 'a2242', 'a241', 'a2796', 'a256', 'a1969', 'a3299', 'a402', 'a2517', 'a1239', 'a453', 'a2380', 'a3347', 'a583', 'a1171', 'a164', 'a2897', 'a2895', 'a2450', 'a546', 'a1696', 'a2151', 'a1213', 'a2724', 'a2727', 'a1952', 'a2264', 'a2266', 'a2872', 'a1577', 'a2848', 'a731', 'a2503', 'a661', 'a2524', 'a2757', 'a1534', 'a2010', 'a1627', 'a3617', 'a524', 'a242', 'a2821', 'a2833', 'a2395', 'a3663', 'a3658', 'a932', 'a929', 'a938', 'a3223', 'a2950', 'a2605', 'a1105', 'a1108', 'a1086', 'a2588', 'a3186', 'a2485', 'a3554', 'a2365', 'a1755', 'a1218', 'a2189', 'a1638', 'a307', 'a2229', 'a3548', 'a2898', 'a517', 'a1854', 'a1856', 'a2699', 'a290', 'a3277', 'a2043', 'a1935', 'a1529', 'a2809', 'a2167', 'a3670', 'a2909', 'a2065', 'a2413', 'a654', 'a3194', 'a297', 'a1568', 'a296', 'a1975', 'a2554', 'a2553', 'a2304', 'a2381', 'a1921', 'a1360', 'a2420', 'a2415', 'a1728', 'a1724', 'a120', 'a2765', 'a1570', 'a2641', 'a3476', 'a2676', 'a500', 'a3631', 'a1655', 'a3374', 'a1215', 'a404', 'a401', 'a2142', 'a3665', 'a2470', 'a2832', 'a479', 'a2483', 'a2923', 'a2887', 'a2826', 'a1624', 'a3466', 'a3385', 'a2455', 'a105', 'a2732', 'a3580', 'a1629', 'a2868', 'a3487', 'a3423', 'a3464', 'a3433', 'a737', 'a74', 'a830', 'a1147', 'a1559', 'a2040', 'm181', 'a2042', 'a2089', 'a2258', 'a1852', 'a2101', 'a3313', 'a1378', 'a2438', 'a3553', 'a3291', 'a1759', 'a3566', 'a1727', 'a2193', 'a3353', 'a2881', 'a2163', 'a424', 'a1151', 'a2797', 'a3454', 'a1753', 'a1950', 'm1312', 'a249', 'a1341', 'a2612', 'a542', 'a2052', 'a1167', 'a2311', 'a1160', 'a3224', 'a1586', 'a3258', 'a529', 'a1944', 'a1374', 'a3547', 'a2926', 'm1087', 'a3276', 'a908', 'a2703', 'a2129', 'a3082', 'a545', 'a2904', 'a2740', 'a2663', 'a2445', 'a3463', 'a2593', 'a301', 'm56', 'a3460', 'a3458', 'a2136', 'a2173', 'a2808', 'a3356', 'a2382', 'a597', 'a2630', 'a892', 'a2482', 'a2153', 'a1461', 'a1562', 'a2674', 'a496', 'a498', 'a512', 'a879', 'a308', 'a1605', 'a2807', 'a276', 'a2111', 'a143', 'a692', 'a2916', 'a2928', 'a2596', 'a2597', 'a555', 'a3601', 'a565', 'a2581', 'a537', 'a2507', 'a1297', 'a1945', 'a2022', 'a826', 'a2862', 'm867', 'a2847', 'a666', 'a3406', 'a292', 'a1628', 'a514', 'a2041', 'a2733', 'a3535', 'a2213', 'a3290', 'a843', 'a2422', 'a2100', 'a3314', 'a1941', 'a853', 'a3662', 'a3198', 'a2850', 'a3459', 'a949', 'a2034', 'a2773', 'a2105', 'a1572', 'a2466', 'a3674', 'a2423', 'a2352', 'a2659', 'a304', 'a2320', 'a3185', 'a1811', 'a902', 'a2176', 'a2495', 'a1872', 'a2633', 'a2207', 'a2761', 'a2293', 'a1330', 'a1642', 'a2747', 'a303', 'a2484', 'a2514', 'm454', 'a3222', 'a1289', 'a409', 'a3450', 'a1314', 'a2527', 'a1955', 'a3644', 'a1472', 'a1561', 'a2817', 'a586', 'a2873', 'a2183', 'a1228', 'a3340', 'a1674', 'a2771', 'a2955', 'm806', 'a1890', 'a2558', 'a2209', 'a2743', 'a2366', 'a3468', 'a1889', 'a3546', 'a2835', 'a554', 'a2068', 'm1', 'm28', 'a1252', 'm374', 'a2424', 'a3352', 'a3355', 'a1342', 'a2379', 'a3461', 'a3474', 'a3469', 'a227', 'a2272', 'a2250', 'a219', 'a2386', 'a618', 'a326', 'a3570', 'm107', 'a405', 'a1093', 'a1965', 'a467', 'a2165', 'a2816', 'a1169', 'a2501', 'a3536', 'a2753', 'a3583', 'a3420', 'a1903', 'a2815', 'a1264', 'a1902', 'a2468', 'a658', 'a783', 'a1591', 'a533', 'a814', 'a3318', 'a824', 'a132', 'a2353', 'a3638', 'a1344', 'a1166', 'a2486', 'a1888', 'a951', 'a1816', 'a747', 'a2317', 'a1197', 'm864', 'a1545', 'a151', 'm1315', 'a2639', 'a2637', 'a1735', 'a600', 'a1951', 'a2178', 'a3444', 'a2604', 'a2277', 'a3287', 'a3229', 'a1853', 'a1732', 'a1569', 'a2019', 'a1189', 'a1961', 'a2513', 'a3316', 'm1056', 'a2538', 'a2635', 'a3190', 'a1549', 'a2487', 'a2469', 'a1080', 'a494', 'a497', 'a2263', 'a1428', 'a2880', 'a1234', 'a2050', 'a1491', 'a2053', 'a1132', 'a3513', 'a2497', 'a1488', 'a3550', 'a480', 'a3502', 'a3500', 'a1282', 'a2608', 'a3581', 'a509', 'a2784', 'a2212', 'a1884', 'a2843', 'a1315', 'a530', 'a2922', 'a1661', 'a277', 'a135', 'a235', 'a3214', 'a1358', 'a3543', 'a3545', 'a2653', 'a2626', 'a1439', 'a2158', 'a2039', 'a224', 'a1383', 'a2657', 'a2384', 'a3335', 'a2927', 'a1417', 'a614', 'a2145', 'a3402', 'a2511', 'a1237', 'a1168', 'a288', 'a917', 'a2906', 'a519', 'a1689', 'a1392', 'a1394', 'a566', 'a589', 'a3572', 'a2275', 'a2177', 'a1216', 'a1219', 'a2107', 'a1828', 'a1932', 'a2152', 'a2292', 'a1998', 'a1988', 'a2286', 'a851', 'a2648', 'a532', 'a1827', 'a2681', 'a1817', 'a1815', 'm823', 'a1217', 'a2946', 'a2877', 'a3625', 'a1612', 'a2244', 'a1723', 'a419', 'a2302', 'a2552', 'a2551', 'a1870', 'a1456', 'a1441', 'a3200', 'a1567', 'a1183', 'a1319', 'a130', 'a1231', 'a2683', 'a2274', 'a1277', 'a1914', 'a2769', 'a2555', 'a1789', 'a1522', 'a3424', 'a3354', 'a2510', 'a3642', 'a2013', 'a1900', 'a2801', 'a3329', 'a2547', 'a1736', 'a663', 'a3285', 'a2563', 'a1221', 'a2285', 'a1726', 'a2428', 'a1981', 'a2891', 'a582', 'a3419', 'a2288', 'a2791', 'a3552', 'a2447', 'a1801', 'a2072', 'a2397', 'a1193', 'a2392', 'a3278', 'a223', 'a3470', 'a3473', 'a2130', 'a3213', 'a2530', 'a2956', 'a2705', 'a2144', 'a1834', 'a564', 'a474', 'a2287', 'a1173', 'a1206', 'a3506', 'a3507', 'a122', 'a2595', 'a1482', 'a2505', 'a584', 'a572', 'a2149', 'a823', 'a3668', 'a2508', 'a3584', 'a3421', 'a1904', 'a72', 'a3366', 'a3178', 'a1966', 'a469', 'a2255', 'a1918', 'a1717', 'a2168', 'a833', 'a65', 'a2574', 'a1336', 'a3440', 'a981', 'a1752', 'a1323', 'a1826', 'a906', 'a2475', 'a1893', 'a958', 'a2182', 'a471', 'a2021', 'a3437', 'a1224', 'a1111', 'a3627', 'a465', 'a1287', 'a1700', 'a3206', 'a1089', 'a1320', 'a601', 'a2202', 'm499', 'a2110', 'a1152', 'a1954', 'a1521', 'a3655', 'a2668', 'a1184', 'm541', 'm478', 'a1760', 'a3483', 'a1930', 'a1098', 'a1275', 'a2634', 'a3350', 'a3503', 'a2777', 'a2685', 'a1278', 'a1156', 'a1155', 'a1987', 'a3582', 'a1296', 'a1666', 'a2188', 'a2751', 'a2752', 'a2783', 'a3319', 'a3435', 'a1958', 'a3480', 'a2408', 'a3645', 'a1346', 'a1113', 'a2736', 'a1618', 'a2187', 'a2741', 'a3308', 'a1528', 'a3492', 'a3442', 'a3586', 'a2359', 'a3344', 'a2686', 'a2356', 'a489', 'a2717', 'a2795', 'a2882', 'a2069', 'a23', 'a260', 'a2033', 'a233', 'a2231', 'a2419', 'a2417', 'a1866', 'a1771', 'a2430', 'a2062', 'a2407', 'a3400', 'a3218', 'a2154', 'a861', 'a3630', 'a3635', 'a3557', 'a3430', 'a2586', 'a3390', 'a142', 'a3236', 'a2912', 'a2465', 'a2748', 'a1476', 'a3544', 'a436', 'a2546', 'a1654', 'a839', 'a817', 'a2536', 'a2433', 'a3495', 'a1850', 'a1851', 'a1848', 'a114', 'a1267', 'a3567', 'a1711', 'a3659', 'a1310', 'a1824', 'a2093', 'a1546', 'a2645', 'a2841', 'm257', 'a3175', 'a1486', 'a1535', 'a1765', 'a2097', 'a2656', 'a1465', 'a3656', 'a2185', 'a1117', 'a2679', 'a3462', 'a513', 'a1302', 'a2254', 'a1157', 'a2341', 'a914', 'a1245', 'a1353', 'a3522', 'a526', 'a619', 'a3259', 'a495', 'a1331', 'a1985', 'a3551', 'a1776', 'a3300', 'a1986', 'a2439', 'a3640', 'a2716', 'a2879', 'a2180', 'a1459', 'a1010', 'a3524', 'a3341', 'a2230', 'a2565', 'm953', 'a3395', 'a2474', 'a1829', 'a2245', 'a2913', 'a2067', 'a2781', 'a3317', 'a2432', 'a2446', 'a481', 'a2632', 'a3033', 'a2896', 'a1742', 'a310', 'a2227', 'a1050', 'a2440', 'a3619', 'a27', 'a3521', 'a2289', 'a2385', 'a1208', 'a1129', 'a102', 'a1190', 'a3364', 'a2579', 'a2291', 'm48', 'a869', 'a1526', 'a511', 'a889', 'a2585', 'a324', 'a2051', 'a2578', 'a2329', 'a1943', 'a3499', 'a2825', 'a3346', 'a2890', 'a3519', 'a569', 'a579', 'a2313', 'a2829', 'a60', 'a1279', 'a3217', 'a2426', 'a67', 'a809', 'a3488', 'a3339', 'a1719', 'a3649', 'a852', 'a2143', 'a3614', 'a730', 'a888', 'a2269', 'a1823', 'a2092', 'a2224', 'a622', 'a1699', 'a2606', 'm858', 'a421', 'a2268', 'a1471', 'a1860', 'a1447', 'a2315', 'a2150', 'a2568', 'a2372', 'a3604', 'a1480', 'a1687', 'a1371', 'a2031', 'a1084', 'a2631', 'a3210', 'a3193', 'a3177', 'a2500', 'a3671', 'a2199', 'a1608', 'a3629', 'a1846', 'a1757', 'a1647', 'a1584', 'a1953', 'a1355', 'a2429', 'a3260', 'a2541', 'a1523', 'm741', 'a1455', 'a1712', 'm1137', 'a2622', 'a3427', 'a3295', 'm1203', 'a786', 'a1542', 'a2745', 'a2118', 'a1836', 'a1398', 'a540', 'a3560', 'a2746', 'a2770', 'a3176', 'a426', 'a1749', 'a2680', 'a3322', 'a113', 'a2749', 'a3585', 'a1725', 'a2704', 'a287', 'a3523', 'a2477', 'a2383', 'a2830', 'a1867', 'm33', 'a2480', 'a3307', 'a3282', 'a2678', 'a862', 'a3624', 'm66', 'a2174', 'a2390', 'a3272', 'a3321', 'a3302', 'a2108', 'm110', 'a1055', 'a2472', 'a1174', 'a2427', 'a1691', 'a1697', 'a2502', 'a2940', 'a2017', 'a3664', 'a3387', 'a2542', 'a1509', 'a594', 'a2162', 'a55', 'a432', 'a2216', 'a2573', 'a2845', 'a2036', 'a3628', 'a1477', 'a3568', 'a3448', 'a947', 'a2190', 'a2126', 'a2226', 'a3484', 'a3336', 'a118', 'a1692', 'a2899', 'a2914', 'a2529', 'a2520', 'a573', 'a577', 'a1743', 'a1968', 'a2619', 'a1007', 'a2113', 'a1768', 'a2410', 'a2238', 'm730', 'a1053', 'a2037', 'a3327', 'a536', 'a1636', 'a1787', 'm553', 'a3296', 'a1116', 'a1134', 'a1220', 'a3337', 'a2081', 'a1236', 'a3304', 'a3209', 'a1352', 'a1564', 'a2322', 'a1616', 'a2901', 'a1135', 'a1489', 'a3183', 'a3180', 'a3303', 'a2613', 'a3263', 'a57', 'a2687', 'a2115', 'a2228', 'a2700', 'a2799', 'a3563', 'a2811', 'a1548', 'a1645', 'a2618', 'a3533', 'a606', 'a2775', 'a111', 'a2978', 'a1527', 'a4', 'a2444', 'a2184', 'a2008', 'a83', 'a91', 'a3405', 'm232', 'a2135', 'a1540', 'a2436', 'a1858', 'a1845', 'a3451', 'a3452', 'a1247', 'a2156', 'a2677', 'a876', 'a54', 'a3626', 'a1864', 'a1917', 'a3235', 'a68', 'a1391', 'a2018', 'a2028', 'a3418', 'a3620', 'a3634', 'a413', 'a1229', 'a61', 'a2099', 'a2200', 'a1333', 'a1054', 'a3595', 'a3182', 'a3623', 'a3348', 'a2166', 'a2616', 'a2373', 'a2253', 'a1445', 'a1481', 'a1761', 'a2029', 'a2614', 'a3510', 'a1640', 'a2297', 'a1982', 'a1186', 'a3639', 'a3289', 'a3221', 'a1646', 'a3196', 'a1349', 'a1354', 'a3226', 'a1778', 'a1457', 'a2473', 'a3597', 'a1927', 'a2827', 'a2025', 'a515', 'a1644', 'a846', 'a2109', 'm842', 'a3425', 'a1701', 'a2682', 'a2566', 'a2240', 'a2813', 'a3481', 'a1142', 'a608', 'a568', 'a1915', 'a2074', 'a2071', 'a1656', 'a2532', 'a26', 'a2431', 'a2690', 'a2693', 'a2434', 'a3363', 'a3397', 'a2337', 'a3216', 'a3472', 'a884', 'a1557', 'a1603', 'a3636', 'a3637', 'a3392', 'a1485', 'a2856', 'a3391', 'a3230', 'a1272', 'a3612', 'a1775', 'a2161', 'a1202', 'a2435', 'a2492', 'a2002', 'a1772', 'a3577', 'a3593', 'a1991', 'a3633', 'a2697', 'a781', 'a1703', 'a3284', 'a576', 'a1972', 'a1370', 'm748', 'a2615', 'a1101', 'a1733', 'a1466', 'a1506', 'a1880', 'a2326', 'a2628', 'a3401', 'a1306', 'a1929', 'a1857', 'a1842', 'a2418', 'a3556', 'a2102', 'a3266', 'a1293', 'a866', 'a1957', 'a3445', 'a1317', 'a3528', 'a3376', 'a3669', 'a1541', 'a2621', 'a3574', 'a848', 'a2325', 'a3598', 'a3412', 'a2691', 'a2561', 'a890', 'a2863', 'a1668', 'a2684', 'a2669', 'a1898', 'a3498', 'a3298', 'a3565', 'a2942', 'a2844', 'a587', 'a3646', 'a10', 'a2', 'a2409', 'a2576', 'a2006', 'a97', 'm1371', 'a1841', 'a1840', 'a1769', 'a840', 'a2636', 'a1774', 'a3274', 'a3590', 'a3382', 'a3404', 'a2580', 'a1744', 'a2575', 'a510', 'm167', 'a804', 'a1201', 'a2837', 'a1989', 'a1990', 'a1780', 'a1709', 'a2319', 'a1140', 'a1199', 'a3526', 'a3555', 'a2032', 'a3231', 'a2972', 'a3297', 'a437', 'a2236', 'a1056', 'a1446', 'a2557', 'a1754', 'a1737', 'a3334', 'a2223', 'a1643', 'a1325', 'a3558', 'a1241', 'a3383', 'a802', 'a2496', 'a2346', 'a3467', 'a1375', 'a3641', 'a3603', 'm570', 'a793', 'a2443', 'a2014', 'a3333', 'a2655', 'a2330', 'a3559', 'a2742', 'a3332', 'a1059', 'a2589', 'a2603', 'a2441', 'a2689', 'a3410', 'a3292', 'a1937', 'a2005', 'a1705', 'm617', 'm24', 'a2172', 'a2235', 'a2696', 'a2132', 'm895', 'm620', 'a1602', 'a2387', 'a1663', 'a3611', 'a62', 'a520', 'a2106', 'a1847', 'a3650', 'a468', 'a1702', 'a1013', 'a2243', 'a2623', 'a1788', 'a3615', 'a3324', 'a3191', 'a2543', 'a3527', 'a3465', 'a1517', 'a2211', 'a2114', 'a868', 'a2027', 'a3268', 'a3596', 'a3501', 'a1621', 'a1978', 'a2063', 'a1739', 'a3398', 'a1891', 'a3212', 'a2834', 'a1470', 'a527', 'a2560', 'a2124', 'm1317', 'a1996', 'a1571', 'a209', 'a1453', 'a2654', 'a2453', 'a2688', 'a1899', 'a3652', 'a3613', 'a3653', 'a3648', 'a1849', 'a3286', 'a2340', 'm251', 'a2638', 'a1878', 'a2569', 'a1555', 'a3622', 'a1158', 'a3325', 'a1906', 'a1650', 'a1299', 'a2015', 'a3261', 'a3621', 'a2265', 'a482', 'a3497', 'a2650', 'a2607', 'a1631', 'a1747', 'a2026', 'a2389', 'a2220', 'a609', 'a2584', 'a7', 'a1844', 'a1770', 'a3362', 'a3591', 'a2454', 'a1913', 'a1909', 'a1288', 'a3205', 'a1698', 'a2201', 'a1741', 'a1861', 'a2449', 'a2537', 'a528', 'a1651', 'a2643', 'a882', 'a1764', 'a3328', 'a2137', 'a1620', 'a3267', 'a2571', 'a1653', 'a3525', 'a1859', 'a2570', 'a2531', 'a3264', 'a2425', 'a3564', 'a3643', 'a2196', 'a2157', 'a3509', 'a3618', 'a2095', 'a2160', 'a1578', 'a1707', 'a2452', 'a1492', 'a1928', 'a2371', 'a3587', 'a1879', 'a3673', 'a3331', 'a2714', 'a2665', 'a2476', 'a3647', 'a3179', 'a2448', 'a3326', 'a3403', 'a993', 'a1746', 'a2321', 'a2652', 'a2117', 'a1980', 'a2251', 'a1740', 'a2739', 'a2123', 'a5', 'a3505', 'a1924', 'a9', 'a3279', 'a1198', 'a1475', 'a2194', 'a2023', 'a1573', 'a2533', 'a3571', 'a8', 'a2479', 'a1207', 'a2572', 'a1825', 'a2094', 'a2539', 'a3667', 'a3092', 'a907', 'a2120', 'a1977', 'a2331', 'a2567', 'a48', 'a3651', 'a870', 'a3093', 'a1300', 'a1942', 'a3343']\n"
          ]
        }
      ]
    },
    {
      "cell_type": "code",
      "metadata": {
        "id": "rJ-I8O4HzNAQ",
        "colab": {
          "base_uri": "https://localhost:8080/"
        },
        "outputId": "72adff7e-8d5e-46a0-ddb4-a63ef75135f8"
      },
      "source": [
        "from sklearn.cluster import KMeans\n",
        "\n",
        "cluster_list=[3,5,10,30,50,100,200,500]\n",
        "Cost=[]\n",
        "\n",
        "for cluster in cluster_list:\n",
        "  algo=KMeans(n_clusters=cluster)\n",
        "  algo.fit(N)\n",
        "  label=algo.labels_\n",
        "  dic=dict(zip(L,label))\n",
        "  cost_1=0\n",
        "  cost_2=0\n",
        "  for i in label:\n",
        "    ac_node = [k for k,v in dic.items() if v == i]\n",
        "    G1=nx.Graph()\n",
        "    for n in ac_node:\n",
        "      \n",
        "      sub_graph1 = nx.ego_graph(A,n)\n",
        "      G1.add_nodes_from(sub_graph1.nodes)\n",
        "      G1.add_edges_from(sub_graph1.edges())\n",
        "    \n",
        "    cost_1=+cost1(G1,cluster)\n",
        "    cost_2=+cost2(G1,cluster)\n",
        "\n",
        "  print(cost_1*cost_2)\n",
        "  Cost.append(cost_1*cost_2)"
      ],
      "execution_count": 28,
      "outputs": [
        {
          "output_type": "stream",
          "name": "stdout",
          "text": [
            "0.4634181601629053\n",
            "0.16662392683837254\n",
            "0.019950886648122394\n",
            "0.00031256422193422836\n",
            "3.714072693383038e-05\n",
            "6.911037011546084e-06\n",
            "1.2051505892623307e-06\n",
            "1.7916666666666666e-07\n"
          ]
        }
      ]
    },
    {
      "cell_type": "code",
      "metadata": {
        "id": "w9N2mLa4ABiX"
      },
      "source": [
        "cost_1=+cost1(G1,cluster)\n",
        "cost_2=+cost2(G1,cluster)"
      ],
      "execution_count": 29,
      "outputs": []
    },
    {
      "cell_type": "code",
      "metadata": {
        "colab": {
          "base_uri": "https://localhost:8080/"
        },
        "id": "xaFks1ubABm0",
        "outputId": "eabee439-864c-489a-b0d4-37563a1b1d92"
      },
      "source": [
        "print(cost_1*cost_2)\n",
        "Cost.append(cost_1*cost_2)"
      ],
      "execution_count": 30,
      "outputs": [
        {
          "output_type": "stream",
          "name": "stdout",
          "text": [
            "1.7916666666666666e-07\n"
          ]
        }
      ]
    },
    {
      "cell_type": "markdown",
      "metadata": {
        "id": "6xfTd3eOzooZ"
      },
      "source": [
        "<font color='blue'>Displaying similar actor clusters</font>"
      ]
    },
    {
      "cell_type": "code",
      "metadata": {
        "id": "MSwNPRctzerd"
      },
      "source": [
        "best_cluster=cluster_list[Cost.index(max(Cost))]"
      ],
      "execution_count": 31,
      "outputs": []
    },
    {
      "cell_type": "code",
      "metadata": {
        "colab": {
          "base_uri": "https://localhost:8080/"
        },
        "id": "046UFIro431y",
        "outputId": "455e1e50-57fe-4c57-a481-1e035ff664f4"
      },
      "source": [
        "best_cluster"
      ],
      "execution_count": 32,
      "outputs": [
        {
          "output_type": "execute_result",
          "data": {
            "text/plain": [
              "3"
            ]
          },
          "metadata": {},
          "execution_count": 32
        }
      ]
    },
    {
      "cell_type": "code",
      "metadata": {
        "colab": {
          "base_uri": "https://localhost:8080/"
        },
        "id": "RAw3vSrV46zw",
        "outputId": "a72d700a-7861-4913-9dab-c0e884a16856"
      },
      "source": [
        "from sklearn.cluster import KMeans\n",
        "k_means=KMeans(n_clusters=best_cluster)\n",
        "k_means.fit(N)\n",
        "print(k_means.cluster_centers_)"
      ],
      "execution_count": 33,
      "outputs": [
        {
          "output_type": "stream",
          "name": "stdout",
          "text": [
            "[[ 9.54607460e-02  5.99532485e-01  3.79215107e-01 -3.73679529e-01\n",
            "  -8.46609806e-02 -1.69769979e-01 -2.29452921e-02  2.32799534e-01\n",
            "  -2.51182783e-01  6.27938510e-04 -1.21437545e-01  4.03055856e-01\n",
            "  -2.18338233e-01  1.31905728e-02  2.00726148e-01  2.07471038e-02\n",
            "   9.80367482e-02 -2.35662888e-02 -5.26130794e-01  8.05199324e-02\n",
            "  -2.89087371e-01 -3.04105332e-01  7.30368155e-02  1.51088809e-01\n",
            "  -2.39291492e-01  9.07596538e-02  4.16188146e-01 -1.81508196e-02\n",
            "  -4.17059869e-03 -2.64620921e-02  1.25675689e-01 -1.66350179e-01\n",
            "   2.59854644e-01  2.89322731e-03 -4.74327062e-01  1.76162189e-02\n",
            "  -4.58555997e-01 -1.33361751e-01 -1.07807377e-01  9.45527920e-02\n",
            "  -4.77117593e-01 -2.55761125e-01  1.40315816e-01  6.47080711e-01\n",
            "   1.97436974e-01 -4.38139587e-01  5.22430153e-02 -2.69946514e-01\n",
            "   6.58499389e-02  2.80031521e-01  4.95228825e-02 -1.67023130e-01\n",
            "  -3.48707768e-02  3.58042567e-01 -1.57436243e-01 -1.19424823e-01\n",
            "  -1.79844404e-01 -5.30140052e-01 -6.05677192e-01  4.06630844e-01\n",
            "  -3.45966840e-01 -1.67793805e-01  2.01237118e-01 -5.99831368e-02\n",
            "   4.39903450e-01 -6.06832108e-02  6.87800305e-03  9.36709298e-02\n",
            "   2.94726386e-01  1.00217688e-01  3.12673019e-01  2.65999708e-02\n",
            "   7.91443934e-02 -4.76955867e-01  1.65353533e-01  2.35375012e-01\n",
            "   3.32330581e-01  4.48218167e-01 -7.05333926e-02 -2.00634310e-01\n",
            "   2.94484738e-01  6.35555409e-02  4.55050350e-03 -1.00483002e-01\n",
            "  -4.19793731e-01 -7.04811531e-02  1.69441704e-01  1.45572140e-01\n",
            "   5.52562323e-01  1.70096902e-01  1.97841252e-02  5.92959913e-02\n",
            "   1.27183242e-01 -2.29883641e-01  4.63110228e-01  1.24007381e-01\n",
            "   1.10746320e-01 -2.70541103e-01 -2.27366139e-01  6.46262111e-02\n",
            "   3.09664222e-02  3.40435240e-01  3.72050814e-02  3.85155263e-02\n",
            "   1.78080546e-01 -1.03371588e-01  1.78322454e-01 -1.94053375e-01\n",
            "  -2.63810347e-01 -4.24888186e-02  8.39282917e-02  4.32903381e-01\n",
            "  -1.14975044e-01  4.44468337e-02 -3.54368857e-01  1.84932964e-01\n",
            "  -4.56275630e-01  3.28409568e-01  5.89688360e-02  2.11379130e-01\n",
            "   2.32970879e-01  3.19835342e-01 -2.56398154e-01  1.21393596e-01\n",
            "   5.98505870e-02 -1.35271464e-01 -3.59245594e-01  1.08579749e-01]\n",
            " [-2.54349681e-02  2.12812602e-01  1.34941253e-01 -1.73470729e-01\n",
            "  -1.16199025e-01 -1.26948730e-02 -1.08043927e-02  5.92070253e-02\n",
            "  -1.15467562e-01 -8.00720359e-02 -2.85396533e-02  2.35770578e-01\n",
            "   4.67164679e-04  9.72136450e-02  1.26728897e-01 -2.16806369e-02\n",
            "  -1.25390573e-01 -3.63990547e-02 -2.53915558e-01  1.04701673e-01\n",
            "  -1.31128900e-01 -2.83695531e-02 -4.49540636e-02  9.39394226e-02\n",
            "  -5.77488003e-02  4.11110505e-02  1.29851544e-01 -1.63154994e-01\n",
            "  -6.43635004e-02 -4.36374752e-02  6.42113277e-02 -6.86156946e-03\n",
            "   1.99648731e-02 -8.64580639e-02 -1.85852427e-01  5.53942700e-02\n",
            "  -1.89649203e-01 -1.89368487e-01 -4.12125463e-02 -1.09342361e-01\n",
            "  -1.57809449e-01 -1.28001154e-01  4.71356070e-02  2.85659557e-01\n",
            "  -2.11438632e-02 -1.52971984e-01 -6.05785009e-02 -2.63945839e-02\n",
            "  -7.89081221e-02  4.20205887e-02 -7.46095936e-03 -1.30745491e-01\n",
            "   9.46664424e-02  2.29885433e-01 -1.50134687e-01 -1.04264122e-01\n",
            "  -2.03363611e-01 -3.34972736e-01 -2.09151332e-01  2.05653254e-01\n",
            "  -1.67168319e-01 -7.87531168e-02  7.41168779e-02  3.49661330e-02\n",
            "   1.55055839e-01  3.55264268e-02 -3.23949571e-02  4.58281644e-02\n",
            "   1.35328098e-01 -1.14270311e-01  1.56760972e-01  1.63541414e-01\n",
            "  -4.93908453e-02 -1.57643255e-01  9.94587389e-02  7.12324954e-02\n",
            "   1.30532950e-01  2.35057447e-01 -1.02198133e-01 -1.07740772e-01\n",
            "   1.86643498e-01  3.77191677e-02  9.59592163e-02 -7.57240116e-02\n",
            "  -1.19631018e-01 -1.62591817e-01  2.04314457e-01 -6.27329430e-03\n",
            "   1.44724656e-01  1.24520987e-01 -1.68235727e-02 -4.82857708e-02\n",
            "   1.30417273e-01 -1.11421189e-02  1.81791116e-01  9.53360371e-02\n",
            "   6.92596827e-02 -4.84978866e-02 -1.79146838e-01 -3.82482790e-02\n",
            "   1.29939380e-01  2.50652045e-01 -5.15113595e-02  3.78116159e-02\n",
            "   5.51504942e-03  6.59905866e-02 -4.12064623e-02 -1.09674110e-01\n",
            "  -1.75619215e-01  1.78051749e-01  6.25471678e-02  1.01410793e-01\n",
            "  -1.29898016e-01  4.04469804e-02 -1.67707794e-01  1.46538096e-01\n",
            "  -2.37994509e-01  1.50411334e-01  3.72793086e-02  2.53133146e-01\n",
            "   1.60495319e-02  1.44359859e-01 -1.23009899e-01  1.82586891e-01\n",
            "   1.88174382e-01  9.44932487e-02 -1.48378647e-01  1.49408322e-02]\n",
            " [-3.73964297e-01  3.29730182e-01  4.32758440e-01  1.61591820e+00\n",
            "  -9.52933828e-01  1.24605928e-01  5.92688663e-01 -1.02157270e+00\n",
            "   1.84998843e-01  7.06643909e-01  8.77156510e-02  3.21520147e-01\n",
            "  -6.15334861e-01  5.53349564e-01  3.42831766e-01  5.99067235e-01\n",
            "   7.00454169e-01 -7.77054579e-01  4.55620214e-01 -6.73362716e-01\n",
            "   8.07452488e-01 -1.29957713e-01 -9.23774530e-02 -6.36223676e-04\n",
            "   4.09922561e-01 -8.00451584e-01  7.96903223e-01 -1.10460797e+00\n",
            "   6.58207253e-02 -1.74918596e-02  1.74495676e-01  7.82324880e-02\n",
            "  -9.10586734e-01 -1.38556187e+00  3.19999811e-01 -3.49063062e-01\n",
            "  -4.37788227e-01 -1.19666749e+00 -1.17384881e+00 -2.26194760e-01\n",
            "   7.56546555e-01 -1.84409472e+00 -3.48742266e-01 -1.25626321e-01\n",
            "  -6.80978898e-01 -2.54663944e-01 -6.46603936e-01 -1.24542154e+00\n",
            "  -1.92096982e-01 -7.09020816e-01 -2.49511236e-01 -1.20710050e+00\n",
            "   7.27903621e-01  9.75389400e-01 -5.45433947e-01  1.26564168e+00\n",
            "  -6.60060577e-01 -1.05096959e+00  5.48695692e-01 -5.70247636e-01\n",
            "  -1.39865031e+00  3.42316990e-01 -4.13082001e-01  5.99081641e-02\n",
            "   1.83884035e-01 -3.08431205e-02  6.60632413e-01 -5.55440246e-01\n",
            "   1.25723628e-03 -5.29158077e-01  6.31734932e-01  1.24151801e+00\n",
            "  -1.87508945e+00  8.11915236e-01  9.09469237e-02 -7.97689991e-01\n",
            "  -7.78323143e-01  1.73357898e-01 -2.41624335e-01  8.04416065e-01\n",
            "  -5.66698716e-01  9.82825698e-02 -3.14527004e-02 -1.79756863e+00\n",
            "  -1.22718392e+00 -1.55002018e+00  1.63572381e-01 -7.18288128e-01\n",
            "  -2.26352738e-01  4.86608947e-01 -1.11741529e+00 -5.11314666e-01\n",
            "   8.42685447e-01  8.53931082e-01 -1.25920163e+00  6.85780845e-01\n",
            "   5.51616082e-01 -2.47969338e-01  3.94633008e-01 -3.97431763e-01\n",
            "   1.13887967e+00  1.31987398e+00  5.77958881e-01 -7.70017459e-01\n",
            "  -3.78646943e-01  8.06627109e-02 -7.85700081e-01  8.59214668e-01\n",
            "   6.21636513e-01  4.62352629e-01  2.91618379e-01 -7.65181963e-01\n",
            "  -1.66174502e-01 -1.47473835e+00 -5.77785479e-02 -9.64427073e-01\n",
            "  -1.33522899e-01  6.62439771e-01  6.86899287e-01  4.95839658e-01\n",
            "   1.79901471e-01 -9.00134378e-01 -2.01147709e-01 -2.31797147e-02\n",
            "   3.32848323e-01  4.39565334e-01 -1.86615514e-01 -7.26353323e-01]]\n"
          ]
        }
      ]
    },
    {
      "cell_type": "code",
      "metadata": {
        "colab": {
          "base_uri": "https://localhost:8080/"
        },
        "id": "5VcIWZPc462V",
        "outputId": "a5c30926-b847-4fc7-b7b7-a3f67ad9e8c6"
      },
      "source": [
        "print(k_means.labels_)"
      ],
      "execution_count": 34,
      "outputs": [
        {
          "output_type": "stream",
          "name": "stdout",
          "text": [
            "[2 2 2 ... 1 1 1]\n"
          ]
        }
      ]
    },
    {
      "cell_type": "code",
      "metadata": {
        "id": "YAC02tg12J3p"
      },
      "source": [
        ""
      ],
      "execution_count": 34,
      "outputs": []
    },
    {
      "cell_type": "code",
      "metadata": {
        "id": "CAX4cWFwHb58"
      },
      "source": [
        "from sklearn.manifold import TSNE"
      ],
      "execution_count": 35,
      "outputs": []
    },
    {
      "cell_type": "code",
      "metadata": {
        "colab": {
          "base_uri": "https://localhost:8080/"
        },
        "id": "cUflmnSGLBmo",
        "outputId": "3d88a680-4c46-418e-fc68-c7c30c5f709b"
      },
      "source": [
        "#dimension data for actor node:\n",
        "dimension_data_for_actor_node = N\n",
        "\n",
        "dimension_data_for_actor_node_array=np.asarray([dimension_data_for_actor_node])\n",
        "dimension_data_for_actor_node_array.shape\n"
      ],
      "execution_count": 82,
      "outputs": [
        {
          "output_type": "execute_result",
          "data": {
            "text/plain": [
              "(1, 3411, 128)"
            ]
          },
          "metadata": {},
          "execution_count": 82
        }
      ]
    },
    {
      "cell_type": "code",
      "metadata": {
        "colab": {
          "base_uri": "https://localhost:8080/"
        },
        "id": "f3AFHhfUA9Xk",
        "outputId": "b32c1cd8-82a6-4474-eac8-158e0f2f7ade"
      },
      "source": [
        "dimension_data_for_actor_node_final=np.reshape(dimension_data_for_actor_node_array,(3411,128))\n",
        "dimension_data_for_actor_node_final.shape"
      ],
      "execution_count": 83,
      "outputs": [
        {
          "output_type": "execute_result",
          "data": {
            "text/plain": [
              "(3411, 128)"
            ]
          },
          "metadata": {},
          "execution_count": 83
        }
      ]
    },
    {
      "cell_type": "code",
      "metadata": {
        "id": "zslFSigzRkzw",
        "colab": {
          "base_uri": "https://localhost:8080/",
          "height": 457
        },
        "outputId": "ed7d1741-fbc0-4ff8-e175-8c9e49206521"
      },
      "source": [
        "#step2:apply kmeans algorithm on data using n_cluster\n",
        "from sklearn.cluster import KMeans\n",
        "#here we are considering n_clusters=3\n",
        "kmeans= KMeans(n_clusters=3) \n",
        "kmeans.fit(dimension_data_for_actor_node_final)\n",
        "#now Kmeans model contain 3 clusters and each cluster contain similar actor nodes\n",
        "predicted_cluster=kmeans.predict(dimension_data_for_actor_node_final)\n",
        "\n",
        "#Step3:\n",
        "\n",
        "from sklearn.manifold import TSNE\n",
        "#TSNE_model = TSNE \n",
        "\n",
        "TSNE_model = TSNE(n_components=2, random_state=0)\n",
        "\n",
        "#apply TSNE model on the \"dimension data for actor node\" to reduce 128 dimensions to 2 dimensions\n",
        "two_dimensional_data = TSNE_model.fit_transform(dimension_data_for_actor_node_final)\n",
        "\n",
        "#now 2 dimensional data contains 3411 rows and 2 dimensions\n",
        "two_dimensional_data_shape= two_dimensional_data.shape\n",
        "\n",
        "#step4: Perform Verticle Stacking\n",
        "#By using vstack() function which is present inside the numpy module, we are going to perform verticle stacking on the transpose data of \"two_dimensional_data\" & \"predicted_cluster\"\n",
        "#Taking Transpose:\n",
        "transpose_predicted_cluster = predicted_cluster.T\n",
        "transpose_two_dimensional_data = two_dimensional_data.T\n",
        "\n",
        "required_data = np.vstack((transpose_predicted_cluster, transpose_two_dimensional_data))\n",
        "\n",
        "#Now shape of required data is (3, 3411)\n",
        "#step5:\n",
        "#use DataFrame() function present in pandas module to convert the transposed_required_data into a dataframe\n",
        "import pandas as pd\n",
        "import seaborn as sn\n",
        "\n",
        "final_data = pd.DataFrame(data= required_data.T, columns= [\"Col_1\",\"Col_2\",\"Col_3\"])\n",
        "#now final_data is a DataFrame, which contain 3411 rows and 3 columns\n",
        "\n",
        "#Ploting the result of tsne\n",
        "\n",
        "sn.FacetGrid(final_data, hue=\"Col_1\", size=6).map(plt.scatter, 'Col_3', 'Col_2')\n",
        "plt.title('Visualization for similar actor clusters With perplexity = 2')\n",
        "plt.show()\n"
      ],
      "execution_count": 92,
      "outputs": [
        {
          "output_type": "display_data",
          "data": {
            "image/png": "[encoded data removed]",
            "text/plain": [
              "<Figure size 432x432 with 1 Axes>"
            ]
          },
          "metadata": {
            "needs_background": "light"
          }
        }
      ]
    },
    {
      "cell_type": "code",
      "source": [
        ""
      ],
      "metadata": {
        "id": "V_CJHJvqnIOf"
      },
      "execution_count": null,
      "outputs": []
    },
    {
      "cell_type": "markdown",
      "metadata": {
        "id": "oLtD_0HWzfFA"
      },
      "source": [
        "<font color='blue'>Grouping similar movies</font>"
      ]
    },
    {
      "cell_type": "code",
      "metadata": {
        "id": "A1YZ5AjhzfhZ",
        "colab": {
          "base_uri": "https://localhost:8080/"
        },
        "outputId": "5cf29973-07ac-4091-89af-43eb46872176"
      },
      "source": [
        "from sklearn.cluster import KMeans\n",
        "\n",
        "cluster_list5=[3,5,10,30,50,100,200,500]\n",
        "Cost5=[]\n",
        "\n",
        "for cluster in cluster_list5:\n",
        "  algo5=KMeans(n_clusters=cluster)\n",
        "  algo5.fit(O)\n",
        "  label=algo5.labels_\n",
        "  dic=dict(zip(M,label))\n",
        "  cost_15=0\n",
        "  cost_25=0\n",
        "  for i in label:\n",
        "    ac_node5 = [k for k,v in dic.items() if v == i]\n",
        "    G15=nx.Graph()\n",
        "    for n in ac_node5:\n",
        "      \n",
        "      sub_graph15 = nx.ego_graph(A,n)\n",
        "      G15.add_nodes_from(sub_graph15.nodes)\n",
        "      G15.add_edges_from(sub_graph15.edges())\n",
        "    \n",
        "    cost_15=+cost1(G15,cluster)\n",
        "    cost_25=+cost2(G15,cluster)\n",
        "\n",
        "  print(cost_15*cost_25)\n",
        "  Cost5.append(cost_15*cost_25)"
      ],
      "execution_count": 39,
      "outputs": [
        {
          "output_type": "stream",
          "name": "stdout",
          "text": [
            "0.7064356136212424\n",
            "0.21454450955332527\n",
            "0.023392802865827185\n",
            "0.001840238704177323\n",
            "0.0006264024826927669\n",
            "8.159830177755859e-05\n",
            "1.0045422781271837e-05\n",
            "4.0710059171597637e-07\n"
          ]
        }
      ]
    },
    {
      "cell_type": "markdown",
      "metadata": {
        "id": "fvhwPpX00EhA"
      },
      "source": [
        "<font color='blue'>Displaying similar movie clusters</font>"
      ]
    },
    {
      "cell_type": "code",
      "metadata": {
        "id": "BpC5C2TrzfwK"
      },
      "source": [
        "best_cluster1=cluster_list5[Cost5.index(max(Cost5))]"
      ],
      "execution_count": 40,
      "outputs": []
    },
    {
      "cell_type": "code",
      "metadata": {
        "id": "r17agJfVpAMp",
        "colab": {
          "base_uri": "https://localhost:8080/"
        },
        "outputId": "79065832-2b41-43ba-f17a-415322443ff1"
      },
      "source": [
        "best_cluster1"
      ],
      "execution_count": 41,
      "outputs": [
        {
          "output_type": "execute_result",
          "data": {
            "text/plain": [
              "3"
            ]
          },
          "metadata": {},
          "execution_count": 41
        }
      ]
    },
    {
      "cell_type": "code",
      "metadata": {
        "id": "bEjh7-iWq8Do"
      },
      "source": [
        "cost_15=+cost1(G15,cluster)\n",
        "cost_25=+cost2(G15,cluster)"
      ],
      "execution_count": 42,
      "outputs": []
    },
    {
      "cell_type": "code",
      "metadata": {
        "colab": {
          "base_uri": "https://localhost:8080/"
        },
        "id": "OQk-Z9eCq8Ic",
        "outputId": "735f5d9e-a002-4605-99e8-b60feb251b3e"
      },
      "source": [
        "print(cost_15*cost_25)\n",
        "Cost5.append(cost_15*cost_25)"
      ],
      "execution_count": 43,
      "outputs": [
        {
          "output_type": "stream",
          "name": "stdout",
          "text": [
            "4.0710059171597637e-07\n"
          ]
        }
      ]
    },
    {
      "cell_type": "code",
      "metadata": {
        "colab": {
          "base_uri": "https://localhost:8080/"
        },
        "id": "z0xMa_Tfq8K7",
        "outputId": "eee2c7ff-15ac-41ac-9898-cf187bc3cb11"
      },
      "source": [
        "from sklearn.cluster import KMeans\n",
        "k_means5=KMeans(n_clusters=best_cluster1)\n",
        "k_means5.fit(O)\n",
        "print(k_means.cluster_centers_)"
      ],
      "execution_count": 44,
      "outputs": [
        {
          "output_type": "stream",
          "name": "stdout",
          "text": [
            "[[ 9.54607460e-02  5.99532485e-01  3.79215107e-01 -3.73679529e-01\n",
            "  -8.46609806e-02 -1.69769979e-01 -2.29452921e-02  2.32799534e-01\n",
            "  -2.51182783e-01  6.27938510e-04 -1.21437545e-01  4.03055856e-01\n",
            "  -2.18338233e-01  1.31905728e-02  2.00726148e-01  2.07471038e-02\n",
            "   9.80367482e-02 -2.35662888e-02 -5.26130794e-01  8.05199324e-02\n",
            "  -2.89087371e-01 -3.04105332e-01  7.30368155e-02  1.51088809e-01\n",
            "  -2.39291492e-01  9.07596538e-02  4.16188146e-01 -1.81508196e-02\n",
            "  -4.17059869e-03 -2.64620921e-02  1.25675689e-01 -1.66350179e-01\n",
            "   2.59854644e-01  2.89322731e-03 -4.74327062e-01  1.76162189e-02\n",
            "  -4.58555997e-01 -1.33361751e-01 -1.07807377e-01  9.45527920e-02\n",
            "  -4.77117593e-01 -2.55761125e-01  1.40315816e-01  6.47080711e-01\n",
            "   1.97436974e-01 -4.38139587e-01  5.22430153e-02 -2.69946514e-01\n",
            "   6.58499389e-02  2.80031521e-01  4.95228825e-02 -1.67023130e-01\n",
            "  -3.48707768e-02  3.58042567e-01 -1.57436243e-01 -1.19424823e-01\n",
            "  -1.79844404e-01 -5.30140052e-01 -6.05677192e-01  4.06630844e-01\n",
            "  -3.45966840e-01 -1.67793805e-01  2.01237118e-01 -5.99831368e-02\n",
            "   4.39903450e-01 -6.06832108e-02  6.87800305e-03  9.36709298e-02\n",
            "   2.94726386e-01  1.00217688e-01  3.12673019e-01  2.65999708e-02\n",
            "   7.91443934e-02 -4.76955867e-01  1.65353533e-01  2.35375012e-01\n",
            "   3.32330581e-01  4.48218167e-01 -7.05333926e-02 -2.00634310e-01\n",
            "   2.94484738e-01  6.35555409e-02  4.55050350e-03 -1.00483002e-01\n",
            "  -4.19793731e-01 -7.04811531e-02  1.69441704e-01  1.45572140e-01\n",
            "   5.52562323e-01  1.70096902e-01  1.97841252e-02  5.92959913e-02\n",
            "   1.27183242e-01 -2.29883641e-01  4.63110228e-01  1.24007381e-01\n",
            "   1.10746320e-01 -2.70541103e-01 -2.27366139e-01  6.46262111e-02\n",
            "   3.09664222e-02  3.40435240e-01  3.72050814e-02  3.85155263e-02\n",
            "   1.78080546e-01 -1.03371588e-01  1.78322454e-01 -1.94053375e-01\n",
            "  -2.63810347e-01 -4.24888186e-02  8.39282917e-02  4.32903381e-01\n",
            "  -1.14975044e-01  4.44468337e-02 -3.54368857e-01  1.84932964e-01\n",
            "  -4.56275630e-01  3.28409568e-01  5.89688360e-02  2.11379130e-01\n",
            "   2.32970879e-01  3.19835342e-01 -2.56398154e-01  1.21393596e-01\n",
            "   5.98505870e-02 -1.35271464e-01 -3.59245594e-01  1.08579749e-01]\n",
            " [-2.54349681e-02  2.12812602e-01  1.34941253e-01 -1.73470729e-01\n",
            "  -1.16199025e-01 -1.26948730e-02 -1.08043927e-02  5.92070253e-02\n",
            "  -1.15467562e-01 -8.00720359e-02 -2.85396533e-02  2.35770578e-01\n",
            "   4.67164679e-04  9.72136450e-02  1.26728897e-01 -2.16806369e-02\n",
            "  -1.25390573e-01 -3.63990547e-02 -2.53915558e-01  1.04701673e-01\n",
            "  -1.31128900e-01 -2.83695531e-02 -4.49540636e-02  9.39394226e-02\n",
            "  -5.77488003e-02  4.11110505e-02  1.29851544e-01 -1.63154994e-01\n",
            "  -6.43635004e-02 -4.36374752e-02  6.42113277e-02 -6.86156946e-03\n",
            "   1.99648731e-02 -8.64580639e-02 -1.85852427e-01  5.53942700e-02\n",
            "  -1.89649203e-01 -1.89368487e-01 -4.12125463e-02 -1.09342361e-01\n",
            "  -1.57809449e-01 -1.28001154e-01  4.71356070e-02  2.85659557e-01\n",
            "  -2.11438632e-02 -1.52971984e-01 -6.05785009e-02 -2.63945839e-02\n",
            "  -7.89081221e-02  4.20205887e-02 -7.46095936e-03 -1.30745491e-01\n",
            "   9.46664424e-02  2.29885433e-01 -1.50134687e-01 -1.04264122e-01\n",
            "  -2.03363611e-01 -3.34972736e-01 -2.09151332e-01  2.05653254e-01\n",
            "  -1.67168319e-01 -7.87531168e-02  7.41168779e-02  3.49661330e-02\n",
            "   1.55055839e-01  3.55264268e-02 -3.23949571e-02  4.58281644e-02\n",
            "   1.35328098e-01 -1.14270311e-01  1.56760972e-01  1.63541414e-01\n",
            "  -4.93908453e-02 -1.57643255e-01  9.94587389e-02  7.12324954e-02\n",
            "   1.30532950e-01  2.35057447e-01 -1.02198133e-01 -1.07740772e-01\n",
            "   1.86643498e-01  3.77191677e-02  9.59592163e-02 -7.57240116e-02\n",
            "  -1.19631018e-01 -1.62591817e-01  2.04314457e-01 -6.27329430e-03\n",
            "   1.44724656e-01  1.24520987e-01 -1.68235727e-02 -4.82857708e-02\n",
            "   1.30417273e-01 -1.11421189e-02  1.81791116e-01  9.53360371e-02\n",
            "   6.92596827e-02 -4.84978866e-02 -1.79146838e-01 -3.82482790e-02\n",
            "   1.29939380e-01  2.50652045e-01 -5.15113595e-02  3.78116159e-02\n",
            "   5.51504942e-03  6.59905866e-02 -4.12064623e-02 -1.09674110e-01\n",
            "  -1.75619215e-01  1.78051749e-01  6.25471678e-02  1.01410793e-01\n",
            "  -1.29898016e-01  4.04469804e-02 -1.67707794e-01  1.46538096e-01\n",
            "  -2.37994509e-01  1.50411334e-01  3.72793086e-02  2.53133146e-01\n",
            "   1.60495319e-02  1.44359859e-01 -1.23009899e-01  1.82586891e-01\n",
            "   1.88174382e-01  9.44932487e-02 -1.48378647e-01  1.49408322e-02]\n",
            " [-3.73964297e-01  3.29730182e-01  4.32758440e-01  1.61591820e+00\n",
            "  -9.52933828e-01  1.24605928e-01  5.92688663e-01 -1.02157270e+00\n",
            "   1.84998843e-01  7.06643909e-01  8.77156510e-02  3.21520147e-01\n",
            "  -6.15334861e-01  5.53349564e-01  3.42831766e-01  5.99067235e-01\n",
            "   7.00454169e-01 -7.77054579e-01  4.55620214e-01 -6.73362716e-01\n",
            "   8.07452488e-01 -1.29957713e-01 -9.23774530e-02 -6.36223676e-04\n",
            "   4.09922561e-01 -8.00451584e-01  7.96903223e-01 -1.10460797e+00\n",
            "   6.58207253e-02 -1.74918596e-02  1.74495676e-01  7.82324880e-02\n",
            "  -9.10586734e-01 -1.38556187e+00  3.19999811e-01 -3.49063062e-01\n",
            "  -4.37788227e-01 -1.19666749e+00 -1.17384881e+00 -2.26194760e-01\n",
            "   7.56546555e-01 -1.84409472e+00 -3.48742266e-01 -1.25626321e-01\n",
            "  -6.80978898e-01 -2.54663944e-01 -6.46603936e-01 -1.24542154e+00\n",
            "  -1.92096982e-01 -7.09020816e-01 -2.49511236e-01 -1.20710050e+00\n",
            "   7.27903621e-01  9.75389400e-01 -5.45433947e-01  1.26564168e+00\n",
            "  -6.60060577e-01 -1.05096959e+00  5.48695692e-01 -5.70247636e-01\n",
            "  -1.39865031e+00  3.42316990e-01 -4.13082001e-01  5.99081641e-02\n",
            "   1.83884035e-01 -3.08431205e-02  6.60632413e-01 -5.55440246e-01\n",
            "   1.25723628e-03 -5.29158077e-01  6.31734932e-01  1.24151801e+00\n",
            "  -1.87508945e+00  8.11915236e-01  9.09469237e-02 -7.97689991e-01\n",
            "  -7.78323143e-01  1.73357898e-01 -2.41624335e-01  8.04416065e-01\n",
            "  -5.66698716e-01  9.82825698e-02 -3.14527004e-02 -1.79756863e+00\n",
            "  -1.22718392e+00 -1.55002018e+00  1.63572381e-01 -7.18288128e-01\n",
            "  -2.26352738e-01  4.86608947e-01 -1.11741529e+00 -5.11314666e-01\n",
            "   8.42685447e-01  8.53931082e-01 -1.25920163e+00  6.85780845e-01\n",
            "   5.51616082e-01 -2.47969338e-01  3.94633008e-01 -3.97431763e-01\n",
            "   1.13887967e+00  1.31987398e+00  5.77958881e-01 -7.70017459e-01\n",
            "  -3.78646943e-01  8.06627109e-02 -7.85700081e-01  8.59214668e-01\n",
            "   6.21636513e-01  4.62352629e-01  2.91618379e-01 -7.65181963e-01\n",
            "  -1.66174502e-01 -1.47473835e+00 -5.77785479e-02 -9.64427073e-01\n",
            "  -1.33522899e-01  6.62439771e-01  6.86899287e-01  4.95839658e-01\n",
            "   1.79901471e-01 -9.00134378e-01 -2.01147709e-01 -2.31797147e-02\n",
            "   3.32848323e-01  4.39565334e-01 -1.86615514e-01 -7.26353323e-01]]\n"
          ]
        }
      ]
    },
    {
      "cell_type": "code",
      "metadata": {
        "colab": {
          "base_uri": "https://localhost:8080/"
        },
        "id": "iFN4W9P-q8Nd",
        "outputId": "23b9098e-8440-49d3-bb9e-bedbb03c1c3a"
      },
      "source": [
        "print(k_means5.labels_)"
      ],
      "execution_count": 45,
      "outputs": [
        {
          "output_type": "stream",
          "name": "stdout",
          "text": [
            "[0 0 0 ... 1 1 1]\n"
          ]
        }
      ]
    },
    {
      "cell_type": "code",
      "metadata": {
        "id": "gS6qCWK6q8Qn"
      },
      "source": [
        "from sklearn.manifold import TSNE"
      ],
      "execution_count": 46,
      "outputs": []
    },
    {
      "cell_type": "code",
      "metadata": {
        "id": "1EOXiOq2t3EI",
        "colab": {
          "base_uri": "https://localhost:8080/"
        },
        "outputId": "22ca8c50-3800-41bd-da2a-fac309997bf2"
      },
      "source": [
        "#dimension data for movie node:\n",
        "dimension_data_for_movie_node = O\n",
        "\n",
        "dimension_data_for_movie_node_array=np.asarray([dimension_data_for_movie_node])\n",
        "dimension_data_for_movie_node_array.shape"
      ],
      "execution_count": 47,
      "outputs": [
        {
          "output_type": "execute_result",
          "data": {
            "text/plain": [
              "(1, 1292, 128)"
            ]
          },
          "metadata": {},
          "execution_count": 47
        }
      ]
    },
    {
      "cell_type": "code",
      "metadata": {
        "id": "9ZkAczjCt3GY",
        "colab": {
          "base_uri": "https://localhost:8080/"
        },
        "outputId": "18894d73-e46c-468c-93fa-57d47b440416"
      },
      "source": [
        "dimension_data_for_movie_node_final=np.reshape(dimension_data_for_movie_node_array,(1292,128))\n",
        "dimension_data_for_movie_node_final.shape"
      ],
      "execution_count": 48,
      "outputs": [
        {
          "output_type": "execute_result",
          "data": {
            "text/plain": [
              "(1292, 128)"
            ]
          },
          "metadata": {},
          "execution_count": 48
        }
      ]
    },
    {
      "cell_type": "code",
      "metadata": {
        "colab": {
          "base_uri": "https://localhost:8080/",
          "height": 457
        },
        "id": "epU8izS-sw6B",
        "outputId": "79444e66-7c21-4d90-d2ff-54dbae176ec1"
      },
      "source": [
        "#step2:apply kmeans algorithm on data using n_cluster\n",
        "from sklearn.cluster import KMeans\n",
        "#here we are considering n_clusters=5\n",
        "kmeans5= KMeans(n_clusters=5) \n",
        "\n",
        "kmeans5.fit(dimension_data_for_movie_node_final)\n",
        "#now Kmeans model contain five clusters and each cluster contain similar movie nodes\n",
        "predicted_cluster5=kmeans.predict(dimension_data_for_movie_node_final)\n",
        "\n",
        "#Step3:\n",
        "\n",
        "from sklearn.manifold import TSNE\n",
        "#TSNE_model = TSNE \n",
        "\n",
        "TSNE_model5 = TSNE(n_components=2)\n",
        "\n",
        "#apply TSNE model on the \"dimension data for actor node\" to reduce 128 dimensions to 2 dimensions\n",
        "two_dimensional_data5 = TSNE_model5.fit_transform(dimension_data_for_movie_node_final)\n",
        "\n",
        "#now 2 dimensional data contains 3411 rows and 2 dimensions\n",
        "two_dimensional_data5_shape= two_dimensional_data5.shape\n",
        "\n",
        "#step4: Perform Verticle Stacking\n",
        "#By using vstack() function which is present inside the numpy module, we are going to perform verticle stacking on the transpose data of \"two_dimensional_data5\" & \"predicted_cluster5\"\n",
        "#Taking Transpose:\n",
        "transpose_predicted_cluster5 = predicted_cluster5.T\n",
        "transpose_two_dimensional_data5 = two_dimensional_data5.T\n",
        "\n",
        "required_data5 = np.vstack((transpose_predicted_cluster5,transpose_two_dimensional_data5))\n",
        "\n",
        "#Now shape of required data is (3, 1292)\n",
        "#step5:\n",
        "#use DataFrame() function present in pandas module to convert the transposed_required_data into a dataframe\n",
        "import pandas as pd\n",
        "import seaborn as sn\n",
        "\n",
        "final_data5 = pd.DataFrame(required_data5.T, columns= [\"Col_15\",\"Col_25\",\"Col35\"])\n",
        "#now final_data is a DataFrame, which contain 1292 rows and 3 columns\n",
        "\n",
        "#Ploting the result of tsne\n",
        "\n",
        "sn.FacetGrid(final_data5, hue=\"Col_15\", size=6).map(plt.scatter, 'Col35', 'Col_25')\n",
        "plt.title('Visualization for similar movie clusters With perplexity = 2')\n",
        "plt.show()\n"
      ],
      "execution_count": 91,
      "outputs": [
        {
          "output_type": "display_data",
          "data": {
            "image/png": "[encoded data removed]",
            "text/plain": [
              "<Figure size 432x432 with 1 Axes>"
            ]
          },
          "metadata": {
            "needs_background": "light"
          }
        }
      ]
    },
    {
      "cell_type": "code",
      "source": [
        ""
      ],
      "metadata": {
        "id": "RqvIiUWG93u4"
      },
      "execution_count": null,
      "outputs": []
    }
  ]
}